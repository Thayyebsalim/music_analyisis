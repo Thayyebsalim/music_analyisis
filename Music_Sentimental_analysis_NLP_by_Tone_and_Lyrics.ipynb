{
  "nbformat": 4,
  "nbformat_minor": 0,
  "metadata": {
    "colab": {
      "name": "Music Sentimental analysis NLP by Tone and Lyrics",
      "provenance": [],
      "collapsed_sections": [],
      "authorship_tag": "ABX9TyNJs2DzR1w17XdYVvAxieKp",
      "include_colab_link": true
    },
    "kernelspec": {
      "name": "python3",
      "display_name": "Python 3"
    }
  },
  "cells": [
    {
      "cell_type": "markdown",
      "metadata": {
        "id": "view-in-github",
        "colab_type": "text"
      },
      "source": [
        "<a href=\"https://colab.research.google.com/github/Thayyebsalim/music_analyisis/blob/master/Music_Sentimental_analysis_NLP_by_Tone_and_Lyrics.ipynb\" target=\"_parent\"><img src=\"https://colab.research.google.com/assets/colab-badge.svg\" alt=\"Open In Colab\"/></a>"
      ]
    },
    {
      "cell_type": "markdown",
      "metadata": {
        "id": "AkAoDSqOzD2u",
        "colab_type": "text"
      },
      "source": [
        "# Intro\n",
        "\n",
        "The idea of this code is to find the mood of the song in any way possible helping us to segregate songs better.\n",
        "\n",
        "1.   First part is gonna be scraping the lyrics from any website or API \n",
        "2.   Finding the vibe of the song with sentimental analysis\n",
        "3.   Fetch and mp3 version and check the mood with transfer learning hopefully or something similar\n",
        "\n"
      ]
    },
    {
      "cell_type": "code",
      "metadata": {
        "id": "obWgGCfq6ALb",
        "colab_type": "code",
        "colab": {
          "base_uri": "https://localhost:8080/",
          "height": 1000
        },
        "outputId": "ac0e417e-dcf6-40f5-cf56-757d7d0a3783"
      },
      "source": [
        "!apt-get update\n",
        "!apt install chromium-chromedriver\n",
        "!cp /usr/lib/chromium-browser/chromedriver /usr/bin\n",
        "!pip install selenium"
      ],
      "execution_count": null,
      "outputs": [
        {
          "output_type": "stream",
          "text": [
            "\r0% [Working]\r            \rGet:1 http://security.ubuntu.com/ubuntu bionic-security InRelease [88.7 kB]\n",
            "\r0% [Connecting to archive.ubuntu.com (91.189.88.142)] [1 InRelease 2,589 B/88.7\r                                                                               \rGet:2 https://cloud.r-project.org/bin/linux/ubuntu bionic-cran35/ InRelease [3,626 B]\n",
            "\r0% [Waiting for headers] [1 InRelease 57.6 kB/88.7 kB 65%] [2 InRelease 3,626 B\r0% [Waiting for headers] [1 InRelease 77.9 kB/88.7 kB 88%] [Waiting for headers\r                                                                               \rIgn:3 https://developer.download.nvidia.com/compute/cuda/repos/ubuntu1804/x86_64  InRelease\n",
            "\r0% [Waiting for headers] [1 InRelease 77.9 kB/88.7 kB 88%] [Waiting for headers\r0% [2 InRelease gpgv 3,626 B] [Waiting for headers] [1 InRelease 80.8 kB/88.7 k\r0% [2 InRelease gpgv 3,626 B] [Waiting for headers] [Waiting for headers] [Wait\r                                                                               \rHit:4 http://ppa.launchpad.net/graphics-drivers/ppa/ubuntu bionic InRelease\n",
            "\r0% [2 InRelease gpgv 3,626 B] [Waiting for headers] [Waiting for headers] [Conn\r                                                                               \rIgn:5 https://developer.download.nvidia.com/compute/machine-learning/repos/ubuntu1804/x86_64  InRelease\n",
            "\r0% [2 InRelease gpgv 3,626 B] [Waiting for headers] [Connecting to ppa.launchpa\r                                                                               \rGet:6 https://developer.download.nvidia.com/compute/cuda/repos/ubuntu1804/x86_64  Release [697 B]\n",
            "\r0% [2 InRelease gpgv 3,626 B] [Waiting for headers] [Connecting to ppa.launchpa\r                                                                               \rHit:7 http://archive.ubuntu.com/ubuntu bionic InRelease\n",
            "\r0% [2 InRelease gpgv 3,626 B] [Waiting for headers] [Waiting for headers] [Conn\r                                                                               \rHit:8 https://developer.download.nvidia.com/compute/machine-learning/repos/ubuntu1804/x86_64  Release\n",
            "\r0% [2 InRelease gpgv 3,626 B] [Waiting for headers] [Connecting to ppa.launchpa\r                                                                               \rGet:9 https://developer.download.nvidia.com/compute/cuda/repos/ubuntu1804/x86_64  Release.gpg [836 B]\n",
            "\r0% [2 InRelease gpgv 3,626 B] [Waiting for headers] [9 Release.gpg 836 B/836 B \r0% [2 InRelease gpgv 3,626 B] [Waiting for headers] [Connecting to ppa.launchpa\r                                                                               \rGet:10 http://archive.ubuntu.com/ubuntu bionic-updates InRelease [88.7 kB]\n",
            "\r0% [2 InRelease gpgv 3,626 B] [10 InRelease 14.2 kB/88.7 kB 16%] [Waiting for h\r                                                                               \rGet:11 http://ppa.launchpad.net/marutter/c2d4u3.5/ubuntu bionic InRelease [15.4 kB]\n",
            "\r0% [2 InRelease gpgv 3,626 B] [10 InRelease 15.6 kB/88.7 kB 18%] [11 InRelease \r                                                                               \r0% [2 InRelease gpgv 3,626 B] [10 InRelease 15.6 kB/88.7 kB 18%]\r                                                                \r0% [10 InRelease 15.6 kB/88.7 kB 18%]\r0% [1 InRelease gpgv 88.7 kB] [10 InRelease 15.6 kB/88.7 kB 18%]\r                                                                \r0% [1 InRelease gpgv 88.7 kB] [Waiting for headers]\r                                                   \r0% [Waiting for headers]\r0% [4 InRelease gpgv 21.3 kB] [Waiting for headers] [Waiting for headers]\r                                                                         \rGet:12 http://security.ubuntu.com/ubuntu bionic-security/restricted amd64 Packages [101 kB]\n",
            "\r0% [4 InRelease gpgv 21.3 kB] [Waiting for headers] [12 Packages 5,583 B/101 kB\r                                                                               \rGet:13 http://archive.ubuntu.com/ubuntu bionic-backports InRelease [74.6 kB]\n",
            "\r0% [4 InRelease gpgv 21.3 kB] [13 InRelease 2,604 B/74.6 kB 3%] [12 Packages 85\r                                                                               \r0% [4 InRelease gpgv 21.3 kB] [13 InRelease 22.9 kB/74.6 kB 31%]\r0% [12 Packages store 0 B] [4 InRelease gpgv 21.3 kB] [13 InRelease 25.8 kB/74.\r0% [4 InRelease gpgv 21.3 kB] [13 InRelease 40.3 kB/74.6 kB 54%] [Waiting for h\r                                                                               \rGet:14 http://security.ubuntu.com/ubuntu bionic-security/universe amd64 Packages [890 kB]\n",
            "\r0% [4 InRelease gpgv 21.3 kB] [13 InRelease 54.7 kB/74.6 kB 73%] [14 Packages 1\r                                                                               \r0% [4 InRelease gpgv 21.3 kB] [14 Packages 129 kB/890 kB 14%]\r                                                             \r0% [4 InRelease gpgv 21.3 kB]\r0% [14 Packages store 0 B] [4 InRelease gpgv 21.3 kB]\r                                                     \rGet:15 http://security.ubuntu.com/ubuntu bionic-security/main amd64 Packages [1,043 kB]\n",
            "Get:16 http://security.ubuntu.com/ubuntu bionic-security/multiverse amd64 Packages [9,834 B]\n",
            "Ign:18 https://developer.download.nvidia.com/compute/cuda/repos/ubuntu1804/x86_64  Packages\n",
            "Get:18 https://developer.download.nvidia.com/compute/cuda/repos/ubuntu1804/x86_64  Packages [255 kB]\n",
            "Get:19 http://ppa.launchpad.net/marutter/c2d4u3.5/ubuntu bionic/main Sources [1,857 kB]\n",
            "Get:20 http://archive.ubuntu.com/ubuntu bionic-updates/universe amd64 Packages [1,417 kB]\n",
            "Get:21 http://archive.ubuntu.com/ubuntu bionic-updates/main amd64 Packages [1,341 kB]\n",
            "Get:22 http://archive.ubuntu.com/ubuntu bionic-updates/multiverse amd64 Packages [27.4 kB]\n",
            "Get:23 http://archive.ubuntu.com/ubuntu bionic-updates/restricted amd64 Packages [117 kB]\n",
            "Get:24 http://ppa.launchpad.net/marutter/c2d4u3.5/ubuntu bionic/main amd64 Packages [896 kB]\n",
            "Fetched 8,227 kB in 4s (2,336 kB/s)\n",
            "Reading package lists... Done\n",
            "Reading package lists... Done\n",
            "Building dependency tree       \n",
            "Reading state information... Done\n",
            "The following package was automatically installed and is no longer required:\n",
            "  libnvidia-common-440\n",
            "Use 'apt autoremove' to remove it.\n",
            "The following additional packages will be installed:\n",
            "  chromium-browser chromium-browser-l10n chromium-codecs-ffmpeg-extra\n",
            "Suggested packages:\n",
            "  webaccounts-chromium-extension unity-chromium-extension adobe-flashplugin\n",
            "The following NEW packages will be installed:\n",
            "  chromium-browser chromium-browser-l10n chromium-chromedriver\n",
            "  chromium-codecs-ffmpeg-extra\n",
            "0 upgraded, 4 newly installed, 0 to remove and 60 not upgraded.\n",
            "Need to get 76.2 MB of archives.\n",
            "After this operation, 255 MB of additional disk space will be used.\n",
            "Get:1 http://archive.ubuntu.com/ubuntu bionic-updates/universe amd64 chromium-codecs-ffmpeg-extra amd64 84.0.4147.105-0ubuntu0.18.04.1 [1,118 kB]\n",
            "Get:2 http://archive.ubuntu.com/ubuntu bionic-updates/universe amd64 chromium-browser amd64 84.0.4147.105-0ubuntu0.18.04.1 [67.4 MB]\n",
            "Get:3 http://archive.ubuntu.com/ubuntu bionic-updates/universe amd64 chromium-browser-l10n all 84.0.4147.105-0ubuntu0.18.04.1 [3,379 kB]\n",
            "Get:4 http://archive.ubuntu.com/ubuntu bionic-updates/universe amd64 chromium-chromedriver amd64 84.0.4147.105-0ubuntu0.18.04.1 [4,354 kB]\n",
            "Fetched 76.2 MB in 4s (21.7 MB/s)\n",
            "Selecting previously unselected package chromium-codecs-ffmpeg-extra.\n",
            "(Reading database ... 144487 files and directories currently installed.)\n",
            "Preparing to unpack .../chromium-codecs-ffmpeg-extra_84.0.4147.105-0ubuntu0.18.04.1_amd64.deb ...\n",
            "Unpacking chromium-codecs-ffmpeg-extra (84.0.4147.105-0ubuntu0.18.04.1) ...\n",
            "Selecting previously unselected package chromium-browser.\n",
            "Preparing to unpack .../chromium-browser_84.0.4147.105-0ubuntu0.18.04.1_amd64.deb ...\n",
            "Unpacking chromium-browser (84.0.4147.105-0ubuntu0.18.04.1) ...\n",
            "Selecting previously unselected package chromium-browser-l10n.\n",
            "Preparing to unpack .../chromium-browser-l10n_84.0.4147.105-0ubuntu0.18.04.1_all.deb ...\n",
            "Unpacking chromium-browser-l10n (84.0.4147.105-0ubuntu0.18.04.1) ...\n",
            "Selecting previously unselected package chromium-chromedriver.\n",
            "Preparing to unpack .../chromium-chromedriver_84.0.4147.105-0ubuntu0.18.04.1_amd64.deb ...\n",
            "Unpacking chromium-chromedriver (84.0.4147.105-0ubuntu0.18.04.1) ...\n",
            "Setting up chromium-codecs-ffmpeg-extra (84.0.4147.105-0ubuntu0.18.04.1) ...\n",
            "Setting up chromium-browser (84.0.4147.105-0ubuntu0.18.04.1) ...\n",
            "update-alternatives: using /usr/bin/chromium-browser to provide /usr/bin/x-www-browser (x-www-browser) in auto mode\n",
            "update-alternatives: using /usr/bin/chromium-browser to provide /usr/bin/gnome-www-browser (gnome-www-browser) in auto mode\n",
            "Setting up chromium-chromedriver (84.0.4147.105-0ubuntu0.18.04.1) ...\n",
            "Setting up chromium-browser-l10n (84.0.4147.105-0ubuntu0.18.04.1) ...\n",
            "Processing triggers for hicolor-icon-theme (0.17-2) ...\n",
            "Processing triggers for mime-support (3.60ubuntu1) ...\n",
            "Processing triggers for man-db (2.8.3-2ubuntu0.1) ...\n",
            "cp: '/usr/lib/chromium-browser/chromedriver' and '/usr/bin/chromedriver' are the same file\n",
            "Collecting selenium\n",
            "\u001b[?25l  Downloading https://files.pythonhosted.org/packages/80/d6/4294f0b4bce4de0abf13e17190289f9d0613b0a44e5dd6a7f5ca98459853/selenium-3.141.0-py2.py3-none-any.whl (904kB)\n",
            "\u001b[K     |████████████████████████████████| 911kB 3.4MB/s \n",
            "\u001b[?25hRequirement already satisfied: urllib3 in /usr/local/lib/python3.6/dist-packages (from selenium) (1.24.3)\n",
            "Installing collected packages: selenium\n",
            "Successfully installed selenium-3.141.0\n"
          ],
          "name": "stdout"
        }
      ]
    },
    {
      "cell_type": "code",
      "metadata": {
        "id": "4PBJk7r18r6s",
        "colab_type": "code",
        "colab": {
          "base_uri": "https://localhost:8080/",
          "height": 170
        },
        "outputId": "fb9ae77c-c083-4ed8-bd57-95513dbf7ffb"
      },
      "source": [
        "from selenium import webdriver\n",
        "from selenium.webdriver.common.keys import Keys\n",
        "from selenium.webdriver.chrome.options import Options\n",
        "import re\n",
        "import time\n",
        "import string\n",
        "from textblob import TextBlob\n",
        "import nltk\n",
        "from nltk.corpus import stopwords\n",
        "from nltk.tokenize import word_tokenize\n",
        "from nltk.stem import WordNetLemmatizer\n",
        "nltk.download(\"brown\")\n",
        "nltk.download('stopwords')\n",
        "nltk.download(\"wordnet\")\n",
        "nltk.download(\"punkt\")"
      ],
      "execution_count": null,
      "outputs": [
        {
          "output_type": "stream",
          "text": [
            "[nltk_data] Downloading package brown to /root/nltk_data...\n",
            "[nltk_data]   Package brown is already up-to-date!\n",
            "[nltk_data] Downloading package stopwords to /root/nltk_data...\n",
            "[nltk_data]   Package stopwords is already up-to-date!\n",
            "[nltk_data] Downloading package wordnet to /root/nltk_data...\n",
            "[nltk_data]   Package wordnet is already up-to-date!\n",
            "[nltk_data] Downloading package punkt to /root/nltk_data...\n",
            "[nltk_data]   Package punkt is already up-to-date!\n"
          ],
          "name": "stdout"
        },
        {
          "output_type": "execute_result",
          "data": {
            "text/plain": [
              "True"
            ]
          },
          "metadata": {
            "tags": []
          },
          "execution_count": 26
        }
      ]
    },
    {
      "cell_type": "markdown",
      "metadata": {
        "id": "yk92NQA_xnRY",
        "colab_type": "text"
      },
      "source": [
        "We need to scrape the song lyrics from websites or API to use here\n",
        "\n",
        "I am using selenium here and the speed is not the best at the moment so I might switch to scrapy or use an API"
      ]
    },
    {
      "cell_type": "code",
      "metadata": {
        "id": "XkOMR1z_4gAT",
        "colab_type": "code",
        "colab": {}
      },
      "source": [
        "chrome_options = Options()\n",
        "chrome_options.add_argument('--headless')\n",
        "chrome_options.add_argument('--no-sandbox')\n",
        "chrome_options.add_argument('--disable-dev-shm-usage')\n",
        "\n",
        "\n",
        "def get_track(): # Gets track name from user and converts it so that we can use it in a link\n",
        "  track_name = input(\"Enter a track name: \")\n",
        "  track_name_link = track_name.rstrip().replace(\" \",\"%20\").lower()\n",
        "  return track_name_link\n",
        "\n",
        "\n",
        "def scrape_tracklist(track_link): # Scrapes the page for list of tracks with similar names or such \n",
        "  driver = webdriver.Chrome(chrome_options=chrome_options)\n",
        "  driver.get(\"https://www.musixmatch.com/search/\" + track_link + \"/tracks\")\n",
        "  element = driver.find_element_by_class_name(\"box-content\")\n",
        "  link_list = [i.get_attribute('href') for i in element.find_elements_by_tag_name('a')]\n",
        "  driver.close()\n",
        "  lyric_links=[i for i in link_list if re.search(\"/lyrics/\",i)] #could do it in one line but for the sake of clarity, I'm gonna do two\n",
        "  lyric_links=[i for i in lyric_links if not re.search(\"/add\",i)]\n",
        "  return lyric_links\n",
        "\n",
        "\n",
        "def scrape_lyrics(lyric_links_list,choice): # Scrapes the lyrics element\n",
        "  driver = webdriver.Chrome(chrome_options=chrome_options)\n",
        "  driver.get(lyric_links_list[choice])\n",
        "  lyric_elem=driver.find_elements_by_class_name('mxm-lyrics__content')\n",
        "  lyric_elem= [i.find_element_by_tag_name('span') for i in lyric_elem] \n",
        "  lyric_elem= [i.get_attribute('innerHTML') for i in lyric_elem]\n",
        "  driver.close()\n",
        "  return lyric_elem\n",
        "\n",
        "\n",
        "def select_track(artist_track_list): # Lets the user select a track\n",
        "  sel=0\n",
        "  for track in artist_track_list:\n",
        "    print(f\"{track[0]+1} {track[1]} - {track[2]}\")\n",
        "  sel=int(input('Enter the number of your desired track: '))-1\n",
        "  return sel\n",
        "\n",
        "\n",
        "def get_lyric_element(track_link): # Cleans up the lyric element and returns a cleaned list(array) with just lyrics inside\n",
        "  lyric_links_list = scrape_tracklist(track_link)\n",
        "  artist_track_list = [[lyric_links_list.index(x), x.split(\"/\")[4],x.split('/')[5]] for x in lyric_links_list]\n",
        "  print(artist_track_list)\n",
        "  choice=0\n",
        "  if len(artist_track_list) > 1:\n",
        "    choice = select_track(artist_track_list)\n",
        "  if len(artist_track_list) == 0 :\n",
        "    return \"no such song\"\n",
        "  lyric_element = scrape_lyrics(lyric_links_list,choice)\n",
        "  return \" \".join(lyric_element)\n",
        "\n"
      ],
      "execution_count": null,
      "outputs": []
    },
    {
      "cell_type": "code",
      "metadata": {
        "id": "o17rodiA74ZK",
        "colab_type": "code",
        "colab": {}
      },
      "source": [
        "track_name= \"when i was your man\"\n",
        "track_link=track_name.rstrip().replace(\" \",\"%20\").lower()\n",
        "#track_link=get_track() #uncomment to activate function"
      ],
      "execution_count": null,
      "outputs": []
    },
    {
      "cell_type": "code",
      "metadata": {
        "id": "KTVwTxTAUAET",
        "colab_type": "code",
        "colab": {
          "base_uri": "https://localhost:8080/",
          "height": 735
        },
        "outputId": "4a6d680b-580e-46ac-96c5-71c58b2bc0a2"
      },
      "source": [
        "lyric_element = get_lyric_element(track_link)\n",
        "lyric_element"
      ],
      "execution_count": null,
      "outputs": [
        {
          "output_type": "stream",
          "text": [
            "/usr/local/lib/python3.6/dist-packages/ipykernel_launcher.py:14: DeprecationWarning: use options instead of chrome_options\n",
            "  \n"
          ],
          "name": "stderr"
        },
        {
          "output_type": "stream",
          "text": [
            "[[0, 'Bruno-Mars', 'When-I-Was-Your-Man'], [1, 'Andrew-Wyatt-Philip-Lawrence-Bruno-Mars-Ari-Levine-Martin-Ermen', 'When-I-Was-Your-Man'], [2, 'Bruno-Mars-feat-Daniel-Philo', 'When-I-Was-Your-Man-Acoustic-Cover'], [3, 'Boyce-Avenue-feat-Fifth-Harmony', 'When-I-Was-Your-Man'], [4, 'Rod-Stewart', 'When-I-Was-Your-Man'], [5, 'The-Temptations', 'When-I-Was-Your-Man'], [6, 'Jasmine-Thompson', 'When-I-Was-Your-Man'], [7, 'Thomas-Rhett', 'When-I-Was-Your-Man'], [8, 'PelleK', 'When-I-Was-Your-Man'], [9, 'BTOB', '%EB%82%B4%EA%B0%80-%EB%8B%88-%EB%82%A8%EC%9E%90%EC%98%80%EC%9D%84-%EB%95%8C'], [10, 'MAX-36', 'When-I-Was-Your-Man-Acoustic'], [11, 'Anthem-Lights', 'Treasure-When-I-Was-Your-Man'], [12, 'BTOB', 'When-I-Was-Your-Man'], [13, 'Lu-Robertinho', 'When-I-Was-Your-Man-Quando-Amanhecer'], [14, 'Fer-Palacio', 'When-I-Was-Your-Man'], [15, 'Rockabye-Baby', 'When-I-Was-Your-Man'], [16, 'Tyler-Ward', 'When-I-Was-Your-Man-acoustic'], [17, 'Various-Artists', 'When-I-Was-Your-Man'], [18, 'Twinkle-Twinkle-Little-Rock-Star', 'When-I-Was-Your-Man'], [19, 'Piano-Dreamers', 'When-I-Was-Your-Man'], [20, 'Davina-Michelle', 'When-I-Was-Your-Man'], [21, 'Sam-Tsui', 'When-I-Was-Your-Man'], [22, 'Alexander-Stewart', 'When-I-Was-Your-Man'], [23, 'Jason-Chen', 'When-I-Was-Your-Man'], [24, 'Noah-Guthrie', 'When-I-Was-Your-Man'], [25, 'Daniel-Chia', 'When-I-Was-Your-Man'], [26, 'OMJamie', 'When-I-Was-Your-Man-Violin-Cover'], [27, 'J-Rice', 'When-I-Was-Your-Man'], [28, 'Midnite-String-Quartet', 'When-I-Was-Your-Man'], [29, 'Chiara-Grispo', 'When-I-Was-Your-Man']]\n",
            "1 Bruno-Mars - When-I-Was-Your-Man\n",
            "2 Andrew-Wyatt-Philip-Lawrence-Bruno-Mars-Ari-Levine-Martin-Ermen - When-I-Was-Your-Man\n",
            "3 Bruno-Mars-feat-Daniel-Philo - When-I-Was-Your-Man-Acoustic-Cover\n",
            "4 Boyce-Avenue-feat-Fifth-Harmony - When-I-Was-Your-Man\n",
            "5 Rod-Stewart - When-I-Was-Your-Man\n",
            "6 The-Temptations - When-I-Was-Your-Man\n",
            "7 Jasmine-Thompson - When-I-Was-Your-Man\n",
            "8 Thomas-Rhett - When-I-Was-Your-Man\n",
            "9 PelleK - When-I-Was-Your-Man\n",
            "10 BTOB - %EB%82%B4%EA%B0%80-%EB%8B%88-%EB%82%A8%EC%9E%90%EC%98%80%EC%9D%84-%EB%95%8C\n",
            "11 MAX-36 - When-I-Was-Your-Man-Acoustic\n",
            "12 Anthem-Lights - Treasure-When-I-Was-Your-Man\n",
            "13 BTOB - When-I-Was-Your-Man\n",
            "14 Lu-Robertinho - When-I-Was-Your-Man-Quando-Amanhecer\n",
            "15 Fer-Palacio - When-I-Was-Your-Man\n",
            "16 Rockabye-Baby - When-I-Was-Your-Man\n",
            "17 Tyler-Ward - When-I-Was-Your-Man-acoustic\n",
            "18 Various-Artists - When-I-Was-Your-Man\n",
            "19 Twinkle-Twinkle-Little-Rock-Star - When-I-Was-Your-Man\n",
            "20 Piano-Dreamers - When-I-Was-Your-Man\n",
            "21 Davina-Michelle - When-I-Was-Your-Man\n",
            "22 Sam-Tsui - When-I-Was-Your-Man\n",
            "23 Alexander-Stewart - When-I-Was-Your-Man\n",
            "24 Jason-Chen - When-I-Was-Your-Man\n",
            "25 Noah-Guthrie - When-I-Was-Your-Man\n",
            "26 Daniel-Chia - When-I-Was-Your-Man\n",
            "27 OMJamie - When-I-Was-Your-Man-Violin-Cover\n",
            "28 J-Rice - When-I-Was-Your-Man\n",
            "29 Midnite-String-Quartet - When-I-Was-Your-Man\n",
            "30 Chiara-Grispo - When-I-Was-Your-Man\n",
            "Enter the number of your desired track: 1\n"
          ],
          "name": "stdout"
        },
        {
          "output_type": "stream",
          "text": [
            "/usr/local/lib/python3.6/dist-packages/ipykernel_launcher.py:25: DeprecationWarning: use options instead of chrome_options\n"
          ],
          "name": "stderr"
        },
        {
          "output_type": "execute_result",
          "data": {
            "application/vnd.google.colaboratory.intrinsic+json": {
              "type": "string"
            },
            "text/plain": [
              "\"Same bed but it feels just a little bit bigger now\\nOur song on the radio but it don't sound the same\\nWhen our friends talk about you All it does is just tear me down\\n'Cause my heart breaks a little\\nWhen I hear your name\\n\\nIt all just sounds like ooh-ooh, ooh-ooh\\nMmm, too young, too dumb to realize\\n\\nThat I should've bought you flowers\\nAnd held your hand\\nShould've gave you all my hours\\nWhen I had the chance\\nTake you to every party\\n'Cause all you wanted to do was dance\\nNow my baby's dancing\\nBut she's dancing with another man\\n\\nMy pride, my ego, my needs, and my selfish ways\\nCaused a good strong woman like you\\nTo walk out my life\\nNow I never, never get to clean up the mess I made\\nAnd it haunts me every time I close my eyes\\n\\nIt all just sounds like ooh-ooh, ooh-ooh\\nMmm, too young, too dumb to realize\\n\\nThat I should've bought you flowers\\nAnd held your hand\\nShould've gave you all my hours\\nWhen I had the chance\\nTake you to every party\\n'Cause all you wanted to do was dance\\nNow my baby's dancing\\nBut she's dancing with another man\\n\\nAlthough it hurts\\nI'll be the first to say that I was wrong\\nOh, I know I'm probably much too late\\nTo try and apologize for my mistakes\\nBut I just want you to know\\n\\nI hope he buys you flowers\\nI hope he holds your hand\\nGive you all his hours\\nWhen he has the chance\\nTake to every party\\n'Cause I remember how much you loved to dance\\nDo all the things I should have done\\nWhen I was your man\\n\\nDo all the things I should have done\\nWhen I was your man\""
            ]
          },
          "metadata": {
            "tags": []
          },
          "execution_count": 109
        }
      ]
    },
    {
      "cell_type": "code",
      "metadata": {
        "id": "HtaPpv-5FT3q",
        "colab_type": "code",
        "colab": {
          "base_uri": "https://localhost:8080/",
          "height": 35
        },
        "outputId": "044d78fc-26a3-4252-c54f-afad3c0c4c5c"
      },
      "source": [
        "\"\"\"\n",
        "tracks_queue=[]\n",
        "for track in tracks_queue:\n",
        "  \n",
        "\"\"\""
      ],
      "execution_count": null,
      "outputs": [
        {
          "output_type": "execute_result",
          "data": {
            "application/vnd.google.colaboratory.intrinsic+json": {
              "type": "string"
            },
            "text/plain": [
              "'\\ntracks_queue=[]\\nfor track in tracks_queue:\\n  \\n'"
            ]
          },
          "metadata": {
            "tags": []
          },
          "execution_count": 110
        }
      ]
    },
    {
      "cell_type": "markdown",
      "metadata": {
        "id": "Az7OLBSnNByw",
        "colab_type": "text"
      },
      "source": [
        "The first part is done, web scraper should work fine. I did not implement error cases for now becuase I want to focus on the next two parts of the project\n"
      ]
    },
    {
      "cell_type": "code",
      "metadata": {
        "id": "GELVKlJmQhXm",
        "colab_type": "code",
        "colab": {}
      },
      "source": [
        "#joiner\n",
        "def convert_arr_to_str(arr):\n",
        "  return \" \".join(arr)"
      ],
      "execution_count": null,
      "outputs": []
    },
    {
      "cell_type": "code",
      "metadata": {
        "id": "LQue7oEkLt6c",
        "colab_type": "code",
        "colab": {
          "base_uri": "https://localhost:8080/",
          "height": 819
        },
        "outputId": "49499642-d71c-41d1-e392-c6d70a8605e2"
      },
      "source": [
        "lyrics_as_array= filter_raw_lyrics(lyric_element)\n",
        "lyrics=convert_arr_to_str(lyrics_as_array) #returns a single string as lyrics\n",
        "lyrics,lyrics_as_array"
      ],
      "execution_count": null,
      "outputs": [
        {
          "output_type": "execute_result",
          "data": {
            "text/plain": [
              "(\"Same bed but it feels just a little bit bigger now Our song on the radio but it don't sound the same When our friends talk about you All it does is just tear me down 'Cause my heart breaks a little When I hear your name It all just sounds like ooh-ooh, ooh-ooh Mmm, too young, too dumb to realize That I should've bought you flowers And held your hand Should've gave you all my hours When I had the chance Take you to every party 'Cause all you wanted to do was dance Now my baby's dancing But she's dancing with another man My pride, my ego, my needs, and my selfish ways Caused a good strong woman like you To walk out my life Now I never, never get to clean up the mess I made And it haunts me every time I close my eyes It all just sounds like ooh-ooh, ooh-ooh Mmm, too young, too dumb to realize That I should've bought you flowers And held your hand Should've gave you all my hours When I had the chance Take you to every party 'Cause all you wanted to do was dance Now my baby's dancing But she's dancing with another man Although it hurts I'll be the first to say that I was wrong Oh, I know I'm probably much too late To try and apologize for my mistakes But I just want you to know I hope he buys you flowers I hope he holds your hand Give you all his hours When he has the chance Take to every party 'Cause I remember how much you loved to dance Do all the things I should have done When I was your man Do all the things I should have done When I was your man\",\n",
              " ['Same bed but it feels just a little bit bigger now',\n",
              "  \"Our song on the radio but it don't sound the same\",\n",
              "  'When our friends talk about you All it does is just tear me down',\n",
              "  \"'Cause my heart breaks a little\",\n",
              "  'When I hear your name',\n",
              "  'It all just sounds like ooh-ooh, ooh-ooh',\n",
              "  'Mmm, too young, too dumb to realize',\n",
              "  \"That I should've bought you flowers\",\n",
              "  'And held your hand',\n",
              "  \"Should've gave you all my hours\",\n",
              "  'When I had the chance',\n",
              "  'Take you to every party',\n",
              "  \"'Cause all you wanted to do was dance\",\n",
              "  \"Now my baby's dancing\",\n",
              "  \"But she's dancing with another man\",\n",
              "  'My pride, my ego, my needs, and my selfish ways',\n",
              "  'Caused a good strong woman like you',\n",
              "  'To walk out my life',\n",
              "  'Now I never, never get to clean up the mess I made',\n",
              "  'And it haunts me every time I close my eyes',\n",
              "  'It all just sounds like ooh-ooh, ooh-ooh',\n",
              "  'Mmm, too young, too dumb to realize',\n",
              "  \"That I should've bought you flowers\",\n",
              "  'And held your hand',\n",
              "  \"Should've gave you all my hours\",\n",
              "  'When I had the chance',\n",
              "  'Take you to every party',\n",
              "  \"'Cause all you wanted to do was dance\",\n",
              "  \"Now my baby's dancing\",\n",
              "  \"But she's dancing with another man\",\n",
              "  'Although it hurts',\n",
              "  \"I'll be the first to say that I was wrong\",\n",
              "  \"Oh, I know I'm probably much too late\",\n",
              "  'To try and apologize for my mistakes',\n",
              "  'But I just want you to know',\n",
              "  'I hope he buys you flowers',\n",
              "  'I hope he holds your hand',\n",
              "  'Give you all his hours',\n",
              "  'When he has the chance',\n",
              "  'Take to every party',\n",
              "  \"'Cause I remember how much you loved to dance\",\n",
              "  'Do all the things I should have done',\n",
              "  'When I was your man',\n",
              "  'Do all the things I should have done',\n",
              "  'When I was your man'])"
            ]
          },
          "metadata": {
            "tags": []
          },
          "execution_count": 112
        }
      ]
    },
    {
      "cell_type": "code",
      "metadata": {
        "id": "IxXXnyRFQ7xs",
        "colab_type": "code",
        "colab": {}
      },
      "source": [
        ""
      ],
      "execution_count": null,
      "outputs": []
    },
    {
      "cell_type": "code",
      "metadata": {
        "id": "TYQlJjY2Qg1v",
        "colab_type": "code",
        "colab": {}
      },
      "source": [
        "def filter_raw_lyrics(raw_lyr): #The scraped element has blanks and \\n's lets filter those \n",
        "  return [i for i in raw_lyr.split(\"\\n\") if i != '']"
      ],
      "execution_count": null,
      "outputs": []
    },
    {
      "cell_type": "code",
      "metadata": {
        "id": "WQ9YEM_1kDvf",
        "colab_type": "code",
        "colab": {}
      },
      "source": [
        "def swfilter(word): #function we use in filter()\n",
        "  return word not in stopwords.words()\n",
        "\n",
        "def remove_stopword(lyr_arr):\n",
        "  return [\" \".join(filter(swfilter,sentence.split())) for sentence in lyrics_as_array]"
      ],
      "execution_count": null,
      "outputs": []
    },
    {
      "cell_type": "code",
      "metadata": {
        "id": "HRDkBDQ3M43H",
        "colab_type": "code",
        "colab": {}
      },
      "source": [
        "contractions = { \n",
        "\"ain't\": \"am not / are not / is not / has not / have not\",\n",
        "\"aren't\": \"are not / am not\",\n",
        "\"can't\": \"cannot\",\n",
        "\"can't've\": \"cannot have\",\n",
        "\"'cause\": \"because\",\n",
        "\"could've\": \"could have\",\n",
        "\"couldn't\": \"could not\",\n",
        "\"couldn't've\": \"could not have\",\n",
        "\"didn't\": \"did not\",\n",
        "\"doesn't\": \"does not\",\n",
        "\"don't\": \"do not\",\n",
        "\"hadn't\": \"had not\",\n",
        "\"hadn't've\": \"had not have\",\n",
        "\"hasn't\": \"has not\",\n",
        "\"haven't\": \"have not\",\n",
        "\"he'd\": \"he had / he would\",\n",
        "\"he'd've\": \"he would have\",\n",
        "\"he'll\": \"he shall / he will\",\n",
        "\"he'll've\": \"he shall have / he will have\",\n",
        "\"he's\": \"he has / he is\",\n",
        "\"how'd\": \"how did\",\n",
        "\"how'd'y\": \"how do you\",\n",
        "\"how'll\": \"how will\",\n",
        "\"how's\": \"how has / how is / how does\",\n",
        "\"I'd\": \"I had / I would\",\n",
        "\"I'd've\": \"I would have\",\n",
        "\"I'll\": \"I shall / I will\",\n",
        "\"I'll've\": \"I shall have / I will have\",\n",
        "\"I'm\": \"I am\",\n",
        "\"I've\": \"I have\",\n",
        "\"isn't\": \"is not\",\n",
        "\"it'd\": \"it had / it would\",\n",
        "\"it'd've\": \"it would have\",\n",
        "\"it'll\": \"it shall / it will\",\n",
        "\"it'll've\": \"it shall have / it will have\",\n",
        "\"it's\": \"it has / it is\",\n",
        "\"let's\": \"let us\",\n",
        "\"ma'am\": \"madam\",\n",
        "\"mayn't\": \"may not\",\n",
        "\"might've\": \"might have\",\n",
        "\"mightn't\": \"might not\",\n",
        "\"mightn't've\": \"might not have\",\n",
        "\"must've\": \"must have\",\n",
        "\"mustn't\": \"must not\",\n",
        "\"mustn't've\": \"must not have\",\n",
        "\"needn't\": \"need not\",\n",
        "\"needn't've\": \"need not have\",\n",
        "\"o'clock\": \"of the clock\",\n",
        "\"oughtn't\": \"ought not\",\n",
        "\"oughtn't've\": \"ought not have\",\n",
        "\"shan't\": \"shall not\",\n",
        "\"sha'n't\": \"shall not\",\n",
        "\"shan't've\": \"shall not have\",\n",
        "\"she'd\": \"she had / she would\",\n",
        "\"she'd've\": \"she would have\",\n",
        "\"she'll\": \"she shall / she will\",\n",
        "\"she'll've\": \"she shall have / she will have\",\n",
        "\"she's\": \"she has / she is\",\n",
        "\"should've\": \"should have\",\n",
        "\"shouldn't\": \"should not\",\n",
        "\"shouldn't've\": \"should not have\",\n",
        "\"so've\": \"so have\",\n",
        "\"so's\": \"so as / so is\",\n",
        "\"that'd\": \"that would / that had\",\n",
        "\"that'd've\": \"that would have\",\n",
        "\"that's\": \"that has / that is\",\n",
        "\"there'd\": \"there had / there would\",\n",
        "\"there'd've\": \"there would have\",\n",
        "\"there's\": \"there has / there is\",\n",
        "\"they'd\": \"they had / they would\",\n",
        "\"they'd've\": \"they would have\",\n",
        "\"they'll\": \"they shall / they will\",\n",
        "\"they'll've\": \"they shall have / they will have\",\n",
        "\"they're\": \"they are\",\n",
        "\"they've\": \"they have\",\n",
        "\"to've\": \"to have\",\n",
        "\"wasn't\": \"was not\",\n",
        "\"we'd\": \"we had / we would\",\n",
        "\"we'd've\": \"we would have\",\n",
        "\"we'll\": \"we will\",\n",
        "\"we'll've\": \"we will have\",\n",
        "\"we're\": \"we are\",\n",
        "\"we've\": \"we have\",\n",
        "\"weren't\": \"were not\",\n",
        "\"what'll\": \"what shall / what will\",\n",
        "\"what'll've\": \"what shall have / what will have\",\n",
        "\"what're\": \"what are\",\n",
        "\"what's\": \"what has / what is\",\n",
        "\"what've\": \"what have\",\n",
        "\"when's\": \"when has / when is\",\n",
        "\"when've\": \"when have\",\n",
        "\"where'd\": \"where did\",\n",
        "\"where's\": \"where has / where is\",\n",
        "\"where've\": \"where have\",\n",
        "\"who'll\": \"who shall / who will\",\n",
        "\"who'll've\": \"who shall have / who will have\",\n",
        "\"who's\": \"who has / who is\",\n",
        "\"who've\": \"who have\",\n",
        "\"why's\": \"why has / why is\",\n",
        "\"why've\": \"why have\",\n",
        "\"will've\": \"will have\",\n",
        "\"won't\": \"will not\",\n",
        "\"won't've\": \"will not have\",\n",
        "\"would've\": \"would have\",\n",
        "\"wouldn't\": \"would not\",\n",
        "\"wouldn't've\": \"would not have\",\n",
        "\"y'all\": \"you all\",\n",
        "\"y'all'd\": \"you all would\",\n",
        "\"y'all'd've\": \"you all would have\",\n",
        "\"y'all're\": \"you all are\",\n",
        "\"y'all've\": \"you all have\",\n",
        "\"you'd\": \"you had / you would\",\n",
        "\"you'd've\": \"you would have\",\n",
        "\"you'll\": \"you shall / you will\",\n",
        "\"you'll've\": \"you shall have / you will have\",\n",
        "\"you're\": \"you are\",\n",
        "\"you've\": \"you have\"\n",
        "}\n",
        "\n",
        "def contraction(word): #function we use in map()\n",
        "  word=word.lower()\n",
        "  if word in contractions:\n",
        "    return contractions[word]\n",
        "  else: \n",
        "    return word\n",
        "\n",
        "def remove_contraction(lyr_arr):\n",
        "  return [\" \".join(map(contraction, sentence.split())) for sentence in lyr_arr]"
      ],
      "execution_count": null,
      "outputs": []
    },
    {
      "cell_type": "code",
      "metadata": {
        "id": "jppaYBrLTYI5",
        "colab_type": "code",
        "colab": {}
      },
      "source": [
        ""
      ],
      "execution_count": null,
      "outputs": []
    },
    {
      "cell_type": "code",
      "metadata": {
        "id": "81XZnqaATb6C",
        "colab_type": "code",
        "colab": {
          "base_uri": "https://localhost:8080/",
          "height": 88
        },
        "outputId": "331d58da-68e1-47a9-ffba-d805a2eece02"
      },
      "source": [
        "#\n",
        "# Returns all transformed arrays and further maps the arrays \n",
        "\n",
        "def get_lyric_arrays(lyr_elt):\n",
        "  lyr_arr=filter_raw_lyrics(lyr_elt)\n",
        "  return [lyr_arr,remove_stopword(lyr_arr),remove_contraction(lyr_arr)]\n",
        "\n",
        "def get_lyrics(arr):\n",
        "  return list(map(convert_arr_to_str,arr))\n",
        "\n",
        "get_lyric_arrays(lyric_element) #returns a tuple with 3 items lyrics, lyrics without stop wordsm \n",
        "v=get_lyrics(get_lyric_arrays(lyric_element))\n",
        "v\n",
        "#\"\"\""
      ],
      "execution_count": null,
      "outputs": [
        {
          "output_type": "execute_result",
          "data": {
            "text/plain": [
              "[\"Same bed but it feels just a little bit bigger now Our song on the radio but it don't sound the same When our friends talk about you All it does is just tear me down 'Cause my heart breaks a little When I hear your name It all just sounds like ooh-ooh, ooh-ooh Mmm, too young, too dumb to realize That I should've bought you flowers And held your hand Should've gave you all my hours When I had the chance Take you to every party 'Cause all you wanted to do was dance Now my baby's dancing But she's dancing with another man My pride, my ego, my needs, and my selfish ways Caused a good strong woman like you To walk out my life Now I never, never get to clean up the mess I made And it haunts me every time I close my eyes It all just sounds like ooh-ooh, ooh-ooh Mmm, too young, too dumb to realize That I should've bought you flowers And held your hand Should've gave you all my hours When I had the chance Take you to every party 'Cause all you wanted to do was dance Now my baby's dancing But she's dancing with another man Although it hurts I'll be the first to say that I was wrong Oh, I know I'm probably much too late To try and apologize for my mistakes But I just want you to know I hope he buys you flowers I hope he holds your hand Give you all his hours When he has the chance Take to every party 'Cause I remember how much you loved to dance Do all the things I should have done When I was your man Do all the things I should have done When I was your man\",\n",
              " \"Same bed feels little bit bigger Our song radio sound When friends talk All tear 'Cause heart breaks little When I hear It sounds like ooh-ooh, ooh-ooh Mmm, young, dumb realize That I bought flowers And held hand Should've gave hours When I chance Take every party 'Cause wanted dance Now baby's dancing But dancing another My pride, ego, needs, selfish ways Caused good strong woman like To walk life Now I never, never get clean mess I made And haunts every time I close eyes It sounds like ooh-ooh, ooh-ooh Mmm, young, dumb realize That I bought flowers And held hand Should've gave hours When I chance Take every party 'Cause wanted dance Now baby's dancing But dancing another Although hurts I'll first say I wrong Oh, I know I'm probably much late To try apologize mistakes But I know I hope buys flowers I hope holds hand Give hours When chance Take every party 'Cause I remember much loved dance Do things I done When I Do things I done When I\",\n",
              " \"same bed but it feels just a little bit bigger now our song on the radio but it do not sound the same when our friends talk about you all it does is just tear me down because my heart breaks a little when i hear your name it all just sounds like ooh-ooh, ooh-ooh mmm, too young, too dumb to realize that i should have bought you flowers and held your hand should have gave you all my hours when i had the chance take you to every party because all you wanted to do was dance now my baby's dancing but she has / she is dancing with another man my pride, my ego, my needs, and my selfish ways caused a good strong woman like you to walk out my life now i never, never get to clean up the mess i made and it haunts me every time i close my eyes it all just sounds like ooh-ooh, ooh-ooh mmm, too young, too dumb to realize that i should have bought you flowers and held your hand should have gave you all my hours when i had the chance take you to every party because all you wanted to do was dance now my baby's dancing but she has / she is dancing with another man although it hurts i'll be the first to say that i was wrong oh, i know i'm probably much too late to try and apologize for my mistakes but i just want you to know i hope he buys you flowers i hope he holds your hand give you all his hours when he has the chance take to every party because i remember how much you loved to dance do all the things i should have done when i was your man do all the things i should have done when i was your man\"]"
            ]
          },
          "metadata": {
            "tags": []
          },
          "execution_count": 116
        }
      ]
    },
    {
      "cell_type": "code",
      "metadata": {
        "id": "FLhCSifKh7Du",
        "colab_type": "code",
        "colab": {
          "base_uri": "https://localhost:8080/",
          "height": 819
        },
        "outputId": "89255e0d-9206-4db0-d9f4-33a5c5181536"
      },
      "source": [
        "lyrics_as_array_without_sw = remove_stopword(lyrics_as_array)\n",
        "lyrics_without_sw = convert_arr_to_str(lyrics_as_array_without_sw)\n",
        "lyrics_as_array_without_sw,lyrics_without_sw"
      ],
      "execution_count": null,
      "outputs": [
        {
          "output_type": "execute_result",
          "data": {
            "text/plain": [
              "(['Same bed feels little bit bigger',\n",
              "  'Our song radio sound',\n",
              "  'When friends talk All tear',\n",
              "  \"'Cause heart breaks little\",\n",
              "  'When I hear',\n",
              "  'It sounds like ooh-ooh, ooh-ooh',\n",
              "  'Mmm, young, dumb realize',\n",
              "  'That I bought flowers',\n",
              "  'And held hand',\n",
              "  \"Should've gave hours\",\n",
              "  'When I chance',\n",
              "  'Take every party',\n",
              "  \"'Cause wanted dance\",\n",
              "  \"Now baby's dancing\",\n",
              "  'But dancing another',\n",
              "  'My pride, ego, needs, selfish ways',\n",
              "  'Caused good strong woman like',\n",
              "  'To walk life',\n",
              "  'Now I never, never get clean mess I made',\n",
              "  'And haunts every time I close eyes',\n",
              "  'It sounds like ooh-ooh, ooh-ooh',\n",
              "  'Mmm, young, dumb realize',\n",
              "  'That I bought flowers',\n",
              "  'And held hand',\n",
              "  \"Should've gave hours\",\n",
              "  'When I chance',\n",
              "  'Take every party',\n",
              "  \"'Cause wanted dance\",\n",
              "  \"Now baby's dancing\",\n",
              "  'But dancing another',\n",
              "  'Although hurts',\n",
              "  \"I'll first say I wrong\",\n",
              "  \"Oh, I know I'm probably much late\",\n",
              "  'To try apologize mistakes',\n",
              "  'But I know',\n",
              "  'I hope buys flowers',\n",
              "  'I hope holds hand',\n",
              "  'Give hours',\n",
              "  'When chance',\n",
              "  'Take every party',\n",
              "  \"'Cause I remember much loved dance\",\n",
              "  'Do things I done',\n",
              "  'When I',\n",
              "  'Do things I done',\n",
              "  'When I'],\n",
              " \"Same bed feels little bit bigger Our song radio sound When friends talk All tear 'Cause heart breaks little When I hear It sounds like ooh-ooh, ooh-ooh Mmm, young, dumb realize That I bought flowers And held hand Should've gave hours When I chance Take every party 'Cause wanted dance Now baby's dancing But dancing another My pride, ego, needs, selfish ways Caused good strong woman like To walk life Now I never, never get clean mess I made And haunts every time I close eyes It sounds like ooh-ooh, ooh-ooh Mmm, young, dumb realize That I bought flowers And held hand Should've gave hours When I chance Take every party 'Cause wanted dance Now baby's dancing But dancing another Although hurts I'll first say I wrong Oh, I know I'm probably much late To try apologize mistakes But I know I hope buys flowers I hope holds hand Give hours When chance Take every party 'Cause I remember much loved dance Do things I done When I Do things I done When I\")"
            ]
          },
          "metadata": {
            "tags": []
          },
          "execution_count": 117
        }
      ]
    },
    {
      "cell_type": "code",
      "metadata": {
        "id": "5seAWVkpLsIO",
        "colab_type": "code",
        "colab": {
          "base_uri": "https://localhost:8080/",
          "height": 819
        },
        "outputId": "8a5a7d0f-c4a8-47e6-e20c-57cef264516a"
      },
      "source": [
        "lyrics_as_array_without_contraction = remove_contraction(lyrics_as_array)\n",
        "lyrics_without_contraction = convert_arr_to_str(lyrics_as_array_without_contraction)\n",
        "lyrics_as_array_without_contraction,lyrics_without_contraction"
      ],
      "execution_count": null,
      "outputs": [
        {
          "output_type": "execute_result",
          "data": {
            "text/plain": [
              "(['same bed but it feels just a little bit bigger now',\n",
              "  'our song on the radio but it do not sound the same',\n",
              "  'when our friends talk about you all it does is just tear me down',\n",
              "  'because my heart breaks a little',\n",
              "  'when i hear your name',\n",
              "  'it all just sounds like ooh-ooh, ooh-ooh',\n",
              "  'mmm, too young, too dumb to realize',\n",
              "  'that i should have bought you flowers',\n",
              "  'and held your hand',\n",
              "  'should have gave you all my hours',\n",
              "  'when i had the chance',\n",
              "  'take you to every party',\n",
              "  'because all you wanted to do was dance',\n",
              "  \"now my baby's dancing\",\n",
              "  'but she has / she is dancing with another man',\n",
              "  'my pride, my ego, my needs, and my selfish ways',\n",
              "  'caused a good strong woman like you',\n",
              "  'to walk out my life',\n",
              "  'now i never, never get to clean up the mess i made',\n",
              "  'and it haunts me every time i close my eyes',\n",
              "  'it all just sounds like ooh-ooh, ooh-ooh',\n",
              "  'mmm, too young, too dumb to realize',\n",
              "  'that i should have bought you flowers',\n",
              "  'and held your hand',\n",
              "  'should have gave you all my hours',\n",
              "  'when i had the chance',\n",
              "  'take you to every party',\n",
              "  'because all you wanted to do was dance',\n",
              "  \"now my baby's dancing\",\n",
              "  'but she has / she is dancing with another man',\n",
              "  'although it hurts',\n",
              "  \"i'll be the first to say that i was wrong\",\n",
              "  \"oh, i know i'm probably much too late\",\n",
              "  'to try and apologize for my mistakes',\n",
              "  'but i just want you to know',\n",
              "  'i hope he buys you flowers',\n",
              "  'i hope he holds your hand',\n",
              "  'give you all his hours',\n",
              "  'when he has the chance',\n",
              "  'take to every party',\n",
              "  'because i remember how much you loved to dance',\n",
              "  'do all the things i should have done',\n",
              "  'when i was your man',\n",
              "  'do all the things i should have done',\n",
              "  'when i was your man'],\n",
              " \"same bed but it feels just a little bit bigger now our song on the radio but it do not sound the same when our friends talk about you all it does is just tear me down because my heart breaks a little when i hear your name it all just sounds like ooh-ooh, ooh-ooh mmm, too young, too dumb to realize that i should have bought you flowers and held your hand should have gave you all my hours when i had the chance take you to every party because all you wanted to do was dance now my baby's dancing but she has / she is dancing with another man my pride, my ego, my needs, and my selfish ways caused a good strong woman like you to walk out my life now i never, never get to clean up the mess i made and it haunts me every time i close my eyes it all just sounds like ooh-ooh, ooh-ooh mmm, too young, too dumb to realize that i should have bought you flowers and held your hand should have gave you all my hours when i had the chance take you to every party because all you wanted to do was dance now my baby's dancing but she has / she is dancing with another man although it hurts i'll be the first to say that i was wrong oh, i know i'm probably much too late to try and apologize for my mistakes but i just want you to know i hope he buys you flowers i hope he holds your hand give you all his hours when he has the chance take to every party because i remember how much you loved to dance do all the things i should have done when i was your man do all the things i should have done when i was your man\")"
            ]
          },
          "metadata": {
            "tags": []
          },
          "execution_count": 118
        }
      ]
    },
    {
      "cell_type": "code",
      "metadata": {
        "id": "08m1khdPO7HI",
        "colab_type": "code",
        "colab": {
          "base_uri": "https://localhost:8080/",
          "height": 120
        },
        "outputId": "841b6fac-17eb-4bd0-f320-7a7e52b5a1ca"
      },
      "source": [
        "wordnet_lemmatizer = WordNetLemmatizer()\n",
        "\n",
        "def map_lemmatize(word):\n",
        "  return wordnet_lemmatizer.lemmatize(word, pos=\"v\")\n",
        "\n",
        "x=\" \".join(map(map_lemmatize,lyrics.split()))\n",
        "x"
      ],
      "execution_count": null,
      "outputs": [
        {
          "output_type": "execute_result",
          "data": {
            "application/vnd.google.colaboratory.intrinsic+json": {
              "type": "string"
            },
            "text/plain": [
              "\"Same bed but it feel just a little bite bigger now Our song on the radio but it don't sound the same When our friends talk about you All it do be just tear me down 'Cause my heart break a little When I hear your name It all just sound like ooh-ooh, ooh-ooh Mmm, too young, too dumb to realize That I should've buy you flower And hold your hand Should've give you all my hours When I have the chance Take you to every party 'Cause all you want to do be dance Now my baby's dance But she's dance with another man My pride, my ego, my needs, and my selfish ways Caused a good strong woman like you To walk out my life Now I never, never get to clean up the mess I make And it haunt me every time I close my eye It all just sound like ooh-ooh, ooh-ooh Mmm, too young, too dumb to realize That I should've buy you flower And hold your hand Should've give you all my hours When I have the chance Take you to every party 'Cause all you want to do be dance Now my baby's dance But she's dance with another man Although it hurt I'll be the first to say that I be wrong Oh, I know I'm probably much too late To try and apologize for my mistake But I just want you to know I hope he buy you flower I hope he hold your hand Give you all his hours When he have the chance Take to every party 'Cause I remember how much you love to dance Do all the things I should have do When I be your man Do all the things I should have do When I be your man\""
            ]
          },
          "metadata": {
            "tags": []
          },
          "execution_count": 122
        }
      ]
    },
    {
      "cell_type": "code",
      "metadata": {
        "id": "anVc9rkLdC3K",
        "colab_type": "code",
        "colab": {
          "base_uri": "https://localhost:8080/",
          "height": 85
        },
        "outputId": "22bc0af4-90be-42d6-98a9-cfe1073b6047"
      },
      "source": [
        "for i in v:\n",
        "  print(Sentiment_score(i))\n",
        "print(Sentiment_score(x))"
      ],
      "execution_count": null,
      "outputs": [
        {
          "output_type": "stream",
          "text": [
            "0.377802\n",
            "0.399646\n",
            "0.40078\n",
            "-0.348249\n"
          ],
          "name": "stdout"
        }
      ]
    },
    {
      "cell_type": "markdown",
      "metadata": {
        "id": "LIKy4ZTeLtq0",
        "colab_type": "text"
      },
      "source": [
        "\n",
        "Next we have to tackle the sentimantal analysis part. We aim to try bag of words then use NLTK on every line might be slow but I like to give prominence to accuracy"
      ]
    },
    {
      "cell_type": "code",
      "metadata": {
        "id": "5BY40KnADOsg",
        "colab_type": "code",
        "colab": {
          "base_uri": "https://localhost:8080/",
          "height": 71
        },
        "outputId": "081f525a-8d53-4508-8fff-a061b09eae80"
      },
      "source": [
        "lyric_tokens = word_tokenize(lyrics)\n",
        "blob= TextBlob(lyrics_without_sw)\n",
        "print ((blob.polarity*100))\n",
        "blob"
      ],
      "execution_count": null,
      "outputs": [
        {
          "output_type": "stream",
          "text": [
            "2.4999999999999996\n"
          ],
          "name": "stdout"
        },
        {
          "output_type": "execute_result",
          "data": {
            "text/plain": [
              "TextBlob(\"Same bed feels little bit bigger Our song radio sound When friends talk All tear 'Cause heart breaks little When I hear It sounds like ooh-ooh, ooh-ooh Mmm, young, dumb realize That I bought flowers And held hand Should've gave hours When I chance Take every party 'Cause wanted dance Now baby's dancing But dancing another My pride, ego, needs, selfish ways Caused good strong woman like To walk life Now I never, never get clean mess I made And haunts every time I close eyes It sounds like ooh-ooh, ooh-ooh Mmm, young, dumb realize That I bought flowers And held hand Should've gave hours When I chance Take every party 'Cause wanted dance Now baby's dancing But dancing another Although hurts I'll first say I wrong Oh, I know I'm probably much late To try apologize mistakes But I know I hope buys flowers I hope holds hand Give hours When chance Take every party 'Cause I remember much loved dance Do things I done When I Do things I done When I\")"
            ]
          },
          "metadata": {
            "tags": []
          },
          "execution_count": 121
        }
      ]
    },
    {
      "cell_type": "code",
      "metadata": {
        "id": "6FoBADOLZsDR",
        "colab_type": "code",
        "colab": {
          "base_uri": "https://localhost:8080/",
          "height": 884
        },
        "outputId": "d6f1503b-18c1-4d95-883d-a7ebddeed31e"
      },
      "source": [
        "listofpol=[]\n",
        "sumofpol=0\n",
        "for i in lyr:\n",
        "  blobs=TextBlob(i)\n",
        "  pol=blobs.polarity\n",
        "  listofpol.append(pol)\n",
        "  sumofpol=sumofpol+pol\n",
        "  print(f'{i} - {pol}')\n",
        "print (\"Average:\",(sumofpol)*100/len(lyr),\"%\")"
      ],
      "execution_count": null,
      "outputs": [
        {
          "output_type": "stream",
          "text": [
            "I heard glass shatter on the wall in the apartment above mine - 0.0\n",
            "At first I thought that I was dreamin' - 0.25\n",
            "But then I heard the voice of a girl And it sounded like she'd been cryin' - 0.0\n",
            "Now I'm too worried to be sleepin' - 0.0\n",
            "So I took the elevator to the second floor - 0.0\n",
            "Walked down the hall and then I knocked upon her door - -0.15555555555555559\n",
            "She opened up and I asked about the things I've been hearing - 0.0\n",
            "She said, \"I think your ears are playing tricks on you\" - 0.0\n",
            "Sweater zipped up to her chin - 0.0\n",
            "\"Thanks for caring, sir, that's nice of you - 0.4\n",
            "But I have to go back in - 0.0\n",
            "Wish I could tell you about the noise - 0.0\n",
            "But I didn't hear a thing\" - 0.0\n",
            "She said, \"It must have been the wind, must have been the wind - 0.0\n",
            "Must have been the wind, it must have been the wind\" - 0.0\n",
            "She said, \"It must have been the wind, must have been the wind - 0.0\n",
            "Must have been the wind, it must have been the wind\" - 0.0\n",
            "So I was layin' on the floor of my room - 0.0\n",
            "Cold concrete on my back - -0.15\n",
            "No, I just couldn't shake the feeling - 0.0\n",
            "I didn't want to intrude because I knew that I didn't have all the facts - 0.0\n",
            "But I couldn't bear the thought of leavin' her - 0.0\n",
            "So I took the elevator to the second floor - 0.0\n",
            "Walked down the hall and then I knocked upon her door - -0.15555555555555559\n",
            "She opened up and I asked about the things I've been hearing - 0.0\n",
            "She said, \"I think your ears are playing tricks on you\" - 0.0\n",
            "Sweater zipped up to her chin - 0.0\n",
            "\"Thanks for caring, sir, that's nice of you - 0.4\n",
            "But I have to go back in - 0.0\n",
            "Wish I could tell you about the noise - 0.0\n",
            "But I didn't hear a thing\" - 0.0\n",
            "She said, \"It must have been the wind, must have been the wind - 0.0\n",
            "Must have been the wind, it must have been the wind\" - 0.0\n",
            "She said, \"It must have been the wind, must have been the wind - 0.0\n",
            "Must have been the wind, it must have been the wind\" - 0.0\n",
            "Aim my boom box at the roof, I'm playing, \"Lean on me\" - 0.0\n",
            "Just so that she knows that she can lean on me - 0.0\n",
            "And when she hears the words, I hope she knows she'll be okay - 0.5\n",
            "Aim my boom box at the roof, I'm playing, \"Lean on me\" - 0.0\n",
            "Just so that she knows that she can lean on me - 0.0\n",
            "And when she hears the words, I know exactly what I'll say - 0.25\n",
            "\"Promise I'm not playing tricks on you - 0.0\n",
            "You're always welcome to come in - 0.8\n",
            "You could stay here for an hour or two - 0.0\n",
            "If you ever need a friend\" - 0.0\n",
            "\"We can talk about the noise, when you're ready, but till then\" - 0.2\n",
            "I say, \"It must have been the wind, must have been the wind - 0.0\n",
            "Must have been the wind, it must have been the wind\" - 0.0\n",
            "I say, \"It must have been the wind, must have been the wind - 0.0\n",
            "Must have been the wind, it must have been the wind - 0.0\n",
            "Average: 4.677777777777779 %\n"
          ],
          "name": "stdout"
        }
      ]
    },
    {
      "cell_type": "code",
      "metadata": {
        "id": "VqTmFJU_vgab",
        "colab_type": "code",
        "colab": {
          "base_uri": "https://localhost:8080/",
          "height": 34
        },
        "outputId": "705f233f-6a73-46ca-d483-a13a9aeaf618"
      },
      "source": [
        "sum([i for i in listofpol if i!=0])/len([i for i in listofpol if i!=0])\n"
      ],
      "execution_count": null,
      "outputs": [
        {
          "output_type": "execute_result",
          "data": {
            "text/plain": [
              "0.23388888888888895"
            ]
          },
          "metadata": {
            "tags": []
          },
          "execution_count": 134
        }
      ]
    },
    {
      "cell_type": "code",
      "metadata": {
        "id": "Ch0owR7Dc5ad",
        "colab_type": "code",
        "colab": {
          "base_uri": "https://localhost:8080/",
          "height": 1000
        },
        "outputId": "252ca275-5ed1-4b71-eee0-f67004e0c8b1"
      },
      "source": [
        "mn=[\"i am bad\",\"i am not bad\",\"i am good\",\"i am not good\"]\n",
        "for i in lyr:\n",
        "  print(TextBlob(i).polarity)\n",
        "  print(TextBlob(i).ngrams(2))\n",
        "\n"
      ],
      "execution_count": null,
      "outputs": [
        {
          "output_type": "stream",
          "text": [
            "0.0\n",
            "[WordList(['I', 'heard']), WordList(['heard', 'glass']), WordList(['glass', 'shatter']), WordList(['shatter', 'on']), WordList(['on', 'the']), WordList(['the', 'wall']), WordList(['wall', 'in']), WordList(['in', 'the']), WordList(['the', 'apartment']), WordList(['apartment', 'above']), WordList(['above', 'mine'])]\n",
            "0.25\n",
            "[WordList(['At', 'first']), WordList(['first', 'I']), WordList(['I', 'thought']), WordList(['thought', 'that']), WordList(['that', 'I']), WordList(['I', 'was']), WordList(['was', 'dreamin'])]\n",
            "0.0\n",
            "[WordList(['But', 'then']), WordList(['then', 'I']), WordList(['I', 'heard']), WordList(['heard', 'the']), WordList(['the', 'voice']), WordList(['voice', 'of']), WordList(['of', 'a']), WordList(['a', 'girl']), WordList(['girl', 'And']), WordList(['And', 'it']), WordList(['it', 'sounded']), WordList(['sounded', 'like']), WordList(['like', 'she']), WordList(['she', \"'d\"]), WordList([\"'d\", 'been']), WordList(['been', 'cryin'])]\n",
            "0.0\n",
            "[WordList(['Now', 'I']), WordList(['I', \"'m\"]), WordList([\"'m\", 'too']), WordList(['too', 'worried']), WordList(['worried', 'to']), WordList(['to', 'be']), WordList(['be', 'sleepin'])]\n",
            "0.0\n",
            "[WordList(['So', 'I']), WordList(['I', 'took']), WordList(['took', 'the']), WordList(['the', 'elevator']), WordList(['elevator', 'to']), WordList(['to', 'the']), WordList(['the', 'second']), WordList(['second', 'floor'])]\n",
            "-0.15555555555555559\n",
            "[WordList(['Walked', 'down']), WordList(['down', 'the']), WordList(['the', 'hall']), WordList(['hall', 'and']), WordList(['and', 'then']), WordList(['then', 'I']), WordList(['I', 'knocked']), WordList(['knocked', 'upon']), WordList(['upon', 'her']), WordList(['her', 'door'])]\n",
            "0.0\n",
            "[WordList(['She', 'opened']), WordList(['opened', 'up']), WordList(['up', 'and']), WordList(['and', 'I']), WordList(['I', 'asked']), WordList(['asked', 'about']), WordList(['about', 'the']), WordList(['the', 'things']), WordList(['things', 'I']), WordList(['I', \"'ve\"]), WordList([\"'ve\", 'been']), WordList(['been', 'hearing'])]\n",
            "0.0\n",
            "[WordList(['She', 'said']), WordList(['said', 'I']), WordList(['I', 'think']), WordList(['think', 'your']), WordList(['your', 'ears']), WordList(['ears', 'are']), WordList(['are', 'playing']), WordList(['playing', 'tricks']), WordList(['tricks', 'on']), WordList(['on', 'you'])]\n",
            "0.0\n",
            "[WordList(['Sweater', 'zipped']), WordList(['zipped', 'up']), WordList(['up', 'to']), WordList(['to', 'her']), WordList(['her', 'chin'])]\n",
            "0.4\n",
            "[WordList(['Thanks', 'for']), WordList(['for', 'caring']), WordList(['caring', 'sir']), WordList(['sir', 'that']), WordList(['that', \"'s\"]), WordList([\"'s\", 'nice']), WordList(['nice', 'of']), WordList(['of', 'you'])]\n",
            "0.0\n",
            "[WordList(['But', 'I']), WordList(['I', 'have']), WordList(['have', 'to']), WordList(['to', 'go']), WordList(['go', 'back']), WordList(['back', 'in'])]\n",
            "0.0\n",
            "[WordList(['Wish', 'I']), WordList(['I', 'could']), WordList(['could', 'tell']), WordList(['tell', 'you']), WordList(['you', 'about']), WordList(['about', 'the']), WordList(['the', 'noise'])]\n",
            "0.0\n",
            "[WordList(['But', 'I']), WordList(['I', 'did']), WordList(['did', \"n't\"]), WordList([\"n't\", 'hear']), WordList(['hear', 'a']), WordList(['a', 'thing'])]\n",
            "0.0\n",
            "[WordList(['She', 'said']), WordList(['said', 'It']), WordList(['It', 'must']), WordList(['must', 'have']), WordList(['have', 'been']), WordList(['been', 'the']), WordList(['the', 'wind']), WordList(['wind', 'must']), WordList(['must', 'have']), WordList(['have', 'been']), WordList(['been', 'the']), WordList(['the', 'wind'])]\n",
            "0.0\n",
            "[WordList(['Must', 'have']), WordList(['have', 'been']), WordList(['been', 'the']), WordList(['the', 'wind']), WordList(['wind', 'it']), WordList(['it', 'must']), WordList(['must', 'have']), WordList(['have', 'been']), WordList(['been', 'the']), WordList(['the', 'wind'])]\n",
            "0.0\n",
            "[WordList(['She', 'said']), WordList(['said', 'It']), WordList(['It', 'must']), WordList(['must', 'have']), WordList(['have', 'been']), WordList(['been', 'the']), WordList(['the', 'wind']), WordList(['wind', 'must']), WordList(['must', 'have']), WordList(['have', 'been']), WordList(['been', 'the']), WordList(['the', 'wind'])]\n",
            "0.0\n",
            "[WordList(['Must', 'have']), WordList(['have', 'been']), WordList(['been', 'the']), WordList(['the', 'wind']), WordList(['wind', 'it']), WordList(['it', 'must']), WordList(['must', 'have']), WordList(['have', 'been']), WordList(['been', 'the']), WordList(['the', 'wind'])]\n",
            "0.0\n",
            "[WordList(['So', 'I']), WordList(['I', 'was']), WordList(['was', 'layin']), WordList(['layin', 'on']), WordList(['on', 'the']), WordList(['the', 'floor']), WordList(['floor', 'of']), WordList(['of', 'my']), WordList(['my', 'room'])]\n",
            "-0.15\n",
            "[WordList(['Cold', 'concrete']), WordList(['concrete', 'on']), WordList(['on', 'my']), WordList(['my', 'back'])]\n",
            "0.0\n",
            "[WordList(['No', 'I']), WordList(['I', 'just']), WordList(['just', 'could']), WordList(['could', \"n't\"]), WordList([\"n't\", 'shake']), WordList(['shake', 'the']), WordList(['the', 'feeling'])]\n",
            "0.0\n",
            "[WordList(['I', 'did']), WordList(['did', \"n't\"]), WordList([\"n't\", 'want']), WordList(['want', 'to']), WordList(['to', 'intrude']), WordList(['intrude', 'because']), WordList(['because', 'I']), WordList(['I', 'knew']), WordList(['knew', 'that']), WordList(['that', 'I']), WordList(['I', 'did']), WordList(['did', \"n't\"]), WordList([\"n't\", 'have']), WordList(['have', 'all']), WordList(['all', 'the']), WordList(['the', 'facts'])]\n",
            "0.0\n",
            "[WordList(['But', 'I']), WordList(['I', 'could']), WordList(['could', \"n't\"]), WordList([\"n't\", 'bear']), WordList(['bear', 'the']), WordList(['the', 'thought']), WordList(['thought', 'of']), WordList(['of', 'leavin']), WordList(['leavin', 'her'])]\n",
            "0.0\n",
            "[WordList(['So', 'I']), WordList(['I', 'took']), WordList(['took', 'the']), WordList(['the', 'elevator']), WordList(['elevator', 'to']), WordList(['to', 'the']), WordList(['the', 'second']), WordList(['second', 'floor'])]\n",
            "-0.15555555555555559\n",
            "[WordList(['Walked', 'down']), WordList(['down', 'the']), WordList(['the', 'hall']), WordList(['hall', 'and']), WordList(['and', 'then']), WordList(['then', 'I']), WordList(['I', 'knocked']), WordList(['knocked', 'upon']), WordList(['upon', 'her']), WordList(['her', 'door'])]\n",
            "0.0\n",
            "[WordList(['She', 'opened']), WordList(['opened', 'up']), WordList(['up', 'and']), WordList(['and', 'I']), WordList(['I', 'asked']), WordList(['asked', 'about']), WordList(['about', 'the']), WordList(['the', 'things']), WordList(['things', 'I']), WordList(['I', \"'ve\"]), WordList([\"'ve\", 'been']), WordList(['been', 'hearing'])]\n",
            "0.0\n",
            "[WordList(['She', 'said']), WordList(['said', 'I']), WordList(['I', 'think']), WordList(['think', 'your']), WordList(['your', 'ears']), WordList(['ears', 'are']), WordList(['are', 'playing']), WordList(['playing', 'tricks']), WordList(['tricks', 'on']), WordList(['on', 'you'])]\n",
            "0.0\n",
            "[WordList(['Sweater', 'zipped']), WordList(['zipped', 'up']), WordList(['up', 'to']), WordList(['to', 'her']), WordList(['her', 'chin'])]\n",
            "0.4\n",
            "[WordList(['Thanks', 'for']), WordList(['for', 'caring']), WordList(['caring', 'sir']), WordList(['sir', 'that']), WordList(['that', \"'s\"]), WordList([\"'s\", 'nice']), WordList(['nice', 'of']), WordList(['of', 'you'])]\n",
            "0.0\n",
            "[WordList(['But', 'I']), WordList(['I', 'have']), WordList(['have', 'to']), WordList(['to', 'go']), WordList(['go', 'back']), WordList(['back', 'in'])]\n",
            "0.0\n",
            "[WordList(['Wish', 'I']), WordList(['I', 'could']), WordList(['could', 'tell']), WordList(['tell', 'you']), WordList(['you', 'about']), WordList(['about', 'the']), WordList(['the', 'noise'])]\n",
            "0.0\n",
            "[WordList(['But', 'I']), WordList(['I', 'did']), WordList(['did', \"n't\"]), WordList([\"n't\", 'hear']), WordList(['hear', 'a']), WordList(['a', 'thing'])]\n",
            "0.0\n",
            "[WordList(['She', 'said']), WordList(['said', 'It']), WordList(['It', 'must']), WordList(['must', 'have']), WordList(['have', 'been']), WordList(['been', 'the']), WordList(['the', 'wind']), WordList(['wind', 'must']), WordList(['must', 'have']), WordList(['have', 'been']), WordList(['been', 'the']), WordList(['the', 'wind'])]\n",
            "0.0\n",
            "[WordList(['Must', 'have']), WordList(['have', 'been']), WordList(['been', 'the']), WordList(['the', 'wind']), WordList(['wind', 'it']), WordList(['it', 'must']), WordList(['must', 'have']), WordList(['have', 'been']), WordList(['been', 'the']), WordList(['the', 'wind'])]\n",
            "0.0\n",
            "[WordList(['She', 'said']), WordList(['said', 'It']), WordList(['It', 'must']), WordList(['must', 'have']), WordList(['have', 'been']), WordList(['been', 'the']), WordList(['the', 'wind']), WordList(['wind', 'must']), WordList(['must', 'have']), WordList(['have', 'been']), WordList(['been', 'the']), WordList(['the', 'wind'])]\n",
            "0.0\n",
            "[WordList(['Must', 'have']), WordList(['have', 'been']), WordList(['been', 'the']), WordList(['the', 'wind']), WordList(['wind', 'it']), WordList(['it', 'must']), WordList(['must', 'have']), WordList(['have', 'been']), WordList(['been', 'the']), WordList(['the', 'wind'])]\n",
            "0.0\n",
            "[WordList(['Aim', 'my']), WordList(['my', 'boom']), WordList(['boom', 'box']), WordList(['box', 'at']), WordList(['at', 'the']), WordList(['the', 'roof']), WordList(['roof', 'I']), WordList(['I', \"'m\"]), WordList([\"'m\", 'playing']), WordList(['playing', 'Lean']), WordList(['Lean', 'on']), WordList(['on', 'me'])]\n",
            "0.0\n",
            "[WordList(['Just', 'so']), WordList(['so', 'that']), WordList(['that', 'she']), WordList(['she', 'knows']), WordList(['knows', 'that']), WordList(['that', 'she']), WordList(['she', 'can']), WordList(['can', 'lean']), WordList(['lean', 'on']), WordList(['on', 'me'])]\n",
            "0.5\n",
            "[WordList(['And', 'when']), WordList(['when', 'she']), WordList(['she', 'hears']), WordList(['hears', 'the']), WordList(['the', 'words']), WordList(['words', 'I']), WordList(['I', 'hope']), WordList(['hope', 'she']), WordList(['she', 'knows']), WordList(['knows', 'she']), WordList(['she', \"'ll\"]), WordList([\"'ll\", 'be']), WordList(['be', 'okay'])]\n",
            "0.0\n",
            "[WordList(['Aim', 'my']), WordList(['my', 'boom']), WordList(['boom', 'box']), WordList(['box', 'at']), WordList(['at', 'the']), WordList(['the', 'roof']), WordList(['roof', 'I']), WordList(['I', \"'m\"]), WordList([\"'m\", 'playing']), WordList(['playing', 'Lean']), WordList(['Lean', 'on']), WordList(['on', 'me'])]\n",
            "0.0\n",
            "[WordList(['Just', 'so']), WordList(['so', 'that']), WordList(['that', 'she']), WordList(['she', 'knows']), WordList(['knows', 'that']), WordList(['that', 'she']), WordList(['she', 'can']), WordList(['can', 'lean']), WordList(['lean', 'on']), WordList(['on', 'me'])]\n",
            "0.25\n",
            "[WordList(['And', 'when']), WordList(['when', 'she']), WordList(['she', 'hears']), WordList(['hears', 'the']), WordList(['the', 'words']), WordList(['words', 'I']), WordList(['I', 'know']), WordList(['know', 'exactly']), WordList(['exactly', 'what']), WordList(['what', 'I']), WordList(['I', \"'ll\"]), WordList([\"'ll\", 'say'])]\n",
            "0.0\n",
            "[WordList(['Promise', 'I']), WordList(['I', \"'m\"]), WordList([\"'m\", 'not']), WordList(['not', 'playing']), WordList(['playing', 'tricks']), WordList(['tricks', 'on']), WordList(['on', 'you'])]\n",
            "0.8\n",
            "[WordList(['You', \"'re\"]), WordList([\"'re\", 'always']), WordList(['always', 'welcome']), WordList(['welcome', 'to']), WordList(['to', 'come']), WordList(['come', 'in'])]\n",
            "0.0\n",
            "[WordList(['You', 'could']), WordList(['could', 'stay']), WordList(['stay', 'here']), WordList(['here', 'for']), WordList(['for', 'an']), WordList(['an', 'hour']), WordList(['hour', 'or']), WordList(['or', 'two'])]\n",
            "0.0\n",
            "[WordList(['If', 'you']), WordList(['you', 'ever']), WordList(['ever', 'need']), WordList(['need', 'a']), WordList(['a', 'friend'])]\n",
            "0.2\n",
            "[WordList(['We', 'can']), WordList(['can', 'talk']), WordList(['talk', 'about']), WordList(['about', 'the']), WordList(['the', 'noise']), WordList(['noise', 'when']), WordList(['when', 'you']), WordList(['you', \"'re\"]), WordList([\"'re\", 'ready']), WordList(['ready', 'but']), WordList(['but', 'till']), WordList(['till', 'then'])]\n",
            "0.0\n",
            "[WordList(['I', 'say']), WordList(['say', 'It']), WordList(['It', 'must']), WordList(['must', 'have']), WordList(['have', 'been']), WordList(['been', 'the']), WordList(['the', 'wind']), WordList(['wind', 'must']), WordList(['must', 'have']), WordList(['have', 'been']), WordList(['been', 'the']), WordList(['the', 'wind'])]\n",
            "0.0\n",
            "[WordList(['Must', 'have']), WordList(['have', 'been']), WordList(['been', 'the']), WordList(['the', 'wind']), WordList(['wind', 'it']), WordList(['it', 'must']), WordList(['must', 'have']), WordList(['have', 'been']), WordList(['been', 'the']), WordList(['the', 'wind'])]\n",
            "0.0\n",
            "[WordList(['I', 'say']), WordList(['say', 'It']), WordList(['It', 'must']), WordList(['must', 'have']), WordList(['have', 'been']), WordList(['been', 'the']), WordList(['the', 'wind']), WordList(['wind', 'must']), WordList(['must', 'have']), WordList(['have', 'been']), WordList(['been', 'the']), WordList(['the', 'wind'])]\n",
            "0.0\n",
            "[WordList(['Must', 'have']), WordList(['have', 'been']), WordList(['been', 'the']), WordList(['the', 'wind']), WordList(['wind', 'it']), WordList(['it', 'must']), WordList(['must', 'have']), WordList(['have', 'been']), WordList(['been', 'the']), WordList(['the', 'wind'])]\n"
          ],
          "name": "stdout"
        }
      ]
    },
    {
      "cell_type": "code",
      "metadata": {
        "id": "0c-HQC8swMcA",
        "colab_type": "code",
        "colab": {}
      },
      "source": [
        "w=\"\"\n",
        "f=TextBlob(lyr[5]).ngrams(2)\n",
        "for word in f:\n",
        "  t=\" \".join(word)\n",
        "  w+=\" \"+t\n"
      ],
      "execution_count": null,
      "outputs": []
    },
    {
      "cell_type": "code",
      "metadata": {
        "id": "aWHwNXpu91NG",
        "colab_type": "code",
        "colab": {
          "base_uri": "https://localhost:8080/",
          "height": 34
        },
        "outputId": "2722265d-e141-4e56-bf74-df170400d636"
      },
      "source": [
        "TextBlob(lyr[5]).polarity,TextBlob(w).polarity"
      ],
      "execution_count": null,
      "outputs": [
        {
          "output_type": "execute_result",
          "data": {
            "text/plain": [
              "(-0.15555555555555559, -0.15555555555555559)"
            ]
          },
          "metadata": {
            "tags": []
          },
          "execution_count": 137
        }
      ]
    },
    {
      "cell_type": "markdown",
      "metadata": {
        "id": "hbY8DnR_wPNQ",
        "colab_type": "text"
      },
      "source": [
        "Kinda done with this part. Looks okay for now. Now we got to see if we can get an mp3 version of the song and see if the song sounds sad or happy. "
      ]
    },
    {
      "cell_type": "code",
      "metadata": {
        "id": "RG-EoGZ03HyO",
        "colab_type": "code",
        "colab": {
          "base_uri": "https://localhost:8080/",
          "height": 377
        },
        "outputId": "e4e30cc3-dac8-4bd0-cb67-962568e38815"
      },
      "source": [
        "!pip install watson_developer_cloud"
      ],
      "execution_count": null,
      "outputs": [
        {
          "output_type": "stream",
          "text": [
            "Collecting watson_developer_cloud\n",
            "\u001b[?25l  Downloading https://files.pythonhosted.org/packages/fc/a5/a89fc49bd82eb6ea569e45b43383c28cd51b5076f43010dcc3331c137ff5/watson-developer-cloud-2.10.1.tar.gz (248kB)\n",
            "\u001b[K     |████████████████████████████████| 256kB 3.3MB/s \n",
            "\u001b[?25hRequirement already satisfied: requests<3.0,>=2.0 in /usr/local/lib/python3.6/dist-packages (from watson_developer_cloud) (2.23.0)\n",
            "Requirement already satisfied: python_dateutil>=2.5.3 in /usr/local/lib/python3.6/dist-packages (from watson_developer_cloud) (2.8.1)\n",
            "Collecting websocket-client==0.48.0\n",
            "\u001b[?25l  Downloading https://files.pythonhosted.org/packages/8a/a1/72ef9aa26cfe1a75cee09fc1957e4723add9de098c15719416a1ee89386b/websocket_client-0.48.0-py2.py3-none-any.whl (198kB)\n",
            "\u001b[K     |████████████████████████████████| 204kB 10.2MB/s \n",
            "\u001b[?25hRequirement already satisfied: idna<3,>=2.5 in /usr/local/lib/python3.6/dist-packages (from requests<3.0,>=2.0->watson_developer_cloud) (2.10)\n",
            "Requirement already satisfied: chardet<4,>=3.0.2 in /usr/local/lib/python3.6/dist-packages (from requests<3.0,>=2.0->watson_developer_cloud) (3.0.4)\n",
            "Requirement already satisfied: certifi>=2017.4.17 in /usr/local/lib/python3.6/dist-packages (from requests<3.0,>=2.0->watson_developer_cloud) (2020.6.20)\n",
            "Requirement already satisfied: urllib3!=1.25.0,!=1.25.1,<1.26,>=1.21.1 in /usr/local/lib/python3.6/dist-packages (from requests<3.0,>=2.0->watson_developer_cloud) (1.24.3)\n",
            "Requirement already satisfied: six>=1.5 in /usr/local/lib/python3.6/dist-packages (from python_dateutil>=2.5.3->watson_developer_cloud) (1.15.0)\n",
            "Building wheels for collected packages: watson-developer-cloud\n",
            "  Building wheel for watson-developer-cloud (setup.py) ... \u001b[?25l\u001b[?25hdone\n",
            "  Created wheel for watson-developer-cloud: filename=watson_developer_cloud-2.10.1-cp36-none-any.whl size=252813 sha256=c4dfe273a0f86f0987a365228f7129ab06af588aefeefce2ea8adab237b56a6c\n",
            "  Stored in directory: /root/.cache/pip/wheels/ea/a7/19/fac0a408a586265eb374005308a7553d4494ab41b2fd88f5bc\n",
            "Successfully built watson-developer-cloud\n",
            "Installing collected packages: websocket-client, watson-developer-cloud\n",
            "Successfully installed watson-developer-cloud-2.10.1 websocket-client-0.48.0\n"
          ],
          "name": "stdout"
        }
      ]
    },
    {
      "cell_type": "code",
      "metadata": {
        "id": "kh64lMmK3T8T",
        "colab_type": "code",
        "colab": {
          "base_uri": "https://localhost:8080/",
          "height": 51
        },
        "outputId": "72f548dd-552b-4cc5-96af-990773b89231"
      },
      "source": [
        "from watson_developer_cloud import NaturalLanguageUnderstandingV1\n",
        "from watson_developer_cloud.natural_language_understanding_v1 import Features, EntitiesOptions, KeywordsOptions, SentimentOptions, CategoriesOptions\n",
        "natural_language_understanding = NaturalLanguageUnderstandingV1(                                         \n",
        "    version='2018-11-16',\n",
        "    iam_apikey=\"hzkkbjivKNHfoi3cFlMBOPG6-YHLc-7CAQKwXn8Rt7JT\", # Use your API key here\n",
        "    url=\"https://api.eu-gb.natural-language-understanding.watson.cloud.ibm.com/instances/512aa79c-a8ba-43fa-b9d5-a4382099b06f\" # paste the url here\n",
        "    )\n",
        "def Sentiment_score(input_text): \n",
        "    # Input text can be sentence, paragraph or document\n",
        "    response = natural_language_understanding.analyze (\n",
        "    text = input_text,\n",
        "    features = Features(sentiment=SentimentOptions())).get_result()\n",
        "    # From the response extract score which is between -1 to 1\n",
        "    res = response.get('sentiment').get('document').get('score')\n",
        "    return res"
      ],
      "execution_count": null,
      "outputs": [
        {
          "output_type": "stream",
          "text": [
            "/usr/local/lib/python3.6/dist-packages/ipykernel_launcher.py:6: DeprecationWarning: watson-developer-cloud moved to ibm-watson. To get updates, use the new package.\n",
            "  \n"
          ],
          "name": "stderr"
        }
      ]
    },
    {
      "cell_type": "code",
      "metadata": {
        "id": "h__hoNXV31WM",
        "colab_type": "code",
        "colab": {
          "base_uri": "https://localhost:8080/",
          "height": 34
        },
        "outputId": "0fbb4591-04cd-4a68-f5c7-7aad54135d93"
      },
      "source": [
        "(Sentiment_score(lyrics))*100"
      ],
      "execution_count": null,
      "outputs": [
        {
          "output_type": "execute_result",
          "data": {
            "text/plain": [
              "-56.265299999999996"
            ]
          },
          "metadata": {
            "tags": []
          },
          "execution_count": 81
        }
      ]
    },
    {
      "cell_type": "code",
      "metadata": {
        "id": "EZgccIaPKv2v",
        "colab_type": "code",
        "colab": {
          "base_uri": "https://localhost:8080/",
          "height": 85
        },
        "outputId": "438183c4-a4d6-436d-a50b-5b26cd753da2"
      },
      "source": [
        ""
      ],
      "execution_count": null,
      "outputs": [
        {
          "output_type": "stream",
          "text": [
            "-0.562653\n",
            "0.314487\n",
            "-0.520292\n",
            "-0.521769\n"
          ],
          "name": "stdout"
        }
      ]
    },
    {
      "cell_type": "code",
      "metadata": {
        "id": "QkSvf7tsSs-D",
        "colab_type": "code",
        "colab": {
          "base_uri": "https://localhost:8080/",
          "height": 120
        },
        "outputId": "995e3587-2bac-4c2d-c6ff-2aa61a27c86d"
      },
      "source": [
        "lyrics"
      ],
      "execution_count": null,
      "outputs": [
        {
          "output_type": "execute_result",
          "data": {
            "application/vnd.google.colaboratory.intrinsic+json": {
              "type": "string"
            },
            "text/plain": [
              "\"Until the philosophy, we chose one race superior And another Inferior He's finally And permanently Discredited and abandoned And it's war in the east War in the west War up north War down south And it's war in the east War in the west War up north War down south Everywhere is war It's a war Oh, everywhere is war It's a war And until there's no longer First and second class citizens of any nation It's on And until the color of a man's skin serves no more significance Than the color of his eyes We say war And it's war in the east War in the west War up north War down south And it's war in the east War in the west War up north War down south Everywhere is Oh, everywhere is war It's a war Oh, everywhere is war It's a war Oh, everywhere is war La, la, la, la, la, la, la La, la, la, la, la, la, la (Everywhere is, everywhere is, everywhere is) (Everywhere is, everywhere is, everywhere is) Everywhere is war Everywhere is war\""
            ]
          },
          "metadata": {
            "tags": []
          },
          "execution_count": 49
        }
      ]
    },
    {
      "cell_type": "code",
      "metadata": {
        "id": "3-HhlD-1eQAs",
        "colab_type": "code",
        "colab": {}
      },
      "source": [
        ""
      ],
      "execution_count": null,
      "outputs": []
    },
    {
      "cell_type": "code",
      "metadata": {
        "id": "KNm6mGCmV7zz",
        "colab_type": "code",
        "colab": {}
      },
      "source": [
        ""
      ],
      "execution_count": null,
      "outputs": []
    },
    {
      "cell_type": "code",
      "metadata": {
        "id": "tiXQhI_skva8",
        "colab_type": "code",
        "colab": {
          "base_uri": "https://localhost:8080/",
          "height": 34
        },
        "outputId": "4420babb-8666-47e1-bf99-6fc6eacc9665"
      },
      "source": [
        "lyric_tokens_without_sw == lyrics_without_sw"
      ],
      "execution_count": null,
      "outputs": [
        {
          "output_type": "execute_result",
          "data": {
            "text/plain": [
              "False"
            ]
          },
          "metadata": {
            "tags": []
          },
          "execution_count": 130
        }
      ]
    },
    {
      "cell_type": "code",
      "metadata": {
        "id": "LziJiX25lHCu",
        "colab_type": "code",
        "colab": {
          "base_uri": "https://localhost:8080/",
          "height": 54
        },
        "outputId": "8d290a46-8a06-4391-8a48-1bed79f9647d"
      },
      "source": [
        "print(lyrics_without_sw)"
      ],
      "execution_count": null,
      "outputs": [
        {
          "output_type": "stream",
          "text": [
            "Until philosophy, chose race superior And another Inferior He's finally And permanently Discredited abandoned And east War west War north War south And east War west War north War south Everywhere It's Oh, everywhere It's And there's longer First second class citizens nation It's And color man's skin serves significance Than color eyes We say And east War west War north War south And east War west War north War south Everywhere Oh, everywhere It's Oh, everywhere It's Oh, everywhere La, la, la, la, la, la, La, la, la, la, la, la, (Everywhere is, everywhere is, everywhere is) (Everywhere is, everywhere is, everywhere is) Everywhere Everywhere\n"
          ],
          "name": "stdout"
        }
      ]
    },
    {
      "cell_type": "code",
      "metadata": {
        "id": "FB0Qr6eElM-G",
        "colab_type": "code",
        "colab": {
          "base_uri": "https://localhost:8080/",
          "height": 54
        },
        "outputId": "33065938-0be2-45c2-c99b-2d9c85ea557a"
      },
      "source": [
        "print(lyric_tokens_without_sw)"
      ],
      "execution_count": null,
      "outputs": [
        {
          "output_type": "stream",
          "text": [
            "Until philosophy , chose race superior And another Inferior He 's finally And permanently Discredited abandoned And 's east War west War north War south And 's east War west War north War south Everywhere It 's Oh , everywhere It 's And 's longer First second class citizens nation It 's And color 's skin serves significance Than color eyes We say And 's east War west War north War south And 's east War west War north War south Everywhere Oh , everywhere It 's Oh , everywhere It 's Oh , everywhere La , , , , , , La , , , , , , ( Everywhere , everywhere , everywhere ) ( Everywhere , everywhere , everywhere ) Everywhere Everywhere\n"
          ],
          "name": "stdout"
        }
      ]
    },
    {
      "cell_type": "code",
      "metadata": {
        "id": "BNG89xoTlYU4",
        "colab_type": "code",
        "colab": {}
      },
      "source": [
        ""
      ],
      "execution_count": null,
      "outputs": []
    },
    {
      "cell_type": "code",
      "metadata": {
        "id": "hd5ltbwcpXfw",
        "colab_type": "code",
        "colab": {}
      },
      "source": [
        ""
      ],
      "execution_count": null,
      "outputs": []
    },
    {
      "cell_type": "code",
      "metadata": {
        "id": "Hd1gUy0dpXR9",
        "colab_type": "code",
        "colab": {}
      },
      "source": [
        ""
      ],
      "execution_count": null,
      "outputs": []
    },
    {
      "cell_type": "code",
      "metadata": {
        "id": "9OsgBcDIpdyN",
        "colab_type": "code",
        "colab": {
          "base_uri": "https://localhost:8080/",
          "height": 34
        },
        "outputId": "d8fff1a7-1456-4504-efb3-ec8852897236"
      },
      "source": [
        "if \"you're\" in contractions"
      ],
      "execution_count": null,
      "outputs": [
        {
          "output_type": "execute_result",
          "data": {
            "text/plain": [
              "True"
            ]
          },
          "metadata": {
            "tags": []
          },
          "execution_count": 143
        }
      ]
    },
    {
      "cell_type": "code",
      "metadata": {
        "id": "yeQDlKcPpiDZ",
        "colab_type": "code",
        "colab": {
          "base_uri": "https://localhost:8080/",
          "height": 120
        },
        "outputId": "fba8d71e-31f3-4b02-b582-f4ca6262284e"
      },
      "source": [
        ""
      ],
      "execution_count": null,
      "outputs": [
        {
          "output_type": "execute_result",
          "data": {
            "application/vnd.google.colaboratory.intrinsic+json": {
              "type": "string"
            },
            "text/plain": [
              "\"until the philosophy, we chose one race superior and another inferior he has / he is finally and permanently discredited and abandoned and it has / it is war in the east war in the west war up north war down south and it has / it is war in the east war in the west war up north war down south everywhere is war it has / it is a war oh, everywhere is war it has / it is a war and until there has / there is no longer first and second class citizens of any nation it has / it is on and until the color of a man's skin serves no more significance than the color of his eyes we say war and it has / it is war in the east war in the west war up north war down south and it has / it is war in the east war in the west war up north war down south everywhere is oh, everywhere is war it has / it is a war oh, everywhere is war it has / it is a war oh, everywhere is war la, la, la, la, la, la, la la, la, la, la, la, la, la (everywhere is, everywhere is, everywhere is) (everywhere is, everywhere is, everywhere is) everywhere is war everywhere is war\""
            ]
          },
          "metadata": {
            "tags": []
          },
          "execution_count": 162
        }
      ]
    },
    {
      "cell_type": "code",
      "metadata": {
        "id": "K5rkfQBpqFd2",
        "colab_type": "code",
        "colab": {
          "base_uri": "https://localhost:8080/",
          "height": 35
        },
        "outputId": "f8556ede-b7e8-4c24-af01-a420d16757ab"
      },
      "source": [
        "contractions[\"he's\"]"
      ],
      "execution_count": null,
      "outputs": [
        {
          "output_type": "execute_result",
          "data": {
            "application/vnd.google.colaboratory.intrinsic+json": {
              "type": "string"
            },
            "text/plain": [
              "'he has / he is'"
            ]
          },
          "metadata": {
            "tags": []
          },
          "execution_count": 149
        }
      ]
    },
    {
      "cell_type": "code",
      "metadata": {
        "id": "UcRwopn6rII7",
        "colab_type": "code",
        "colab": {
          "base_uri": "https://localhost:8080/",
          "height": 34
        },
        "outputId": "11a85a25-c347-44bb-b5e0-f298ecdc8aa6"
      },
      "source": [
        "\"he's\" in contractions"
      ],
      "execution_count": null,
      "outputs": [
        {
          "output_type": "execute_result",
          "data": {
            "text/plain": [
              "True"
            ]
          },
          "metadata": {
            "tags": []
          },
          "execution_count": 150
        }
      ]
    },
    {
      "cell_type": "code",
      "metadata": {
        "id": "xQAQPaBBrQfp",
        "colab_type": "code",
        "colab": {
          "base_uri": "https://localhost:8080/",
          "height": 34
        },
        "outputId": "6060ee43-6cbb-4de6-cd11-fd9806716123"
      },
      "source": [
        "\" \".join(filter(swfilter,lyrics.split())) == \" \".join(lyrics_as_array_without_sw)"
      ],
      "execution_count": null,
      "outputs": [
        {
          "output_type": "execute_result",
          "data": {
            "text/plain": [
              "True"
            ]
          },
          "metadata": {
            "tags": []
          },
          "execution_count": 13
        }
      ]
    },
    {
      "cell_type": "code",
      "metadata": {
        "id": "jHvp8TtlIWLi",
        "colab_type": "code",
        "colab": {}
      },
      "source": [
        ""
      ],
      "execution_count": null,
      "outputs": []
    }
  ]
}
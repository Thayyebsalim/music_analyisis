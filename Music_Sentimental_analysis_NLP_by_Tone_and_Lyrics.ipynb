{
  "nbformat": 4,
  "nbformat_minor": 0,
  "metadata": {
    "colab": {
      "name": "Music Sentimental analysis NLP by Tone and Lyrics",
      "provenance": [],
      "collapsed_sections": [],
      "toc_visible": true,
      "authorship_tag": "ABX9TyOLVBot9LWWuoG/FqOqdvdt",
      "include_colab_link": true
    },
    "kernelspec": {
      "name": "python3",
      "display_name": "Python 3"
    }
  },
  "cells": [
    {
      "cell_type": "markdown",
      "metadata": {
        "id": "view-in-github",
        "colab_type": "text"
      },
      "source": [
        "<a href=\"https://colab.research.google.com/github/Thayyebsalim/music_analyisis/blob/master/Music_Sentimental_analysis_NLP_by_Tone_and_Lyrics.ipynb\" target=\"_parent\"><img src=\"https://colab.research.google.com/assets/colab-badge.svg\" alt=\"Open In Colab\"/></a>"
      ]
    },
    {
      "cell_type": "markdown",
      "metadata": {
        "id": "AkAoDSqOzD2u",
        "colab_type": "text"
      },
      "source": [
        "# Intro\n",
        "\n",
        "The idea of this code is to find the mood of the song in any way possible helping us to segregate songs better.\n",
        "\n",
        "1.   First part is gonna be scraping the lyrics from any website or API \n",
        "2.   Finding the vibe of the song with sentimental analysis\n",
        "3.   Fetch and mp3 version and check the mood with transfer learning hopefully or something similar\n",
        "\n"
      ]
    },
    {
      "cell_type": "code",
      "metadata": {
        "id": "obWgGCfq6ALb",
        "colab_type": "code",
        "colab": {
          "base_uri": "https://localhost:8080/",
          "height": 425
        },
        "outputId": "9c41e5e7-c63a-4719-f9fc-531e2e74f0fd"
      },
      "source": [
        "!apt-get update\n",
        "!apt install chromium-chromedriver\n",
        "!cp /usr/lib/chromium-browser/chromedriver /usr/bin\n",
        "!pip install selenium"
      ],
      "execution_count": 106,
      "outputs": [
        {
          "output_type": "stream",
          "text": [
            "\r0% [Working]\r            \rIgn:1 https://developer.download.nvidia.com/compute/cuda/repos/ubuntu1804/x86_64  InRelease\n",
            "\r0% [Waiting for headers] [Waiting for headers] [Waiting for headers] [Waiting f\r                                                                               \rHit:2 https://cloud.r-project.org/bin/linux/ubuntu bionic-cran35/ InRelease\n",
            "\r0% [Waiting for headers] [Waiting for headers] [Waiting for headers] [Waiting f\r0% [2 InRelease gpgv 3,626 B] [Waiting for headers] [Waiting for headers] [Wait\r                                                                               \rIgn:3 https://developer.download.nvidia.com/compute/machine-learning/repos/ubuntu1804/x86_64  InRelease\n",
            "\r0% [2 InRelease gpgv 3,626 B] [Waiting for headers] [Waiting for headers] [Wait\r                                                                               \rGet:4 http://security.ubuntu.com/ubuntu bionic-security InRelease [88.7 kB]\n",
            "\r                                                                               \rHit:5 http://ppa.launchpad.net/graphics-drivers/ppa/ubuntu bionic InRelease\n",
            "\r0% [2 InRelease gpgv 3,626 B] [Waiting for headers] [4 InRelease 14.2 kB/88.7 k\r                                                                               \rHit:6 http://archive.ubuntu.com/ubuntu bionic InRelease\n",
            "\r0% [2 InRelease gpgv 3,626 B] [Waiting for headers] [4 InRelease 14.2 kB/88.7 k\r                                                                               \rHit:7 https://developer.download.nvidia.com/compute/cuda/repos/ubuntu1804/x86_64  Release\n",
            "\r0% [2 InRelease gpgv 3,626 B] [Waiting for headers] [4 InRelease 14.2 kB/88.7 k\r                                                                               \rHit:8 https://developer.download.nvidia.com/compute/machine-learning/repos/ubuntu1804/x86_64  Release\n",
            "\r0% [2 InRelease gpgv 3,626 B] [Waiting for headers] [4 InRelease 14.2 kB/88.7 k\r                                                                               \rGet:9 http://archive.ubuntu.com/ubuntu bionic-updates InRelease [88.7 kB]\n",
            "\r0% [2 InRelease gpgv 3,626 B] [9 InRelease 14.2 kB/88.7 kB 16%] [4 InRelease 20\r0% [9 InRelease 15.6 kB/88.7 kB 18%] [4 InRelease 43.1 kB/88.7 kB 49%] [Waiting\r0% [5 InRelease gpgv 21.3 kB] [9 InRelease 15.6 kB/88.7 kB 18%] [4 InRelease 43\r                                                                               \rHit:10 http://ppa.launchpad.net/marutter/c2d4u3.5/ubuntu bionic InRelease\n",
            "\r0% [5 InRelease gpgv 21.3 kB] [9 InRelease 15.6 kB/88.7 kB 18%] [4 InRelease 46\r                                                                               \r0% [5 InRelease gpgv 21.3 kB] [9 InRelease 47.5 kB/88.7 kB 54%]\r                                                               \r0% [9 InRelease 70.7 kB/88.7 kB 80%]\r0% [6 InRelease gpgv 242 kB] [9 InRelease 70.7 kB/88.7 kB 80%]\r                                                              \r0% [6 InRelease gpgv 242 kB] [Waiting for headers]\r                                                  \rGet:11 http://archive.ubuntu.com/ubuntu bionic-backports InRelease [74.6 kB]\n",
            "Fetched 252 kB in 2s (150 kB/s)\n",
            "Reading package lists... Done\n",
            "Reading package lists... Done\n",
            "Building dependency tree       \n",
            "Reading state information... Done\n",
            "chromium-chromedriver is already the newest version (84.0.4147.105-0ubuntu0.18.04.1).\n",
            "The following package was automatically installed and is no longer required:\n",
            "  libnvidia-common-440\n",
            "Use 'apt autoremove' to remove it.\n",
            "0 upgraded, 0 newly installed, 0 to remove and 60 not upgraded.\n",
            "cp: '/usr/lib/chromium-browser/chromedriver' and '/usr/bin/chromedriver' are the same file\n",
            "Requirement already satisfied: selenium in /usr/local/lib/python3.6/dist-packages (3.141.0)\n",
            "Requirement already satisfied: urllib3 in /usr/local/lib/python3.6/dist-packages (from selenium) (1.24.3)\n"
          ],
          "name": "stdout"
        }
      ]
    },
    {
      "cell_type": "code",
      "metadata": {
        "id": "4PBJk7r18r6s",
        "colab_type": "code",
        "colab": {
          "base_uri": "https://localhost:8080/",
          "height": 204
        },
        "outputId": "e9caeeb1-2a23-49cd-8c25-e020aff92f2c"
      },
      "source": [
        "from selenium import webdriver\n",
        "from selenium.webdriver.common.keys import Keys\n",
        "from selenium.webdriver.chrome.options import Options\n",
        "import re\n",
        "import time\n",
        "import string\n",
        "from textblob import TextBlob\n",
        "import nltk\n",
        "from nltk.corpus import stopwords\n",
        "from nltk.tokenize import word_tokenize\n",
        "from nltk.stem import WordNetLemmatizer\n",
        "nltk.download(\"vader_lexicon\")\n",
        "nltk.download(\"brown\")\n",
        "nltk.download('stopwords')\n",
        "nltk.download(\"wordnet\")\n",
        "nltk.download(\"punkt\")"
      ],
      "execution_count": 107,
      "outputs": [
        {
          "output_type": "stream",
          "text": [
            "[nltk_data] Downloading package vader_lexicon to /root/nltk_data...\n",
            "[nltk_data]   Package vader_lexicon is already up-to-date!\n",
            "[nltk_data] Downloading package brown to /root/nltk_data...\n",
            "[nltk_data]   Package brown is already up-to-date!\n",
            "[nltk_data] Downloading package stopwords to /root/nltk_data...\n",
            "[nltk_data]   Package stopwords is already up-to-date!\n",
            "[nltk_data] Downloading package wordnet to /root/nltk_data...\n",
            "[nltk_data]   Package wordnet is already up-to-date!\n",
            "[nltk_data] Downloading package punkt to /root/nltk_data...\n",
            "[nltk_data]   Package punkt is already up-to-date!\n"
          ],
          "name": "stdout"
        },
        {
          "output_type": "execute_result",
          "data": {
            "text/plain": [
              "True"
            ]
          },
          "metadata": {
            "tags": []
          },
          "execution_count": 107
        }
      ]
    },
    {
      "cell_type": "markdown",
      "metadata": {
        "id": "yk92NQA_xnRY",
        "colab_type": "text"
      },
      "source": [
        "We need to scrape the song lyrics from websites or API to use here\n",
        "\n",
        "I am using selenium here and the speed is not the best at the moment so I might switch to scrapy or use an API"
      ]
    },
    {
      "cell_type": "code",
      "metadata": {
        "id": "XkOMR1z_4gAT",
        "colab_type": "code",
        "colab": {}
      },
      "source": [
        "chrome_options = Options()\n",
        "chrome_options.add_argument('--headless')\n",
        "chrome_options.add_argument('--no-sandbox')\n",
        "chrome_options.add_argument('--disable-dev-shm-usage')\n",
        "\n",
        "\n",
        "def get_track(): # Gets track name from user and converts it so that we can use it in a link\n",
        "  track_name = input(\"Enter a track name: \")\n",
        "  track_name_link = track_name.rstrip().replace(\" \",\"%20\").lower()\n",
        "  return track_name_link\n",
        "\n",
        "\n",
        "def scrape_tracklist(track_link): # Scrapes the page for list of tracks with similar names or such \n",
        "  driver = webdriver.Chrome(chrome_options=chrome_options)\n",
        "  driver.get(\"https://www.musixmatch.com/search/\" + track_link + \"/tracks\")\n",
        "  element = driver.find_element_by_class_name(\"box-content\")\n",
        "  link_list = [i.get_attribute('href') for i in element.find_elements_by_tag_name('a')]\n",
        "  driver.close()\n",
        "  lyric_links=[i for i in link_list if re.search(\"/lyrics/\",i)] #could do it in one line but for the sake of clarity, I'm gonna do two\n",
        "  lyric_links=[i for i in lyric_links if not re.search(\"/add\",i)]\n",
        "  return lyric_links\n",
        "\n",
        "\n",
        "def scrape_lyrics(lyric_links_list,choice): # Scrapes the lyrics element\n",
        "  driver = webdriver.Chrome(chrome_options=chrome_options)\n",
        "  driver.get(lyric_links_list[choice])\n",
        "  lyric_elem=driver.find_elements_by_class_name('mxm-lyrics__content')\n",
        "  lyric_elem= [i.find_element_by_tag_name('span') for i in lyric_elem] \n",
        "  lyric_elem= [i.get_attribute('innerHTML') for i in lyric_elem]\n",
        "  driver.close()\n",
        "  return lyric_elem\n",
        "\n",
        "\n",
        "def select_track(artist_track_list): # Lets the user select a track\n",
        "  sel=0\n",
        "  for track in artist_track_list:\n",
        "    print(f\"{track[0]+1} {track[1]} - {track[2]}\")\n",
        "  sel=int(input('Enter the number of your desired track: '))-1\n",
        "  return sel\n",
        "\n",
        "\n",
        "def get_lyric_element(tracklist,choice=0): # Cleans up the lyric element and returns a cleaned list(array) with just lyrics inside\n",
        "  lyric_links_list = scrape_tracklist(track_link)\n",
        "  artist_track_list = [[lyric_links_list.index(x), x.split(\"/\")[4],x.split('/')[5]] for x in lyric_links_list]\n",
        "  print(artist_track_list)\n",
        "  if len(artist_track_list) > 1 and choice != \"default\":\n",
        "    choice = select_track(artist_track_list)\n",
        "  elif len(artist_track_list) == 0 :\n",
        "    return \"Sorry! no such song\"\n",
        "  else:\n",
        "    choice=0\n",
        "  lyric_element = scrape_lyrics(lyric_links_list,choice)\n",
        "  return \" \".join(lyric_element)\n",
        "\n"
      ],
      "execution_count": 108,
      "outputs": []
    },
    {
      "cell_type": "code",
      "metadata": {
        "id": "o17rodiA74ZK",
        "colab_type": "code",
        "colab": {}
      },
      "source": [
        "track_name= \"have been the wind alec\"\n",
        "track_link=track_name.rstrip().replace(\" \",\"%20\").lower()\n",
        "#track_link=get_track() #uncomment to activate function"
      ],
      "execution_count": 109,
      "outputs": []
    },
    {
      "cell_type": "code",
      "metadata": {
        "id": "KTVwTxTAUAET",
        "colab_type": "code",
        "colab": {
          "base_uri": "https://localhost:8080/",
          "height": 208
        },
        "outputId": "69303f1b-9383-4e9c-fdea-0a3df80261cf"
      },
      "source": [
        "lyric_element = get_lyric_element(track_link,\"default\")\n",
        "lyric_element"
      ],
      "execution_count": 110,
      "outputs": [
        {
          "output_type": "stream",
          "text": [
            "/usr/local/lib/python3.6/dist-packages/ipykernel_launcher.py:14: DeprecationWarning: use options instead of chrome_options\n",
            "  \n"
          ],
          "name": "stderr"
        },
        {
          "output_type": "stream",
          "text": [
            "[[0, 'Alec-Benjamin', 'Must-Have-Been-the-Wind-2'], [1, 'Alec-Benjamin', 'Must-Have-Been-the-Wind-1'], [2, 'Arcade-Player', 'Must-Have-Been-the-Wind-16-Bit-Alec-Benjamin-Emulation'], [1, 'Alec-Benjamin', 'Must-Have-Been-the-Wind-1'], [4, '8-Bit-Arcade', 'Must-Have-Been-the-Wind-8-Bit-Alec-Benjamin-Emulation']]\n"
          ],
          "name": "stdout"
        },
        {
          "output_type": "stream",
          "text": [
            "/usr/local/lib/python3.6/dist-packages/ipykernel_launcher.py:25: DeprecationWarning: use options instead of chrome_options\n"
          ],
          "name": "stderr"
        },
        {
          "output_type": "execute_result",
          "data": {
            "application/vnd.google.colaboratory.intrinsic+json": {
              "type": "string"
            },
            "text/plain": [
              "'I heard glass shatter on the wall in the apartment above mine\\nAt first I thought that I was dreamin\\'\\nBut then I heard the voice of a girl And it sounded like she\\'d been cryin\\'\\nNow I\\'m too worried to be sleepin\\'\\n\\nSo I took the elevator to the second floor\\nWalked down the hall and then I knocked upon her door\\nShe opened up and I asked about the things I\\'ve been hearing\\n\\nShe said, \"I think your ears are playing tricks on you\"\\nSweater zipped up to her chin\\n\"Thanks for caring, sir, that\\'s nice of you\\nBut I have to go back in\\nWish I could tell you about the noise\\nBut I didn\\'t hear a thing\"\\nShe said, \"It must have been the wind, must have been the wind\\nMust have been the wind, it must have been the wind\"\\nShe said, \"It must have been the wind, must have been the wind\\nMust have been the wind, it must have been the wind\"\\n\\nSo I was layin\\' on the floor of my room\\nCold concrete on my back\\nNo, I just couldn\\'t shake the feeling\\nI didn\\'t want to intrude because I knew that I didn\\'t have all the facts\\nBut I couldn\\'t bear the thought of leavin\\' her\\n\\nSo I took the elevator to the second floor\\nWalked down the hall and then I knocked upon her door\\nShe opened up and I asked about the things I\\'ve been hearing\\n\\nShe said, \"I think your ears are playing tricks on you\"\\nSweater zipped up to her chin\\n\"Thanks for caring, sir, that\\'s nice of you\\nBut I have to go back in\\nWish I could tell you about the noise\\nBut I didn\\'t hear a thing\"\\n\\nShe said, \"It must have been the wind, must have been the wind\\nMust have been the wind, it must have been the wind\"\\nShe said, \"It must have been the wind, must have been the wind\\nMust have been the wind, it must have been the wind\"\\n\\nAim my boom box at the roof, I\\'m playing, \"Lean on me\"\\nJust so that she knows that she can lean on me\\nAnd when she hears the words, I hope she knows she\\'ll be okay\\nAim my boom box at the roof, I\\'m playing, \"Lean on me\"\\nJust so that she knows that she can lean on me\\nAnd when she hears the words, I know exactly what I\\'ll say\\n\\n\"Promise I\\'m not playing tricks on you\\nYou\\'re always welcome to come in\\nYou could stay here for an hour or two\\nIf you ever need a friend\"\\n\\n\"We can talk about the noise, when you\\'re ready, but till then\"\\nI say, \"It must have been the wind, must have been the wind\\nMust have been the wind, it must have been the wind\"\\nI say, \"It must have been the wind, must have been the wind\\nMust have been the wind, it must have been the wind'"
            ]
          },
          "metadata": {
            "tags": []
          },
          "execution_count": 110
        }
      ]
    },
    {
      "cell_type": "markdown",
      "metadata": {
        "id": "Az7OLBSnNByw",
        "colab_type": "text"
      },
      "source": [
        "The first part is done, web scraper should work fine. I did not implement error cases for now becuase I want to focus on the next two parts of the project\n"
      ]
    },
    {
      "cell_type": "code",
      "metadata": {
        "id": "TYQlJjY2Qg1v",
        "colab_type": "code",
        "colab": {}
      },
      "source": [
        "def filter_raw_lyrics(raw_lyr): #The scraped element has blanks and \\n's lets filter those \n",
        "  return [i for i in raw_lyr.split(\"\\n\") if i != '']\n",
        "\n",
        "#joiner\n",
        "def convert_arr_to_str(arr):\n",
        "  return \" \".join(arr)"
      ],
      "execution_count": 111,
      "outputs": []
    },
    {
      "cell_type": "code",
      "metadata": {
        "id": "LQue7oEkLt6c",
        "colab_type": "code",
        "colab": {
          "base_uri": "https://localhost:8080/",
          "height": 904
        },
        "outputId": "5e55bd7b-1d06-4f65-869c-4cda807aab52"
      },
      "source": [
        "lyrics_as_array= filter_raw_lyrics(lyric_element)\n",
        "lyrics=convert_arr_to_str(lyrics_as_array) #returns a single string as lyrics\n",
        "lyrics,lyrics_as_array"
      ],
      "execution_count": 112,
      "outputs": [
        {
          "output_type": "execute_result",
          "data": {
            "text/plain": [
              "('I heard glass shatter on the wall in the apartment above mine At first I thought that I was dreamin\\' But then I heard the voice of a girl And it sounded like she\\'d been cryin\\' Now I\\'m too worried to be sleepin\\' So I took the elevator to the second floor Walked down the hall and then I knocked upon her door She opened up and I asked about the things I\\'ve been hearing She said, \"I think your ears are playing tricks on you\" Sweater zipped up to her chin \"Thanks for caring, sir, that\\'s nice of you But I have to go back in Wish I could tell you about the noise But I didn\\'t hear a thing\" She said, \"It must have been the wind, must have been the wind Must have been the wind, it must have been the wind\" She said, \"It must have been the wind, must have been the wind Must have been the wind, it must have been the wind\" So I was layin\\' on the floor of my room Cold concrete on my back No, I just couldn\\'t shake the feeling I didn\\'t want to intrude because I knew that I didn\\'t have all the facts But I couldn\\'t bear the thought of leavin\\' her So I took the elevator to the second floor Walked down the hall and then I knocked upon her door She opened up and I asked about the things I\\'ve been hearing She said, \"I think your ears are playing tricks on you\" Sweater zipped up to her chin \"Thanks for caring, sir, that\\'s nice of you But I have to go back in Wish I could tell you about the noise But I didn\\'t hear a thing\" She said, \"It must have been the wind, must have been the wind Must have been the wind, it must have been the wind\" She said, \"It must have been the wind, must have been the wind Must have been the wind, it must have been the wind\" Aim my boom box at the roof, I\\'m playing, \"Lean on me\" Just so that she knows that she can lean on me And when she hears the words, I hope she knows she\\'ll be okay Aim my boom box at the roof, I\\'m playing, \"Lean on me\" Just so that she knows that she can lean on me And when she hears the words, I know exactly what I\\'ll say \"Promise I\\'m not playing tricks on you You\\'re always welcome to come in You could stay here for an hour or two If you ever need a friend\" \"We can talk about the noise, when you\\'re ready, but till then\" I say, \"It must have been the wind, must have been the wind Must have been the wind, it must have been the wind\" I say, \"It must have been the wind, must have been the wind Must have been the wind, it must have been the wind',\n",
              " ['I heard glass shatter on the wall in the apartment above mine',\n",
              "  \"At first I thought that I was dreamin'\",\n",
              "  \"But then I heard the voice of a girl And it sounded like she'd been cryin'\",\n",
              "  \"Now I'm too worried to be sleepin'\",\n",
              "  'So I took the elevator to the second floor',\n",
              "  'Walked down the hall and then I knocked upon her door',\n",
              "  \"She opened up and I asked about the things I've been hearing\",\n",
              "  'She said, \"I think your ears are playing tricks on you\"',\n",
              "  'Sweater zipped up to her chin',\n",
              "  '\"Thanks for caring, sir, that\\'s nice of you',\n",
              "  'But I have to go back in',\n",
              "  'Wish I could tell you about the noise',\n",
              "  'But I didn\\'t hear a thing\"',\n",
              "  'She said, \"It must have been the wind, must have been the wind',\n",
              "  'Must have been the wind, it must have been the wind\"',\n",
              "  'She said, \"It must have been the wind, must have been the wind',\n",
              "  'Must have been the wind, it must have been the wind\"',\n",
              "  \"So I was layin' on the floor of my room\",\n",
              "  'Cold concrete on my back',\n",
              "  \"No, I just couldn't shake the feeling\",\n",
              "  \"I didn't want to intrude because I knew that I didn't have all the facts\",\n",
              "  \"But I couldn't bear the thought of leavin' her\",\n",
              "  'So I took the elevator to the second floor',\n",
              "  'Walked down the hall and then I knocked upon her door',\n",
              "  \"She opened up and I asked about the things I've been hearing\",\n",
              "  'She said, \"I think your ears are playing tricks on you\"',\n",
              "  'Sweater zipped up to her chin',\n",
              "  '\"Thanks for caring, sir, that\\'s nice of you',\n",
              "  'But I have to go back in',\n",
              "  'Wish I could tell you about the noise',\n",
              "  'But I didn\\'t hear a thing\"',\n",
              "  'She said, \"It must have been the wind, must have been the wind',\n",
              "  'Must have been the wind, it must have been the wind\"',\n",
              "  'She said, \"It must have been the wind, must have been the wind',\n",
              "  'Must have been the wind, it must have been the wind\"',\n",
              "  'Aim my boom box at the roof, I\\'m playing, \"Lean on me\"',\n",
              "  'Just so that she knows that she can lean on me',\n",
              "  \"And when she hears the words, I hope she knows she'll be okay\",\n",
              "  'Aim my boom box at the roof, I\\'m playing, \"Lean on me\"',\n",
              "  'Just so that she knows that she can lean on me',\n",
              "  \"And when she hears the words, I know exactly what I'll say\",\n",
              "  '\"Promise I\\'m not playing tricks on you',\n",
              "  \"You're always welcome to come in\",\n",
              "  'You could stay here for an hour or two',\n",
              "  'If you ever need a friend\"',\n",
              "  '\"We can talk about the noise, when you\\'re ready, but till then\"',\n",
              "  'I say, \"It must have been the wind, must have been the wind',\n",
              "  'Must have been the wind, it must have been the wind\"',\n",
              "  'I say, \"It must have been the wind, must have been the wind',\n",
              "  'Must have been the wind, it must have been the wind'])"
            ]
          },
          "metadata": {
            "tags": []
          },
          "execution_count": 112
        }
      ]
    },
    {
      "cell_type": "markdown",
      "metadata": {
        "id": "6VP9nsugYZIS",
        "colab_type": "text"
      },
      "source": [
        "Well lets have some fun with the lyrics"
      ]
    },
    {
      "cell_type": "code",
      "metadata": {
        "id": "WQ9YEM_1kDvf",
        "colab_type": "code",
        "colab": {}
      },
      "source": [
        "def swfilter(word): #function we use in filter()\n",
        "  return word not in stopwords.words()\n",
        "\n",
        "def remove_stopword(lyr_arr):\n",
        "  return [\" \".join(filter(swfilter,sentence.split())) for sentence in lyrics_as_array]"
      ],
      "execution_count": 113,
      "outputs": []
    },
    {
      "cell_type": "code",
      "metadata": {
        "id": "HRDkBDQ3M43H",
        "colab_type": "code",
        "colab": {}
      },
      "source": [
        "contractions = { \n",
        "\"ain't\": \"am not / are not / is not / has not / have not\",\n",
        "\"aren't\": \"are not / am not\",\n",
        "\"can't\": \"cannot\",\n",
        "\"can't've\": \"cannot have\",\n",
        "\"'cause\": \"because\",\n",
        "\"could've\": \"could have\",\n",
        "\"couldn't\": \"could not\",\n",
        "\"couldn't've\": \"could not have\",\n",
        "\"didn't\": \"did not\",\n",
        "\"doesn't\": \"does not\",\n",
        "\"don't\": \"do not\",\n",
        "\"hadn't\": \"had not\",\n",
        "\"hadn't've\": \"had not have\",\n",
        "\"hasn't\": \"has not\",\n",
        "\"haven't\": \"have not\",\n",
        "\"he'd\": \"he had / he would\",\n",
        "\"he'd've\": \"he would have\",\n",
        "\"he'll\": \"he shall / he will\",\n",
        "\"he'll've\": \"he shall have / he will have\",\n",
        "\"he's\": \"he has / he is\",\n",
        "\"how'd\": \"how did\",\n",
        "\"how'd'y\": \"how do you\",\n",
        "\"how'll\": \"how will\",\n",
        "\"how's\": \"how has / how is / how does\",\n",
        "\"I'd\": \"I had / I would\",\n",
        "\"I'd've\": \"I would have\",\n",
        "\"I'll\": \"I shall / I will\",\n",
        "\"I'll've\": \"I shall have / I will have\",\n",
        "\"I'm\": \"I am\",\n",
        "\"I've\": \"I have\",\n",
        "\"isn't\": \"is not\",\n",
        "\"it'd\": \"it had / it would\",\n",
        "\"it'd've\": \"it would have\",\n",
        "\"it'll\": \"it shall / it will\",\n",
        "\"it'll've\": \"it shall have / it will have\",\n",
        "\"it's\": \"it has / it is\",\n",
        "\"let's\": \"let us\",\n",
        "\"ma'am\": \"madam\",\n",
        "\"mayn't\": \"may not\",\n",
        "\"might've\": \"might have\",\n",
        "\"mightn't\": \"might not\",\n",
        "\"mightn't've\": \"might not have\",\n",
        "\"must've\": \"must have\",\n",
        "\"mustn't\": \"must not\",\n",
        "\"mustn't've\": \"must not have\",\n",
        "\"needn't\": \"need not\",\n",
        "\"needn't've\": \"need not have\",\n",
        "\"o'clock\": \"of the clock\",\n",
        "\"oughtn't\": \"ought not\",\n",
        "\"oughtn't've\": \"ought not have\",\n",
        "\"shan't\": \"shall not\",\n",
        "\"sha'n't\": \"shall not\",\n",
        "\"shan't've\": \"shall not have\",\n",
        "\"she'd\": \"she had / she would\",\n",
        "\"she'd've\": \"she would have\",\n",
        "\"she'll\": \"she shall / she will\",\n",
        "\"she'll've\": \"she shall have / she will have\",\n",
        "\"she's\": \"she has / she is\",\n",
        "\"should've\": \"should have\",\n",
        "\"shouldn't\": \"should not\",\n",
        "\"shouldn't've\": \"should not have\",\n",
        "\"so've\": \"so have\",\n",
        "\"so's\": \"so as / so is\",\n",
        "\"that'd\": \"that would / that had\",\n",
        "\"that'd've\": \"that would have\",\n",
        "\"that's\": \"that has / that is\",\n",
        "\"there'd\": \"there had / there would\",\n",
        "\"there'd've\": \"there would have\",\n",
        "\"there's\": \"there has / there is\",\n",
        "\"they'd\": \"they had / they would\",\n",
        "\"they'd've\": \"they would have\",\n",
        "\"they'll\": \"they shall / they will\",\n",
        "\"they'll've\": \"they shall have / they will have\",\n",
        "\"they're\": \"they are\",\n",
        "\"they've\": \"they have\",\n",
        "\"to've\": \"to have\",\n",
        "\"wasn't\": \"was not\",\n",
        "\"we'd\": \"we had / we would\",\n",
        "\"we'd've\": \"we would have\",\n",
        "\"we'll\": \"we will\",\n",
        "\"we'll've\": \"we will have\",\n",
        "\"we're\": \"we are\",\n",
        "\"we've\": \"we have\",\n",
        "\"weren't\": \"were not\",\n",
        "\"what'll\": \"what shall / what will\",\n",
        "\"what'll've\": \"what shall have / what will have\",\n",
        "\"what're\": \"what are\",\n",
        "\"what's\": \"what has / what is\",\n",
        "\"what've\": \"what have\",\n",
        "\"when's\": \"when has / when is\",\n",
        "\"when've\": \"when have\",\n",
        "\"where'd\": \"where did\",\n",
        "\"where's\": \"where has / where is\",\n",
        "\"where've\": \"where have\",\n",
        "\"who'll\": \"who shall / who will\",\n",
        "\"who'll've\": \"who shall have / who will have\",\n",
        "\"who's\": \"who has / who is\",\n",
        "\"who've\": \"who have\",\n",
        "\"why's\": \"why has / why is\",\n",
        "\"why've\": \"why have\",\n",
        "\"will've\": \"will have\",\n",
        "\"won't\": \"will not\",\n",
        "\"won't've\": \"will not have\",\n",
        "\"would've\": \"would have\",\n",
        "\"wouldn't\": \"would not\",\n",
        "\"wouldn't've\": \"would not have\",\n",
        "\"y'all\": \"you all\",\n",
        "\"y'all'd\": \"you all would\",\n",
        "\"y'all'd've\": \"you all would have\",\n",
        "\"y'all're\": \"you all are\",\n",
        "\"y'all've\": \"you all have\",\n",
        "\"you'd\": \"you had / you would\",\n",
        "\"you'd've\": \"you would have\",\n",
        "\"you'll\": \"you shall / you will\",\n",
        "\"you'll've\": \"you shall have / you will have\",\n",
        "\"you're\": \"you are\",\n",
        "\"you've\": \"you have\"\n",
        "}\n",
        "\n",
        "def map_contraction(word): #function we use in map()\n",
        "  word=word.lower()\n",
        "  if word in contractions:\n",
        "    return contractions[word]\n",
        "  else: \n",
        "    return word\n",
        "\n",
        "def remove_contraction(lyr_arr):\n",
        "  return [\" \".join(map(map_contraction, sentence.split())) for sentence in lyr_arr]"
      ],
      "execution_count": 114,
      "outputs": []
    },
    {
      "cell_type": "code",
      "metadata": {
        "id": "08m1khdPO7HI",
        "colab_type": "code",
        "colab": {}
      },
      "source": [
        "wordnet_lemmatizer = WordNetLemmatizer()\n",
        "\n",
        "def map_lemmatize(word):\n",
        "  return wordnet_lemmatizer.lemmatize(word, pos=\"v\")\n",
        "\n",
        "def lemmatize_words(lyr_arr):\n",
        "  return [\" \".join(map(map_lemmatize, sentence.split())) for sentence in lyr_arr]"
      ],
      "execution_count": 115,
      "outputs": []
    },
    {
      "cell_type": "code",
      "metadata": {
        "id": "FLhCSifKh7Du",
        "colab_type": "code",
        "colab": {
          "base_uri": "https://localhost:8080/",
          "height": 904
        },
        "outputId": "79f8f41b-4a68-4207-ecf0-cc9955f8b935"
      },
      "source": [
        "lyrics_as_array_without_sw = remove_stopword(lyrics_as_array)\n",
        "lyrics_without_sw = convert_arr_to_str(lyrics_as_array_without_sw)\n",
        "lyrics_as_array_without_sw,lyrics_without_sw"
      ],
      "execution_count": 116,
      "outputs": [
        {
          "output_type": "execute_result",
          "data": {
            "text/plain": [
              "(['I heard glass shatter wall apartment',\n",
              "  \"At first I thought I dreamin'\",\n",
              "  \"But I heard voice girl And sounded like she'd cryin'\",\n",
              "  \"Now I'm worried sleepin'\",\n",
              "  'So I took elevator second floor',\n",
              "  'Walked hall I knocked upon',\n",
              "  \"She opened I asked things I've hearing\",\n",
              "  'She said, \"I think ears playing tricks you\"',\n",
              "  'Sweater zipped chin',\n",
              "  '\"Thanks caring, sir, that\\'s nice',\n",
              "  'But I go back',\n",
              "  'Wish I could tell noise',\n",
              "  'But I hear thing\"',\n",
              "  'She said, \"It must wind, must wind',\n",
              "  'Must wind, must wind\"',\n",
              "  'She said, \"It must wind, must wind',\n",
              "  'Must wind, must wind\"',\n",
              "  \"So I layin' floor room\",\n",
              "  'Cold concrete back',\n",
              "  'No, I shake feeling',\n",
              "  'I intrude I knew I facts',\n",
              "  \"But I bear thought leavin'\",\n",
              "  'So I took elevator second floor',\n",
              "  'Walked hall I knocked upon',\n",
              "  \"She opened I asked things I've hearing\",\n",
              "  'She said, \"I think ears playing tricks you\"',\n",
              "  'Sweater zipped chin',\n",
              "  '\"Thanks caring, sir, that\\'s nice',\n",
              "  'But I go back',\n",
              "  'Wish I could tell noise',\n",
              "  'But I hear thing\"',\n",
              "  'She said, \"It must wind, must wind',\n",
              "  'Must wind, must wind\"',\n",
              "  'She said, \"It must wind, must wind',\n",
              "  'Must wind, must wind\"',\n",
              "  'Aim boom box roof, I\\'m playing, \"Lean me\"',\n",
              "  'Just knows lean',\n",
              "  \"And hears words, I hope knows she'll okay\",\n",
              "  'Aim boom box roof, I\\'m playing, \"Lean me\"',\n",
              "  'Just knows lean',\n",
              "  \"And hears words, I know exactly I'll say\",\n",
              "  '\"Promise I\\'m playing tricks',\n",
              "  \"You're always welcome\",\n",
              "  'You could stay hour two',\n",
              "  'If ever need friend\"',\n",
              "  '\"We talk noise, ready, then\"',\n",
              "  'I say, \"It must wind, must wind',\n",
              "  'Must wind, must wind\"',\n",
              "  'I say, \"It must wind, must wind',\n",
              "  'Must wind, must wind'],\n",
              " 'I heard glass shatter wall apartment At first I thought I dreamin\\' But I heard voice girl And sounded like she\\'d cryin\\' Now I\\'m worried sleepin\\' So I took elevator second floor Walked hall I knocked upon She opened I asked things I\\'ve hearing She said, \"I think ears playing tricks you\" Sweater zipped chin \"Thanks caring, sir, that\\'s nice But I go back Wish I could tell noise But I hear thing\" She said, \"It must wind, must wind Must wind, must wind\" She said, \"It must wind, must wind Must wind, must wind\" So I layin\\' floor room Cold concrete back No, I shake feeling I intrude I knew I facts But I bear thought leavin\\' So I took elevator second floor Walked hall I knocked upon She opened I asked things I\\'ve hearing She said, \"I think ears playing tricks you\" Sweater zipped chin \"Thanks caring, sir, that\\'s nice But I go back Wish I could tell noise But I hear thing\" She said, \"It must wind, must wind Must wind, must wind\" She said, \"It must wind, must wind Must wind, must wind\" Aim boom box roof, I\\'m playing, \"Lean me\" Just knows lean And hears words, I hope knows she\\'ll okay Aim boom box roof, I\\'m playing, \"Lean me\" Just knows lean And hears words, I know exactly I\\'ll say \"Promise I\\'m playing tricks You\\'re always welcome You could stay hour two If ever need friend\" \"We talk noise, ready, then\" I say, \"It must wind, must wind Must wind, must wind\" I say, \"It must wind, must wind Must wind, must wind')"
            ]
          },
          "metadata": {
            "tags": []
          },
          "execution_count": 116
        }
      ]
    },
    {
      "cell_type": "code",
      "metadata": {
        "id": "5seAWVkpLsIO",
        "colab_type": "code",
        "colab": {
          "base_uri": "https://localhost:8080/",
          "height": 904
        },
        "outputId": "3009a90d-205f-4d3d-9d20-7d53f7c47ea4"
      },
      "source": [
        "lyrics_as_array_without_contraction = remove_contraction(lyrics_as_array)\n",
        "lyrics_without_contraction = convert_arr_to_str(lyrics_as_array_without_contraction)\n",
        "lyrics_as_array_without_contraction,lyrics_without_contraction"
      ],
      "execution_count": 117,
      "outputs": [
        {
          "output_type": "execute_result",
          "data": {
            "text/plain": [
              "(['i heard glass shatter on the wall in the apartment above mine',\n",
              "  \"at first i thought that i was dreamin'\",\n",
              "  \"but then i heard the voice of a girl and it sounded like she had / she would been cryin'\",\n",
              "  \"now i'm too worried to be sleepin'\",\n",
              "  'so i took the elevator to the second floor',\n",
              "  'walked down the hall and then i knocked upon her door',\n",
              "  \"she opened up and i asked about the things i've been hearing\",\n",
              "  'she said, \"i think your ears are playing tricks on you\"',\n",
              "  'sweater zipped up to her chin',\n",
              "  '\"thanks for caring, sir, that has / that is nice of you',\n",
              "  'but i have to go back in',\n",
              "  'wish i could tell you about the noise',\n",
              "  'but i did not hear a thing\"',\n",
              "  'she said, \"it must have been the wind, must have been the wind',\n",
              "  'must have been the wind, it must have been the wind\"',\n",
              "  'she said, \"it must have been the wind, must have been the wind',\n",
              "  'must have been the wind, it must have been the wind\"',\n",
              "  \"so i was layin' on the floor of my room\",\n",
              "  'cold concrete on my back',\n",
              "  'no, i just could not shake the feeling',\n",
              "  'i did not want to intrude because i knew that i did not have all the facts',\n",
              "  \"but i could not bear the thought of leavin' her\",\n",
              "  'so i took the elevator to the second floor',\n",
              "  'walked down the hall and then i knocked upon her door',\n",
              "  \"she opened up and i asked about the things i've been hearing\",\n",
              "  'she said, \"i think your ears are playing tricks on you\"',\n",
              "  'sweater zipped up to her chin',\n",
              "  '\"thanks for caring, sir, that has / that is nice of you',\n",
              "  'but i have to go back in',\n",
              "  'wish i could tell you about the noise',\n",
              "  'but i did not hear a thing\"',\n",
              "  'she said, \"it must have been the wind, must have been the wind',\n",
              "  'must have been the wind, it must have been the wind\"',\n",
              "  'she said, \"it must have been the wind, must have been the wind',\n",
              "  'must have been the wind, it must have been the wind\"',\n",
              "  'aim my boom box at the roof, i\\'m playing, \"lean on me\"',\n",
              "  'just so that she knows that she can lean on me',\n",
              "  'and when she hears the words, i hope she knows she shall / she will be okay',\n",
              "  'aim my boom box at the roof, i\\'m playing, \"lean on me\"',\n",
              "  'just so that she knows that she can lean on me',\n",
              "  \"and when she hears the words, i know exactly what i'll say\",\n",
              "  '\"promise i\\'m not playing tricks on you',\n",
              "  'you are always welcome to come in',\n",
              "  'you could stay here for an hour or two',\n",
              "  'if you ever need a friend\"',\n",
              "  '\"we can talk about the noise, when you are ready, but till then\"',\n",
              "  'i say, \"it must have been the wind, must have been the wind',\n",
              "  'must have been the wind, it must have been the wind\"',\n",
              "  'i say, \"it must have been the wind, must have been the wind',\n",
              "  'must have been the wind, it must have been the wind'],\n",
              " 'i heard glass shatter on the wall in the apartment above mine at first i thought that i was dreamin\\' but then i heard the voice of a girl and it sounded like she had / she would been cryin\\' now i\\'m too worried to be sleepin\\' so i took the elevator to the second floor walked down the hall and then i knocked upon her door she opened up and i asked about the things i\\'ve been hearing she said, \"i think your ears are playing tricks on you\" sweater zipped up to her chin \"thanks for caring, sir, that has / that is nice of you but i have to go back in wish i could tell you about the noise but i did not hear a thing\" she said, \"it must have been the wind, must have been the wind must have been the wind, it must have been the wind\" she said, \"it must have been the wind, must have been the wind must have been the wind, it must have been the wind\" so i was layin\\' on the floor of my room cold concrete on my back no, i just could not shake the feeling i did not want to intrude because i knew that i did not have all the facts but i could not bear the thought of leavin\\' her so i took the elevator to the second floor walked down the hall and then i knocked upon her door she opened up and i asked about the things i\\'ve been hearing she said, \"i think your ears are playing tricks on you\" sweater zipped up to her chin \"thanks for caring, sir, that has / that is nice of you but i have to go back in wish i could tell you about the noise but i did not hear a thing\" she said, \"it must have been the wind, must have been the wind must have been the wind, it must have been the wind\" she said, \"it must have been the wind, must have been the wind must have been the wind, it must have been the wind\" aim my boom box at the roof, i\\'m playing, \"lean on me\" just so that she knows that she can lean on me and when she hears the words, i hope she knows she shall / she will be okay aim my boom box at the roof, i\\'m playing, \"lean on me\" just so that she knows that she can lean on me and when she hears the words, i know exactly what i\\'ll say \"promise i\\'m not playing tricks on you you are always welcome to come in you could stay here for an hour or two if you ever need a friend\" \"we can talk about the noise, when you are ready, but till then\" i say, \"it must have been the wind, must have been the wind must have been the wind, it must have been the wind\" i say, \"it must have been the wind, must have been the wind must have been the wind, it must have been the wind')"
            ]
          },
          "metadata": {
            "tags": []
          },
          "execution_count": 117
        }
      ]
    },
    {
      "cell_type": "code",
      "metadata": {
        "id": "jppaYBrLTYI5",
        "colab_type": "code",
        "colab": {
          "base_uri": "https://localhost:8080/",
          "height": 904
        },
        "outputId": "b13db8ca-fd4f-40d1-feae-55393996e022"
      },
      "source": [
        "lyrics_as_array_with_lemmatized_words=lemmatize_words(lyrics_as_array)\n",
        "lyrics_with_lemmatized_words=convert_arr_to_str(lyrics_as_array_with_lemmatized_words)\n",
        "lyrics_as_array_with_lemmatized_words,lyrics_with_lemmatized_words"
      ],
      "execution_count": 118,
      "outputs": [
        {
          "output_type": "execute_result",
          "data": {
            "text/plain": [
              "(['I hear glass shatter on the wall in the apartment above mine',\n",
              "  \"At first I think that I be dreamin'\",\n",
              "  \"But then I hear the voice of a girl And it sound like she'd be cryin'\",\n",
              "  \"Now I'm too worry to be sleepin'\",\n",
              "  'So I take the elevator to the second floor',\n",
              "  'Walked down the hall and then I knock upon her door',\n",
              "  \"She open up and I ask about the things I've be hear\",\n",
              "  'She said, \"I think your ears be play trick on you\"',\n",
              "  'Sweater zip up to her chin',\n",
              "  '\"Thanks for caring, sir, that\\'s nice of you',\n",
              "  'But I have to go back in',\n",
              "  'Wish I could tell you about the noise',\n",
              "  'But I didn\\'t hear a thing\"',\n",
              "  'She said, \"It must have be the wind, must have be the wind',\n",
              "  'Must have be the wind, it must have be the wind\"',\n",
              "  'She said, \"It must have be the wind, must have be the wind',\n",
              "  'Must have be the wind, it must have be the wind\"',\n",
              "  \"So I be layin' on the floor of my room\",\n",
              "  'Cold concrete on my back',\n",
              "  \"No, I just couldn't shake the feel\",\n",
              "  \"I didn't want to intrude because I know that I didn't have all the facts\",\n",
              "  \"But I couldn't bear the think of leavin' her\",\n",
              "  'So I take the elevator to the second floor',\n",
              "  'Walked down the hall and then I knock upon her door',\n",
              "  \"She open up and I ask about the things I've be hear\",\n",
              "  'She said, \"I think your ears be play trick on you\"',\n",
              "  'Sweater zip up to her chin',\n",
              "  '\"Thanks for caring, sir, that\\'s nice of you',\n",
              "  'But I have to go back in',\n",
              "  'Wish I could tell you about the noise',\n",
              "  'But I didn\\'t hear a thing\"',\n",
              "  'She said, \"It must have be the wind, must have be the wind',\n",
              "  'Must have be the wind, it must have be the wind\"',\n",
              "  'She said, \"It must have be the wind, must have be the wind',\n",
              "  'Must have be the wind, it must have be the wind\"',\n",
              "  'Aim my boom box at the roof, I\\'m playing, \"Lean on me\"',\n",
              "  'Just so that she know that she can lean on me',\n",
              "  \"And when she hear the words, I hope she know she'll be okay\",\n",
              "  'Aim my boom box at the roof, I\\'m playing, \"Lean on me\"',\n",
              "  'Just so that she know that she can lean on me',\n",
              "  \"And when she hear the words, I know exactly what I'll say\",\n",
              "  '\"Promise I\\'m not play trick on you',\n",
              "  \"You're always welcome to come in\",\n",
              "  'You could stay here for an hour or two',\n",
              "  'If you ever need a friend\"',\n",
              "  '\"We can talk about the noise, when you\\'re ready, but till then\"',\n",
              "  'I say, \"It must have be the wind, must have be the wind',\n",
              "  'Must have be the wind, it must have be the wind\"',\n",
              "  'I say, \"It must have be the wind, must have be the wind',\n",
              "  'Must have be the wind, it must have be the wind'],\n",
              " 'I hear glass shatter on the wall in the apartment above mine At first I think that I be dreamin\\' But then I hear the voice of a girl And it sound like she\\'d be cryin\\' Now I\\'m too worry to be sleepin\\' So I take the elevator to the second floor Walked down the hall and then I knock upon her door She open up and I ask about the things I\\'ve be hear She said, \"I think your ears be play trick on you\" Sweater zip up to her chin \"Thanks for caring, sir, that\\'s nice of you But I have to go back in Wish I could tell you about the noise But I didn\\'t hear a thing\" She said, \"It must have be the wind, must have be the wind Must have be the wind, it must have be the wind\" She said, \"It must have be the wind, must have be the wind Must have be the wind, it must have be the wind\" So I be layin\\' on the floor of my room Cold concrete on my back No, I just couldn\\'t shake the feel I didn\\'t want to intrude because I know that I didn\\'t have all the facts But I couldn\\'t bear the think of leavin\\' her So I take the elevator to the second floor Walked down the hall and then I knock upon her door She open up and I ask about the things I\\'ve be hear She said, \"I think your ears be play trick on you\" Sweater zip up to her chin \"Thanks for caring, sir, that\\'s nice of you But I have to go back in Wish I could tell you about the noise But I didn\\'t hear a thing\" She said, \"It must have be the wind, must have be the wind Must have be the wind, it must have be the wind\" She said, \"It must have be the wind, must have be the wind Must have be the wind, it must have be the wind\" Aim my boom box at the roof, I\\'m playing, \"Lean on me\" Just so that she know that she can lean on me And when she hear the words, I hope she know she\\'ll be okay Aim my boom box at the roof, I\\'m playing, \"Lean on me\" Just so that she know that she can lean on me And when she hear the words, I know exactly what I\\'ll say \"Promise I\\'m not play trick on you You\\'re always welcome to come in You could stay here for an hour or two If you ever need a friend\" \"We can talk about the noise, when you\\'re ready, but till then\" I say, \"It must have be the wind, must have be the wind Must have be the wind, it must have be the wind\" I say, \"It must have be the wind, must have be the wind Must have be the wind, it must have be the wind')"
            ]
          },
          "metadata": {
            "tags": []
          },
          "execution_count": 118
        }
      ]
    },
    {
      "cell_type": "code",
      "metadata": {
        "id": "Rlxpc9TSPeye",
        "colab_type": "code",
        "colab": {}
      },
      "source": [
        ""
      ],
      "execution_count": 118,
      "outputs": []
    },
    {
      "cell_type": "markdown",
      "metadata": {
        "id": "LIKy4ZTeLtq0",
        "colab_type": "text"
      },
      "source": [
        "\n",
        "Next we have to tackle the sentimantal analysis part. We aim to try bag of words then use NLTK on every line might be slow but I like to give prominence to accuracy"
      ]
    },
    {
      "cell_type": "code",
      "metadata": {
        "id": "HNby6GGN_GmP",
        "colab_type": "code",
        "colab": {}
      },
      "source": [
        "from nltk.sentiment.vader import SentimentIntensityAnalyzer\n",
        "sia=SentimentIntensityAnalyzer()\n",
        "def get_vader_score(lyr):\n",
        "  # Polarity score returns dictionary\n",
        "  sentiment = sia.polarity_scores(lyr)\n",
        "  return sentiment['compound']\n",
        "  \"\"\"\n",
        "  print(ss)\n",
        "  print(ss['compound'])\n",
        "  ss.pop(\"compound\")\n",
        "  print(\"ss=\",ss)\n",
        "  x=sorted(ss.values(), reverse=True)[0]\n",
        "  for i in ss.keys():\n",
        "    if ss[i]==x:\n",
        "      if \"i\" == \"neg\":\n",
        "        ss[i]=-(ss[i])\n",
        "      print(ss[i])\n",
        "  \"\"\"  "
      ],
      "execution_count": 119,
      "outputs": []
    },
    {
      "cell_type": "code",
      "metadata": {
        "id": "mEAOfMIdX-hW",
        "colab_type": "code",
        "colab": {
          "base_uri": "https://localhost:8080/",
          "height": 34
        },
        "outputId": "1577c061-a670-45f3-b280-66c933deb62b"
      },
      "source": [
        "get_vader_score(lyrics)"
      ],
      "execution_count": 120,
      "outputs": [
        {
          "output_type": "execute_result",
          "data": {
            "text/plain": [
              "0.9599"
            ]
          },
          "metadata": {
            "tags": []
          },
          "execution_count": 120
        }
      ]
    },
    {
      "cell_type": "code",
      "metadata": {
        "id": "5BY40KnADOsg",
        "colab_type": "code",
        "colab": {}
      },
      "source": [
        "def get_textblob_score(lyr):\n",
        "  blob=TextBlob(lyr)\n",
        "  return blob.polarity"
      ],
      "execution_count": 121,
      "outputs": []
    },
    {
      "cell_type": "code",
      "metadata": {
        "id": "T_T8jiWFZF6I",
        "colab_type": "code",
        "colab": {
          "base_uri": "https://localhost:8080/",
          "height": 34
        },
        "outputId": "a6e73dad-b17b-4e2a-9e26-2472fa9a183f"
      },
      "source": [
        "get_textblob_score(lyrics)"
      ],
      "execution_count": 122,
      "outputs": [
        {
          "output_type": "execute_result",
          "data": {
            "text/plain": [
              "0.14941520467836258"
            ]
          },
          "metadata": {
            "tags": []
          },
          "execution_count": 122
        }
      ]
    },
    {
      "cell_type": "code",
      "metadata": {
        "id": "kh64lMmK3T8T",
        "colab_type": "code",
        "colab": {
          "base_uri": "https://localhost:8080/",
          "height": 204
        },
        "outputId": "c2726673-34c1-43b1-8291-5490dbc2ec6b"
      },
      "source": [
        "!pip install watson_developer_cloud\n",
        "from watson_developer_cloud import NaturalLanguageUnderstandingV1\n",
        "from watson_developer_cloud.natural_language_understanding_v1 import Features, EntitiesOptions, KeywordsOptions, SentimentOptions, CategoriesOptions\n",
        "natural_language_understanding = NaturalLanguageUnderstandingV1(                                         \n",
        "    version='2018-11-16',\n",
        "    iam_apikey=\"hzkkbjivKNHfoi3cFlMBOPG6-YHLc-7CAQKwXn8Rt7JT\", \n",
        "    url=\"https://api.eu-gb.natural-language-understanding.watson.cloud.ibm.com/instances/512aa79c-a8ba-43fa-b9d5-a4382099b06f\" # paste the url here\n",
        "    )\n",
        "def get_watson_score(input_text): \n",
        "    response = natural_language_understanding.analyze (\n",
        "    text = input_text,\n",
        "    features = Features(sentiment=SentimentOptions())).get_result()\n",
        "    res = response.get('sentiment').get('document').get('score')\n",
        "    return res"
      ],
      "execution_count": 123,
      "outputs": [
        {
          "output_type": "stream",
          "text": [
            "Requirement already satisfied: watson_developer_cloud in /usr/local/lib/python3.6/dist-packages (2.10.1)\n",
            "Requirement already satisfied: requests<3.0,>=2.0 in /usr/local/lib/python3.6/dist-packages (from watson_developer_cloud) (2.23.0)\n",
            "Requirement already satisfied: python-dateutil>=2.5.3 in /usr/local/lib/python3.6/dist-packages (from watson_developer_cloud) (2.8.1)\n",
            "Requirement already satisfied: websocket-client==0.48.0 in /usr/local/lib/python3.6/dist-packages (from watson_developer_cloud) (0.48.0)\n",
            "Requirement already satisfied: idna<3,>=2.5 in /usr/local/lib/python3.6/dist-packages (from requests<3.0,>=2.0->watson_developer_cloud) (2.10)\n",
            "Requirement already satisfied: urllib3!=1.25.0,!=1.25.1,<1.26,>=1.21.1 in /usr/local/lib/python3.6/dist-packages (from requests<3.0,>=2.0->watson_developer_cloud) (1.24.3)\n",
            "Requirement already satisfied: chardet<4,>=3.0.2 in /usr/local/lib/python3.6/dist-packages (from requests<3.0,>=2.0->watson_developer_cloud) (3.0.4)\n",
            "Requirement already satisfied: certifi>=2017.4.17 in /usr/local/lib/python3.6/dist-packages (from requests<3.0,>=2.0->watson_developer_cloud) (2020.6.20)\n",
            "Requirement already satisfied: six>=1.5 in /usr/local/lib/python3.6/dist-packages (from python-dateutil>=2.5.3->watson_developer_cloud) (1.15.0)\n"
          ],
          "name": "stdout"
        },
        {
          "output_type": "stream",
          "text": [
            "/usr/local/lib/python3.6/dist-packages/ipykernel_launcher.py:7: DeprecationWarning: watson-developer-cloud moved to ibm-watson. To get updates, use the new package.\n",
            "  import sys\n"
          ],
          "name": "stderr"
        }
      ]
    },
    {
      "cell_type": "code",
      "metadata": {
        "id": "h__hoNXV31WM",
        "colab_type": "code",
        "colab": {
          "base_uri": "https://localhost:8080/",
          "height": 34
        },
        "outputId": "f2a5aaf7-d4eb-4722-b133-e68549cdebba"
      },
      "source": [
        "get_watson_score(lyrics)"
      ],
      "execution_count": 124,
      "outputs": [
        {
          "output_type": "execute_result",
          "data": {
            "text/plain": [
              "-0.778259"
            ]
          },
          "metadata": {
            "tags": []
          },
          "execution_count": 124
        }
      ]
    },
    {
      "cell_type": "code",
      "metadata": {
        "id": "-z8CTrySjEa1",
        "colab_type": "code",
        "colab": {}
      },
      "source": [
        "sentiment_score_fns=[get_textblob_score,get_vader_score]"
      ],
      "execution_count": 125,
      "outputs": []
    },
    {
      "cell_type": "markdown",
      "metadata": {
        "id": "Td-oDHMLdq7V",
        "colab_type": "text"
      },
      "source": [
        ""
      ]
    },
    {
      "cell_type": "code",
      "metadata": {
        "id": "81XZnqaATb6C",
        "colab_type": "code",
        "colab": {}
      },
      "source": [
        "# Returns all transformed arrays and further maps the arrays \n",
        "\n",
        "def get_lyric_arrays(lyr_arr):\n",
        "  return [lyr_arr,\n",
        "          remove_stopword(lyr_arr),\n",
        "          remove_contraction(lyr_arr),\n",
        "          lemmatize_words(lyr_arr),\n",
        "          remove_contraction(remove_stopword(lyr_arr)),\n",
        "          lemmatize_words(remove_stopword(lyr_arr)),\n",
        "          remove_contraction(lemmatize_words(lyr_arr)),\n",
        "          lemmatize_words(remove_contraction(remove_stopword(lyr_arr)))]\n",
        "\n",
        "def get_lyrics(arr):\n",
        "  return list(map(convert_arr_to_str,arr))\n",
        "\n",
        "list_of_converted_lyr_arr=get_lyric_arrays(lyrics_as_array) #returns a tuple with 3 items lyrics, lyrics without stop wordsm \n",
        "list_of_converted_lyr=get_lyrics(list_of_converted_lyr_arr)"
      ],
      "execution_count": 126,
      "outputs": []
    },
    {
      "cell_type": "code",
      "metadata": {
        "id": "7bmTJuKa59-l",
        "colab_type": "code",
        "colab": {}
      },
      "source": [
        "import pandas as pd \n",
        "import numpy as np"
      ],
      "execution_count": 127,
      "outputs": []
    },
    {
      "cell_type": "code",
      "metadata": {
        "id": "8SqLjkTZxodg",
        "colab_type": "code",
        "colab": {
          "base_uri": "https://localhost:8080/",
          "height": 297
        },
        "outputId": "3d1400a9-5261-47fe-fa75-5124ff5a3e66"
      },
      "source": [
        "df=pd.DataFrame(index=[\"Lyrics\",\"SW\",\"CO\",\"LM\",\"SW-CO\",\"SW-LM\",\"CO-LM\",\"SW-CO-LM\"],columns=[\"Textblob\",\"Textblob per line\",\"Textblob nonzero\",\"Vader\",\"Vader per line\",\"Vader nonzero\",\"Watson\",\"Watson per line\",\"Watson nonzero\"])\n",
        "df"
      ],
      "execution_count": 128,
      "outputs": [
        {
          "output_type": "execute_result",
          "data": {
            "text/html": [
              "<div>\n",
              "<style scoped>\n",
              "    .dataframe tbody tr th:only-of-type {\n",
              "        vertical-align: middle;\n",
              "    }\n",
              "\n",
              "    .dataframe tbody tr th {\n",
              "        vertical-align: top;\n",
              "    }\n",
              "\n",
              "    .dataframe thead th {\n",
              "        text-align: right;\n",
              "    }\n",
              "</style>\n",
              "<table border=\"1\" class=\"dataframe\">\n",
              "  <thead>\n",
              "    <tr style=\"text-align: right;\">\n",
              "      <th></th>\n",
              "      <th>Textblob</th>\n",
              "      <th>Textblob per line</th>\n",
              "      <th>Textblob nonzero</th>\n",
              "      <th>Vader</th>\n",
              "      <th>Vader per line</th>\n",
              "      <th>Vader nonzero</th>\n",
              "      <th>Watson</th>\n",
              "      <th>Watson per line</th>\n",
              "      <th>Watson nonzero</th>\n",
              "    </tr>\n",
              "  </thead>\n",
              "  <tbody>\n",
              "    <tr>\n",
              "      <th>Lyrics</th>\n",
              "      <td>NaN</td>\n",
              "      <td>NaN</td>\n",
              "      <td>NaN</td>\n",
              "      <td>NaN</td>\n",
              "      <td>NaN</td>\n",
              "      <td>NaN</td>\n",
              "      <td>NaN</td>\n",
              "      <td>NaN</td>\n",
              "      <td>NaN</td>\n",
              "    </tr>\n",
              "    <tr>\n",
              "      <th>SW</th>\n",
              "      <td>NaN</td>\n",
              "      <td>NaN</td>\n",
              "      <td>NaN</td>\n",
              "      <td>NaN</td>\n",
              "      <td>NaN</td>\n",
              "      <td>NaN</td>\n",
              "      <td>NaN</td>\n",
              "      <td>NaN</td>\n",
              "      <td>NaN</td>\n",
              "    </tr>\n",
              "    <tr>\n",
              "      <th>CO</th>\n",
              "      <td>NaN</td>\n",
              "      <td>NaN</td>\n",
              "      <td>NaN</td>\n",
              "      <td>NaN</td>\n",
              "      <td>NaN</td>\n",
              "      <td>NaN</td>\n",
              "      <td>NaN</td>\n",
              "      <td>NaN</td>\n",
              "      <td>NaN</td>\n",
              "    </tr>\n",
              "    <tr>\n",
              "      <th>LM</th>\n",
              "      <td>NaN</td>\n",
              "      <td>NaN</td>\n",
              "      <td>NaN</td>\n",
              "      <td>NaN</td>\n",
              "      <td>NaN</td>\n",
              "      <td>NaN</td>\n",
              "      <td>NaN</td>\n",
              "      <td>NaN</td>\n",
              "      <td>NaN</td>\n",
              "    </tr>\n",
              "    <tr>\n",
              "      <th>SW-CO</th>\n",
              "      <td>NaN</td>\n",
              "      <td>NaN</td>\n",
              "      <td>NaN</td>\n",
              "      <td>NaN</td>\n",
              "      <td>NaN</td>\n",
              "      <td>NaN</td>\n",
              "      <td>NaN</td>\n",
              "      <td>NaN</td>\n",
              "      <td>NaN</td>\n",
              "    </tr>\n",
              "    <tr>\n",
              "      <th>SW-LM</th>\n",
              "      <td>NaN</td>\n",
              "      <td>NaN</td>\n",
              "      <td>NaN</td>\n",
              "      <td>NaN</td>\n",
              "      <td>NaN</td>\n",
              "      <td>NaN</td>\n",
              "      <td>NaN</td>\n",
              "      <td>NaN</td>\n",
              "      <td>NaN</td>\n",
              "    </tr>\n",
              "    <tr>\n",
              "      <th>CO-LM</th>\n",
              "      <td>NaN</td>\n",
              "      <td>NaN</td>\n",
              "      <td>NaN</td>\n",
              "      <td>NaN</td>\n",
              "      <td>NaN</td>\n",
              "      <td>NaN</td>\n",
              "      <td>NaN</td>\n",
              "      <td>NaN</td>\n",
              "      <td>NaN</td>\n",
              "    </tr>\n",
              "    <tr>\n",
              "      <th>SW-CO-LM</th>\n",
              "      <td>NaN</td>\n",
              "      <td>NaN</td>\n",
              "      <td>NaN</td>\n",
              "      <td>NaN</td>\n",
              "      <td>NaN</td>\n",
              "      <td>NaN</td>\n",
              "      <td>NaN</td>\n",
              "      <td>NaN</td>\n",
              "      <td>NaN</td>\n",
              "    </tr>\n",
              "  </tbody>\n",
              "</table>\n",
              "</div>"
            ],
            "text/plain": [
              "         Textblob Textblob per line  ... Watson per line Watson nonzero\n",
              "Lyrics        NaN               NaN  ...             NaN            NaN\n",
              "SW            NaN               NaN  ...             NaN            NaN\n",
              "CO            NaN               NaN  ...             NaN            NaN\n",
              "LM            NaN               NaN  ...             NaN            NaN\n",
              "SW-CO         NaN               NaN  ...             NaN            NaN\n",
              "SW-LM         NaN               NaN  ...             NaN            NaN\n",
              "CO-LM         NaN               NaN  ...             NaN            NaN\n",
              "SW-CO-LM      NaN               NaN  ...             NaN            NaN\n",
              "\n",
              "[8 rows x 9 columns]"
            ]
          },
          "metadata": {
            "tags": []
          },
          "execution_count": 128
        }
      ]
    },
    {
      "cell_type": "code",
      "metadata": {
        "id": "zSoKrq-wd-QH",
        "colab_type": "code",
        "colab": {
          "base_uri": "https://localhost:8080/",
          "height": 297
        },
        "outputId": "e6d8949a-4c47-4181-af12-75704ea0833b"
      },
      "source": [
        "df[\"Textblob\"]=list(map(get_textblob_score,list_of_converted_lyr))\n",
        "df[\"Vader\"]=list(map(get_vader_score,list_of_converted_lyr))\n",
        "df[\"Watson\"]=list(map(get_watson_score,list_of_converted_lyr))\n",
        "df"
      ],
      "execution_count": 129,
      "outputs": [
        {
          "output_type": "execute_result",
          "data": {
            "text/html": [
              "<div>\n",
              "<style scoped>\n",
              "    .dataframe tbody tr th:only-of-type {\n",
              "        vertical-align: middle;\n",
              "    }\n",
              "\n",
              "    .dataframe tbody tr th {\n",
              "        vertical-align: top;\n",
              "    }\n",
              "\n",
              "    .dataframe thead th {\n",
              "        text-align: right;\n",
              "    }\n",
              "</style>\n",
              "<table border=\"1\" class=\"dataframe\">\n",
              "  <thead>\n",
              "    <tr style=\"text-align: right;\">\n",
              "      <th></th>\n",
              "      <th>Textblob</th>\n",
              "      <th>Textblob per line</th>\n",
              "      <th>Textblob nonzero</th>\n",
              "      <th>Vader</th>\n",
              "      <th>Vader per line</th>\n",
              "      <th>Vader nonzero</th>\n",
              "      <th>Watson</th>\n",
              "      <th>Watson per line</th>\n",
              "      <th>Watson nonzero</th>\n",
              "    </tr>\n",
              "  </thead>\n",
              "  <tbody>\n",
              "    <tr>\n",
              "      <th>Lyrics</th>\n",
              "      <td>0.149415</td>\n",
              "      <td>NaN</td>\n",
              "      <td>NaN</td>\n",
              "      <td>0.9599</td>\n",
              "      <td>NaN</td>\n",
              "      <td>NaN</td>\n",
              "      <td>-0.778259</td>\n",
              "      <td>NaN</td>\n",
              "      <td>NaN</td>\n",
              "    </tr>\n",
              "    <tr>\n",
              "      <th>SW</th>\n",
              "      <td>0.196875</td>\n",
              "      <td>NaN</td>\n",
              "      <td>NaN</td>\n",
              "      <td>0.9894</td>\n",
              "      <td>NaN</td>\n",
              "      <td>NaN</td>\n",
              "      <td>-0.386954</td>\n",
              "      <td>NaN</td>\n",
              "      <td>NaN</td>\n",
              "    </tr>\n",
              "    <tr>\n",
              "      <th>CO</th>\n",
              "      <td>0.149415</td>\n",
              "      <td>NaN</td>\n",
              "      <td>NaN</td>\n",
              "      <td>0.9953</td>\n",
              "      <td>NaN</td>\n",
              "      <td>NaN</td>\n",
              "      <td>-0.773304</td>\n",
              "      <td>NaN</td>\n",
              "      <td>NaN</td>\n",
              "    </tr>\n",
              "    <tr>\n",
              "      <th>LM</th>\n",
              "      <td>0.147222</td>\n",
              "      <td>NaN</td>\n",
              "      <td>NaN</td>\n",
              "      <td>0.9659</td>\n",
              "      <td>NaN</td>\n",
              "      <td>NaN</td>\n",
              "      <td>-0.649890</td>\n",
              "      <td>NaN</td>\n",
              "      <td>NaN</td>\n",
              "    </tr>\n",
              "    <tr>\n",
              "      <th>SW-CO</th>\n",
              "      <td>0.196875</td>\n",
              "      <td>NaN</td>\n",
              "      <td>NaN</td>\n",
              "      <td>0.9953</td>\n",
              "      <td>NaN</td>\n",
              "      <td>NaN</td>\n",
              "      <td>-0.492278</td>\n",
              "      <td>NaN</td>\n",
              "      <td>NaN</td>\n",
              "    </tr>\n",
              "    <tr>\n",
              "      <th>SW-LM</th>\n",
              "      <td>0.186842</td>\n",
              "      <td>NaN</td>\n",
              "      <td>NaN</td>\n",
              "      <td>0.9905</td>\n",
              "      <td>NaN</td>\n",
              "      <td>NaN</td>\n",
              "      <td>-0.289106</td>\n",
              "      <td>NaN</td>\n",
              "      <td>NaN</td>\n",
              "    </tr>\n",
              "    <tr>\n",
              "      <th>CO-LM</th>\n",
              "      <td>0.147222</td>\n",
              "      <td>NaN</td>\n",
              "      <td>NaN</td>\n",
              "      <td>0.9960</td>\n",
              "      <td>NaN</td>\n",
              "      <td>NaN</td>\n",
              "      <td>-0.622290</td>\n",
              "      <td>NaN</td>\n",
              "      <td>NaN</td>\n",
              "    </tr>\n",
              "    <tr>\n",
              "      <th>SW-CO-LM</th>\n",
              "      <td>0.186842</td>\n",
              "      <td>NaN</td>\n",
              "      <td>NaN</td>\n",
              "      <td>0.9957</td>\n",
              "      <td>NaN</td>\n",
              "      <td>NaN</td>\n",
              "      <td>-0.356586</td>\n",
              "      <td>NaN</td>\n",
              "      <td>NaN</td>\n",
              "    </tr>\n",
              "  </tbody>\n",
              "</table>\n",
              "</div>"
            ],
            "text/plain": [
              "          Textblob Textblob per line  ... Watson per line  Watson nonzero\n",
              "Lyrics    0.149415               NaN  ...             NaN             NaN\n",
              "SW        0.196875               NaN  ...             NaN             NaN\n",
              "CO        0.149415               NaN  ...             NaN             NaN\n",
              "LM        0.147222               NaN  ...             NaN             NaN\n",
              "SW-CO     0.196875               NaN  ...             NaN             NaN\n",
              "SW-LM     0.186842               NaN  ...             NaN             NaN\n",
              "CO-LM     0.147222               NaN  ...             NaN             NaN\n",
              "SW-CO-LM  0.186842               NaN  ...             NaN             NaN\n",
              "\n",
              "[8 rows x 9 columns]"
            ]
          },
          "metadata": {
            "tags": []
          },
          "execution_count": 129
        }
      ]
    },
    {
      "cell_type": "code",
      "metadata": {
        "id": "eJD4sY1ZhZ3E",
        "colab_type": "code",
        "colab": {}
      },
      "source": [
        "textblob_per_line=[]\n",
        "for trans in list_of_converted_lyr_arr:\n",
        "  textblob_per_line.append(list(map(get_textblob_score,trans)))\n",
        "\n",
        "df[\"Textblob per line\"]=list(map(np.mean,textblob_per_line))\n",
        "#textblob_per_line"
      ],
      "execution_count": 130,
      "outputs": []
    },
    {
      "cell_type": "code",
      "metadata": {
        "id": "yI4US-9axekY",
        "colab_type": "code",
        "colab": {}
      },
      "source": [
        "vader_per_line=[]\n",
        "for trans in list_of_converted_lyr_arr:\n",
        "  vader_per_line.append(list(map(get_vader_score,trans)))\n",
        "\n",
        "df[\"Vader per line\"]=list(map(np.mean,vader_per_line))\n",
        "#vader_per_line"
      ],
      "execution_count": 131,
      "outputs": []
    },
    {
      "cell_type": "code",
      "metadata": {
        "id": "FwwTAbZq5jkF",
        "colab_type": "code",
        "colab": {}
      },
      "source": [
        "def watson_min_words_arr(arr): #watson has minimum requirement to perform sentiment analysis\n",
        "  x=\"\" \n",
        "  watson_arr=[]\n",
        "  for line in arr:\n",
        "    if len(line.split())<4:\n",
        "      x=x+line\n",
        "      continue\n",
        "    if x!= \"\" : line=x+\" \"+line\n",
        "    x=\"\"\n",
        "    watson_arr.append(line)\n",
        "  return watson_arr \n",
        "\n",
        "converted_watson_arr=list(map(watson_min_words_arr,list_of_converted_lyr_arr))"
      ],
      "execution_count": 132,
      "outputs": []
    },
    {
      "cell_type": "code",
      "metadata": {
        "id": "pTMGa_AnBkH0",
        "colab_type": "code",
        "colab": {}
      },
      "source": [
        "watson_per_line=[]\n",
        "for trans in converted_watson_arr:\n",
        "  watson_per_line.append(list(map(get_watson_score,trans)))\n",
        "\n",
        "df[\"Watson per line\"]=list(map(np.mean,watson_per_line))\n",
        "#watson_per_line"
      ],
      "execution_count": 133,
      "outputs": []
    },
    {
      "cell_type": "code",
      "metadata": {
        "id": "NtHUI5QFF-UP",
        "colab_type": "code",
        "colab": {}
      },
      "source": [
        "def mean_without_zero(arr):\n",
        "  arr = [x for x in arr if x != 0]\n",
        "  return np.mean(arr)"
      ],
      "execution_count": 134,
      "outputs": []
    },
    {
      "cell_type": "code",
      "metadata": {
        "id": "jJMJAh3uG7ld",
        "colab_type": "code",
        "colab": {}
      },
      "source": [
        "df[\"Textblob nonzero\"]=list(map(mean_without_zero,textblob_per_line))\n",
        "df[\"Vader nonzero\"]=list(map(mean_without_zero,vader_per_line))\n",
        "df[\"Watson nonzero\"]=list(map(mean_without_zero,watson_per_line))"
      ],
      "execution_count": 135,
      "outputs": []
    },
    {
      "cell_type": "code",
      "metadata": {
        "id": "pcCDgO8Wt5sz",
        "colab_type": "code",
        "colab": {
          "base_uri": "https://localhost:8080/",
          "height": 297
        },
        "outputId": "0e19b99d-98fa-4434-d1aa-e4deeddf2ac8"
      },
      "source": [
        "df"
      ],
      "execution_count": 136,
      "outputs": [
        {
          "output_type": "execute_result",
          "data": {
            "text/html": [
              "<div>\n",
              "<style scoped>\n",
              "    .dataframe tbody tr th:only-of-type {\n",
              "        vertical-align: middle;\n",
              "    }\n",
              "\n",
              "    .dataframe tbody tr th {\n",
              "        vertical-align: top;\n",
              "    }\n",
              "\n",
              "    .dataframe thead th {\n",
              "        text-align: right;\n",
              "    }\n",
              "</style>\n",
              "<table border=\"1\" class=\"dataframe\">\n",
              "  <thead>\n",
              "    <tr style=\"text-align: right;\">\n",
              "      <th></th>\n",
              "      <th>Textblob</th>\n",
              "      <th>Textblob per line</th>\n",
              "      <th>Textblob nonzero</th>\n",
              "      <th>Vader</th>\n",
              "      <th>Vader per line</th>\n",
              "      <th>Vader nonzero</th>\n",
              "      <th>Watson</th>\n",
              "      <th>Watson per line</th>\n",
              "      <th>Watson nonzero</th>\n",
              "    </tr>\n",
              "  </thead>\n",
              "  <tbody>\n",
              "    <tr>\n",
              "      <th>Lyrics</th>\n",
              "      <td>0.149415</td>\n",
              "      <td>0.046778</td>\n",
              "      <td>0.233889</td>\n",
              "      <td>0.9599</td>\n",
              "      <td>0.095550</td>\n",
              "      <td>0.281029</td>\n",
              "      <td>-0.778259</td>\n",
              "      <td>-0.118538</td>\n",
              "      <td>-0.269406</td>\n",
              "    </tr>\n",
              "    <tr>\n",
              "      <th>SW</th>\n",
              "      <td>0.196875</td>\n",
              "      <td>0.053000</td>\n",
              "      <td>0.331250</td>\n",
              "      <td>0.9894</td>\n",
              "      <td>0.100832</td>\n",
              "      <td>0.315100</td>\n",
              "      <td>-0.386954</td>\n",
              "      <td>-0.020349</td>\n",
              "      <td>-0.063953</td>\n",
              "    </tr>\n",
              "    <tr>\n",
              "      <th>CO</th>\n",
              "      <td>0.149415</td>\n",
              "      <td>0.046778</td>\n",
              "      <td>0.233889</td>\n",
              "      <td>0.9953</td>\n",
              "      <td>0.098372</td>\n",
              "      <td>0.289329</td>\n",
              "      <td>-0.773304</td>\n",
              "      <td>-0.111188</td>\n",
              "      <td>-0.252699</td>\n",
              "    </tr>\n",
              "    <tr>\n",
              "      <th>LM</th>\n",
              "      <td>0.147222</td>\n",
              "      <td>0.054778</td>\n",
              "      <td>0.248990</td>\n",
              "      <td>0.9659</td>\n",
              "      <td>0.099942</td>\n",
              "      <td>0.293947</td>\n",
              "      <td>-0.649890</td>\n",
              "      <td>-0.030253</td>\n",
              "      <td>-0.072030</td>\n",
              "    </tr>\n",
              "    <tr>\n",
              "      <th>SW-CO</th>\n",
              "      <td>0.196875</td>\n",
              "      <td>0.053000</td>\n",
              "      <td>0.331250</td>\n",
              "      <td>0.9953</td>\n",
              "      <td>0.103654</td>\n",
              "      <td>0.323919</td>\n",
              "      <td>-0.492278</td>\n",
              "      <td>-0.018453</td>\n",
              "      <td>-0.059314</td>\n",
              "    </tr>\n",
              "    <tr>\n",
              "      <th>SW-LM</th>\n",
              "      <td>0.186842</td>\n",
              "      <td>0.061000</td>\n",
              "      <td>0.338889</td>\n",
              "      <td>0.9905</td>\n",
              "      <td>0.107898</td>\n",
              "      <td>0.337181</td>\n",
              "      <td>-0.289106</td>\n",
              "      <td>0.010841</td>\n",
              "      <td>0.029814</td>\n",
              "    </tr>\n",
              "    <tr>\n",
              "      <th>CO-LM</th>\n",
              "      <td>0.147222</td>\n",
              "      <td>0.054778</td>\n",
              "      <td>0.248990</td>\n",
              "      <td>0.9960</td>\n",
              "      <td>0.102764</td>\n",
              "      <td>0.302247</td>\n",
              "      <td>-0.622290</td>\n",
              "      <td>-0.025782</td>\n",
              "      <td>-0.061385</td>\n",
              "    </tr>\n",
              "    <tr>\n",
              "      <th>SW-CO-LM</th>\n",
              "      <td>0.186842</td>\n",
              "      <td>0.061000</td>\n",
              "      <td>0.338889</td>\n",
              "      <td>0.9957</td>\n",
              "      <td>0.110720</td>\n",
              "      <td>0.346000</td>\n",
              "      <td>-0.356586</td>\n",
              "      <td>0.010238</td>\n",
              "      <td>0.028794</td>\n",
              "    </tr>\n",
              "  </tbody>\n",
              "</table>\n",
              "</div>"
            ],
            "text/plain": [
              "          Textblob  Textblob per line  ...  Watson per line  Watson nonzero\n",
              "Lyrics    0.149415           0.046778  ...        -0.118538       -0.269406\n",
              "SW        0.196875           0.053000  ...        -0.020349       -0.063953\n",
              "CO        0.149415           0.046778  ...        -0.111188       -0.252699\n",
              "LM        0.147222           0.054778  ...        -0.030253       -0.072030\n",
              "SW-CO     0.196875           0.053000  ...        -0.018453       -0.059314\n",
              "SW-LM     0.186842           0.061000  ...         0.010841        0.029814\n",
              "CO-LM     0.147222           0.054778  ...        -0.025782       -0.061385\n",
              "SW-CO-LM  0.186842           0.061000  ...         0.010238        0.028794\n",
              "\n",
              "[8 rows x 9 columns]"
            ]
          },
          "metadata": {
            "tags": []
          },
          "execution_count": 136
        }
      ]
    },
    {
      "cell_type": "markdown",
      "metadata": {
        "id": "hbY8DnR_wPNQ",
        "colab_type": "text"
      },
      "source": [
        "Kinda done with this part. Looks okay for now. Now we got to see if we can get an mp3 version of the song and see if the song sounds sad or happy. "
      ]
    },
    {
      "cell_type": "code",
      "metadata": {
        "id": "35K6yMG7n8Qp",
        "colab_type": "code",
        "colab": {}
      },
      "source": [
        ""
      ],
      "execution_count": 136,
      "outputs": []
    }
  ]
}
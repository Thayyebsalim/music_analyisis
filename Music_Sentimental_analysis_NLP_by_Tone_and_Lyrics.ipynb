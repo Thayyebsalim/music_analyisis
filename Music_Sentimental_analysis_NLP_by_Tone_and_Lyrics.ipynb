{
  "nbformat": 4,
  "nbformat_minor": 0,
  "metadata": {
    "colab": {
      "name": "Music Sentimental analysis NLP by Tone and Lyrics",
      "provenance": [],
      "collapsed_sections": [],
      "toc_visible": true,
      "authorship_tag": "ABX9TyO+ENQ/Jrin9+Isp09I6V3O",
      "include_colab_link": true
    },
    "kernelspec": {
      "name": "python3",
      "display_name": "Python 3"
    }
  },
  "cells": [
    {
      "cell_type": "markdown",
      "metadata": {
        "id": "view-in-github",
        "colab_type": "text"
      },
      "source": [
        "<a href=\"https://colab.research.google.com/github/Thayyebsalim/music_analyisis/blob/master/Music_Sentimental_analysis_NLP_by_Tone_and_Lyrics.ipynb\" target=\"_parent\"><img src=\"https://colab.research.google.com/assets/colab-badge.svg\" alt=\"Open In Colab\"/></a>"
      ]
    },
    {
      "cell_type": "markdown",
      "metadata": {
        "id": "AkAoDSqOzD2u",
        "colab_type": "text"
      },
      "source": [
        "# Intro\n",
        "\n",
        "The idea of this code is to find the mood of the song in any way possible helping us to segregate songs better.\n",
        "\n",
        "1.   First part is gonna be scraping the lyrics from any website or API \n",
        "2.   Finding the vibe of the song with sentimental analysis\n",
        "3.   Fetch and mp3 version and check the mood with transfer learning hopefully or something similar\n",
        "\n"
      ]
    },
    {
      "cell_type": "code",
      "metadata": {
        "id": "obWgGCfq6ALb",
        "colab_type": "code",
        "colab": {
          "base_uri": "https://localhost:8080/",
          "height": 425
        },
        "outputId": "4f0c38ef-f832-4e72-d041-526622788ab3"
      },
      "source": [
        "!apt-get update\n",
        "!apt install chromium-chromedriver\n",
        "!cp /usr/lib/chromium-browser/chromedriver /usr/bin\n",
        "!pip install selenium"
      ],
      "execution_count": 1,
      "outputs": [
        {
          "output_type": "stream",
          "text": [
            "\r0% [Working]\r            \rHit:1 http://ppa.launchpad.net/graphics-drivers/ppa/ubuntu bionic InRelease\n",
            "\r0% [Waiting for headers] [Connecting to security.ubuntu.com (91.189.88.152)] [C\r                                                                               \rHit:2 http://archive.ubuntu.com/ubuntu bionic InRelease\n",
            "\r0% [Waiting for headers] [Waiting for headers] [Connected to cloud.r-project.or\r0% [1 InRelease gpgv 21.3 kB] [Waiting for headers] [Waiting for headers] [Conn\r                                                                               \rGet:3 http://archive.ubuntu.com/ubuntu bionic-updates InRelease [88.7 kB]\n",
            "\r0% [1 InRelease gpgv 21.3 kB] [3 InRelease 14.2 kB/88.7 kB 16%] [Waiting for he\r                                                                               \rGet:4 http://security.ubuntu.com/ubuntu bionic-security InRelease [88.7 kB]\n",
            "\r0% [1 InRelease gpgv 21.3 kB] [3 InRelease 14.2 kB/88.7 kB 16%] [4 InRelease 14\r                                                                               \rHit:5 http://ppa.launchpad.net/marutter/c2d4u3.5/ubuntu bionic InRelease\n",
            "\r0% [1 InRelease gpgv 21.3 kB] [3 InRelease 15.6 kB/88.7 kB 18%] [4 InRelease 14\r0% [1 InRelease gpgv 21.3 kB] [4 InRelease 54.7 kB/88.7 kB 62%] [Connected to c\r0% [1 InRelease gpgv 21.3 kB] [Waiting for headers] [Connected to cloud.r-proje\r                                                                               \rGet:6 http://archive.ubuntu.com/ubuntu bionic-backports InRelease [74.6 kB]\n",
            "Hit:7 https://cloud.r-project.org/bin/linux/ubuntu bionic-cran35/ InRelease\n",
            "Ign:8 https://developer.download.nvidia.com/compute/cuda/repos/ubuntu1804/x86_64  InRelease\n",
            "Ign:9 https://developer.download.nvidia.com/compute/machine-learning/repos/ubuntu1804/x86_64  InRelease\n",
            "Hit:10 https://developer.download.nvidia.com/compute/cuda/repos/ubuntu1804/x86_64  Release\n",
            "Hit:11 https://developer.download.nvidia.com/compute/machine-learning/repos/ubuntu1804/x86_64  Release\n",
            "Fetched 252 kB in 2s (142 kB/s)\n",
            "Reading package lists... Done\n",
            "Reading package lists... Done\n",
            "Building dependency tree       \n",
            "Reading state information... Done\n",
            "chromium-chromedriver is already the newest version (84.0.4147.105-0ubuntu0.18.04.1).\n",
            "The following package was automatically installed and is no longer required:\n",
            "  libnvidia-common-440\n",
            "Use 'apt autoremove' to remove it.\n",
            "0 upgraded, 0 newly installed, 0 to remove and 62 not upgraded.\n",
            "cp: '/usr/lib/chromium-browser/chromedriver' and '/usr/bin/chromedriver' are the same file\n",
            "Requirement already satisfied: selenium in /usr/local/lib/python3.6/dist-packages (3.141.0)\n",
            "Requirement already satisfied: urllib3 in /usr/local/lib/python3.6/dist-packages (from selenium) (1.24.3)\n"
          ],
          "name": "stdout"
        }
      ]
    },
    {
      "cell_type": "code",
      "metadata": {
        "id": "4PBJk7r18r6s",
        "colab_type": "code",
        "colab": {
          "base_uri": "https://localhost:8080/",
          "height": 204
        },
        "outputId": "9cb7d72e-de20-4a36-ecea-9a77789a7f26"
      },
      "source": [
        "from selenium import webdriver\n",
        "from selenium.webdriver.common.keys import Keys\n",
        "from selenium.webdriver.chrome.options import Options\n",
        "import re\n",
        "import time\n",
        "import string\n",
        "from textblob import TextBlob\n",
        "import nltk\n",
        "from nltk.corpus import stopwords\n",
        "from nltk.tokenize import word_tokenize\n",
        "from nltk.stem import WordNetLemmatizer\n",
        "nltk.download(\"vader_lexicon\")\n",
        "nltk.download(\"brown\")\n",
        "nltk.download('stopwords')\n",
        "nltk.download(\"wordnet\")\n",
        "nltk.download(\"punkt\")"
      ],
      "execution_count": 2,
      "outputs": [
        {
          "output_type": "stream",
          "text": [
            "[nltk_data] Downloading package vader_lexicon to /root/nltk_data...\n",
            "[nltk_data]   Package vader_lexicon is already up-to-date!\n",
            "[nltk_data] Downloading package brown to /root/nltk_data...\n",
            "[nltk_data]   Package brown is already up-to-date!\n",
            "[nltk_data] Downloading package stopwords to /root/nltk_data...\n",
            "[nltk_data]   Package stopwords is already up-to-date!\n",
            "[nltk_data] Downloading package wordnet to /root/nltk_data...\n",
            "[nltk_data]   Package wordnet is already up-to-date!\n",
            "[nltk_data] Downloading package punkt to /root/nltk_data...\n",
            "[nltk_data]   Package punkt is already up-to-date!\n"
          ],
          "name": "stdout"
        },
        {
          "output_type": "execute_result",
          "data": {
            "text/plain": [
              "True"
            ]
          },
          "metadata": {
            "tags": []
          },
          "execution_count": 2
        }
      ]
    },
    {
      "cell_type": "markdown",
      "metadata": {
        "id": "yk92NQA_xnRY",
        "colab_type": "text"
      },
      "source": [
        "We need to scrape the song lyrics from websites or API to use here\n",
        "\n",
        "I am using selenium here and the speed is not the best at the moment so I might switch to scrapy or use an API"
      ]
    },
    {
      "cell_type": "code",
      "metadata": {
        "id": "XkOMR1z_4gAT",
        "colab_type": "code",
        "colab": {}
      },
      "source": [
        "chrome_options = Options()\n",
        "chrome_options.add_argument('--headless')\n",
        "chrome_options.add_argument('--no-sandbox')\n",
        "chrome_options.add_argument('--disable-dev-shm-usage')\n",
        "\n",
        "\n",
        "def get_track_link(track_name): # Gets track name from user and converts it so that we can use it in a link\n",
        "  #track_name = input(\"Enter a track name: \")\n",
        "  track_name_link = track_name.rstrip().replace(\" \",\"%20\").lower()\n",
        "  return track_name_link\n",
        "\n",
        "\n",
        "def scrape_tracklist(track_link): # Scrapes the page for list of tracks with similar names or such \n",
        "  driver = webdriver.Chrome(chrome_options=chrome_options)\n",
        "  driver.get(\"https://www.musixmatch.com/search/\" + track_link + \"/tracks\")\n",
        "  element = driver.find_element_by_class_name(\"box-content\")\n",
        "  link_list = [i.get_attribute('href') for i in element.find_elements_by_tag_name('a')]\n",
        "  driver.close()\n",
        "  lyric_links=[i for i in link_list if re.search(\"/lyrics/\",i)] #could do it in one line but for the sake of clarity, I'm gonna do two\n",
        "  lyric_links=[i for i in lyric_links if not re.search(\"/add\",i)]\n",
        "  return lyric_links\n",
        "\n",
        "\n",
        "def scrape_lyrics(lyric_links_list,choice): # Scrapes the lyrics element\n",
        "  driver = webdriver.Chrome(chrome_options=chrome_options)\n",
        "  driver.get(lyric_links_list[choice])\n",
        "  lyric_elem=driver.find_elements_by_class_name('mxm-lyrics__content')\n",
        "  lyric_elem= [i.find_element_by_tag_name('span') for i in lyric_elem] \n",
        "  lyric_elem= [i.get_attribute('innerHTML') for i in lyric_elem]\n",
        "  driver.close()\n",
        "  return lyric_elem\n",
        "\n",
        "\n",
        "def select_track(artist_track_list): # Lets the user select a track\n",
        "  sel=0\n",
        "  for track in artist_track_list:\n",
        "    print(f\"{track[0]+1} {track[1]} - {track[2]}\")\n",
        "  sel=int(input('Enter the number of your desired track: '))-1\n",
        "  return sel\n",
        "\n",
        "\n",
        "def get_lyric_element(track_link,choice=0): # Cleans up the lyric element and returns a cleaned list(array) with just lyrics inside\n",
        "  lyric_links_list = scrape_tracklist(track_link)\n",
        "  print(lyric_links_list)\n",
        "  artist_track_list = [[lyric_links_list.index(x), x.split(\"/\")[4],x.split('/')[5]] for x in lyric_links_list]\n",
        "  print(artist_track_list)\n",
        "  if len(artist_track_list) > 1 and choice != \"default\":\n",
        "    choice = select_track(artist_track_list)\n",
        "  elif len(artist_track_list) == 0 :\n",
        "    return \"Sorry! no such song\"\n",
        "  else:\n",
        "    choice=0\n",
        "  lyric_element = scrape_lyrics(lyric_links_list,choice)\n",
        "  return \" \".join(lyric_element)\n",
        "\n"
      ],
      "execution_count": 3,
      "outputs": []
    },
    {
      "cell_type": "code",
      "metadata": {
        "id": "o17rodiA74ZK",
        "colab_type": "code",
        "colab": {
          "base_uri": "https://localhost:8080/",
          "height": 35
        },
        "outputId": "ff11d44c-7f86-4070-dcff-a44d1267b422"
      },
      "source": [
        "track_name= \"grandson war\"\n",
        "track_link= get_track_link(track_name) #uncomment to activate function\n",
        "track_link"
      ],
      "execution_count": 4,
      "outputs": [
        {
          "output_type": "execute_result",
          "data": {
            "application/vnd.google.colaboratory.intrinsic+json": {
              "type": "string"
            },
            "text/plain": [
              "'grandson%20war'"
            ]
          },
          "metadata": {
            "tags": []
          },
          "execution_count": 4
        }
      ]
    },
    {
      "cell_type": "code",
      "metadata": {
        "id": "KTVwTxTAUAET",
        "colab_type": "code",
        "colab": {
          "base_uri": "https://localhost:8080/",
          "height": 205
        },
        "outputId": "c3735155-f198-48d7-989a-73449fe7d432"
      },
      "source": [
        "lyric_element = get_lyric_element(track_link,\"default\")\n",
        "lyric_element"
      ],
      "execution_count": 5,
      "outputs": [
        {
          "output_type": "stream",
          "text": [
            "/usr/local/lib/python3.6/dist-packages/ipykernel_launcher.py:14: DeprecationWarning: use options instead of chrome_options\n",
            "  \n"
          ],
          "name": "stderr"
        },
        {
          "output_type": "stream",
          "text": [
            "['https://www.musixmatch.com/lyrics/Grandson/War']\n",
            "[[0, 'Grandson', 'War']]\n"
          ],
          "name": "stdout"
        },
        {
          "output_type": "stream",
          "text": [
            "/usr/local/lib/python3.6/dist-packages/ipykernel_launcher.py:25: DeprecationWarning: use options instead of chrome_options\n"
          ],
          "name": "stderr"
        },
        {
          "output_type": "execute_result",
          "data": {
            "application/vnd.google.colaboratory.intrinsic+json": {
              "type": "string"
            },
            "text/plain": [
              "\"Until the philosophy, we chose one race superior\\nAnd another\\nInferior He's finally\\nAnd permanently\\nDiscredited and abandoned\\n\\nAnd it's war in the east\\nWar in the west\\nWar up north\\nWar down south\\n\\nAnd it's war in the east\\nWar in the west\\nWar up north\\nWar down south\\n\\nEverywhere is war\\nIt's a war\\nOh, everywhere is war\\nIt's a war\\n\\nAnd until there's no longer\\nFirst and second class citizens of any nation\\nIt's on\\nAnd until the color of a man's skin serves no more significance\\nThan the color of his eyes\\nWe say war\\n\\nAnd it's war in the east\\nWar in the west\\nWar up north\\nWar down south\\n\\nAnd it's war in the east\\nWar in the west\\nWar up north\\nWar down south\\nEverywhere is\\nOh, everywhere is war\\n\\nIt's a war\\nOh, everywhere is war\\nIt's a war\\nOh, everywhere is war\\n\\nLa, la, la, la, la, la, la\\nLa, la, la, la, la, la, la\\n(Everywhere is, everywhere is, everywhere is)\\n(Everywhere is, everywhere is, everywhere is)\\n\\nEverywhere is war\\nEverywhere is war\""
            ]
          },
          "metadata": {
            "tags": []
          },
          "execution_count": 5
        }
      ]
    },
    {
      "cell_type": "markdown",
      "metadata": {
        "id": "Az7OLBSnNByw",
        "colab_type": "text"
      },
      "source": [
        "The first part is done, web scraper should work fine. I did not implement error cases for now becuase I want to focus on the next two parts of the project\n"
      ]
    },
    {
      "cell_type": "code",
      "metadata": {
        "id": "TYQlJjY2Qg1v",
        "colab_type": "code",
        "colab": {}
      },
      "source": [
        "def filter_raw_lyrics(raw_lyr): #The scraped element has blanks and \\n's lets filter those \n",
        "  return [i for i in raw_lyr.split(\"\\n\") if i != '']\n",
        "\n",
        "#joiner\n",
        "def convert_arr_to_str(arr):\n",
        "  return \" \".join(arr)"
      ],
      "execution_count": 6,
      "outputs": []
    },
    {
      "cell_type": "code",
      "metadata": {
        "id": "LQue7oEkLt6c",
        "colab_type": "code",
        "colab": {
          "base_uri": "https://localhost:8080/",
          "height": 785
        },
        "outputId": "be81e6ce-30f7-47f4-d090-e2fe3ffe09b7"
      },
      "source": [
        "lyrics_as_array= filter_raw_lyrics(lyric_element)\n",
        "lyrics=convert_arr_to_str(lyrics_as_array) #returns a single string as lyrics\n",
        "lyrics,lyrics_as_array"
      ],
      "execution_count": 7,
      "outputs": [
        {
          "output_type": "execute_result",
          "data": {
            "text/plain": [
              "(\"Until the philosophy, we chose one race superior And another Inferior He's finally And permanently Discredited and abandoned And it's war in the east War in the west War up north War down south And it's war in the east War in the west War up north War down south Everywhere is war It's a war Oh, everywhere is war It's a war And until there's no longer First and second class citizens of any nation It's on And until the color of a man's skin serves no more significance Than the color of his eyes We say war And it's war in the east War in the west War up north War down south And it's war in the east War in the west War up north War down south Everywhere is Oh, everywhere is war It's a war Oh, everywhere is war It's a war Oh, everywhere is war La, la, la, la, la, la, la La, la, la, la, la, la, la (Everywhere is, everywhere is, everywhere is) (Everywhere is, everywhere is, everywhere is) Everywhere is war Everywhere is war\",\n",
              " ['Until the philosophy, we chose one race superior',\n",
              "  'And another',\n",
              "  \"Inferior He's finally\",\n",
              "  'And permanently',\n",
              "  'Discredited and abandoned',\n",
              "  \"And it's war in the east\",\n",
              "  'War in the west',\n",
              "  'War up north',\n",
              "  'War down south',\n",
              "  \"And it's war in the east\",\n",
              "  'War in the west',\n",
              "  'War up north',\n",
              "  'War down south',\n",
              "  'Everywhere is war',\n",
              "  \"It's a war\",\n",
              "  'Oh, everywhere is war',\n",
              "  \"It's a war\",\n",
              "  \"And until there's no longer\",\n",
              "  'First and second class citizens of any nation',\n",
              "  \"It's on\",\n",
              "  \"And until the color of a man's skin serves no more significance\",\n",
              "  'Than the color of his eyes',\n",
              "  'We say war',\n",
              "  \"And it's war in the east\",\n",
              "  'War in the west',\n",
              "  'War up north',\n",
              "  'War down south',\n",
              "  \"And it's war in the east\",\n",
              "  'War in the west',\n",
              "  'War up north',\n",
              "  'War down south',\n",
              "  'Everywhere is',\n",
              "  'Oh, everywhere is war',\n",
              "  \"It's a war\",\n",
              "  'Oh, everywhere is war',\n",
              "  \"It's a war\",\n",
              "  'Oh, everywhere is war',\n",
              "  'La, la, la, la, la, la, la',\n",
              "  'La, la, la, la, la, la, la',\n",
              "  '(Everywhere is, everywhere is, everywhere is)',\n",
              "  '(Everywhere is, everywhere is, everywhere is)',\n",
              "  'Everywhere is war',\n",
              "  'Everywhere is war'])"
            ]
          },
          "metadata": {
            "tags": []
          },
          "execution_count": 7
        }
      ]
    },
    {
      "cell_type": "markdown",
      "metadata": {
        "id": "6VP9nsugYZIS",
        "colab_type": "text"
      },
      "source": [
        "Well lets have some fun with the lyrics"
      ]
    },
    {
      "cell_type": "code",
      "metadata": {
        "id": "WQ9YEM_1kDvf",
        "colab_type": "code",
        "colab": {}
      },
      "source": [
        "def swfilter(word): #function we use in filter()\n",
        "  return word not in stopwords.words()\n",
        "\n",
        "def remove_stopword(lyr_arr):\n",
        "  return [\" \".join(filter(swfilter,sentence.split())) for sentence in lyr_arr]"
      ],
      "execution_count": 8,
      "outputs": []
    },
    {
      "cell_type": "code",
      "metadata": {
        "id": "HRDkBDQ3M43H",
        "colab_type": "code",
        "colab": {}
      },
      "source": [
        "contractions = { \n",
        "\"ain't\": \"am not / are not / is not / has not / have not\",\n",
        "\"aren't\": \"are not / am not\",\n",
        "\"can't\": \"cannot\",\n",
        "\"can't've\": \"cannot have\",\n",
        "\"'cause\": \"because\",\n",
        "\"could've\": \"could have\",\n",
        "\"couldn't\": \"could not\",\n",
        "\"couldn't've\": \"could not have\",\n",
        "\"didn't\": \"did not\",\n",
        "\"doesn't\": \"does not\",\n",
        "\"don't\": \"do not\",\n",
        "\"hadn't\": \"had not\",\n",
        "\"hadn't've\": \"had not have\",\n",
        "\"hasn't\": \"has not\",\n",
        "\"haven't\": \"have not\",\n",
        "\"he'd\": \"he had / he would\",\n",
        "\"he'd've\": \"he would have\",\n",
        "\"he'll\": \"he shall / he will\",\n",
        "\"he'll've\": \"he shall have / he will have\",\n",
        "\"he's\": \"he has / he is\",\n",
        "\"how'd\": \"how did\",\n",
        "\"how'd'y\": \"how do you\",\n",
        "\"how'll\": \"how will\",\n",
        "\"how's\": \"how has / how is / how does\",\n",
        "\"I'd\": \"I had / I would\",\n",
        "\"I'd've\": \"I would have\",\n",
        "\"I'll\": \"I shall / I will\",\n",
        "\"I'll've\": \"I shall have / I will have\",\n",
        "\"I'm\": \"I am\",\n",
        "\"I've\": \"I have\",\n",
        "\"isn't\": \"is not\",\n",
        "\"it'd\": \"it had / it would\",\n",
        "\"it'd've\": \"it would have\",\n",
        "\"it'll\": \"it shall / it will\",\n",
        "\"it'll've\": \"it shall have / it will have\",\n",
        "\"it's\": \"it has / it is\",\n",
        "\"let's\": \"let us\",\n",
        "\"ma'am\": \"madam\",\n",
        "\"mayn't\": \"may not\",\n",
        "\"might've\": \"might have\",\n",
        "\"mightn't\": \"might not\",\n",
        "\"mightn't've\": \"might not have\",\n",
        "\"must've\": \"must have\",\n",
        "\"mustn't\": \"must not\",\n",
        "\"mustn't've\": \"must not have\",\n",
        "\"needn't\": \"need not\",\n",
        "\"needn't've\": \"need not have\",\n",
        "\"o'clock\": \"of the clock\",\n",
        "\"oughtn't\": \"ought not\",\n",
        "\"oughtn't've\": \"ought not have\",\n",
        "\"shan't\": \"shall not\",\n",
        "\"sha'n't\": \"shall not\",\n",
        "\"shan't've\": \"shall not have\",\n",
        "\"she'd\": \"she had / she would\",\n",
        "\"she'd've\": \"she would have\",\n",
        "\"she'll\": \"she shall / she will\",\n",
        "\"she'll've\": \"she shall have / she will have\",\n",
        "\"she's\": \"she has / she is\",\n",
        "\"should've\": \"should have\",\n",
        "\"shouldn't\": \"should not\",\n",
        "\"shouldn't've\": \"should not have\",\n",
        "\"so've\": \"so have\",\n",
        "\"so's\": \"so as / so is\",\n",
        "\"that'd\": \"that would / that had\",\n",
        "\"that'd've\": \"that would have\",\n",
        "\"that's\": \"that has / that is\",\n",
        "\"there'd\": \"there had / there would\",\n",
        "\"there'd've\": \"there would have\",\n",
        "\"there's\": \"there has / there is\",\n",
        "\"they'd\": \"they had / they would\",\n",
        "\"they'd've\": \"they would have\",\n",
        "\"they'll\": \"they shall / they will\",\n",
        "\"they'll've\": \"they shall have / they will have\",\n",
        "\"they're\": \"they are\",\n",
        "\"they've\": \"they have\",\n",
        "\"to've\": \"to have\",\n",
        "\"wasn't\": \"was not\",\n",
        "\"we'd\": \"we had / we would\",\n",
        "\"we'd've\": \"we would have\",\n",
        "\"we'll\": \"we will\",\n",
        "\"we'll've\": \"we will have\",\n",
        "\"we're\": \"we are\",\n",
        "\"we've\": \"we have\",\n",
        "\"weren't\": \"were not\",\n",
        "\"what'll\": \"what shall / what will\",\n",
        "\"what'll've\": \"what shall have / what will have\",\n",
        "\"what're\": \"what are\",\n",
        "\"what's\": \"what has / what is\",\n",
        "\"what've\": \"what have\",\n",
        "\"when's\": \"when has / when is\",\n",
        "\"when've\": \"when have\",\n",
        "\"where'd\": \"where did\",\n",
        "\"where's\": \"where has / where is\",\n",
        "\"where've\": \"where have\",\n",
        "\"who'll\": \"who shall / who will\",\n",
        "\"who'll've\": \"who shall have / who will have\",\n",
        "\"who's\": \"who has / who is\",\n",
        "\"who've\": \"who have\",\n",
        "\"why's\": \"why has / why is\",\n",
        "\"why've\": \"why have\",\n",
        "\"will've\": \"will have\",\n",
        "\"won't\": \"will not\",\n",
        "\"won't've\": \"will not have\",\n",
        "\"would've\": \"would have\",\n",
        "\"wouldn't\": \"would not\",\n",
        "\"wouldn't've\": \"would not have\",\n",
        "\"y'all\": \"you all\",\n",
        "\"y'all'd\": \"you all would\",\n",
        "\"y'all'd've\": \"you all would have\",\n",
        "\"y'all're\": \"you all are\",\n",
        "\"y'all've\": \"you all have\",\n",
        "\"you'd\": \"you had / you would\",\n",
        "\"you'd've\": \"you would have\",\n",
        "\"you'll\": \"you shall / you will\",\n",
        "\"you'll've\": \"you shall have / you will have\",\n",
        "\"you're\": \"you are\",\n",
        "\"you've\": \"you have\"\n",
        "}\n",
        "\n",
        "def map_contraction(word): #function we use in map()\n",
        "  word=word.lower()\n",
        "  if word in contractions:\n",
        "    return contractions[word]\n",
        "  else: \n",
        "    return word\n",
        "\n",
        "def remove_contraction(lyr_arr):\n",
        "  return [\" \".join(map(map_contraction, sentence.split())) for sentence in lyr_arr]"
      ],
      "execution_count": 9,
      "outputs": []
    },
    {
      "cell_type": "code",
      "metadata": {
        "id": "08m1khdPO7HI",
        "colab_type": "code",
        "colab": {}
      },
      "source": [
        "wordnet_lemmatizer = WordNetLemmatizer()\n",
        "\n",
        "def map_lemmatize(word):\n",
        "  return wordnet_lemmatizer.lemmatize(word, pos=\"v\")\n",
        "\n",
        "def lemmatize_words(lyr_arr):\n",
        "  return [\" \".join(map(map_lemmatize, sentence.split())) for sentence in lyr_arr]"
      ],
      "execution_count": 10,
      "outputs": []
    },
    {
      "cell_type": "code",
      "metadata": {
        "id": "FLhCSifKh7Du",
        "colab_type": "code",
        "colab": {
          "base_uri": "https://localhost:8080/",
          "height": 785
        },
        "outputId": "ec5d3679-cbe4-484f-e18a-830d015b9a7a"
      },
      "source": [
        "lyrics_as_array_without_sw = remove_stopword(lyrics_as_array)\n",
        "lyrics_without_sw = convert_arr_to_str(lyrics_as_array_without_sw)\n",
        "lyrics_as_array_without_sw,lyrics_without_sw"
      ],
      "execution_count": null,
      "outputs": [
        {
          "output_type": "execute_result",
          "data": {
            "text/plain": [
              "(['Until philosophy, chose race superior',\n",
              "  'And another',\n",
              "  \"Inferior He's finally\",\n",
              "  'And permanently',\n",
              "  'Discredited abandoned',\n",
              "  'And east',\n",
              "  'War west',\n",
              "  'War north',\n",
              "  'War south',\n",
              "  'And east',\n",
              "  'War west',\n",
              "  'War north',\n",
              "  'War south',\n",
              "  'Everywhere',\n",
              "  \"It's\",\n",
              "  'Oh, everywhere',\n",
              "  \"It's\",\n",
              "  \"And there's longer\",\n",
              "  'First second class citizens nation',\n",
              "  \"It's\",\n",
              "  \"And color man's skin serves significance\",\n",
              "  'Than color eyes',\n",
              "  'We say',\n",
              "  'And east',\n",
              "  'War west',\n",
              "  'War north',\n",
              "  'War south',\n",
              "  'And east',\n",
              "  'War west',\n",
              "  'War north',\n",
              "  'War south',\n",
              "  'Everywhere',\n",
              "  'Oh, everywhere',\n",
              "  \"It's\",\n",
              "  'Oh, everywhere',\n",
              "  \"It's\",\n",
              "  'Oh, everywhere',\n",
              "  'La, la, la, la, la, la,',\n",
              "  'La, la, la, la, la, la,',\n",
              "  '(Everywhere is, everywhere is, everywhere is)',\n",
              "  '(Everywhere is, everywhere is, everywhere is)',\n",
              "  'Everywhere',\n",
              "  'Everywhere'],\n",
              " \"Until philosophy, chose race superior And another Inferior He's finally And permanently Discredited abandoned And east War west War north War south And east War west War north War south Everywhere It's Oh, everywhere It's And there's longer First second class citizens nation It's And color man's skin serves significance Than color eyes We say And east War west War north War south And east War west War north War south Everywhere Oh, everywhere It's Oh, everywhere It's Oh, everywhere La, la, la, la, la, la, La, la, la, la, la, la, (Everywhere is, everywhere is, everywhere is) (Everywhere is, everywhere is, everywhere is) Everywhere Everywhere\")"
            ]
          },
          "metadata": {
            "tags": []
          },
          "execution_count": 12
        }
      ]
    },
    {
      "cell_type": "code",
      "metadata": {
        "id": "5seAWVkpLsIO",
        "colab_type": "code",
        "colab": {
          "base_uri": "https://localhost:8080/",
          "height": 785
        },
        "outputId": "28cfbc4d-57d2-4db4-eb0b-27ba0217e505"
      },
      "source": [
        "lyrics_as_array_without_contraction = remove_contraction(lyrics_as_array)\n",
        "lyrics_without_contraction = convert_arr_to_str(lyrics_as_array_without_contraction)\n",
        "lyrics_as_array_without_contraction,lyrics_without_contraction"
      ],
      "execution_count": null,
      "outputs": [
        {
          "output_type": "execute_result",
          "data": {
            "text/plain": [
              "(['until the philosophy, we chose one race superior',\n",
              "  'and another',\n",
              "  'inferior he has / he is finally',\n",
              "  'and permanently',\n",
              "  'discredited and abandoned',\n",
              "  'and it has / it is war in the east',\n",
              "  'war in the west',\n",
              "  'war up north',\n",
              "  'war down south',\n",
              "  'and it has / it is war in the east',\n",
              "  'war in the west',\n",
              "  'war up north',\n",
              "  'war down south',\n",
              "  'everywhere is war',\n",
              "  'it has / it is a war',\n",
              "  'oh, everywhere is war',\n",
              "  'it has / it is a war',\n",
              "  'and until there has / there is no longer',\n",
              "  'first and second class citizens of any nation',\n",
              "  'it has / it is on',\n",
              "  \"and until the color of a man's skin serves no more significance\",\n",
              "  'than the color of his eyes',\n",
              "  'we say war',\n",
              "  'and it has / it is war in the east',\n",
              "  'war in the west',\n",
              "  'war up north',\n",
              "  'war down south',\n",
              "  'and it has / it is war in the east',\n",
              "  'war in the west',\n",
              "  'war up north',\n",
              "  'war down south',\n",
              "  'everywhere is',\n",
              "  'oh, everywhere is war',\n",
              "  'it has / it is a war',\n",
              "  'oh, everywhere is war',\n",
              "  'it has / it is a war',\n",
              "  'oh, everywhere is war',\n",
              "  'la, la, la, la, la, la, la',\n",
              "  'la, la, la, la, la, la, la',\n",
              "  '(everywhere is, everywhere is, everywhere is)',\n",
              "  '(everywhere is, everywhere is, everywhere is)',\n",
              "  'everywhere is war',\n",
              "  'everywhere is war'],\n",
              " \"until the philosophy, we chose one race superior and another inferior he has / he is finally and permanently discredited and abandoned and it has / it is war in the east war in the west war up north war down south and it has / it is war in the east war in the west war up north war down south everywhere is war it has / it is a war oh, everywhere is war it has / it is a war and until there has / there is no longer first and second class citizens of any nation it has / it is on and until the color of a man's skin serves no more significance than the color of his eyes we say war and it has / it is war in the east war in the west war up north war down south and it has / it is war in the east war in the west war up north war down south everywhere is oh, everywhere is war it has / it is a war oh, everywhere is war it has / it is a war oh, everywhere is war la, la, la, la, la, la, la la, la, la, la, la, la, la (everywhere is, everywhere is, everywhere is) (everywhere is, everywhere is, everywhere is) everywhere is war everywhere is war\")"
            ]
          },
          "metadata": {
            "tags": []
          },
          "execution_count": 13
        }
      ]
    },
    {
      "cell_type": "code",
      "metadata": {
        "id": "jppaYBrLTYI5",
        "colab_type": "code",
        "colab": {
          "base_uri": "https://localhost:8080/",
          "height": 785
        },
        "outputId": "f011b749-7fec-46a2-bb1a-604b634e509f"
      },
      "source": [
        "lyrics_as_array_with_lemmatized_words=lemmatize_words(lyrics_as_array)\n",
        "lyrics_with_lemmatized_words=convert_arr_to_str(lyrics_as_array_with_lemmatized_words)\n",
        "lyrics_as_array_with_lemmatized_words,lyrics_with_lemmatized_words"
      ],
      "execution_count": null,
      "outputs": [
        {
          "output_type": "execute_result",
          "data": {
            "text/plain": [
              "(['Until the philosophy, we choose one race superior',\n",
              "  'And another',\n",
              "  \"Inferior He's finally\",\n",
              "  'And permanently',\n",
              "  'Discredited and abandon',\n",
              "  \"And it's war in the east\",\n",
              "  'War in the west',\n",
              "  'War up north',\n",
              "  'War down south',\n",
              "  \"And it's war in the east\",\n",
              "  'War in the west',\n",
              "  'War up north',\n",
              "  'War down south',\n",
              "  'Everywhere be war',\n",
              "  \"It's a war\",\n",
              "  'Oh, everywhere be war',\n",
              "  \"It's a war\",\n",
              "  \"And until there's no longer\",\n",
              "  'First and second class citizens of any nation',\n",
              "  \"It's on\",\n",
              "  \"And until the color of a man's skin serve no more significance\",\n",
              "  'Than the color of his eye',\n",
              "  'We say war',\n",
              "  \"And it's war in the east\",\n",
              "  'War in the west',\n",
              "  'War up north',\n",
              "  'War down south',\n",
              "  \"And it's war in the east\",\n",
              "  'War in the west',\n",
              "  'War up north',\n",
              "  'War down south',\n",
              "  'Everywhere be',\n",
              "  'Oh, everywhere be war',\n",
              "  \"It's a war\",\n",
              "  'Oh, everywhere be war',\n",
              "  \"It's a war\",\n",
              "  'Oh, everywhere be war',\n",
              "  'La, la, la, la, la, la, la',\n",
              "  'La, la, la, la, la, la, la',\n",
              "  '(Everywhere is, everywhere is, everywhere is)',\n",
              "  '(Everywhere is, everywhere is, everywhere is)',\n",
              "  'Everywhere be war',\n",
              "  'Everywhere be war'],\n",
              " \"Until the philosophy, we choose one race superior And another Inferior He's finally And permanently Discredited and abandon And it's war in the east War in the west War up north War down south And it's war in the east War in the west War up north War down south Everywhere be war It's a war Oh, everywhere be war It's a war And until there's no longer First and second class citizens of any nation It's on And until the color of a man's skin serve no more significance Than the color of his eye We say war And it's war in the east War in the west War up north War down south And it's war in the east War in the west War up north War down south Everywhere be Oh, everywhere be war It's a war Oh, everywhere be war It's a war Oh, everywhere be war La, la, la, la, la, la, la La, la, la, la, la, la, la (Everywhere is, everywhere is, everywhere is) (Everywhere is, everywhere is, everywhere is) Everywhere be war Everywhere be war\")"
            ]
          },
          "metadata": {
            "tags": []
          },
          "execution_count": 14
        }
      ]
    },
    {
      "cell_type": "code",
      "metadata": {
        "id": "Rlxpc9TSPeye",
        "colab_type": "code",
        "colab": {}
      },
      "source": [
        ""
      ],
      "execution_count": null,
      "outputs": []
    },
    {
      "cell_type": "markdown",
      "metadata": {
        "id": "LIKy4ZTeLtq0",
        "colab_type": "text"
      },
      "source": [
        "\n",
        "Next we have to tackle the sentimantal analysis part. We aim to try bag of words then use NLTK on every line might be slow but I like to give prominence to accuracy"
      ]
    },
    {
      "cell_type": "code",
      "metadata": {
        "id": "HNby6GGN_GmP",
        "colab_type": "code",
        "colab": {
          "base_uri": "https://localhost:8080/",
          "height": 71
        },
        "outputId": "8ae23514-e3ad-4fc6-ccd7-c150ba9720ad"
      },
      "source": [
        "from nltk.sentiment.vader import SentimentIntensityAnalyzer\n",
        "sia=SentimentIntensityAnalyzer()\n",
        "def get_vader_score(lyr):\n",
        "  # Polarity score returns dictionary\n",
        "  sentiment = sia.polarity_scores(lyr)\n",
        "  return sentiment['compound']\n",
        "  \"\"\"\n",
        "  print(ss)\n",
        "  print(ss['compound'])\n",
        "  ss.pop(\"compound\")\n",
        "  print(\"ss=\",ss)\n",
        "  x=sorted(ss.values(), reverse=True)[0]\n",
        "  for i in ss.keys():\n",
        "    if ss[i]==x:\n",
        "      if \"i\" == \"neg\":\n",
        "        ss[i]=-(ss[i])\n",
        "      print(ss[i])\n",
        "  \"\"\"  "
      ],
      "execution_count": 11,
      "outputs": [
        {
          "output_type": "stream",
          "text": [
            "/usr/local/lib/python3.6/dist-packages/nltk/twitter/__init__.py:20: UserWarning: The twython library has not been installed. Some functionality from the twitter package will not be available.\n",
            "  warnings.warn(\"The twython library has not been installed. \"\n"
          ],
          "name": "stderr"
        }
      ]
    },
    {
      "cell_type": "code",
      "metadata": {
        "id": "mEAOfMIdX-hW",
        "colab_type": "code",
        "colab": {
          "base_uri": "https://localhost:8080/",
          "height": 34
        },
        "outputId": "b1b42e38-17e5-47c5-cba7-24b0c8d110c1"
      },
      "source": [
        "get_vader_score(lyrics)"
      ],
      "execution_count": null,
      "outputs": [
        {
          "output_type": "execute_result",
          "data": {
            "text/plain": [
              "-0.999"
            ]
          },
          "metadata": {
            "tags": []
          },
          "execution_count": 16
        }
      ]
    },
    {
      "cell_type": "code",
      "metadata": {
        "id": "5BY40KnADOsg",
        "colab_type": "code",
        "colab": {}
      },
      "source": [
        "def get_textblob_score(lyr):\n",
        "  blob=TextBlob(lyr)\n",
        "  return blob.polarity"
      ],
      "execution_count": 12,
      "outputs": []
    },
    {
      "cell_type": "code",
      "metadata": {
        "id": "T_T8jiWFZF6I",
        "colab_type": "code",
        "colab": {
          "base_uri": "https://localhost:8080/",
          "height": 34
        },
        "outputId": "e91fa0bc-9ed2-4596-fefe-583ddf876d4a"
      },
      "source": [
        "get_textblob_score(lyrics)"
      ],
      "execution_count": null,
      "outputs": [
        {
          "output_type": "execute_result",
          "data": {
            "text/plain": [
              "0.008641975308641962"
            ]
          },
          "metadata": {
            "tags": []
          },
          "execution_count": 18
        }
      ]
    },
    {
      "cell_type": "code",
      "metadata": {
        "id": "kh64lMmK3T8T",
        "colab_type": "code",
        "colab": {
          "base_uri": "https://localhost:8080/",
          "height": 204
        },
        "outputId": "a71a730b-3af2-482a-bb8b-1d4d5dfd2fbd"
      },
      "source": [
        "!pip install watson_developer_cloud\n",
        "from watson_developer_cloud import NaturalLanguageUnderstandingV1\n",
        "from watson_developer_cloud.natural_language_understanding_v1 import Features, EntitiesOptions, KeywordsOptions, SentimentOptions, CategoriesOptions\n",
        "natural_language_understanding = NaturalLanguageUnderstandingV1(                                         \n",
        "    version='2018-11-16',\n",
        "    iam_apikey=\"hzkkbjivKNHfoi3cFlMBOPG6-YHLc-7CAQKwXn8Rt7JT\", \n",
        "    url=\"https://api.eu-gb.natural-language-understanding.watson.cloud.ibm.com/instances/512aa79c-a8ba-43fa-b9d5-a4382099b06f\" # paste the url here\n",
        "    )\n",
        "def get_watson_score(input_text): \n",
        "  try:\n",
        "    response = natural_language_understanding.analyze (\n",
        "    text = input_text,\n",
        "    features = Features(sentiment=SentimentOptions())).get_result()\n",
        "    res = response.get('sentiment').get('document').get('score')\n",
        "    return res\n",
        "  except Exception as exception:\n",
        "    print(\"error\",input_text,type(exception).__name__)\n",
        "    return 0"
      ],
      "execution_count": 71,
      "outputs": [
        {
          "output_type": "stream",
          "text": [
            "Requirement already satisfied: watson_developer_cloud in /usr/local/lib/python3.6/dist-packages (2.10.1)\n",
            "Requirement already satisfied: python-dateutil>=2.5.3 in /usr/local/lib/python3.6/dist-packages (from watson_developer_cloud) (2.8.1)\n",
            "Requirement already satisfied: websocket-client==0.48.0 in /usr/local/lib/python3.6/dist-packages (from watson_developer_cloud) (0.48.0)\n",
            "Requirement already satisfied: requests<3.0,>=2.0 in /usr/local/lib/python3.6/dist-packages (from watson_developer_cloud) (2.23.0)\n",
            "Requirement already satisfied: six>=1.5 in /usr/local/lib/python3.6/dist-packages (from python-dateutil>=2.5.3->watson_developer_cloud) (1.15.0)\n",
            "Requirement already satisfied: urllib3!=1.25.0,!=1.25.1,<1.26,>=1.21.1 in /usr/local/lib/python3.6/dist-packages (from requests<3.0,>=2.0->watson_developer_cloud) (1.24.3)\n",
            "Requirement already satisfied: certifi>=2017.4.17 in /usr/local/lib/python3.6/dist-packages (from requests<3.0,>=2.0->watson_developer_cloud) (2020.6.20)\n",
            "Requirement already satisfied: idna<3,>=2.5 in /usr/local/lib/python3.6/dist-packages (from requests<3.0,>=2.0->watson_developer_cloud) (2.10)\n",
            "Requirement already satisfied: chardet<4,>=3.0.2 in /usr/local/lib/python3.6/dist-packages (from requests<3.0,>=2.0->watson_developer_cloud) (3.0.4)\n"
          ],
          "name": "stdout"
        },
        {
          "output_type": "stream",
          "text": [
            "/usr/local/lib/python3.6/dist-packages/ipykernel_launcher.py:7: DeprecationWarning: watson-developer-cloud moved to ibm-watson. To get updates, use the new package.\n",
            "  import sys\n"
          ],
          "name": "stderr"
        }
      ]
    },
    {
      "cell_type": "code",
      "metadata": {
        "id": "h__hoNXV31WM",
        "colab_type": "code",
        "colab": {
          "base_uri": "https://localhost:8080/",
          "height": 34
        },
        "outputId": "5ed40d56-83c4-42cf-cd91-3ef4a8806dd8"
      },
      "source": [
        "get_watson_score(lyrics)"
      ],
      "execution_count": 14,
      "outputs": [
        {
          "output_type": "execute_result",
          "data": {
            "text/plain": [
              "-0.777161"
            ]
          },
          "metadata": {
            "tags": []
          },
          "execution_count": 14
        }
      ]
    },
    {
      "cell_type": "code",
      "metadata": {
        "id": "-z8CTrySjEa1",
        "colab_type": "code",
        "colab": {}
      },
      "source": [
        "sentiment_score_fns=[get_textblob_score,get_vader_score]"
      ],
      "execution_count": null,
      "outputs": []
    },
    {
      "cell_type": "markdown",
      "metadata": {
        "id": "Td-oDHMLdq7V",
        "colab_type": "text"
      },
      "source": [
        ""
      ]
    },
    {
      "cell_type": "code",
      "metadata": {
        "id": "81XZnqaATb6C",
        "colab_type": "code",
        "colab": {}
      },
      "source": [
        "# Returns all transformed arrays and further maps the arrays \n",
        "\n",
        "def get_lyric_arrays(lyr_arr):\n",
        "  return [lyr_arr,\n",
        "          remove_stopword(lyr_arr),\n",
        "          remove_contraction(lyr_arr),\n",
        "          lemmatize_words(lyr_arr),\n",
        "          remove_contraction(remove_stopword(lyr_arr)),\n",
        "          lemmatize_words(remove_stopword(lyr_arr)),\n",
        "          remove_contraction(lemmatize_words(lyr_arr)),\n",
        "          lemmatize_words(remove_contraction(remove_stopword(lyr_arr)))]\n",
        "\n",
        "def get_lyrics(arr):\n",
        "  return list(map(convert_arr_to_str,arr))\n"
      ],
      "execution_count": 20,
      "outputs": []
    },
    {
      "cell_type": "code",
      "metadata": {
        "id": "9SZw2TvnX2tR",
        "colab_type": "code",
        "colab": {}
      },
      "source": [
        "\n",
        "list_of_converted_lyr_arr=get_lyric_arrays(lyrics_as_array) #returns a tuple with 3 items lyrics, lyrics without stop wordsm \n",
        "list_of_converted_lyr=get_lyrics(list_of_converted_lyr_arr)"
      ],
      "execution_count": 21,
      "outputs": []
    },
    {
      "cell_type": "code",
      "metadata": {
        "id": "7bmTJuKa59-l",
        "colab_type": "code",
        "colab": {}
      },
      "source": [
        "import pandas as pd \n",
        "import numpy as np"
      ],
      "execution_count": 22,
      "outputs": []
    },
    {
      "cell_type": "code",
      "metadata": {
        "id": "8SqLjkTZxodg",
        "colab_type": "code",
        "colab": {
          "base_uri": "https://localhost:8080/",
          "height": 297
        },
        "outputId": "42874c1f-7f43-4cab-d416-2c46cca5b208"
      },
      "source": [
        "df=pd.DataFrame(index=[\"Lyrics\",\"SW\",\"CO\",\"LM\",\"SW-CO\",\"SW-LM\",\"CO-LM\",\"SW-CO-LM\"],columns=[\"Textblob\",\"Textblob per line\",\"Textblob nonzero\",\"Vader\",\"Vader per line\",\"Vader nonzero\",\"Watson\",\"Watson per line\",\"Watson nonzero\"])\n",
        "df"
      ],
      "execution_count": 24,
      "outputs": [
        {
          "output_type": "execute_result",
          "data": {
            "text/html": [
              "<div>\n",
              "<style scoped>\n",
              "    .dataframe tbody tr th:only-of-type {\n",
              "        vertical-align: middle;\n",
              "    }\n",
              "\n",
              "    .dataframe tbody tr th {\n",
              "        vertical-align: top;\n",
              "    }\n",
              "\n",
              "    .dataframe thead th {\n",
              "        text-align: right;\n",
              "    }\n",
              "</style>\n",
              "<table border=\"1\" class=\"dataframe\">\n",
              "  <thead>\n",
              "    <tr style=\"text-align: right;\">\n",
              "      <th></th>\n",
              "      <th>Textblob</th>\n",
              "      <th>Textblob per line</th>\n",
              "      <th>Textblob nonzero</th>\n",
              "      <th>Vader</th>\n",
              "      <th>Vader per line</th>\n",
              "      <th>Vader nonzero</th>\n",
              "      <th>Watson</th>\n",
              "      <th>Watson per line</th>\n",
              "      <th>Watson nonzero</th>\n",
              "    </tr>\n",
              "  </thead>\n",
              "  <tbody>\n",
              "    <tr>\n",
              "      <th>Lyrics</th>\n",
              "      <td>NaN</td>\n",
              "      <td>NaN</td>\n",
              "      <td>NaN</td>\n",
              "      <td>NaN</td>\n",
              "      <td>NaN</td>\n",
              "      <td>NaN</td>\n",
              "      <td>NaN</td>\n",
              "      <td>NaN</td>\n",
              "      <td>NaN</td>\n",
              "    </tr>\n",
              "    <tr>\n",
              "      <th>SW</th>\n",
              "      <td>NaN</td>\n",
              "      <td>NaN</td>\n",
              "      <td>NaN</td>\n",
              "      <td>NaN</td>\n",
              "      <td>NaN</td>\n",
              "      <td>NaN</td>\n",
              "      <td>NaN</td>\n",
              "      <td>NaN</td>\n",
              "      <td>NaN</td>\n",
              "    </tr>\n",
              "    <tr>\n",
              "      <th>CO</th>\n",
              "      <td>NaN</td>\n",
              "      <td>NaN</td>\n",
              "      <td>NaN</td>\n",
              "      <td>NaN</td>\n",
              "      <td>NaN</td>\n",
              "      <td>NaN</td>\n",
              "      <td>NaN</td>\n",
              "      <td>NaN</td>\n",
              "      <td>NaN</td>\n",
              "    </tr>\n",
              "    <tr>\n",
              "      <th>LM</th>\n",
              "      <td>NaN</td>\n",
              "      <td>NaN</td>\n",
              "      <td>NaN</td>\n",
              "      <td>NaN</td>\n",
              "      <td>NaN</td>\n",
              "      <td>NaN</td>\n",
              "      <td>NaN</td>\n",
              "      <td>NaN</td>\n",
              "      <td>NaN</td>\n",
              "    </tr>\n",
              "    <tr>\n",
              "      <th>SW-CO</th>\n",
              "      <td>NaN</td>\n",
              "      <td>NaN</td>\n",
              "      <td>NaN</td>\n",
              "      <td>NaN</td>\n",
              "      <td>NaN</td>\n",
              "      <td>NaN</td>\n",
              "      <td>NaN</td>\n",
              "      <td>NaN</td>\n",
              "      <td>NaN</td>\n",
              "    </tr>\n",
              "    <tr>\n",
              "      <th>SW-LM</th>\n",
              "      <td>NaN</td>\n",
              "      <td>NaN</td>\n",
              "      <td>NaN</td>\n",
              "      <td>NaN</td>\n",
              "      <td>NaN</td>\n",
              "      <td>NaN</td>\n",
              "      <td>NaN</td>\n",
              "      <td>NaN</td>\n",
              "      <td>NaN</td>\n",
              "    </tr>\n",
              "    <tr>\n",
              "      <th>CO-LM</th>\n",
              "      <td>NaN</td>\n",
              "      <td>NaN</td>\n",
              "      <td>NaN</td>\n",
              "      <td>NaN</td>\n",
              "      <td>NaN</td>\n",
              "      <td>NaN</td>\n",
              "      <td>NaN</td>\n",
              "      <td>NaN</td>\n",
              "      <td>NaN</td>\n",
              "    </tr>\n",
              "    <tr>\n",
              "      <th>SW-CO-LM</th>\n",
              "      <td>NaN</td>\n",
              "      <td>NaN</td>\n",
              "      <td>NaN</td>\n",
              "      <td>NaN</td>\n",
              "      <td>NaN</td>\n",
              "      <td>NaN</td>\n",
              "      <td>NaN</td>\n",
              "      <td>NaN</td>\n",
              "      <td>NaN</td>\n",
              "    </tr>\n",
              "  </tbody>\n",
              "</table>\n",
              "</div>"
            ],
            "text/plain": [
              "         Textblob Textblob per line  ... Watson per line Watson nonzero\n",
              "Lyrics        NaN               NaN  ...             NaN            NaN\n",
              "SW            NaN               NaN  ...             NaN            NaN\n",
              "CO            NaN               NaN  ...             NaN            NaN\n",
              "LM            NaN               NaN  ...             NaN            NaN\n",
              "SW-CO         NaN               NaN  ...             NaN            NaN\n",
              "SW-LM         NaN               NaN  ...             NaN            NaN\n",
              "CO-LM         NaN               NaN  ...             NaN            NaN\n",
              "SW-CO-LM      NaN               NaN  ...             NaN            NaN\n",
              "\n",
              "[8 rows x 9 columns]"
            ]
          },
          "metadata": {
            "tags": []
          },
          "execution_count": 24
        }
      ]
    },
    {
      "cell_type": "code",
      "metadata": {
        "id": "zSoKrq-wd-QH",
        "colab_type": "code",
        "colab": {}
      },
      "source": [
        "df[\"Textblob\"]=list(map(get_textblob_score,list_of_converted_lyr))\n",
        "df[\"Vader\"]=list(map(get_vader_score,list_of_converted_lyr))\n",
        "df[\"Watson\"]=list(map(get_watson_score,list_of_converted_lyr))"
      ],
      "execution_count": 25,
      "outputs": []
    },
    {
      "cell_type": "code",
      "metadata": {
        "id": "eJD4sY1ZhZ3E",
        "colab_type": "code",
        "colab": {}
      },
      "source": [
        "textblob_per_line=[]\n",
        "for trans in list_of_converted_lyr_arr:\n",
        "  textblob_per_line.append(list(map(get_textblob_score,trans)))\n",
        "\n",
        "df[\"Textblob per line\"]=list(map(np.mean,textblob_per_line))\n",
        "#textblob_per_line"
      ],
      "execution_count": 26,
      "outputs": []
    },
    {
      "cell_type": "code",
      "metadata": {
        "id": "yI4US-9axekY",
        "colab_type": "code",
        "colab": {}
      },
      "source": [
        "vader_per_line=[]\n",
        "for trans in list_of_converted_lyr_arr:\n",
        "  vader_per_line.append(list(map(get_vader_score,trans)))\n",
        "\n",
        "df[\"Vader per line\"]=list(map(np.mean,vader_per_line))\n",
        "#vader_per_line"
      ],
      "execution_count": 27,
      "outputs": []
    },
    {
      "cell_type": "code",
      "metadata": {
        "id": "FwwTAbZq5jkF",
        "colab_type": "code",
        "colab": {}
      },
      "source": [
        "def watson_min_words_arr(arr): #watson has minimum requirement to perform sentiment analysis\n",
        "  x=\"\" \n",
        "  watson_arr=[]\n",
        "  for line in arr:\n",
        "    if len(line.split())+len(x.split())<4:\n",
        "      x=x+line+\" \"\n",
        "      continue\n",
        "    if x!= \"\" : line=x+line\n",
        "    x=\"\"\n",
        "    watson_arr.append(line)\n",
        "  return watson_arr \n",
        "\n"
      ],
      "execution_count": 35,
      "outputs": []
    },
    {
      "cell_type": "code",
      "metadata": {
        "id": "jWzAOZFQUSj0",
        "colab_type": "code",
        "colab": {
          "base_uri": "https://localhost:8080/",
          "height": 1000
        },
        "outputId": "a03f593b-8633-48fc-e96c-290749c52846"
      },
      "source": [
        "converted_watson_arr=list(map(watson_min_words_arr,list_of_converted_lyr_arr))\n",
        "converted_watson_arr"
      ],
      "execution_count": 40,
      "outputs": [
        {
          "output_type": "execute_result",
          "data": {
            "text/plain": [
              "[['Until the philosophy, we chose one race superior',\n",
              "  \"And another Inferior He's finally\",\n",
              "  'And permanently Discredited and abandoned',\n",
              "  \"And it's war in the east\",\n",
              "  'War in the west',\n",
              "  'War up north War down south',\n",
              "  \"And it's war in the east\",\n",
              "  'War in the west',\n",
              "  'War up north War down south',\n",
              "  \"Everywhere is war It's a war\",\n",
              "  'Oh, everywhere is war',\n",
              "  \"It's a war And until there's no longer\",\n",
              "  'First and second class citizens of any nation',\n",
              "  \"It's on And until the color of a man's skin serves no more significance\",\n",
              "  'Than the color of his eyes',\n",
              "  \"We say war And it's war in the east\",\n",
              "  'War in the west',\n",
              "  'War up north War down south',\n",
              "  \"And it's war in the east\",\n",
              "  'War in the west',\n",
              "  'War up north War down south',\n",
              "  'Everywhere is Oh, everywhere is war',\n",
              "  \"It's a war Oh, everywhere is war\",\n",
              "  \"It's a war Oh, everywhere is war\",\n",
              "  'La, la, la, la, la, la, la',\n",
              "  'La, la, la, la, la, la, la',\n",
              "  '(Everywhere is, everywhere is, everywhere is)',\n",
              "  '(Everywhere is, everywhere is, everywhere is)',\n",
              "  'Everywhere is war Everywhere is war'],\n",
              " ['Until philosophy, chose race superior',\n",
              "  \"And another Inferior He's finally\",\n",
              "  'And permanently Discredited abandoned',\n",
              "  'And east War west',\n",
              "  'War north War south',\n",
              "  'And east War west',\n",
              "  'War north War south',\n",
              "  \"Everywhere It's Oh, everywhere\",\n",
              "  \"It's And there's longer\",\n",
              "  'First second class citizens nation',\n",
              "  \"It's And color man's skin serves significance\",\n",
              "  'Than color eyes We say',\n",
              "  'And east War west',\n",
              "  'War north War south',\n",
              "  'And east War west',\n",
              "  'War north War south',\n",
              "  \"Everywhere Oh, everywhere It's\",\n",
              "  \"Oh, everywhere It's Oh, everywhere\",\n",
              "  'La, la, la, la, la, la,',\n",
              "  'La, la, la, la, la, la,',\n",
              "  '(Everywhere is, everywhere is, everywhere is)',\n",
              "  '(Everywhere is, everywhere is, everywhere is)'],\n",
              " ['until the philosophy, we chose one race superior',\n",
              "  'and another inferior he has / he is finally',\n",
              "  'and permanently discredited and abandoned',\n",
              "  'and it has / it is war in the east',\n",
              "  'war in the west',\n",
              "  'war up north war down south',\n",
              "  'and it has / it is war in the east',\n",
              "  'war in the west',\n",
              "  'war up north war down south',\n",
              "  'everywhere is war it has / it is a war',\n",
              "  'oh, everywhere is war',\n",
              "  'it has / it is a war',\n",
              "  'and until there has / there is no longer',\n",
              "  'first and second class citizens of any nation',\n",
              "  'it has / it is on',\n",
              "  \"and until the color of a man's skin serves no more significance\",\n",
              "  'than the color of his eyes',\n",
              "  'we say war and it has / it is war in the east',\n",
              "  'war in the west',\n",
              "  'war up north war down south',\n",
              "  'and it has / it is war in the east',\n",
              "  'war in the west',\n",
              "  'war up north war down south',\n",
              "  'everywhere is oh, everywhere is war',\n",
              "  'it has / it is a war',\n",
              "  'oh, everywhere is war',\n",
              "  'it has / it is a war',\n",
              "  'oh, everywhere is war',\n",
              "  'la, la, la, la, la, la, la',\n",
              "  'la, la, la, la, la, la, la',\n",
              "  '(everywhere is, everywhere is, everywhere is)',\n",
              "  '(everywhere is, everywhere is, everywhere is)',\n",
              "  'everywhere is war everywhere is war'],\n",
              " ['Until the philosophy, we choose one race superior',\n",
              "  \"And another Inferior He's finally\",\n",
              "  'And permanently Discredited and abandon',\n",
              "  \"And it's war in the east\",\n",
              "  'War in the west',\n",
              "  'War up north War down south',\n",
              "  \"And it's war in the east\",\n",
              "  'War in the west',\n",
              "  'War up north War down south',\n",
              "  \"Everywhere be war It's a war\",\n",
              "  'Oh, everywhere be war',\n",
              "  \"It's a war And until there's no longer\",\n",
              "  'First and second class citizens of any nation',\n",
              "  \"It's on And until the color of a man's skin serve no more significance\",\n",
              "  'Than the color of his eye',\n",
              "  \"We say war And it's war in the east\",\n",
              "  'War in the west',\n",
              "  'War up north War down south',\n",
              "  \"And it's war in the east\",\n",
              "  'War in the west',\n",
              "  'War up north War down south',\n",
              "  'Everywhere be Oh, everywhere be war',\n",
              "  \"It's a war Oh, everywhere be war\",\n",
              "  \"It's a war Oh, everywhere be war\",\n",
              "  'La, la, la, la, la, la, la',\n",
              "  'La, la, la, la, la, la, la',\n",
              "  '(Everywhere is, everywhere is, everywhere is)',\n",
              "  '(Everywhere is, everywhere is, everywhere is)',\n",
              "  'Everywhere be war Everywhere be war'],\n",
              " ['until philosophy, chose race superior',\n",
              "  'and another inferior he has / he is finally',\n",
              "  'and permanently discredited abandoned',\n",
              "  'and east war west',\n",
              "  'war north war south',\n",
              "  'and east war west',\n",
              "  'war north war south',\n",
              "  'everywhere it has / it is',\n",
              "  'oh, everywhere it has / it is',\n",
              "  'and there has / there is longer',\n",
              "  'first second class citizens nation',\n",
              "  'it has / it is',\n",
              "  \"and color man's skin serves significance\",\n",
              "  'than color eyes we say',\n",
              "  'and east war west',\n",
              "  'war north war south',\n",
              "  'and east war west',\n",
              "  'war north war south',\n",
              "  'everywhere oh, everywhere it has / it is',\n",
              "  'oh, everywhere it has / it is',\n",
              "  'oh, everywhere la, la, la, la, la, la,',\n",
              "  'la, la, la, la, la, la,',\n",
              "  '(everywhere is, everywhere is, everywhere is)',\n",
              "  '(everywhere is, everywhere is, everywhere is)'],\n",
              " ['Until philosophy, choose race superior',\n",
              "  \"And another Inferior He's finally\",\n",
              "  'And permanently Discredited abandon',\n",
              "  'And east War west',\n",
              "  'War north War south',\n",
              "  'And east War west',\n",
              "  'War north War south',\n",
              "  \"Everywhere It's Oh, everywhere\",\n",
              "  \"It's And there's longer\",\n",
              "  'First second class citizens nation',\n",
              "  \"It's And color man's skin serve significance\",\n",
              "  'Than color eye We say',\n",
              "  'And east War west',\n",
              "  'War north War south',\n",
              "  'And east War west',\n",
              "  'War north War south',\n",
              "  \"Everywhere Oh, everywhere It's\",\n",
              "  \"Oh, everywhere It's Oh, everywhere\",\n",
              "  'La, la, la, la, la, la,',\n",
              "  'La, la, la, la, la, la,',\n",
              "  '(Everywhere is, everywhere is, everywhere is)',\n",
              "  '(Everywhere is, everywhere is, everywhere is)'],\n",
              " ['until the philosophy, we choose one race superior',\n",
              "  'and another inferior he has / he is finally',\n",
              "  'and permanently discredited and abandon',\n",
              "  'and it has / it is war in the east',\n",
              "  'war in the west',\n",
              "  'war up north war down south',\n",
              "  'and it has / it is war in the east',\n",
              "  'war in the west',\n",
              "  'war up north war down south',\n",
              "  'everywhere be war it has / it is a war',\n",
              "  'oh, everywhere be war',\n",
              "  'it has / it is a war',\n",
              "  'and until there has / there is no longer',\n",
              "  'first and second class citizens of any nation',\n",
              "  'it has / it is on',\n",
              "  \"and until the color of a man's skin serve no more significance\",\n",
              "  'than the color of his eye',\n",
              "  'we say war and it has / it is war in the east',\n",
              "  'war in the west',\n",
              "  'war up north war down south',\n",
              "  'and it has / it is war in the east',\n",
              "  'war in the west',\n",
              "  'war up north war down south',\n",
              "  'everywhere be oh, everywhere be war',\n",
              "  'it has / it is a war',\n",
              "  'oh, everywhere be war',\n",
              "  'it has / it is a war',\n",
              "  'oh, everywhere be war',\n",
              "  'la, la, la, la, la, la, la',\n",
              "  'la, la, la, la, la, la, la',\n",
              "  '(everywhere is, everywhere is, everywhere is)',\n",
              "  '(everywhere is, everywhere is, everywhere is)',\n",
              "  'everywhere be war everywhere be war'],\n",
              " ['until philosophy, choose race superior',\n",
              "  'and another inferior he have / he be finally',\n",
              "  'and permanently discredit abandon',\n",
              "  'and east war west',\n",
              "  'war north war south',\n",
              "  'and east war west',\n",
              "  'war north war south',\n",
              "  'everywhere it have / it be',\n",
              "  'oh, everywhere it have / it be',\n",
              "  'and there have / there be longer',\n",
              "  'first second class citizens nation',\n",
              "  'it have / it be',\n",
              "  \"and color man's skin serve significance\",\n",
              "  'than color eye we say',\n",
              "  'and east war west',\n",
              "  'war north war south',\n",
              "  'and east war west',\n",
              "  'war north war south',\n",
              "  'everywhere oh, everywhere it have / it be',\n",
              "  'oh, everywhere it have / it be',\n",
              "  'oh, everywhere la, la, la, la, la, la,',\n",
              "  'la, la, la, la, la, la,',\n",
              "  '(everywhere is, everywhere is, everywhere is)',\n",
              "  '(everywhere is, everywhere is, everywhere is)']]"
            ]
          },
          "metadata": {
            "tags": []
          },
          "execution_count": 40
        }
      ]
    },
    {
      "cell_type": "code",
      "metadata": {
        "id": "pTMGa_AnBkH0",
        "colab_type": "code",
        "colab": {
          "base_uri": "https://localhost:8080/",
          "height": 255
        },
        "outputId": "2136dda9-5be1-469e-e3be-4e4cf0016d09"
      },
      "source": [
        "converted_watson_arr=list(map(watson_min_words_arr,list_of_converted_lyr_arr))\n",
        "\n",
        "watson_per_line=[]\n",
        "for trans in converted_watson_arr:\n",
        "  watson_per_line.append(list(map(get_watson_score,trans)))\n",
        "\n",
        "df[\"Watson per line\"]=list(map(np.mean,watson_per_line))\n",
        "#watson_per_line"
      ],
      "execution_count": 41,
      "outputs": [
        {
          "output_type": "stream",
          "text": [
            "error La, la, la, la, la, la, la\n",
            "error La, la, la, la, la, la, la\n",
            "error La, la, la, la, la, la,\n",
            "error La, la, la, la, la, la,\n",
            "error la, la, la, la, la, la, la\n",
            "error la, la, la, la, la, la, la\n",
            "error La, la, la, la, la, la, la\n",
            "error La, la, la, la, la, la, la\n",
            "error la, la, la, la, la, la,\n",
            "error La, la, la, la, la, la,\n",
            "error La, la, la, la, la, la,\n",
            "error la, la, la, la, la, la, la\n",
            "error la, la, la, la, la, la, la\n",
            "error la, la, la, la, la, la,\n"
          ],
          "name": "stdout"
        }
      ]
    },
    {
      "cell_type": "code",
      "metadata": {
        "id": "mI9sgaJPYPfG",
        "colab_type": "code",
        "colab": {
          "base_uri": "https://localhost:8080/",
          "height": 170
        },
        "outputId": "332ba9b3-9005-42bd-a157-c3d95dd1cdd3"
      },
      "source": [
        "print(len(watson_per_line),len(converted_watson_arr))\n",
        "for i in range(8):\n",
        "  print(len(watson_per_line[i]),len(converted_watson_arr[i]))"
      ],
      "execution_count": 43,
      "outputs": [
        {
          "output_type": "stream",
          "text": [
            "8 8\n",
            "29 29\n",
            "22 22\n",
            "33 33\n",
            "29 29\n",
            "24 24\n",
            "22 22\n",
            "33 33\n",
            "24 24\n"
          ],
          "name": "stdout"
        }
      ]
    },
    {
      "cell_type": "code",
      "metadata": {
        "id": "NtHUI5QFF-UP",
        "colab_type": "code",
        "colab": {}
      },
      "source": [
        "def mean_without_zero(arr):\n",
        "  arr = [x for x in arr if x != 0]\n",
        "  return np.mean(arr)"
      ],
      "execution_count": 50,
      "outputs": []
    },
    {
      "cell_type": "code",
      "metadata": {
        "id": "jJMJAh3uG7ld",
        "colab_type": "code",
        "colab": {}
      },
      "source": [
        "df[\"Textblob nonzero\"]=list(map(mean_without_zero,textblob_per_line))\n",
        "df[\"Vader nonzero\"]=list(map(mean_without_zero,vader_per_line))\n",
        "df[\"Watson nonzero\"]=list(map(mean_without_zero,watson_per_line))"
      ],
      "execution_count": null,
      "outputs": []
    },
    {
      "cell_type": "code",
      "metadata": {
        "id": "pcCDgO8Wt5sz",
        "colab_type": "code",
        "colab": {
          "base_uri": "https://localhost:8080/",
          "height": 297
        },
        "outputId": "0e19b99d-98fa-4434-d1aa-e4deeddf2ac8"
      },
      "source": [
        "df"
      ],
      "execution_count": null,
      "outputs": [
        {
          "output_type": "execute_result",
          "data": {
            "text/html": [
              "<div>\n",
              "<style scoped>\n",
              "    .dataframe tbody tr th:only-of-type {\n",
              "        vertical-align: middle;\n",
              "    }\n",
              "\n",
              "    .dataframe tbody tr th {\n",
              "        vertical-align: top;\n",
              "    }\n",
              "\n",
              "    .dataframe thead th {\n",
              "        text-align: right;\n",
              "    }\n",
              "</style>\n",
              "<table border=\"1\" class=\"dataframe\">\n",
              "  <thead>\n",
              "    <tr style=\"text-align: right;\">\n",
              "      <th></th>\n",
              "      <th>Textblob</th>\n",
              "      <th>Textblob per line</th>\n",
              "      <th>Textblob nonzero</th>\n",
              "      <th>Vader</th>\n",
              "      <th>Vader per line</th>\n",
              "      <th>Vader nonzero</th>\n",
              "      <th>Watson</th>\n",
              "      <th>Watson per line</th>\n",
              "      <th>Watson nonzero</th>\n",
              "    </tr>\n",
              "  </thead>\n",
              "  <tbody>\n",
              "    <tr>\n",
              "      <th>Lyrics</th>\n",
              "      <td>0.149415</td>\n",
              "      <td>0.046778</td>\n",
              "      <td>0.233889</td>\n",
              "      <td>0.9599</td>\n",
              "      <td>0.095550</td>\n",
              "      <td>0.281029</td>\n",
              "      <td>-0.778259</td>\n",
              "      <td>-0.118538</td>\n",
              "      <td>-0.269406</td>\n",
              "    </tr>\n",
              "    <tr>\n",
              "      <th>SW</th>\n",
              "      <td>0.196875</td>\n",
              "      <td>0.053000</td>\n",
              "      <td>0.331250</td>\n",
              "      <td>0.9894</td>\n",
              "      <td>0.100832</td>\n",
              "      <td>0.315100</td>\n",
              "      <td>-0.386954</td>\n",
              "      <td>-0.020349</td>\n",
              "      <td>-0.063953</td>\n",
              "    </tr>\n",
              "    <tr>\n",
              "      <th>CO</th>\n",
              "      <td>0.149415</td>\n",
              "      <td>0.046778</td>\n",
              "      <td>0.233889</td>\n",
              "      <td>0.9953</td>\n",
              "      <td>0.098372</td>\n",
              "      <td>0.289329</td>\n",
              "      <td>-0.773304</td>\n",
              "      <td>-0.111188</td>\n",
              "      <td>-0.252699</td>\n",
              "    </tr>\n",
              "    <tr>\n",
              "      <th>LM</th>\n",
              "      <td>0.147222</td>\n",
              "      <td>0.054778</td>\n",
              "      <td>0.248990</td>\n",
              "      <td>0.9659</td>\n",
              "      <td>0.099942</td>\n",
              "      <td>0.293947</td>\n",
              "      <td>-0.649890</td>\n",
              "      <td>-0.030253</td>\n",
              "      <td>-0.072030</td>\n",
              "    </tr>\n",
              "    <tr>\n",
              "      <th>SW-CO</th>\n",
              "      <td>0.196875</td>\n",
              "      <td>0.053000</td>\n",
              "      <td>0.331250</td>\n",
              "      <td>0.9953</td>\n",
              "      <td>0.103654</td>\n",
              "      <td>0.323919</td>\n",
              "      <td>-0.492278</td>\n",
              "      <td>-0.018453</td>\n",
              "      <td>-0.059314</td>\n",
              "    </tr>\n",
              "    <tr>\n",
              "      <th>SW-LM</th>\n",
              "      <td>0.186842</td>\n",
              "      <td>0.061000</td>\n",
              "      <td>0.338889</td>\n",
              "      <td>0.9905</td>\n",
              "      <td>0.107898</td>\n",
              "      <td>0.337181</td>\n",
              "      <td>-0.289106</td>\n",
              "      <td>0.010841</td>\n",
              "      <td>0.029814</td>\n",
              "    </tr>\n",
              "    <tr>\n",
              "      <th>CO-LM</th>\n",
              "      <td>0.147222</td>\n",
              "      <td>0.054778</td>\n",
              "      <td>0.248990</td>\n",
              "      <td>0.9960</td>\n",
              "      <td>0.102764</td>\n",
              "      <td>0.302247</td>\n",
              "      <td>-0.622290</td>\n",
              "      <td>-0.025782</td>\n",
              "      <td>-0.061385</td>\n",
              "    </tr>\n",
              "    <tr>\n",
              "      <th>SW-CO-LM</th>\n",
              "      <td>0.186842</td>\n",
              "      <td>0.061000</td>\n",
              "      <td>0.338889</td>\n",
              "      <td>0.9957</td>\n",
              "      <td>0.110720</td>\n",
              "      <td>0.346000</td>\n",
              "      <td>-0.356586</td>\n",
              "      <td>0.010238</td>\n",
              "      <td>0.028794</td>\n",
              "    </tr>\n",
              "  </tbody>\n",
              "</table>\n",
              "</div>"
            ],
            "text/plain": [
              "          Textblob  Textblob per line  ...  Watson per line  Watson nonzero\n",
              "Lyrics    0.149415           0.046778  ...        -0.118538       -0.269406\n",
              "SW        0.196875           0.053000  ...        -0.020349       -0.063953\n",
              "CO        0.149415           0.046778  ...        -0.111188       -0.252699\n",
              "LM        0.147222           0.054778  ...        -0.030253       -0.072030\n",
              "SW-CO     0.196875           0.053000  ...        -0.018453       -0.059314\n",
              "SW-LM     0.186842           0.061000  ...         0.010841        0.029814\n",
              "CO-LM     0.147222           0.054778  ...        -0.025782       -0.061385\n",
              "SW-CO-LM  0.186842           0.061000  ...         0.010238        0.028794\n",
              "\n",
              "[8 rows x 9 columns]"
            ]
          },
          "metadata": {
            "tags": []
          },
          "execution_count": 136
        }
      ]
    },
    {
      "cell_type": "code",
      "metadata": {
        "id": "eLWYDGDeDgF7",
        "colab_type": "code",
        "colab": {}
      },
      "source": [
        "def get_df(lyr_arr):\n",
        "  trans_lyr_arr=get_lyric_arrays(lyr_arr)\n",
        "  trans_lyr=get_lyrics(trans_lyr_arr)\n",
        "  df=pd.DataFrame(index=[\"Lyrics\",\"SW\",\"CO\",\"LM\",\"SW-CO\",\"SW-LM\",\"CO-LM\",\"SW-CO-LM\"],columns=[\"Textblob\",\"Textblob per line\",\"Textblob nonzero\",\"Vader\",\"Vader per line\",\"Vader nonzero\",\"Watson\",\"Watson per line\",\"Watson nonzero\"])\n",
        "  df[\"Textblob\"]=list(map(get_textblob_score,trans_lyr))\n",
        "  df[\"Vader\"]=list(map(get_vader_score,trans_lyr))\n",
        "  df[\"Watson\"]=list(map(get_watson_score,trans_lyr))\n",
        "\n",
        "  textblob_per_line=[]\n",
        "  for trans in trans_lyr_arr:\n",
        "    textblob_per_line.append(list(map(get_textblob_score,trans)))\n",
        "\n",
        "  df[\"Textblob per line\"]=list(map(np.mean,textblob_per_line))\n",
        "  #textblob_per_line\n",
        "\n",
        "  vader_per_line=[]\n",
        "  for trans in trans_lyr_arr:\n",
        "    vader_per_line.append(list(map(get_vader_score,trans)))\n",
        "\n",
        "  df[\"Vader per line\"]=list(map(np.mean,vader_per_line))\n",
        "  #vader_per_line\n",
        "\n",
        "  converted_watson_arr=list(map(watson_min_words_arr,trans_lyr_arr))\n",
        "\n",
        "  watson_per_line=[]\n",
        "  for trans in converted_watson_arr:\n",
        "    print(trans)\n",
        "    watson_per_line.append(list(map(get_watson_score,trans)))\n",
        "    \n",
        "  df[\"Watson per line\"]=list(map(np.mean,watson_per_line))\n",
        "  #watson_per_line\n",
        "\n",
        "  df[\"Textblob nonzero\"]=list(map(mean_without_zero,textblob_per_line))\n",
        "  df[\"Vader nonzero\"]=list(map(mean_without_zero,vader_per_line))\n",
        "  df[\"Watson nonzero\"]=list(map(mean_without_zero,watson_per_line))\n",
        "  return df\n",
        "\n"
      ],
      "execution_count": 51,
      "outputs": []
    },
    {
      "cell_type": "markdown",
      "metadata": {
        "id": "mAq3AyBzaJIC",
        "colab_type": "text"
      },
      "source": [
        ""
      ]
    },
    {
      "cell_type": "code",
      "metadata": {
        "id": "x4HI21LSR01U",
        "colab_type": "code",
        "colab": {
          "base_uri": "https://localhost:8080/",
          "height": 102
        },
        "outputId": "00fa57f3-0127-41ad-8791-060c6c8b6106"
      },
      "source": [
        "songs=[\"blinding lights weeknd\",\"jacob lee demons\",\"grandson war\",\"anson seabra emerald eyes\",\"june messed up\"]\n",
        "song_arr=list(map(get_track_link,songs))\n",
        "song_arr"
      ],
      "execution_count": 59,
      "outputs": [
        {
          "output_type": "execute_result",
          "data": {
            "text/plain": [
              "['blinding%20lights%20weeknd',\n",
              " 'jacob%20lee%20demons',\n",
              " 'grandson%20war',\n",
              " 'anson%20seabra%20emerald%20eyes',\n",
              " 'june%20messed%20up']"
            ]
          },
          "metadata": {
            "tags": []
          },
          "execution_count": 59
        }
      ]
    },
    {
      "cell_type": "code",
      "metadata": {
        "id": "zd5UGqSJTIho",
        "colab_type": "code",
        "colab": {
          "base_uri": "https://localhost:8080/",
          "height": 632
        },
        "outputId": "be8652b8-0f3d-44e3-cf62-032730a10d6c"
      },
      "source": [
        "elt_arr=[]\n",
        "for i in song_arr:\n",
        "  print(i)\n",
        "  elt_arr.append(get_lyric_element(i,\"default\"))\n",
        "elt_arr"
      ],
      "execution_count": 60,
      "outputs": [
        {
          "output_type": "stream",
          "text": [
            "blinding%20lights%20weeknd\n"
          ],
          "name": "stdout"
        },
        {
          "output_type": "stream",
          "text": [
            "/usr/local/lib/python3.6/dist-packages/ipykernel_launcher.py:14: DeprecationWarning: use options instead of chrome_options\n",
            "  \n"
          ],
          "name": "stderr"
        },
        {
          "output_type": "stream",
          "text": [
            "['https://www.musixmatch.com/lyrics/The-Weeknd-3/Blinding-Lights', 'https://www.musixmatch.com/lyrics/Yssn-Nino/Blinding-Lights-Weeknd']\n",
            "[[0, 'The-Weeknd-3', 'Blinding-Lights'], [1, 'Yssn-Nino', 'Blinding-Lights-Weeknd']]\n"
          ],
          "name": "stdout"
        },
        {
          "output_type": "stream",
          "text": [
            "/usr/local/lib/python3.6/dist-packages/ipykernel_launcher.py:25: DeprecationWarning: use options instead of chrome_options\n"
          ],
          "name": "stderr"
        },
        {
          "output_type": "stream",
          "text": [
            "jacob%20lee%20demons\n"
          ],
          "name": "stdout"
        },
        {
          "output_type": "stream",
          "text": [
            "/usr/local/lib/python3.6/dist-packages/ipykernel_launcher.py:14: DeprecationWarning: use options instead of chrome_options\n",
            "  \n"
          ],
          "name": "stderr"
        },
        {
          "output_type": "stream",
          "text": [
            "['https://www.musixmatch.com/lyrics/Jacob-Lee/Demons']\n",
            "[[0, 'Jacob-Lee', 'Demons']]\n"
          ],
          "name": "stdout"
        },
        {
          "output_type": "stream",
          "text": [
            "/usr/local/lib/python3.6/dist-packages/ipykernel_launcher.py:25: DeprecationWarning: use options instead of chrome_options\n"
          ],
          "name": "stderr"
        },
        {
          "output_type": "stream",
          "text": [
            "grandson%20war\n"
          ],
          "name": "stdout"
        },
        {
          "output_type": "stream",
          "text": [
            "/usr/local/lib/python3.6/dist-packages/ipykernel_launcher.py:14: DeprecationWarning: use options instead of chrome_options\n",
            "  \n"
          ],
          "name": "stderr"
        },
        {
          "output_type": "stream",
          "text": [
            "['https://www.musixmatch.com/lyrics/Grandson/War']\n",
            "[[0, 'Grandson', 'War']]\n"
          ],
          "name": "stdout"
        },
        {
          "output_type": "stream",
          "text": [
            "/usr/local/lib/python3.6/dist-packages/ipykernel_launcher.py:25: DeprecationWarning: use options instead of chrome_options\n"
          ],
          "name": "stderr"
        },
        {
          "output_type": "stream",
          "text": [
            "anson%20seabra%20emerald%20eyes\n"
          ],
          "name": "stdout"
        },
        {
          "output_type": "stream",
          "text": [
            "/usr/local/lib/python3.6/dist-packages/ipykernel_launcher.py:14: DeprecationWarning: use options instead of chrome_options\n",
            "  \n"
          ],
          "name": "stderr"
        },
        {
          "output_type": "stream",
          "text": [
            "['https://www.musixmatch.com/lyrics/Anson-Seabra/Emerald-Eyes']\n",
            "[[0, 'Anson-Seabra', 'Emerald-Eyes']]\n"
          ],
          "name": "stdout"
        },
        {
          "output_type": "stream",
          "text": [
            "/usr/local/lib/python3.6/dist-packages/ipykernel_launcher.py:25: DeprecationWarning: use options instead of chrome_options\n"
          ],
          "name": "stderr"
        },
        {
          "output_type": "stream",
          "text": [
            "june%20messed%20up\n"
          ],
          "name": "stdout"
        },
        {
          "output_type": "stream",
          "text": [
            "/usr/local/lib/python3.6/dist-packages/ipykernel_launcher.py:14: DeprecationWarning: use options instead of chrome_options\n",
            "  \n"
          ],
          "name": "stderr"
        },
        {
          "output_type": "stream",
          "text": [
            "['https://www.musixmatch.com/lyrics/june-80/A-Little-Messed-Up', 'https://www.musixmatch.com/lyrics/R-J-Mischo-Charles-Wheal-Gary-Smith-Jr-Watson-June-Care-Mark-Hummel-Steve-Wolf-Kim-Wilson/You-Messed-Up']\n",
            "[[0, 'june-80', 'A-Little-Messed-Up'], [1, 'R-J-Mischo-Charles-Wheal-Gary-Smith-Jr-Watson-June-Care-Mark-Hummel-Steve-Wolf-Kim-Wilson', 'You-Messed-Up']]\n"
          ],
          "name": "stdout"
        },
        {
          "output_type": "stream",
          "text": [
            "/usr/local/lib/python3.6/dist-packages/ipykernel_launcher.py:25: DeprecationWarning: use options instead of chrome_options\n"
          ],
          "name": "stderr"
        },
        {
          "output_type": "execute_result",
          "data": {
            "text/plain": [
              "[\"Yeah\\n\\nI've been tryna call I've been on my own for long enough\\nMaybe you can show me how to love, maybe\\n\\nI'm going through withdrawals\\nYou don't even have to do too much\\nYou can turn me on with just a touch, baby\\n\\nI look around and\\nSin City's cold and empty (Oh)\\nNo one's around to judge me (Oh)\\nI can't see clearly when you're gone\\n\\nAnd I said, ooh, I'm blinded by the lights\\nNo, I can't sleep until I feel your touch\\nI said, ooh, I'm drowning in the night\\nOh, when I'm like this, you're the one I trust\\n(Hey, hey, hey)\\n\\nI'm running out of time\\n'Cause I can see the sun light up the sky\\nSo I hit the road in overdrive, baby, oh\\n\\nThe city's cold and empty (Oh)\\nNo one's around to judge me (Oh)\\nI can't see clearly when you're gone\\n\\nAnd I said, ooh, I'm blinded by the lights\\nNo, I can't sleep until I feel your touch\\nI said, ooh, I'm drowning in the night\\nOh, when I'm like this, you're the one I trust\\n\\nI'm just calling back to let you know (Back to let you know)\\nI could never say it on the phone (Say it on the phone)\\nWill never let you go this time (Ooh)\\n\\nI said, ooh, I'm blinded by the lights\\nNo, I can't sleep until I feel your touch\\n(Hey, hey, hey)\\n\\n(Hey, hey, hey)\\n\\nI said, ooh, I'm blinded by the lights\\nNo, I can't sleep until I feel your touch\",\n",
              " \"My heart is weak\\nTear it down piece by piece\\nLeave me to think Deep in my structure, I think I still love her\\nBut I need some sleep\\nYou've taken my breath away, now I want to breathe\\nCause I cannot see, what you can see, so easily\\n\\nI thought my demons, were almost defeated\\nBut you took their side, &amp; you pulled them to freedom\\nI kept your secrets &amp; I thought that you would do the same\\n\\nLeave me in peace\\nCaught in my memories, lost underneath\\nDeep in my structure, I feel a rupture, from where she should be\\nYou've taken my breath from me, now I want to breathe\\nCause I cannot see, what you can see, so easily\\n\\nI thought my demons, were almost defeated\\nBut you took their side, &amp; you pulled them to freedom\\nThey know my secrets &amp; won't let me go, won't let me go\\nI thought my demons, were almost defeated\\nBut you took their side, &amp; you pulled them to freedom\\nI kept your secrets &amp; I thought that you would do the same\\n\\nI thought my demons, were almost defeated\\nBut you took their side, &amp; you pulled them to freedom\\nThey know my secrets &amp; won't let me go, won't let me go\\nI thought my demons, were almost defeated\\nBut you took their side, &amp; you pulled them to freedom\\nI kept your secrets &amp; I thought that you would do the same\",\n",
              " \"Until the philosophy, we chose one race superior\\nAnd another\\nInferior He's finally\\nAnd permanently\\nDiscredited and abandoned\\n\\nAnd it's war in the east\\nWar in the west\\nWar up north\\nWar down south\\n\\nAnd it's war in the east\\nWar in the west\\nWar up north\\nWar down south\\n\\nEverywhere is war\\nIt's a war\\nOh, everywhere is war\\nIt's a war\\n\\nAnd until there's no longer\\nFirst and second class citizens of any nation\\nIt's on\\nAnd until the color of a man's skin serves no more significance\\nThan the color of his eyes\\nWe say war\\n\\nAnd it's war in the east\\nWar in the west\\nWar up north\\nWar down south\\n\\nAnd it's war in the east\\nWar in the west\\nWar up north\\nWar down south\\nEverywhere is\\nOh, everywhere is war\\n\\nIt's a war\\nOh, everywhere is war\\nIt's a war\\nOh, everywhere is war\\n\\nLa, la, la, la, la, la, la\\nLa, la, la, la, la, la, la\\n(Everywhere is, everywhere is, everywhere is)\\n(Everywhere is, everywhere is, everywhere is)\\n\\nEverywhere is war\\nEverywhere is war\",\n",
              " \"The summer night, the fading light\\nThe perfect place, the perfect time\\nTo take you somewhere we both want to go \\nA starry drive in mid July\\nPark the car, turn off the lights\\nAnd venture through a field out on our own\\n\\nThe birds they sang a melody\\nMy heart was keeping time and we\\nWere dancing on the edge of something new\\nSlow at first but still it seems\\nThat we'll go down in history\\nAs lovers from the start, just me and you\\n\\nI've spent a thousand nights\\nLost in your emerald eyes\\nLost in a place where I know you can see my soul\\nMake me lose track of time\\nYou and your emerald eyes\\nFinally found a place that I can call my home\\n\\nA subtle breeze, it's you and me\\nChest to chest, no in-between\\nAnd every moment's better than the last\\n\\nAnything and everything\\nThat I could ever want and need\\nIs standing right beside me in the grass\\n\\nThe birds they sang a melody\\nMy heart was keeping time and we\\nWere dancing on the edge of something new\\nSlow at first but still it seems\\nThat we'll go down in history\\nAs lovers from the start, just me and you\\n\\n'Cause I've spent a thousand nights\\nLost in your emerald eyes\\nLost in a place where I know you can see my soul\\nMake me lose track of time\\nYou and your emerald eyes\\nFinally found a place that I can call my home\\n\\nI've spent a thousand nights\\nLost in your emerald eyes\\nLost in a place where I know you can see my soul\\nMake me lose track of time\\nYou and your emerald eyes\\nFinally found place that I can call my home\",\n",
              " \"You know that I can't help myself\\nHelp myself, help myself\\nI try but I don't do too well And I know I disappear for days\\nAnd it keeps you awake\\nI almost bend it 'til it breaks\\n\\nBut when I come home\\nLights out\\nWill you sleep safe and sound?\\nI'm obsessed with you\\nBut you never work me out\\n\\nI get a little jealous, a little selfish\\nYou know that it's all good\\nI'm just a little messed up, ooh, ooh\\nI'm just a little messed up, like you\\nKnow I never felt this\\nLove how you built this\\nI'm gonna tear it down\\nI'm just a little messed up, ooh, ooh\\nI'm just a little messed up, like you\\n\\nI know I like to make you scared, just to see\\nHow much you care\\nI'm never going anywhere, mhmm\\nAnd I know you play the same games too\\nBut you keep loosing, I'm too good\\nI'm way too good\\n\\nBut when I come home\\nLights out\\nWill you sleep safe and sound?\\nI'm obsessed with you\\nBut you never work me out\\n\\nI get a little jealous, a little selfish\\nYou know that it's all good\\nI'm just a little messed up, ooh, ooh\\nI'm just a little messed up, like you\\nKnow I never felt this\\nLove how you built this\\nI'm gonna tear it down\\nI'm just a little messed up, ooh, ooh\\nI'm just a little messed up, like you\\n\\nOoh, ooh, ooh, ooh\\nMessed up\\nI'm just a little messed up, like you\\n\\nWhen I come home\\nLights out\\nWill you sleep safe and sound?\\nI'm obsessed with you\\nBut you'll never work me out\\n\\nI get a little jealous, a little selfish\\nYou know that it's all good\\nI'm just a little messed up, ooh, ooh\\nI'm just a little messed up, like you\\nKnow I never felt this\\nLove how you built this\\nI'm gonna tear it down\\nI'm just a little messed up, ooh, ooh\\nI'm just a little messed up, like you\\n\\nOoh, ooh, ooh, ooh (just a little messed up)\\nMessed up\\nI'm just a little messed up, like you\"]"
            ]
          },
          "metadata": {
            "tags": []
          },
          "execution_count": 60
        }
      ]
    },
    {
      "cell_type": "code",
      "metadata": {
        "id": "q4DaE8Q5Vgb3",
        "colab_type": "code",
        "colab": {
          "base_uri": "https://localhost:8080/",
          "height": 1000
        },
        "outputId": "c425b088-0f54-4446-ee01-09e0af4aa582"
      },
      "source": [
        "getdffrom=list(map(filter_raw_lyrics,elt_arr))\n",
        "getdffrom"
      ],
      "execution_count": 61,
      "outputs": [
        {
          "output_type": "execute_result",
          "data": {
            "text/plain": [
              "[['Yeah',\n",
              "  \"I've been tryna call I've been on my own for long enough\",\n",
              "  'Maybe you can show me how to love, maybe',\n",
              "  \"I'm going through withdrawals\",\n",
              "  \"You don't even have to do too much\",\n",
              "  'You can turn me on with just a touch, baby',\n",
              "  'I look around and',\n",
              "  \"Sin City's cold and empty (Oh)\",\n",
              "  \"No one's around to judge me (Oh)\",\n",
              "  \"I can't see clearly when you're gone\",\n",
              "  \"And I said, ooh, I'm blinded by the lights\",\n",
              "  \"No, I can't sleep until I feel your touch\",\n",
              "  \"I said, ooh, I'm drowning in the night\",\n",
              "  \"Oh, when I'm like this, you're the one I trust\",\n",
              "  '(Hey, hey, hey)',\n",
              "  \"I'm running out of time\",\n",
              "  \"'Cause I can see the sun light up the sky\",\n",
              "  'So I hit the road in overdrive, baby, oh',\n",
              "  \"The city's cold and empty (Oh)\",\n",
              "  \"No one's around to judge me (Oh)\",\n",
              "  \"I can't see clearly when you're gone\",\n",
              "  \"And I said, ooh, I'm blinded by the lights\",\n",
              "  \"No, I can't sleep until I feel your touch\",\n",
              "  \"I said, ooh, I'm drowning in the night\",\n",
              "  \"Oh, when I'm like this, you're the one I trust\",\n",
              "  \"I'm just calling back to let you know (Back to let you know)\",\n",
              "  'I could never say it on the phone (Say it on the phone)',\n",
              "  'Will never let you go this time (Ooh)',\n",
              "  \"I said, ooh, I'm blinded by the lights\",\n",
              "  \"No, I can't sleep until I feel your touch\",\n",
              "  '(Hey, hey, hey)',\n",
              "  '(Hey, hey, hey)',\n",
              "  \"I said, ooh, I'm blinded by the lights\",\n",
              "  \"No, I can't sleep until I feel your touch\"],\n",
              " ['My heart is weak',\n",
              "  'Tear it down piece by piece',\n",
              "  'Leave me to think Deep in my structure, I think I still love her',\n",
              "  'But I need some sleep',\n",
              "  \"You've taken my breath away, now I want to breathe\",\n",
              "  'Cause I cannot see, what you can see, so easily',\n",
              "  'I thought my demons, were almost defeated',\n",
              "  'But you took their side, &amp; you pulled them to freedom',\n",
              "  'I kept your secrets &amp; I thought that you would do the same',\n",
              "  'Leave me in peace',\n",
              "  'Caught in my memories, lost underneath',\n",
              "  'Deep in my structure, I feel a rupture, from where she should be',\n",
              "  \"You've taken my breath from me, now I want to breathe\",\n",
              "  'Cause I cannot see, what you can see, so easily',\n",
              "  'I thought my demons, were almost defeated',\n",
              "  'But you took their side, &amp; you pulled them to freedom',\n",
              "  \"They know my secrets &amp; won't let me go, won't let me go\",\n",
              "  'I thought my demons, were almost defeated',\n",
              "  'But you took their side, &amp; you pulled them to freedom',\n",
              "  'I kept your secrets &amp; I thought that you would do the same',\n",
              "  'I thought my demons, were almost defeated',\n",
              "  'But you took their side, &amp; you pulled them to freedom',\n",
              "  \"They know my secrets &amp; won't let me go, won't let me go\",\n",
              "  'I thought my demons, were almost defeated',\n",
              "  'But you took their side, &amp; you pulled them to freedom',\n",
              "  'I kept your secrets &amp; I thought that you would do the same'],\n",
              " ['Until the philosophy, we chose one race superior',\n",
              "  'And another',\n",
              "  \"Inferior He's finally\",\n",
              "  'And permanently',\n",
              "  'Discredited and abandoned',\n",
              "  \"And it's war in the east\",\n",
              "  'War in the west',\n",
              "  'War up north',\n",
              "  'War down south',\n",
              "  \"And it's war in the east\",\n",
              "  'War in the west',\n",
              "  'War up north',\n",
              "  'War down south',\n",
              "  'Everywhere is war',\n",
              "  \"It's a war\",\n",
              "  'Oh, everywhere is war',\n",
              "  \"It's a war\",\n",
              "  \"And until there's no longer\",\n",
              "  'First and second class citizens of any nation',\n",
              "  \"It's on\",\n",
              "  \"And until the color of a man's skin serves no more significance\",\n",
              "  'Than the color of his eyes',\n",
              "  'We say war',\n",
              "  \"And it's war in the east\",\n",
              "  'War in the west',\n",
              "  'War up north',\n",
              "  'War down south',\n",
              "  \"And it's war in the east\",\n",
              "  'War in the west',\n",
              "  'War up north',\n",
              "  'War down south',\n",
              "  'Everywhere is',\n",
              "  'Oh, everywhere is war',\n",
              "  \"It's a war\",\n",
              "  'Oh, everywhere is war',\n",
              "  \"It's a war\",\n",
              "  'Oh, everywhere is war',\n",
              "  'La, la, la, la, la, la, la',\n",
              "  'La, la, la, la, la, la, la',\n",
              "  '(Everywhere is, everywhere is, everywhere is)',\n",
              "  '(Everywhere is, everywhere is, everywhere is)',\n",
              "  'Everywhere is war',\n",
              "  'Everywhere is war'],\n",
              " ['The summer night, the fading light',\n",
              "  'The perfect place, the perfect time',\n",
              "  'To take you somewhere we both want to go ',\n",
              "  'A starry drive in mid July',\n",
              "  'Park the car, turn off the lights',\n",
              "  'And venture through a field out on our own',\n",
              "  'The birds they sang a melody',\n",
              "  'My heart was keeping time and we',\n",
              "  'Were dancing on the edge of something new',\n",
              "  'Slow at first but still it seems',\n",
              "  \"That we'll go down in history\",\n",
              "  'As lovers from the start, just me and you',\n",
              "  \"I've spent a thousand nights\",\n",
              "  'Lost in your emerald eyes',\n",
              "  'Lost in a place where I know you can see my soul',\n",
              "  'Make me lose track of time',\n",
              "  'You and your emerald eyes',\n",
              "  'Finally found a place that I can call my home',\n",
              "  \"A subtle breeze, it's you and me\",\n",
              "  'Chest to chest, no in-between',\n",
              "  \"And every moment's better than the last\",\n",
              "  'Anything and everything',\n",
              "  'That I could ever want and need',\n",
              "  'Is standing right beside me in the grass',\n",
              "  'The birds they sang a melody',\n",
              "  'My heart was keeping time and we',\n",
              "  'Were dancing on the edge of something new',\n",
              "  'Slow at first but still it seems',\n",
              "  \"That we'll go down in history\",\n",
              "  'As lovers from the start, just me and you',\n",
              "  \"'Cause I've spent a thousand nights\",\n",
              "  'Lost in your emerald eyes',\n",
              "  'Lost in a place where I know you can see my soul',\n",
              "  'Make me lose track of time',\n",
              "  'You and your emerald eyes',\n",
              "  'Finally found a place that I can call my home',\n",
              "  \"I've spent a thousand nights\",\n",
              "  'Lost in your emerald eyes',\n",
              "  'Lost in a place where I know you can see my soul',\n",
              "  'Make me lose track of time',\n",
              "  'You and your emerald eyes',\n",
              "  'Finally found place that I can call my home'],\n",
              " [\"You know that I can't help myself\",\n",
              "  'Help myself, help myself',\n",
              "  \"I try but I don't do too well And I know I disappear for days\",\n",
              "  'And it keeps you awake',\n",
              "  \"I almost bend it 'til it breaks\",\n",
              "  'But when I come home',\n",
              "  'Lights out',\n",
              "  'Will you sleep safe and sound?',\n",
              "  \"I'm obsessed with you\",\n",
              "  'But you never work me out',\n",
              "  'I get a little jealous, a little selfish',\n",
              "  \"You know that it's all good\",\n",
              "  \"I'm just a little messed up, ooh, ooh\",\n",
              "  \"I'm just a little messed up, like you\",\n",
              "  'Know I never felt this',\n",
              "  'Love how you built this',\n",
              "  \"I'm gonna tear it down\",\n",
              "  \"I'm just a little messed up, ooh, ooh\",\n",
              "  \"I'm just a little messed up, like you\",\n",
              "  'I know I like to make you scared, just to see',\n",
              "  'How much you care',\n",
              "  \"I'm never going anywhere, mhmm\",\n",
              "  'And I know you play the same games too',\n",
              "  \"But you keep loosing, I'm too good\",\n",
              "  \"I'm way too good\",\n",
              "  'But when I come home',\n",
              "  'Lights out',\n",
              "  'Will you sleep safe and sound?',\n",
              "  \"I'm obsessed with you\",\n",
              "  'But you never work me out',\n",
              "  'I get a little jealous, a little selfish',\n",
              "  \"You know that it's all good\",\n",
              "  \"I'm just a little messed up, ooh, ooh\",\n",
              "  \"I'm just a little messed up, like you\",\n",
              "  'Know I never felt this',\n",
              "  'Love how you built this',\n",
              "  \"I'm gonna tear it down\",\n",
              "  \"I'm just a little messed up, ooh, ooh\",\n",
              "  \"I'm just a little messed up, like you\",\n",
              "  'Ooh, ooh, ooh, ooh',\n",
              "  'Messed up',\n",
              "  \"I'm just a little messed up, like you\",\n",
              "  'When I come home',\n",
              "  'Lights out',\n",
              "  'Will you sleep safe and sound?',\n",
              "  \"I'm obsessed with you\",\n",
              "  \"But you'll never work me out\",\n",
              "  'I get a little jealous, a little selfish',\n",
              "  \"You know that it's all good\",\n",
              "  \"I'm just a little messed up, ooh, ooh\",\n",
              "  \"I'm just a little messed up, like you\",\n",
              "  'Know I never felt this',\n",
              "  'Love how you built this',\n",
              "  \"I'm gonna tear it down\",\n",
              "  \"I'm just a little messed up, ooh, ooh\",\n",
              "  \"I'm just a little messed up, like you\",\n",
              "  'Ooh, ooh, ooh, ooh (just a little messed up)',\n",
              "  'Messed up',\n",
              "  \"I'm just a little messed up, like you\"]]"
            ]
          },
          "metadata": {
            "tags": []
          },
          "execution_count": 61
        }
      ]
    },
    {
      "cell_type": "code",
      "metadata": {
        "id": "rvKF4t6cWJM4",
        "colab_type": "code",
        "colab": {
          "base_uri": "https://localhost:8080/",
          "height": 1000
        },
        "outputId": "db9202e1-ca38-4615-f50d-ff3ef7107280"
      },
      "source": [
        "x=list(map(get_df,getdffrom))"
      ],
      "execution_count": 62,
      "outputs": [
        {
          "output_type": "stream",
          "text": [
            "[\"Yeah I've been tryna call I've been on my own for long enough\", 'Maybe you can show me how to love, maybe', \"I'm going through withdrawals\", \"You don't even have to do too much\", 'You can turn me on with just a touch, baby', 'I look around and', \"Sin City's cold and empty (Oh)\", \"No one's around to judge me (Oh)\", \"I can't see clearly when you're gone\", \"And I said, ooh, I'm blinded by the lights\", \"No, I can't sleep until I feel your touch\", \"I said, ooh, I'm drowning in the night\", \"Oh, when I'm like this, you're the one I trust\", \"(Hey, hey, hey) I'm running out of time\", \"'Cause I can see the sun light up the sky\", 'So I hit the road in overdrive, baby, oh', \"The city's cold and empty (Oh)\", \"No one's around to judge me (Oh)\", \"I can't see clearly when you're gone\", \"And I said, ooh, I'm blinded by the lights\", \"No, I can't sleep until I feel your touch\", \"I said, ooh, I'm drowning in the night\", \"Oh, when I'm like this, you're the one I trust\", \"I'm just calling back to let you know (Back to let you know)\", 'I could never say it on the phone (Say it on the phone)', 'Will never let you go this time (Ooh)', \"I said, ooh, I'm blinded by the lights\", \"No, I can't sleep until I feel your touch\", '(Hey, hey, hey) (Hey, hey, hey)', \"I said, ooh, I'm blinded by the lights\", \"No, I can't sleep until I feel your touch\"]\n",
            "[\"Yeah I've tryna call I've long enough\", 'Maybe show love, maybe', \"I'm going withdrawals You even much\", 'You turn touch, baby', \"I look around Sin City's cold empty (Oh)\", \"No one's around judge (Oh)\", \"I can't see clearly gone\", \"And I said, ooh, I'm blinded lights\", \"No, I can't sleep I feel touch\", \"I said, ooh, I'm drowning night\", \"Oh, I'm like this, I trust\", \"(Hey, hey, hey) I'm running time\", \"'Cause I see sun light sky\", 'So I hit road overdrive, baby, oh', \"The city's cold empty (Oh)\", \"No one's around judge (Oh)\", \"I can't see clearly gone\", \"And I said, ooh, I'm blinded lights\", \"No, I can't sleep I feel touch\", \"I said, ooh, I'm drowning night\", \"Oh, I'm like this, I trust\", \"I'm calling back let know (Back let know)\", 'I could never say phone (Say phone)', 'Will never let go time (Ooh)', \"I said, ooh, I'm blinded lights\", \"No, I can't sleep I feel touch\", '(Hey, hey, hey) (Hey, hey, hey)', \"I said, ooh, I'm blinded lights\", \"No, I can't sleep I feel touch\"]\n",
            "[\"yeah i've been tryna call i've been on my own for long enough\", 'maybe you can show me how to love, maybe', \"i'm going through withdrawals\", 'you do not even have to do too much', 'you can turn me on with just a touch, baby', 'i look around and', \"sin city's cold and empty (oh)\", \"no one's around to judge me (oh)\", 'i cannot see clearly when you are gone', \"and i said, ooh, i'm blinded by the lights\", 'no, i cannot sleep until i feel your touch', \"i said, ooh, i'm drowning in the night\", \"oh, when i'm like this, you are the one i trust\", \"(hey, hey, hey) i'm running out of time\", 'because i can see the sun light up the sky', 'so i hit the road in overdrive, baby, oh', \"the city's cold and empty (oh)\", \"no one's around to judge me (oh)\", 'i cannot see clearly when you are gone', \"and i said, ooh, i'm blinded by the lights\", 'no, i cannot sleep until i feel your touch', \"i said, ooh, i'm drowning in the night\", \"oh, when i'm like this, you are the one i trust\", \"i'm just calling back to let you know (back to let you know)\", 'i could never say it on the phone (say it on the phone)', 'will never let you go this time (ooh)', \"i said, ooh, i'm blinded by the lights\", 'no, i cannot sleep until i feel your touch', '(hey, hey, hey) (hey, hey, hey)', \"i said, ooh, i'm blinded by the lights\", 'no, i cannot sleep until i feel your touch']\n",
            "[\"Yeah I've be tryna call I've be on my own for long enough\", 'Maybe you can show me how to love, maybe', \"I'm go through withdrawals\", \"You don't even have to do too much\", 'You can turn me on with just a touch, baby', 'I look around and', \"Sin City's cold and empty (Oh)\", \"No one's around to judge me (Oh)\", \"I can't see clearly when you're go\", \"And I said, ooh, I'm blind by the light\", \"No, I can't sleep until I feel your touch\", \"I said, ooh, I'm drown in the night\", \"Oh, when I'm like this, you're the one I trust\", \"(Hey, hey, hey) I'm run out of time\", \"'Cause I can see the sun light up the sky\", 'So I hit the road in overdrive, baby, oh', \"The city's cold and empty (Oh)\", \"No one's around to judge me (Oh)\", \"I can't see clearly when you're go\", \"And I said, ooh, I'm blind by the light\", \"No, I can't sleep until I feel your touch\", \"I said, ooh, I'm drown in the night\", \"Oh, when I'm like this, you're the one I trust\", \"I'm just call back to let you know (Back to let you know)\", 'I could never say it on the phone (Say it on the phone)', 'Will never let you go this time (Ooh)', \"I said, ooh, I'm blind by the light\", \"No, I can't sleep until I feel your touch\", '(Hey, hey, hey) (Hey, hey, hey)', \"I said, ooh, I'm blind by the light\", \"No, I can't sleep until I feel your touch\"]\n",
            "[\"yeah i've tryna call i've long enough\", 'maybe show love, maybe', \"i'm going withdrawals you even much\", 'you turn touch, baby', \"i look around sin city's cold empty (oh)\", \"no one's around judge (oh)\", 'i cannot see clearly gone', \"and i said, ooh, i'm blinded lights\", 'no, i cannot sleep i feel touch', \"i said, ooh, i'm drowning night\", \"oh, i'm like this, i trust\", \"(hey, hey, hey) i'm running time\", 'because i see sun light sky', 'so i hit road overdrive, baby, oh', \"the city's cold empty (oh)\", \"no one's around judge (oh)\", 'i cannot see clearly gone', \"and i said, ooh, i'm blinded lights\", 'no, i cannot sleep i feel touch', \"i said, ooh, i'm drowning night\", \"oh, i'm like this, i trust\", \"i'm calling back let know (back let know)\", 'i could never say phone (say phone)', 'will never let go time (ooh)', \"i said, ooh, i'm blinded lights\", 'no, i cannot sleep i feel touch', '(hey, hey, hey) (hey, hey, hey)', \"i said, ooh, i'm blinded lights\", 'no, i cannot sleep i feel touch']\n",
            "[\"Yeah I've tryna call I've long enough\", 'Maybe show love, maybe', \"I'm go withdrawals You even much\", 'You turn touch, baby', \"I look around Sin City's cold empty (Oh)\", \"No one's around judge (Oh)\", \"I can't see clearly go\", \"And I said, ooh, I'm blind light\", \"No, I can't sleep I feel touch\", \"I said, ooh, I'm drown night\", \"Oh, I'm like this, I trust\", \"(Hey, hey, hey) I'm run time\", \"'Cause I see sun light sky\", 'So I hit road overdrive, baby, oh', \"The city's cold empty (Oh)\", \"No one's around judge (Oh)\", \"I can't see clearly go\", \"And I said, ooh, I'm blind light\", \"No, I can't sleep I feel touch\", \"I said, ooh, I'm drown night\", \"Oh, I'm like this, I trust\", \"I'm call back let know (Back let know)\", 'I could never say phone (Say phone)', 'Will never let go time (Ooh)', \"I said, ooh, I'm blind light\", \"No, I can't sleep I feel touch\", '(Hey, hey, hey) (Hey, hey, hey)', \"I said, ooh, I'm blind light\", \"No, I can't sleep I feel touch\"]\n",
            "[\"yeah i've be tryna call i've be on my own for long enough\", 'maybe you can show me how to love, maybe', \"i'm go through withdrawals\", 'you do not even have to do too much', 'you can turn me on with just a touch, baby', 'i look around and', \"sin city's cold and empty (oh)\", \"no one's around to judge me (oh)\", 'i cannot see clearly when you are go', \"and i said, ooh, i'm blind by the light\", 'no, i cannot sleep until i feel your touch', \"i said, ooh, i'm drown in the night\", \"oh, when i'm like this, you are the one i trust\", \"(hey, hey, hey) i'm run out of time\", 'because i can see the sun light up the sky', 'so i hit the road in overdrive, baby, oh', \"the city's cold and empty (oh)\", \"no one's around to judge me (oh)\", 'i cannot see clearly when you are go', \"and i said, ooh, i'm blind by the light\", 'no, i cannot sleep until i feel your touch', \"i said, ooh, i'm drown in the night\", \"oh, when i'm like this, you are the one i trust\", \"i'm just call back to let you know (back to let you know)\", 'i could never say it on the phone (say it on the phone)', 'will never let you go this time (ooh)', \"i said, ooh, i'm blind by the light\", 'no, i cannot sleep until i feel your touch', '(hey, hey, hey) (hey, hey, hey)', \"i said, ooh, i'm blind by the light\", 'no, i cannot sleep until i feel your touch']\n",
            "[\"yeah i've tryna call i've long enough\", 'maybe show love, maybe', \"i'm go withdrawals you even much\", 'you turn touch, baby', \"i look around sin city's cold empty (oh)\", \"no one's around judge (oh)\", 'i cannot see clearly go', \"and i said, ooh, i'm blind light\", 'no, i cannot sleep i feel touch', \"i said, ooh, i'm drown night\", \"oh, i'm like this, i trust\", \"(hey, hey, hey) i'm run time\", 'because i see sun light sky', 'so i hit road overdrive, baby, oh', \"the city's cold empty (oh)\", \"no one's around judge (oh)\", 'i cannot see clearly go', \"and i said, ooh, i'm blind light\", 'no, i cannot sleep i feel touch', \"i said, ooh, i'm drown night\", \"oh, i'm like this, i trust\", \"i'm call back let know (back let know)\", 'i could never say phone (say phone)', 'will never let go time (ooh)', \"i said, ooh, i'm blind light\", 'no, i cannot sleep i feel touch', '(hey, hey, hey) (hey, hey, hey)', \"i said, ooh, i'm blind light\", 'no, i cannot sleep i feel touch']\n",
            "['My heart is weak', 'Tear it down piece by piece', 'Leave me to think Deep in my structure, I think I still love her', 'But I need some sleep', \"You've taken my breath away, now I want to breathe\", 'Cause I cannot see, what you can see, so easily', 'I thought my demons, were almost defeated', 'But you took their side, &amp; you pulled them to freedom', 'I kept your secrets &amp; I thought that you would do the same', 'Leave me in peace', 'Caught in my memories, lost underneath', 'Deep in my structure, I feel a rupture, from where she should be', \"You've taken my breath from me, now I want to breathe\", 'Cause I cannot see, what you can see, so easily', 'I thought my demons, were almost defeated', 'But you took their side, &amp; you pulled them to freedom', \"They know my secrets &amp; won't let me go, won't let me go\", 'I thought my demons, were almost defeated', 'But you took their side, &amp; you pulled them to freedom', 'I kept your secrets &amp; I thought that you would do the same', 'I thought my demons, were almost defeated', 'But you took their side, &amp; you pulled them to freedom', \"They know my secrets &amp; won't let me go, won't let me go\", 'I thought my demons, were almost defeated', 'But you took their side, &amp; you pulled them to freedom', 'I kept your secrets &amp; I thought that you would do the same']\n",
            "['My heart weak Tear piece piece', 'Leave think Deep structure, I think I still love', 'But I need sleep', \"You've taken breath away, I breathe\", 'Cause I cannot see, see, easily', 'I thought demons, almost defeated', 'But took side, &amp; pulled freedom', 'I kept secrets &amp; I thought would', 'Leave peace Caught memories, lost underneath', 'Deep structure, I feel rupture,', \"You've taken breath me, I breathe\", 'Cause I cannot see, see, easily', 'I thought demons, almost defeated', 'But took side, &amp; pulled freedom', 'They know secrets &amp; let go, let go', 'I thought demons, almost defeated', 'But took side, &amp; pulled freedom', 'I kept secrets &amp; I thought would', 'I thought demons, almost defeated', 'But took side, &amp; pulled freedom', 'They know secrets &amp; let go, let go', 'I thought demons, almost defeated', 'But took side, &amp; pulled freedom', 'I kept secrets &amp; I thought would']\n",
            "['my heart is weak', 'tear it down piece by piece', 'leave me to think deep in my structure, i think i still love her', 'but i need some sleep', 'you have taken my breath away, now i want to breathe', 'cause i cannot see, what you can see, so easily', 'i thought my demons, were almost defeated', 'but you took their side, &amp; you pulled them to freedom', 'i kept your secrets &amp; i thought that you would do the same', 'leave me in peace', 'caught in my memories, lost underneath', 'deep in my structure, i feel a rupture, from where she should be', 'you have taken my breath from me, now i want to breathe', 'cause i cannot see, what you can see, so easily', 'i thought my demons, were almost defeated', 'but you took their side, &amp; you pulled them to freedom', 'they know my secrets &amp; will not let me go, will not let me go', 'i thought my demons, were almost defeated', 'but you took their side, &amp; you pulled them to freedom', 'i kept your secrets &amp; i thought that you would do the same', 'i thought my demons, were almost defeated', 'but you took their side, &amp; you pulled them to freedom', 'they know my secrets &amp; will not let me go, will not let me go', 'i thought my demons, were almost defeated', 'but you took their side, &amp; you pulled them to freedom', 'i kept your secrets &amp; i thought that you would do the same']\n",
            "['My heart be weak', 'Tear it down piece by piece', 'Leave me to think Deep in my structure, I think I still love her', 'But I need some sleep', \"You've take my breath away, now I want to breathe\", 'Cause I cannot see, what you can see, so easily', 'I think my demons, be almost defeat', 'But you take their side, &amp; you pull them to freedom', 'I keep your secrets &amp; I think that you would do the same', 'Leave me in peace', 'Caught in my memories, lose underneath', 'Deep in my structure, I feel a rupture, from where she should be', \"You've take my breath from me, now I want to breathe\", 'Cause I cannot see, what you can see, so easily', 'I think my demons, be almost defeat', 'But you take their side, &amp; you pull them to freedom', \"They know my secrets &amp; won't let me go, won't let me go\", 'I think my demons, be almost defeat', 'But you take their side, &amp; you pull them to freedom', 'I keep your secrets &amp; I think that you would do the same', 'I think my demons, be almost defeat', 'But you take their side, &amp; you pull them to freedom', \"They know my secrets &amp; won't let me go, won't let me go\", 'I think my demons, be almost defeat', 'But you take their side, &amp; you pull them to freedom', 'I keep your secrets &amp; I think that you would do the same']\n",
            "['my heart weak tear piece piece', 'leave think deep structure, i think i still love', 'but i need sleep', 'you have taken breath away, i breathe', 'cause i cannot see, see, easily', 'i thought demons, almost defeated', 'but took side, &amp; pulled freedom', 'i kept secrets &amp; i thought would', 'leave peace caught memories, lost underneath', 'deep structure, i feel rupture,', 'you have taken breath me, i breathe', 'cause i cannot see, see, easily', 'i thought demons, almost defeated', 'but took side, &amp; pulled freedom', 'they know secrets &amp; let go, let go', 'i thought demons, almost defeated', 'but took side, &amp; pulled freedom', 'i kept secrets &amp; i thought would', 'i thought demons, almost defeated', 'but took side, &amp; pulled freedom', 'they know secrets &amp; let go, let go', 'i thought demons, almost defeated', 'but took side, &amp; pulled freedom', 'i kept secrets &amp; i thought would']\n",
            "['My heart weak Tear piece piece', 'Leave think Deep structure, I think I still love', 'But I need sleep', \"You've take breath away, I breathe\", 'Cause I cannot see, see, easily', 'I think demons, almost defeat', 'But take side, &amp; pull freedom', 'I keep secrets &amp; I think would', 'Leave peace Caught memories, lose underneath', 'Deep structure, I feel rupture,', \"You've take breath me, I breathe\", 'Cause I cannot see, see, easily', 'I think demons, almost defeat', 'But take side, &amp; pull freedom', 'They know secrets &amp; let go, let go', 'I think demons, almost defeat', 'But take side, &amp; pull freedom', 'I keep secrets &amp; I think would', 'I think demons, almost defeat', 'But take side, &amp; pull freedom', 'They know secrets &amp; let go, let go', 'I think demons, almost defeat', 'But take side, &amp; pull freedom', 'I keep secrets &amp; I think would']\n",
            "['my heart be weak', 'tear it down piece by piece', 'leave me to think deep in my structure, i think i still love her', 'but i need some sleep', 'you have take my breath away, now i want to breathe', 'cause i cannot see, what you can see, so easily', 'i think my demons, be almost defeat', 'but you take their side, &amp; you pull them to freedom', 'i keep your secrets &amp; i think that you would do the same', 'leave me in peace', 'caught in my memories, lose underneath', 'deep in my structure, i feel a rupture, from where she should be', 'you have take my breath from me, now i want to breathe', 'cause i cannot see, what you can see, so easily', 'i think my demons, be almost defeat', 'but you take their side, &amp; you pull them to freedom', 'they know my secrets &amp; will not let me go, will not let me go', 'i think my demons, be almost defeat', 'but you take their side, &amp; you pull them to freedom', 'i keep your secrets &amp; i think that you would do the same', 'i think my demons, be almost defeat', 'but you take their side, &amp; you pull them to freedom', 'they know my secrets &amp; will not let me go, will not let me go', 'i think my demons, be almost defeat', 'but you take their side, &amp; you pull them to freedom', 'i keep your secrets &amp; i think that you would do the same']\n",
            "['my heart weak tear piece piece', 'leave think deep structure, i think i still love', 'but i need sleep', 'you have take breath away, i breathe', 'cause i cannot see, see, easily', 'i think demons, almost defeat', 'but take side, &amp; pull freedom', 'i keep secrets &amp; i think would', 'leave peace catch memories, lose underneath', 'deep structure, i feel rupture,', 'you have take breath me, i breathe', 'cause i cannot see, see, easily', 'i think demons, almost defeat', 'but take side, &amp; pull freedom', 'they know secrets &amp; let go, let go', 'i think demons, almost defeat', 'but take side, &amp; pull freedom', 'i keep secrets &amp; i think would', 'i think demons, almost defeat', 'but take side, &amp; pull freedom', 'they know secrets &amp; let go, let go', 'i think demons, almost defeat', 'but take side, &amp; pull freedom', 'i keep secrets &amp; i think would']\n",
            "['Until the philosophy, we chose one race superior', \"And another Inferior He's finally\", 'And permanently Discredited and abandoned', \"And it's war in the east\", 'War in the west', 'War up north War down south', \"And it's war in the east\", 'War in the west', 'War up north War down south', \"Everywhere is war It's a war\", 'Oh, everywhere is war', \"It's a war And until there's no longer\", 'First and second class citizens of any nation', \"It's on And until the color of a man's skin serves no more significance\", 'Than the color of his eyes', \"We say war And it's war in the east\", 'War in the west', 'War up north War down south', \"And it's war in the east\", 'War in the west', 'War up north War down south', 'Everywhere is Oh, everywhere is war', \"It's a war Oh, everywhere is war\", \"It's a war Oh, everywhere is war\", 'La, la, la, la, la, la, la', 'La, la, la, la, la, la, la', '(Everywhere is, everywhere is, everywhere is)', '(Everywhere is, everywhere is, everywhere is)', 'Everywhere is war Everywhere is war']\n",
            "error La, la, la, la, la, la, la\n",
            "error La, la, la, la, la, la, la\n",
            "['Until philosophy, chose race superior', \"And another Inferior He's finally\", 'And permanently Discredited abandoned', 'And east War west', 'War north War south', 'And east War west', 'War north War south', \"Everywhere It's Oh, everywhere\", \"It's And there's longer\", 'First second class citizens nation', \"It's And color man's skin serves significance\", 'Than color eyes We say', 'And east War west', 'War north War south', 'And east War west', 'War north War south', \"Everywhere Oh, everywhere It's\", \"Oh, everywhere It's Oh, everywhere\", 'La, la, la, la, la, la,', 'La, la, la, la, la, la,', '(Everywhere is, everywhere is, everywhere is)', '(Everywhere is, everywhere is, everywhere is)']\n",
            "error La, la, la, la, la, la,\n",
            "error La, la, la, la, la, la,\n",
            "['until the philosophy, we chose one race superior', 'and another inferior he has / he is finally', 'and permanently discredited and abandoned', 'and it has / it is war in the east', 'war in the west', 'war up north war down south', 'and it has / it is war in the east', 'war in the west', 'war up north war down south', 'everywhere is war it has / it is a war', 'oh, everywhere is war', 'it has / it is a war', 'and until there has / there is no longer', 'first and second class citizens of any nation', 'it has / it is on', \"and until the color of a man's skin serves no more significance\", 'than the color of his eyes', 'we say war and it has / it is war in the east', 'war in the west', 'war up north war down south', 'and it has / it is war in the east', 'war in the west', 'war up north war down south', 'everywhere is oh, everywhere is war', 'it has / it is a war', 'oh, everywhere is war', 'it has / it is a war', 'oh, everywhere is war', 'la, la, la, la, la, la, la', 'la, la, la, la, la, la, la', '(everywhere is, everywhere is, everywhere is)', '(everywhere is, everywhere is, everywhere is)', 'everywhere is war everywhere is war']\n",
            "error la, la, la, la, la, la, la\n",
            "error la, la, la, la, la, la, la\n",
            "['Until the philosophy, we choose one race superior', \"And another Inferior He's finally\", 'And permanently Discredited and abandon', \"And it's war in the east\", 'War in the west', 'War up north War down south', \"And it's war in the east\", 'War in the west', 'War up north War down south', \"Everywhere be war It's a war\", 'Oh, everywhere be war', \"It's a war And until there's no longer\", 'First and second class citizens of any nation', \"It's on And until the color of a man's skin serve no more significance\", 'Than the color of his eye', \"We say war And it's war in the east\", 'War in the west', 'War up north War down south', \"And it's war in the east\", 'War in the west', 'War up north War down south', 'Everywhere be Oh, everywhere be war', \"It's a war Oh, everywhere be war\", \"It's a war Oh, everywhere be war\", 'La, la, la, la, la, la, la', 'La, la, la, la, la, la, la', '(Everywhere is, everywhere is, everywhere is)', '(Everywhere is, everywhere is, everywhere is)', 'Everywhere be war Everywhere be war']\n",
            "error La, la, la, la, la, la, la\n",
            "error La, la, la, la, la, la, la\n",
            "['until philosophy, chose race superior', 'and another inferior he has / he is finally', 'and permanently discredited abandoned', 'and east war west', 'war north war south', 'and east war west', 'war north war south', 'everywhere it has / it is', 'oh, everywhere it has / it is', 'and there has / there is longer', 'first second class citizens nation', 'it has / it is', \"and color man's skin serves significance\", 'than color eyes we say', 'and east war west', 'war north war south', 'and east war west', 'war north war south', 'everywhere oh, everywhere it has / it is', 'oh, everywhere it has / it is', 'oh, everywhere la, la, la, la, la, la,', 'la, la, la, la, la, la,', '(everywhere is, everywhere is, everywhere is)', '(everywhere is, everywhere is, everywhere is)']\n",
            "error la, la, la, la, la, la,\n",
            "['Until philosophy, choose race superior', \"And another Inferior He's finally\", 'And permanently Discredited abandon', 'And east War west', 'War north War south', 'And east War west', 'War north War south', \"Everywhere It's Oh, everywhere\", \"It's And there's longer\", 'First second class citizens nation', \"It's And color man's skin serve significance\", 'Than color eye We say', 'And east War west', 'War north War south', 'And east War west', 'War north War south', \"Everywhere Oh, everywhere It's\", \"Oh, everywhere It's Oh, everywhere\", 'La, la, la, la, la, la,', 'La, la, la, la, la, la,', '(Everywhere is, everywhere is, everywhere is)', '(Everywhere is, everywhere is, everywhere is)']\n",
            "error La, la, la, la, la, la,\n",
            "error La, la, la, la, la, la,\n",
            "['until the philosophy, we choose one race superior', 'and another inferior he has / he is finally', 'and permanently discredited and abandon', 'and it has / it is war in the east', 'war in the west', 'war up north war down south', 'and it has / it is war in the east', 'war in the west', 'war up north war down south', 'everywhere be war it has / it is a war', 'oh, everywhere be war', 'it has / it is a war', 'and until there has / there is no longer', 'first and second class citizens of any nation', 'it has / it is on', \"and until the color of a man's skin serve no more significance\", 'than the color of his eye', 'we say war and it has / it is war in the east', 'war in the west', 'war up north war down south', 'and it has / it is war in the east', 'war in the west', 'war up north war down south', 'everywhere be oh, everywhere be war', 'it has / it is a war', 'oh, everywhere be war', 'it has / it is a war', 'oh, everywhere be war', 'la, la, la, la, la, la, la', 'la, la, la, la, la, la, la', '(everywhere is, everywhere is, everywhere is)', '(everywhere is, everywhere is, everywhere is)', 'everywhere be war everywhere be war']\n",
            "error la, la, la, la, la, la, la\n",
            "error la, la, la, la, la, la, la\n",
            "['until philosophy, choose race superior', 'and another inferior he have / he be finally', 'and permanently discredit abandon', 'and east war west', 'war north war south', 'and east war west', 'war north war south', 'everywhere it have / it be', 'oh, everywhere it have / it be', 'and there have / there be longer', 'first second class citizens nation', 'it have / it be', \"and color man's skin serve significance\", 'than color eye we say', 'and east war west', 'war north war south', 'and east war west', 'war north war south', 'everywhere oh, everywhere it have / it be', 'oh, everywhere it have / it be', 'oh, everywhere la, la, la, la, la, la,', 'la, la, la, la, la, la,', '(everywhere is, everywhere is, everywhere is)', '(everywhere is, everywhere is, everywhere is)']\n",
            "error la, la, la, la, la, la,\n",
            "['The summer night, the fading light', 'The perfect place, the perfect time', 'To take you somewhere we both want to go ', 'A starry drive in mid July', 'Park the car, turn off the lights', 'And venture through a field out on our own', 'The birds they sang a melody', 'My heart was keeping time and we', 'Were dancing on the edge of something new', 'Slow at first but still it seems', \"That we'll go down in history\", 'As lovers from the start, just me and you', \"I've spent a thousand nights\", 'Lost in your emerald eyes', 'Lost in a place where I know you can see my soul', 'Make me lose track of time', 'You and your emerald eyes', 'Finally found a place that I can call my home', \"A subtle breeze, it's you and me\", 'Chest to chest, no in-between', \"And every moment's better than the last\", 'Anything and everything That I could ever want and need', 'Is standing right beside me in the grass', 'The birds they sang a melody', 'My heart was keeping time and we', 'Were dancing on the edge of something new', 'Slow at first but still it seems', \"That we'll go down in history\", 'As lovers from the start, just me and you', \"'Cause I've spent a thousand nights\", 'Lost in your emerald eyes', 'Lost in a place where I know you can see my soul', 'Make me lose track of time', 'You and your emerald eyes', 'Finally found a place that I can call my home', \"I've spent a thousand nights\", 'Lost in your emerald eyes', 'Lost in a place where I know you can see my soul', 'Make me lose track of time', 'You and your emerald eyes', 'Finally found place that I can call my home']\n",
            "['The summer night, fading light', 'The perfect place, perfect time', 'To somewhere go A starry drive mid July', 'Park car, turn lights', 'And venture field The birds sang melody', 'My heart keeping time', 'Were dancing edge something new', 'Slow first still seems', \"That we'll go history\", \"As lovers start, I've spent thousand nights\", 'Lost emerald eyes Lost place I know see soul', 'Make lose track time', 'You emerald eyes Finally found place I call home', 'A subtle breeze, Chest chest, in-between', \"And every moment's better last\", 'Anything everything That I could ever need', 'Is standing right beside grass', 'The birds sang melody', 'My heart keeping time', 'Were dancing edge something new', 'Slow first still seems', \"That we'll go history\", \"As lovers start, 'Cause I've spent thousand nights\", 'Lost emerald eyes Lost place I know see soul', 'Make lose track time', 'You emerald eyes Finally found place I call home', \"I've spent thousand nights\", 'Lost emerald eyes Lost place I know see soul', 'Make lose track time', 'You emerald eyes Finally found place I call home']\n",
            "['the summer night, the fading light', 'the perfect place, the perfect time', 'to take you somewhere we both want to go', 'a starry drive in mid july', 'park the car, turn off the lights', 'and venture through a field out on our own', 'the birds they sang a melody', 'my heart was keeping time and we', 'were dancing on the edge of something new', 'slow at first but still it seems', 'that we will go down in history', 'as lovers from the start, just me and you', \"i've spent a thousand nights\", 'lost in your emerald eyes', 'lost in a place where i know you can see my soul', 'make me lose track of time', 'you and your emerald eyes', 'finally found a place that i can call my home', 'a subtle breeze, it has / it is you and me', 'chest to chest, no in-between', \"and every moment's better than the last\", 'anything and everything that i could ever want and need', 'is standing right beside me in the grass', 'the birds they sang a melody', 'my heart was keeping time and we', 'were dancing on the edge of something new', 'slow at first but still it seems', 'that we will go down in history', 'as lovers from the start, just me and you', \"because i've spent a thousand nights\", 'lost in your emerald eyes', 'lost in a place where i know you can see my soul', 'make me lose track of time', 'you and your emerald eyes', 'finally found a place that i can call my home', \"i've spent a thousand nights\", 'lost in your emerald eyes', 'lost in a place where i know you can see my soul', 'make me lose track of time', 'you and your emerald eyes', 'finally found place that i can call my home']\n",
            "['The summer night, the fade light', 'The perfect place, the perfect time', 'To take you somewhere we both want to go', 'A starry drive in mid July', 'Park the car, turn off the light', 'And venture through a field out on our own', 'The bird they sing a melody', 'My heart be keep time and we', 'Were dance on the edge of something new', 'Slow at first but still it seem', \"That we'll go down in history\", 'As lovers from the start, just me and you', \"I've spend a thousand nights\", 'Lost in your emerald eye', 'Lost in a place where I know you can see my soul', 'Make me lose track of time', 'You and your emerald eye', 'Finally find a place that I can call my home', \"A subtle breeze, it's you and me\", 'Chest to chest, no in-between', \"And every moment's better than the last\", 'Anything and everything That I could ever want and need', 'Is stand right beside me in the grass', 'The bird they sing a melody', 'My heart be keep time and we', 'Were dance on the edge of something new', 'Slow at first but still it seem', \"That we'll go down in history\", 'As lovers from the start, just me and you', \"'Cause I've spend a thousand nights\", 'Lost in your emerald eye', 'Lost in a place where I know you can see my soul', 'Make me lose track of time', 'You and your emerald eye', 'Finally find a place that I can call my home', \"I've spend a thousand nights\", 'Lost in your emerald eye', 'Lost in a place where I know you can see my soul', 'Make me lose track of time', 'You and your emerald eye', 'Finally find place that I can call my home']\n",
            "['the summer night, fading light', 'the perfect place, perfect time', 'to somewhere go a starry drive mid july', 'park car, turn lights', 'and venture field the birds sang melody', 'my heart keeping time', 'were dancing edge something new', 'slow first still seems', 'that we will go history', \"as lovers start, i've spent thousand nights\", 'lost emerald eyes lost place i know see soul', 'make lose track time', 'you emerald eyes finally found place i call home', 'a subtle breeze, chest chest, in-between', \"and every moment's better last\", 'anything everything that i could ever need', 'is standing right beside grass', 'the birds sang melody', 'my heart keeping time', 'were dancing edge something new', 'slow first still seems', 'that we will go history', \"as lovers start, because i've spent thousand nights\", 'lost emerald eyes lost place i know see soul', 'make lose track time', 'you emerald eyes finally found place i call home', \"i've spent thousand nights\", 'lost emerald eyes lost place i know see soul', 'make lose track time', 'you emerald eyes finally found place i call home']\n",
            "['The summer night, fade light', 'The perfect place, perfect time', 'To somewhere go A starry drive mid July', 'Park car, turn light', 'And venture field The bird sing melody', 'My heart keep time', 'Were dance edge something new', 'Slow first still seem', \"That we'll go history\", \"As lovers start, I've spend thousand nights\", 'Lost emerald eye Lost place I know see soul', 'Make lose track time', 'You emerald eye Finally find place I call home', 'A subtle breeze, Chest chest, in-between', \"And every moment's better last\", 'Anything everything That I could ever need', 'Is stand right beside grass', 'The bird sing melody', 'My heart keep time', 'Were dance edge something new', 'Slow first still seem', \"That we'll go history\", \"As lovers start, 'Cause I've spend thousand nights\", 'Lost emerald eye Lost place I know see soul', 'Make lose track time', 'You emerald eye Finally find place I call home', \"I've spend thousand nights\", 'Lost emerald eye Lost place I know see soul', 'Make lose track time', 'You emerald eye Finally find place I call home']\n",
            "['the summer night, the fade light', 'the perfect place, the perfect time', 'to take you somewhere we both want to go', 'a starry drive in mid july', 'park the car, turn off the light', 'and venture through a field out on our own', 'the bird they sing a melody', 'my heart be keep time and we', 'were dance on the edge of something new', 'slow at first but still it seem', 'that we will go down in history', 'as lovers from the start, just me and you', \"i've spend a thousand nights\", 'lost in your emerald eye', 'lost in a place where i know you can see my soul', 'make me lose track of time', 'you and your emerald eye', 'finally find a place that i can call my home', 'a subtle breeze, it has / it is you and me', 'chest to chest, no in-between', \"and every moment's better than the last\", 'anything and everything that i could ever want and need', 'is stand right beside me in the grass', 'the bird they sing a melody', 'my heart be keep time and we', 'were dance on the edge of something new', 'slow at first but still it seem', 'that we will go down in history', 'as lovers from the start, just me and you', \"because i've spend a thousand nights\", 'lost in your emerald eye', 'lost in a place where i know you can see my soul', 'make me lose track of time', 'you and your emerald eye', 'finally find a place that i can call my home', \"i've spend a thousand nights\", 'lost in your emerald eye', 'lost in a place where i know you can see my soul', 'make me lose track of time', 'you and your emerald eye', 'finally find place that i can call my home']\n",
            "['the summer night, fade light', 'the perfect place, perfect time', 'to somewhere go a starry drive mid july', 'park car, turn light', 'and venture field the bird sing melody', 'my heart keep time', 'be dance edge something new', 'slow first still seem', 'that we will go history', \"as lovers start, i've spend thousand nights\", 'lose emerald eye lose place i know see soul', 'make lose track time', 'you emerald eye finally find place i call home', 'a subtle breeze, chest chest, in-between', \"and every moment's better last\", 'anything everything that i could ever need', 'be stand right beside grass', 'the bird sing melody', 'my heart keep time', 'be dance edge something new', 'slow first still seem', 'that we will go history', \"as lovers start, because i've spend thousand nights\", 'lose emerald eye lose place i know see soul', 'make lose track time', 'you emerald eye finally find place i call home', \"i've spend thousand nights\", 'lose emerald eye lose place i know see soul', 'make lose track time', 'you emerald eye finally find place i call home']\n",
            "[\"You know that I can't help myself\", 'Help myself, help myself', \"I try but I don't do too well And I know I disappear for days\", 'And it keeps you awake', \"I almost bend it 'til it breaks\", 'But when I come home', 'Lights out Will you sleep safe and sound?', \"I'm obsessed with you\", 'But you never work me out', 'I get a little jealous, a little selfish', \"You know that it's all good\", \"I'm just a little messed up, ooh, ooh\", \"I'm just a little messed up, like you\", 'Know I never felt this', 'Love how you built this', \"I'm gonna tear it down\", \"I'm just a little messed up, ooh, ooh\", \"I'm just a little messed up, like you\", 'I know I like to make you scared, just to see', 'How much you care', \"I'm never going anywhere, mhmm\", 'And I know you play the same games too', \"But you keep loosing, I'm too good\", \"I'm way too good\", 'But when I come home', 'Lights out Will you sleep safe and sound?', \"I'm obsessed with you\", 'But you never work me out', 'I get a little jealous, a little selfish', \"You know that it's all good\", \"I'm just a little messed up, ooh, ooh\", \"I'm just a little messed up, like you\", 'Know I never felt this', 'Love how you built this', \"I'm gonna tear it down\", \"I'm just a little messed up, ooh, ooh\", \"I'm just a little messed up, like you\", 'Ooh, ooh, ooh, ooh', \"Messed up I'm just a little messed up, like you\", 'When I come home', 'Lights out Will you sleep safe and sound?', \"I'm obsessed with you\", \"But you'll never work me out\", 'I get a little jealous, a little selfish', \"You know that it's all good\", \"I'm just a little messed up, ooh, ooh\", \"I'm just a little messed up, like you\", 'Know I never felt this', 'Love how you built this', \"I'm gonna tear it down\", \"I'm just a little messed up, ooh, ooh\", \"I'm just a little messed up, like you\", 'Ooh, ooh, ooh, ooh (just a little messed up)', \"Messed up I'm just a little messed up, like you\"]\n",
            "error Help myself, help myself\n",
            "error Ooh, ooh, ooh, ooh\n",
            "[\"You know I can't help\", 'Help myself, help I try I well And I know I disappear days', \"And keeps awake I almost bend 'til breaks\", 'But I home Lights', 'Will sleep safe sound?', \"I'm obsessed But never work\", 'I get little jealous, little selfish', \"You know good I'm little messed up, ooh, ooh\", \"I'm little messed up, like\", 'Know I never felt', \"Love built I'm gonna tear\", \"I'm little messed up, ooh, ooh\", \"I'm little messed up, like\", 'I know I like make scared, see', \"How much I'm never going anywhere, mhmm\", 'And I know play games', \"But keep loosing, I'm good\", \"I'm way good But I home\", 'Lights Will sleep safe sound?', \"I'm obsessed But never work\", 'I get little jealous, little selfish', \"You know good I'm little messed up, ooh, ooh\", \"I'm little messed up, like\", 'Know I never felt', \"Love built I'm gonna tear\", \"I'm little messed up, ooh, ooh\", \"I'm little messed up, like\", 'Ooh, ooh, ooh, ooh', \"Messed I'm little messed up, like\", 'When I home Lights', 'Will sleep safe sound?', \"I'm obsessed But never work\", 'I get little jealous, little selfish', \"You know good I'm little messed up, ooh, ooh\", \"I'm little messed up, like\", 'Know I never felt', \"Love built I'm gonna tear\", \"I'm little messed up, ooh, ooh\", \"I'm little messed up, like\", 'Ooh, ooh, ooh, ooh (just little messed up)', \"Messed I'm little messed up, like\"]\n",
            "error Ooh, ooh, ooh, ooh\n",
            "['you know that i cannot help myself', 'help myself, help myself', 'i try but i do not do too well and i know i disappear for days', 'and it keeps you awake', \"i almost bend it 'til it breaks\", 'but when i come home', 'lights out will you sleep safe and sound?', \"i'm obsessed with you\", 'but you never work me out', 'i get a little jealous, a little selfish', 'you know that it has / it is all good', \"i'm just a little messed up, ooh, ooh\", \"i'm just a little messed up, like you\", 'know i never felt this', 'love how you built this', \"i'm gonna tear it down\", \"i'm just a little messed up, ooh, ooh\", \"i'm just a little messed up, like you\", 'i know i like to make you scared, just to see', 'how much you care', \"i'm never going anywhere, mhmm\", 'and i know you play the same games too', \"but you keep loosing, i'm too good\", \"i'm way too good\", 'but when i come home', 'lights out will you sleep safe and sound?', \"i'm obsessed with you\", 'but you never work me out', 'i get a little jealous, a little selfish', 'you know that it has / it is all good', \"i'm just a little messed up, ooh, ooh\", \"i'm just a little messed up, like you\", 'know i never felt this', 'love how you built this', \"i'm gonna tear it down\", \"i'm just a little messed up, ooh, ooh\", \"i'm just a little messed up, like you\", 'ooh, ooh, ooh, ooh', \"messed up i'm just a little messed up, like you\", 'when i come home', 'lights out will you sleep safe and sound?', \"i'm obsessed with you\", 'but you shall / you will never work me out', 'i get a little jealous, a little selfish', 'you know that it has / it is all good', \"i'm just a little messed up, ooh, ooh\", \"i'm just a little messed up, like you\", 'know i never felt this', 'love how you built this', \"i'm gonna tear it down\", \"i'm just a little messed up, ooh, ooh\", \"i'm just a little messed up, like you\", 'ooh, ooh, ooh, ooh (just a little messed up)', \"messed up i'm just a little messed up, like you\"]\n",
            "error help myself, help myself\n",
            "error ooh, ooh, ooh, ooh\n",
            "[\"You know that I can't help myself\", 'Help myself, help myself', \"I try but I don't do too well And I know I disappear for days\", 'And it keep you awake', \"I almost bend it 'til it break\", 'But when I come home', 'Lights out Will you sleep safe and sound?', \"I'm obsess with you\", 'But you never work me out', 'I get a little jealous, a little selfish', \"You know that it's all good\", \"I'm just a little mess up, ooh, ooh\", \"I'm just a little mess up, like you\", 'Know I never felt this', 'Love how you build this', \"I'm gonna tear it down\", \"I'm just a little mess up, ooh, ooh\", \"I'm just a little mess up, like you\", 'I know I like to make you scared, just to see', 'How much you care', \"I'm never go anywhere, mhmm\", 'And I know you play the same game too', \"But you keep loosing, I'm too good\", \"I'm way too good\", 'But when I come home', 'Lights out Will you sleep safe and sound?', \"I'm obsess with you\", 'But you never work me out', 'I get a little jealous, a little selfish', \"You know that it's all good\", \"I'm just a little mess up, ooh, ooh\", \"I'm just a little mess up, like you\", 'Know I never felt this', 'Love how you build this', \"I'm gonna tear it down\", \"I'm just a little mess up, ooh, ooh\", \"I'm just a little mess up, like you\", 'Ooh, ooh, ooh, ooh', \"Messed up I'm just a little mess up, like you\", 'When I come home', 'Lights out Will you sleep safe and sound?', \"I'm obsess with you\", \"But you'll never work me out\", 'I get a little jealous, a little selfish', \"You know that it's all good\", \"I'm just a little mess up, ooh, ooh\", \"I'm just a little mess up, like you\", 'Know I never felt this', 'Love how you build this', \"I'm gonna tear it down\", \"I'm just a little mess up, ooh, ooh\", \"I'm just a little mess up, like you\", 'Ooh, ooh, ooh, ooh (just a little mess up)', \"Messed up I'm just a little mess up, like you\"]\n",
            "error Help myself, help myself\n",
            "error Ooh, ooh, ooh, ooh\n",
            "['you know i cannot help', 'help myself, help i try i well and i know i disappear days', \"and keeps awake i almost bend 'til breaks\", 'but i home lights', 'will sleep safe sound?', \"i'm obsessed but never work\", 'i get little jealous, little selfish', \"you know good i'm little messed up, ooh, ooh\", \"i'm little messed up, like\", 'know i never felt', \"love built i'm gonna tear\", \"i'm little messed up, ooh, ooh\", \"i'm little messed up, like\", 'i know i like make scared, see', \"how much i'm never going anywhere, mhmm\", 'and i know play games', \"but keep loosing, i'm good\", \"i'm way good but i home\", 'lights will sleep safe sound?', \"i'm obsessed but never work\", 'i get little jealous, little selfish', \"you know good i'm little messed up, ooh, ooh\", \"i'm little messed up, like\", 'know i never felt', \"love built i'm gonna tear\", \"i'm little messed up, ooh, ooh\", \"i'm little messed up, like\", 'ooh, ooh, ooh, ooh', \"messed i'm little messed up, like\", 'when i home lights', 'will sleep safe sound?', \"i'm obsessed but never work\", 'i get little jealous, little selfish', \"you know good i'm little messed up, ooh, ooh\", \"i'm little messed up, like\", 'know i never felt', \"love built i'm gonna tear\", \"i'm little messed up, ooh, ooh\", \"i'm little messed up, like\", 'ooh, ooh, ooh, ooh (just little messed up)', \"messed i'm little messed up, like\"]\n",
            "error ooh, ooh, ooh, ooh\n",
            "[\"You know I can't help\", 'Help myself, help I try I well And I know I disappear days', \"And keep awake I almost bend 'til break\", 'But I home Lights', 'Will sleep safe sound?', \"I'm obsess But never work\", 'I get little jealous, little selfish', \"You know good I'm little mess up, ooh, ooh\", \"I'm little mess up, like\", 'Know I never felt', \"Love build I'm gonna tear\", \"I'm little mess up, ooh, ooh\", \"I'm little mess up, like\", 'I know I like make scared, see', \"How much I'm never go anywhere, mhmm\", 'And I know play game', \"But keep loosing, I'm good\", \"I'm way good But I home\", 'Lights Will sleep safe sound?', \"I'm obsess But never work\", 'I get little jealous, little selfish', \"You know good I'm little mess up, ooh, ooh\", \"I'm little mess up, like\", 'Know I never felt', \"Love build I'm gonna tear\", \"I'm little mess up, ooh, ooh\", \"I'm little mess up, like\", 'Ooh, ooh, ooh, ooh', \"Messed I'm little mess up, like\", 'When I home Lights', 'Will sleep safe sound?', \"I'm obsess But never work\", 'I get little jealous, little selfish', \"You know good I'm little mess up, ooh, ooh\", \"I'm little mess up, like\", 'Know I never felt', \"Love build I'm gonna tear\", \"I'm little mess up, ooh, ooh\", \"I'm little mess up, like\", 'Ooh, ooh, ooh, ooh (just little mess up)', \"Messed I'm little mess up, like\"]\n",
            "error Ooh, ooh, ooh, ooh\n",
            "['you know that i cannot help myself', 'help myself, help myself', 'i try but i do not do too well and i know i disappear for days', 'and it keep you awake', \"i almost bend it 'til it break\", 'but when i come home', 'lights out will you sleep safe and sound?', \"i'm obsess with you\", 'but you never work me out', 'i get a little jealous, a little selfish', 'you know that it has / it is all good', \"i'm just a little mess up, ooh, ooh\", \"i'm just a little mess up, like you\", 'know i never felt this', 'love how you build this', \"i'm gonna tear it down\", \"i'm just a little mess up, ooh, ooh\", \"i'm just a little mess up, like you\", 'i know i like to make you scared, just to see', 'how much you care', \"i'm never go anywhere, mhmm\", 'and i know you play the same game too', \"but you keep loosing, i'm too good\", \"i'm way too good\", 'but when i come home', 'lights out will you sleep safe and sound?', \"i'm obsess with you\", 'but you never work me out', 'i get a little jealous, a little selfish', 'you know that it has / it is all good', \"i'm just a little mess up, ooh, ooh\", \"i'm just a little mess up, like you\", 'know i never felt this', 'love how you build this', \"i'm gonna tear it down\", \"i'm just a little mess up, ooh, ooh\", \"i'm just a little mess up, like you\", 'ooh, ooh, ooh, ooh', \"messed up i'm just a little mess up, like you\", 'when i come home', 'lights out will you sleep safe and sound?', \"i'm obsess with you\", 'but you shall / you will never work me out', 'i get a little jealous, a little selfish', 'you know that it has / it is all good', \"i'm just a little mess up, ooh, ooh\", \"i'm just a little mess up, like you\", 'know i never felt this', 'love how you build this', \"i'm gonna tear it down\", \"i'm just a little mess up, ooh, ooh\", \"i'm just a little mess up, like you\", 'ooh, ooh, ooh, ooh (just a little mess up)', \"messed up i'm just a little mess up, like you\"]\n",
            "error help myself, help myself\n",
            "error ooh, ooh, ooh, ooh\n",
            "['you know i cannot help', 'help myself, help i try i well and i know i disappear days', \"and keep awake i almost bend 'til break\", 'but i home light', 'will sleep safe sound?', \"i'm obsess but never work\", 'i get little jealous, little selfish', \"you know good i'm little mess up, ooh, ooh\", \"i'm little mess up, like\", 'know i never felt', \"love build i'm gonna tear\", \"i'm little mess up, ooh, ooh\", \"i'm little mess up, like\", 'i know i like make scared, see', \"how much i'm never go anywhere, mhmm\", 'and i know play game', \"but keep loosing, i'm good\", \"i'm way good but i home\", 'light will sleep safe sound?', \"i'm obsess but never work\", 'i get little jealous, little selfish', \"you know good i'm little mess up, ooh, ooh\", \"i'm little mess up, like\", 'know i never felt', \"love build i'm gonna tear\", \"i'm little mess up, ooh, ooh\", \"i'm little mess up, like\", 'ooh, ooh, ooh, ooh', \"mess i'm little mess up, like\", 'when i home light', 'will sleep safe sound?', \"i'm obsess but never work\", 'i get little jealous, little selfish', \"you know good i'm little mess up, ooh, ooh\", \"i'm little mess up, like\", 'know i never felt', \"love build i'm gonna tear\", \"i'm little mess up, ooh, ooh\", \"i'm little mess up, like\", 'ooh, ooh, ooh, ooh (just little mess up)', \"mess i'm little mess up, like\"]\n",
            "error ooh, ooh, ooh, ooh\n"
          ],
          "name": "stdout"
        }
      ]
    },
    {
      "cell_type": "code",
      "metadata": {
        "id": "Xxm33ZsIWTiG",
        "colab_type": "code",
        "colab": {
          "base_uri": "https://localhost:8080/",
          "height": 297
        },
        "outputId": "b47eac97-d237-4c91-ee97-b79a0e972177"
      },
      "source": [
        "x[0]"
      ],
      "execution_count": 65,
      "outputs": [
        {
          "output_type": "execute_result",
          "data": {
            "text/html": [
              "<div>\n",
              "<style scoped>\n",
              "    .dataframe tbody tr th:only-of-type {\n",
              "        vertical-align: middle;\n",
              "    }\n",
              "\n",
              "    .dataframe tbody tr th {\n",
              "        vertical-align: top;\n",
              "    }\n",
              "\n",
              "    .dataframe thead th {\n",
              "        text-align: right;\n",
              "    }\n",
              "</style>\n",
              "<table border=\"1\" class=\"dataframe\">\n",
              "  <thead>\n",
              "    <tr style=\"text-align: right;\">\n",
              "      <th></th>\n",
              "      <th>Textblob</th>\n",
              "      <th>Textblob per line</th>\n",
              "      <th>Textblob nonzero</th>\n",
              "      <th>Vader</th>\n",
              "      <th>Vader per line</th>\n",
              "      <th>Vader nonzero</th>\n",
              "      <th>Watson</th>\n",
              "      <th>Watson per line</th>\n",
              "      <th>Watson nonzero</th>\n",
              "    </tr>\n",
              "  </thead>\n",
              "  <tbody>\n",
              "    <tr>\n",
              "      <th>Lyrics</th>\n",
              "      <td>0.032143</td>\n",
              "      <td>0.023039</td>\n",
              "      <td>0.097917</td>\n",
              "      <td>-0.4434</td>\n",
              "      <td>-0.027126</td>\n",
              "      <td>-0.065879</td>\n",
              "      <td>-0.882600</td>\n",
              "      <td>-0.271139</td>\n",
              "      <td>-0.336213</td>\n",
              "    </tr>\n",
              "    <tr>\n",
              "      <th>SW</th>\n",
              "      <td>-0.011538</td>\n",
              "      <td>0.016912</td>\n",
              "      <td>0.071875</td>\n",
              "      <td>-0.1940</td>\n",
              "      <td>-0.024274</td>\n",
              "      <td>-0.058950</td>\n",
              "      <td>-0.976902</td>\n",
              "      <td>-0.281368</td>\n",
              "      <td>-0.326387</td>\n",
              "    </tr>\n",
              "    <tr>\n",
              "      <th>CO</th>\n",
              "      <td>0.032143</td>\n",
              "      <td>0.023039</td>\n",
              "      <td>0.097917</td>\n",
              "      <td>-0.4434</td>\n",
              "      <td>-0.027126</td>\n",
              "      <td>-0.065879</td>\n",
              "      <td>-0.909600</td>\n",
              "      <td>-0.267845</td>\n",
              "      <td>-0.332128</td>\n",
              "    </tr>\n",
              "    <tr>\n",
              "      <th>LM</th>\n",
              "      <td>0.002273</td>\n",
              "      <td>0.017157</td>\n",
              "      <td>0.048611</td>\n",
              "      <td>-0.9644</td>\n",
              "      <td>-0.108050</td>\n",
              "      <td>-0.183685</td>\n",
              "      <td>-0.845551</td>\n",
              "      <td>-0.226736</td>\n",
              "      <td>-0.281153</td>\n",
              "    </tr>\n",
              "    <tr>\n",
              "      <th>SW-CO</th>\n",
              "      <td>-0.011538</td>\n",
              "      <td>0.016912</td>\n",
              "      <td>0.071875</td>\n",
              "      <td>-0.1940</td>\n",
              "      <td>-0.024274</td>\n",
              "      <td>-0.058950</td>\n",
              "      <td>-0.972905</td>\n",
              "      <td>-0.288342</td>\n",
              "      <td>-0.348414</td>\n",
              "    </tr>\n",
              "    <tr>\n",
              "      <th>SW-LM</th>\n",
              "      <td>-0.026190</td>\n",
              "      <td>0.011029</td>\n",
              "      <td>0.031250</td>\n",
              "      <td>-0.9582</td>\n",
              "      <td>-0.105197</td>\n",
              "      <td>-0.178835</td>\n",
              "      <td>-0.965912</td>\n",
              "      <td>-0.212647</td>\n",
              "      <td>-0.246670</td>\n",
              "    </tr>\n",
              "    <tr>\n",
              "      <th>CO-LM</th>\n",
              "      <td>0.002273</td>\n",
              "      <td>0.017157</td>\n",
              "      <td>0.048611</td>\n",
              "      <td>-0.9644</td>\n",
              "      <td>-0.108050</td>\n",
              "      <td>-0.183685</td>\n",
              "      <td>-0.878503</td>\n",
              "      <td>-0.220138</td>\n",
              "      <td>-0.272971</td>\n",
              "    </tr>\n",
              "    <tr>\n",
              "      <th>SW-CO-LM</th>\n",
              "      <td>-0.026190</td>\n",
              "      <td>0.011029</td>\n",
              "      <td>0.031250</td>\n",
              "      <td>-0.9582</td>\n",
              "      <td>-0.105197</td>\n",
              "      <td>-0.178835</td>\n",
              "      <td>-0.962477</td>\n",
              "      <td>-0.220504</td>\n",
              "      <td>-0.266442</td>\n",
              "    </tr>\n",
              "  </tbody>\n",
              "</table>\n",
              "</div>"
            ],
            "text/plain": [
              "          Textblob  Textblob per line  ...  Watson per line  Watson nonzero\n",
              "Lyrics    0.032143           0.023039  ...        -0.271139       -0.336213\n",
              "SW       -0.011538           0.016912  ...        -0.281368       -0.326387\n",
              "CO        0.032143           0.023039  ...        -0.267845       -0.332128\n",
              "LM        0.002273           0.017157  ...        -0.226736       -0.281153\n",
              "SW-CO    -0.011538           0.016912  ...        -0.288342       -0.348414\n",
              "SW-LM    -0.026190           0.011029  ...        -0.212647       -0.246670\n",
              "CO-LM     0.002273           0.017157  ...        -0.220138       -0.272971\n",
              "SW-CO-LM -0.026190           0.011029  ...        -0.220504       -0.266442\n",
              "\n",
              "[8 rows x 9 columns]"
            ]
          },
          "metadata": {
            "tags": []
          },
          "execution_count": 65
        }
      ]
    },
    {
      "cell_type": "code",
      "metadata": {
        "id": "j_TUO95haPBc",
        "colab_type": "code",
        "colab": {
          "base_uri": "https://localhost:8080/",
          "height": 297
        },
        "outputId": "045775a4-d567-4379-fe90-2ec5b1e4856a"
      },
      "source": [
        "x[1]"
      ],
      "execution_count": 66,
      "outputs": [
        {
          "output_type": "execute_result",
          "data": {
            "text/html": [
              "<div>\n",
              "<style scoped>\n",
              "    .dataframe tbody tr th:only-of-type {\n",
              "        vertical-align: middle;\n",
              "    }\n",
              "\n",
              "    .dataframe tbody tr th {\n",
              "        vertical-align: top;\n",
              "    }\n",
              "\n",
              "    .dataframe thead th {\n",
              "        text-align: right;\n",
              "    }\n",
              "</style>\n",
              "<table border=\"1\" class=\"dataframe\">\n",
              "  <thead>\n",
              "    <tr style=\"text-align: right;\">\n",
              "      <th></th>\n",
              "      <th>Textblob</th>\n",
              "      <th>Textblob per line</th>\n",
              "      <th>Textblob nonzero</th>\n",
              "      <th>Vader</th>\n",
              "      <th>Vader per line</th>\n",
              "      <th>Vader nonzero</th>\n",
              "      <th>Watson</th>\n",
              "      <th>Watson per line</th>\n",
              "      <th>Watson nonzero</th>\n",
              "    </tr>\n",
              "  </thead>\n",
              "  <tbody>\n",
              "    <tr>\n",
              "      <th>Lyrics</th>\n",
              "      <td>0.083611</td>\n",
              "      <td>0.022543</td>\n",
              "      <td>0.117222</td>\n",
              "      <td>0.9633</td>\n",
              "      <td>0.098012</td>\n",
              "      <td>0.141572</td>\n",
              "      <td>-0.371796</td>\n",
              "      <td>-0.108447</td>\n",
              "      <td>-0.108447</td>\n",
              "    </tr>\n",
              "    <tr>\n",
              "      <th>SW</th>\n",
              "      <td>0.165278</td>\n",
              "      <td>0.028526</td>\n",
              "      <td>0.185417</td>\n",
              "      <td>0.8748</td>\n",
              "      <td>0.035312</td>\n",
              "      <td>0.057381</td>\n",
              "      <td>-0.335312</td>\n",
              "      <td>-0.173610</td>\n",
              "      <td>-0.245097</td>\n",
              "    </tr>\n",
              "    <tr>\n",
              "      <th>CO</th>\n",
              "      <td>0.083611</td>\n",
              "      <td>0.022543</td>\n",
              "      <td>0.117222</td>\n",
              "      <td>0.9813</td>\n",
              "      <td>0.125204</td>\n",
              "      <td>0.180850</td>\n",
              "      <td>-0.436700</td>\n",
              "      <td>-0.110671</td>\n",
              "      <td>-0.110671</td>\n",
              "    </tr>\n",
              "    <tr>\n",
              "      <th>LM</th>\n",
              "      <td>0.083611</td>\n",
              "      <td>0.022543</td>\n",
              "      <td>0.117222</td>\n",
              "      <td>0.9638</td>\n",
              "      <td>0.098542</td>\n",
              "      <td>0.142339</td>\n",
              "      <td>0.338803</td>\n",
              "      <td>-0.087847</td>\n",
              "      <td>-0.087847</td>\n",
              "    </tr>\n",
              "    <tr>\n",
              "      <th>SW-CO</th>\n",
              "      <td>0.165278</td>\n",
              "      <td>0.028526</td>\n",
              "      <td>0.185417</td>\n",
              "      <td>0.9244</td>\n",
              "      <td>0.062504</td>\n",
              "      <td>0.101569</td>\n",
              "      <td>-0.356591</td>\n",
              "      <td>-0.173156</td>\n",
              "      <td>-0.244456</td>\n",
              "    </tr>\n",
              "    <tr>\n",
              "      <th>SW-LM</th>\n",
              "      <td>0.165278</td>\n",
              "      <td>0.028526</td>\n",
              "      <td>0.185417</td>\n",
              "      <td>0.8777</td>\n",
              "      <td>0.035842</td>\n",
              "      <td>0.058244</td>\n",
              "      <td>0.336744</td>\n",
              "      <td>-0.155735</td>\n",
              "      <td>-0.219861</td>\n",
              "    </tr>\n",
              "    <tr>\n",
              "      <th>CO-LM</th>\n",
              "      <td>0.083611</td>\n",
              "      <td>0.022543</td>\n",
              "      <td>0.117222</td>\n",
              "      <td>0.9816</td>\n",
              "      <td>0.125735</td>\n",
              "      <td>0.181617</td>\n",
              "      <td>-0.294294</td>\n",
              "      <td>-0.089940</td>\n",
              "      <td>-0.089940</td>\n",
              "    </tr>\n",
              "    <tr>\n",
              "      <th>SW-CO-LM</th>\n",
              "      <td>0.165278</td>\n",
              "      <td>0.028526</td>\n",
              "      <td>0.185417</td>\n",
              "      <td>0.9265</td>\n",
              "      <td>0.063035</td>\n",
              "      <td>0.102431</td>\n",
              "      <td>0.323240</td>\n",
              "      <td>-0.153256</td>\n",
              "      <td>-0.216362</td>\n",
              "    </tr>\n",
              "  </tbody>\n",
              "</table>\n",
              "</div>"
            ],
            "text/plain": [
              "          Textblob  Textblob per line  ...  Watson per line  Watson nonzero\n",
              "Lyrics    0.083611           0.022543  ...        -0.108447       -0.108447\n",
              "SW        0.165278           0.028526  ...        -0.173610       -0.245097\n",
              "CO        0.083611           0.022543  ...        -0.110671       -0.110671\n",
              "LM        0.083611           0.022543  ...        -0.087847       -0.087847\n",
              "SW-CO     0.165278           0.028526  ...        -0.173156       -0.244456\n",
              "SW-LM     0.165278           0.028526  ...        -0.155735       -0.219861\n",
              "CO-LM     0.083611           0.022543  ...        -0.089940       -0.089940\n",
              "SW-CO-LM  0.165278           0.028526  ...        -0.153256       -0.216362\n",
              "\n",
              "[8 rows x 9 columns]"
            ]
          },
          "metadata": {
            "tags": []
          },
          "execution_count": 66
        }
      ]
    },
    {
      "cell_type": "code",
      "metadata": {
        "id": "83geCx6aaQW0",
        "colab_type": "code",
        "colab": {
          "base_uri": "https://localhost:8080/",
          "height": 297
        },
        "outputId": "1f74678f-98a0-45da-9bd4-06bf91ba19a8"
      },
      "source": [
        "x[2]"
      ],
      "execution_count": 67,
      "outputs": [
        {
          "output_type": "execute_result",
          "data": {
            "text/html": [
              "<div>\n",
              "<style scoped>\n",
              "    .dataframe tbody tr th:only-of-type {\n",
              "        vertical-align: middle;\n",
              "    }\n",
              "\n",
              "    .dataframe tbody tr th {\n",
              "        vertical-align: top;\n",
              "    }\n",
              "\n",
              "    .dataframe thead th {\n",
              "        text-align: right;\n",
              "    }\n",
              "</style>\n",
              "<table border=\"1\" class=\"dataframe\">\n",
              "  <thead>\n",
              "    <tr style=\"text-align: right;\">\n",
              "      <th></th>\n",
              "      <th>Textblob</th>\n",
              "      <th>Textblob per line</th>\n",
              "      <th>Textblob nonzero</th>\n",
              "      <th>Vader</th>\n",
              "      <th>Vader per line</th>\n",
              "      <th>Vader nonzero</th>\n",
              "      <th>Watson</th>\n",
              "      <th>Watson per line</th>\n",
              "      <th>Watson nonzero</th>\n",
              "    </tr>\n",
              "  </thead>\n",
              "  <tbody>\n",
              "    <tr>\n",
              "      <th>Lyrics</th>\n",
              "      <td>0.008642</td>\n",
              "      <td>-0.001098</td>\n",
              "      <td>-0.006746</td>\n",
              "      <td>-0.9990</td>\n",
              "      <td>-0.409270</td>\n",
              "      <td>-0.533291</td>\n",
              "      <td>-0.777161</td>\n",
              "      <td>48.027406</td>\n",
              "      <td>107.138060</td>\n",
              "    </tr>\n",
              "    <tr>\n",
              "      <th>SW</th>\n",
              "      <td>0.237500</td>\n",
              "      <td>0.019186</td>\n",
              "      <td>0.412500</td>\n",
              "      <td>-0.9945</td>\n",
              "      <td>-0.174158</td>\n",
              "      <td>-0.468050</td>\n",
              "      <td>-0.740457</td>\n",
              "      <td>63.611840</td>\n",
              "      <td>155.495608</td>\n",
              "    </tr>\n",
              "    <tr>\n",
              "      <th>CO</th>\n",
              "      <td>0.008642</td>\n",
              "      <td>-0.001098</td>\n",
              "      <td>-0.006746</td>\n",
              "      <td>-0.9990</td>\n",
              "      <td>-0.409270</td>\n",
              "      <td>-0.533291</td>\n",
              "      <td>0.000000</td>\n",
              "      <td>42.190210</td>\n",
              "      <td>92.818462</td>\n",
              "    </tr>\n",
              "    <tr>\n",
              "      <th>LM</th>\n",
              "      <td>0.008642</td>\n",
              "      <td>-0.001098</td>\n",
              "      <td>-0.006746</td>\n",
              "      <td>-0.9990</td>\n",
              "      <td>-0.409053</td>\n",
              "      <td>-0.533009</td>\n",
              "      <td>-0.735975</td>\n",
              "      <td>48.037926</td>\n",
              "      <td>107.161526</td>\n",
              "    </tr>\n",
              "    <tr>\n",
              "      <th>SW-CO</th>\n",
              "      <td>0.237500</td>\n",
              "      <td>0.019186</td>\n",
              "      <td>0.412500</td>\n",
              "      <td>-0.9945</td>\n",
              "      <td>-0.174158</td>\n",
              "      <td>-0.468050</td>\n",
              "      <td>-0.576116</td>\n",
              "      <td>29.294917</td>\n",
              "      <td>87.884751</td>\n",
              "    </tr>\n",
              "    <tr>\n",
              "      <th>SW-LM</th>\n",
              "      <td>0.237500</td>\n",
              "      <td>0.019186</td>\n",
              "      <td>0.412500</td>\n",
              "      <td>-0.9945</td>\n",
              "      <td>-0.173942</td>\n",
              "      <td>-0.467469</td>\n",
              "      <td>-0.797336</td>\n",
              "      <td>63.588578</td>\n",
              "      <td>174.868589</td>\n",
              "    </tr>\n",
              "    <tr>\n",
              "      <th>CO-LM</th>\n",
              "      <td>0.008642</td>\n",
              "      <td>-0.001098</td>\n",
              "      <td>-0.006746</td>\n",
              "      <td>-0.9990</td>\n",
              "      <td>-0.409053</td>\n",
              "      <td>-0.533009</td>\n",
              "      <td>0.000000</td>\n",
              "      <td>42.199611</td>\n",
              "      <td>92.839145</td>\n",
              "    </tr>\n",
              "    <tr>\n",
              "      <th>SW-CO-LM</th>\n",
              "      <td>0.237500</td>\n",
              "      <td>0.019186</td>\n",
              "      <td>0.412500</td>\n",
              "      <td>-0.9939</td>\n",
              "      <td>-0.167898</td>\n",
              "      <td>-0.451225</td>\n",
              "      <td>-0.761865</td>\n",
              "      <td>29.184158</td>\n",
              "      <td>100.059970</td>\n",
              "    </tr>\n",
              "  </tbody>\n",
              "</table>\n",
              "</div>"
            ],
            "text/plain": [
              "          Textblob  Textblob per line  ...  Watson per line  Watson nonzero\n",
              "Lyrics    0.008642          -0.001098  ...        48.027406      107.138060\n",
              "SW        0.237500           0.019186  ...        63.611840      155.495608\n",
              "CO        0.008642          -0.001098  ...        42.190210       92.818462\n",
              "LM        0.008642          -0.001098  ...        48.037926      107.161526\n",
              "SW-CO     0.237500           0.019186  ...        29.294917       87.884751\n",
              "SW-LM     0.237500           0.019186  ...        63.588578      174.868589\n",
              "CO-LM     0.008642          -0.001098  ...        42.199611       92.839145\n",
              "SW-CO-LM  0.237500           0.019186  ...        29.184158      100.059970\n",
              "\n",
              "[8 rows x 9 columns]"
            ]
          },
          "metadata": {
            "tags": []
          },
          "execution_count": 67
        }
      ]
    },
    {
      "cell_type": "code",
      "metadata": {
        "id": "HSWClFGvg5eO",
        "colab_type": "code",
        "colab": {
          "base_uri": "https://localhost:8080/",
          "height": 297
        },
        "outputId": "28de3c70-02d4-4372-ef4c-d9856997d715"
      },
      "source": [
        "x[3]"
      ],
      "execution_count": 68,
      "outputs": [
        {
          "output_type": "execute_result",
          "data": {
            "text/html": [
              "<div>\n",
              "<style scoped>\n",
              "    .dataframe tbody tr th:only-of-type {\n",
              "        vertical-align: middle;\n",
              "    }\n",
              "\n",
              "    .dataframe tbody tr th {\n",
              "        vertical-align: top;\n",
              "    }\n",
              "\n",
              "    .dataframe thead th {\n",
              "        text-align: right;\n",
              "    }\n",
              "</style>\n",
              "<table border=\"1\" class=\"dataframe\">\n",
              "  <thead>\n",
              "    <tr style=\"text-align: right;\">\n",
              "      <th></th>\n",
              "      <th>Textblob</th>\n",
              "      <th>Textblob per line</th>\n",
              "      <th>Textblob nonzero</th>\n",
              "      <th>Vader</th>\n",
              "      <th>Vader per line</th>\n",
              "      <th>Vader nonzero</th>\n",
              "      <th>Watson</th>\n",
              "      <th>Watson per line</th>\n",
              "      <th>Watson nonzero</th>\n",
              "    </tr>\n",
              "  </thead>\n",
              "  <tbody>\n",
              "    <tr>\n",
              "      <th>Lyrics</th>\n",
              "      <td>0.131043</td>\n",
              "      <td>0.043190</td>\n",
              "      <td>0.120933</td>\n",
              "      <td>-0.8957</td>\n",
              "      <td>-0.022621</td>\n",
              "      <td>-0.059381</td>\n",
              "      <td>0.476612</td>\n",
              "      <td>0.010187</td>\n",
              "      <td>0.017403</td>\n",
              "    </tr>\n",
              "    <tr>\n",
              "      <th>SW</th>\n",
              "      <td>0.136255</td>\n",
              "      <td>0.036312</td>\n",
              "      <td>0.127092</td>\n",
              "      <td>-0.2023</td>\n",
              "      <td>-0.019250</td>\n",
              "      <td>-0.062192</td>\n",
              "      <td>0.873502</td>\n",
              "      <td>0.055158</td>\n",
              "      <td>0.087092</td>\n",
              "    </tr>\n",
              "    <tr>\n",
              "      <th>CO</th>\n",
              "      <td>0.131043</td>\n",
              "      <td>0.043190</td>\n",
              "      <td>0.120933</td>\n",
              "      <td>-0.8957</td>\n",
              "      <td>-0.022621</td>\n",
              "      <td>-0.059381</td>\n",
              "      <td>0.487262</td>\n",
              "      <td>-0.011209</td>\n",
              "      <td>-0.017676</td>\n",
              "    </tr>\n",
              "    <tr>\n",
              "      <th>LM</th>\n",
              "      <td>0.176857</td>\n",
              "      <td>0.059857</td>\n",
              "      <td>0.193384</td>\n",
              "      <td>-0.8957</td>\n",
              "      <td>-0.022621</td>\n",
              "      <td>-0.059381</td>\n",
              "      <td>0.371561</td>\n",
              "      <td>0.027284</td>\n",
              "      <td>0.041432</td>\n",
              "    </tr>\n",
              "    <tr>\n",
              "      <th>SW-CO</th>\n",
              "      <td>0.136255</td>\n",
              "      <td>0.036312</td>\n",
              "      <td>0.127092</td>\n",
              "      <td>-0.2023</td>\n",
              "      <td>-0.019250</td>\n",
              "      <td>-0.062192</td>\n",
              "      <td>0.855904</td>\n",
              "      <td>0.084435</td>\n",
              "      <td>0.126653</td>\n",
              "    </tr>\n",
              "    <tr>\n",
              "      <th>SW-LM</th>\n",
              "      <td>0.190284</td>\n",
              "      <td>0.052979</td>\n",
              "      <td>0.222511</td>\n",
              "      <td>-0.2023</td>\n",
              "      <td>-0.019250</td>\n",
              "      <td>-0.062192</td>\n",
              "      <td>0.892811</td>\n",
              "      <td>0.073226</td>\n",
              "      <td>0.109838</td>\n",
              "    </tr>\n",
              "    <tr>\n",
              "      <th>CO-LM</th>\n",
              "      <td>0.176857</td>\n",
              "      <td>0.059857</td>\n",
              "      <td>0.193384</td>\n",
              "      <td>-0.8957</td>\n",
              "      <td>-0.022621</td>\n",
              "      <td>-0.059381</td>\n",
              "      <td>0.384594</td>\n",
              "      <td>0.013463</td>\n",
              "      <td>0.019714</td>\n",
              "    </tr>\n",
              "    <tr>\n",
              "      <th>SW-CO-LM</th>\n",
              "      <td>0.190284</td>\n",
              "      <td>0.052979</td>\n",
              "      <td>0.222511</td>\n",
              "      <td>-0.6369</td>\n",
              "      <td>-0.031207</td>\n",
              "      <td>-0.100823</td>\n",
              "      <td>0.895829</td>\n",
              "      <td>0.124650</td>\n",
              "      <td>0.169978</td>\n",
              "    </tr>\n",
              "  </tbody>\n",
              "</table>\n",
              "</div>"
            ],
            "text/plain": [
              "          Textblob  Textblob per line  ...  Watson per line  Watson nonzero\n",
              "Lyrics    0.131043           0.043190  ...         0.010187        0.017403\n",
              "SW        0.136255           0.036312  ...         0.055158        0.087092\n",
              "CO        0.131043           0.043190  ...        -0.011209       -0.017676\n",
              "LM        0.176857           0.059857  ...         0.027284        0.041432\n",
              "SW-CO     0.136255           0.036312  ...         0.084435        0.126653\n",
              "SW-LM     0.190284           0.052979  ...         0.073226        0.109838\n",
              "CO-LM     0.176857           0.059857  ...         0.013463        0.019714\n",
              "SW-CO-LM  0.190284           0.052979  ...         0.124650        0.169978\n",
              "\n",
              "[8 rows x 9 columns]"
            ]
          },
          "metadata": {
            "tags": []
          },
          "execution_count": 68
        }
      ]
    },
    {
      "cell_type": "code",
      "metadata": {
        "id": "0AuRCai0g8fw",
        "colab_type": "code",
        "colab": {
          "base_uri": "https://localhost:8080/",
          "height": 297
        },
        "outputId": "9c1def1a-f2c8-4682-baf5-fe4579133ec4"
      },
      "source": [
        "x[4]"
      ],
      "execution_count": 70,
      "outputs": [
        {
          "output_type": "execute_result",
          "data": {
            "text/html": [
              "<div>\n",
              "<style scoped>\n",
              "    .dataframe tbody tr th:only-of-type {\n",
              "        vertical-align: middle;\n",
              "    }\n",
              "\n",
              "    .dataframe tbody tr th {\n",
              "        vertical-align: top;\n",
              "    }\n",
              "\n",
              "    .dataframe thead th {\n",
              "        text-align: right;\n",
              "    }\n",
              "</style>\n",
              "<table border=\"1\" class=\"dataframe\">\n",
              "  <thead>\n",
              "    <tr style=\"text-align: right;\">\n",
              "      <th></th>\n",
              "      <th>Textblob</th>\n",
              "      <th>Textblob per line</th>\n",
              "      <th>Textblob nonzero</th>\n",
              "      <th>Vader</th>\n",
              "      <th>Vader per line</th>\n",
              "      <th>Vader nonzero</th>\n",
              "      <th>Watson</th>\n",
              "      <th>Watson per line</th>\n",
              "      <th>Watson nonzero</th>\n",
              "    </tr>\n",
              "  </thead>\n",
              "  <tbody>\n",
              "    <tr>\n",
              "      <th>Lyrics</th>\n",
              "      <td>0.010779</td>\n",
              "      <td>0.015184</td>\n",
              "      <td>0.024884</td>\n",
              "      <td>0.9222</td>\n",
              "      <td>0.019734</td>\n",
              "      <td>0.029108</td>\n",
              "      <td>-0.462724</td>\n",
              "      <td>25.794275</td>\n",
              "      <td>30.953129</td>\n",
              "    </tr>\n",
              "    <tr>\n",
              "      <th>SW</th>\n",
              "      <td>0.022917</td>\n",
              "      <td>0.023093</td>\n",
              "      <td>0.041288</td>\n",
              "      <td>-0.9740</td>\n",
              "      <td>0.021612</td>\n",
              "      <td>0.032695</td>\n",
              "      <td>-0.651018</td>\n",
              "      <td>16.786605</td>\n",
              "      <td>19.664308</td>\n",
              "    </tr>\n",
              "    <tr>\n",
              "      <th>CO</th>\n",
              "      <td>0.010779</td>\n",
              "      <td>0.015184</td>\n",
              "      <td>0.024884</td>\n",
              "      <td>0.9339</td>\n",
              "      <td>0.022315</td>\n",
              "      <td>0.032915</td>\n",
              "      <td>-0.358686</td>\n",
              "      <td>25.796120</td>\n",
              "      <td>30.955344</td>\n",
              "    </tr>\n",
              "    <tr>\n",
              "      <th>LM</th>\n",
              "      <td>-0.017444</td>\n",
              "      <td>0.038806</td>\n",
              "      <td>0.067341</td>\n",
              "      <td>0.8243</td>\n",
              "      <td>0.009876</td>\n",
              "      <td>0.014568</td>\n",
              "      <td>-0.572606</td>\n",
              "      <td>25.734910</td>\n",
              "      <td>30.210546</td>\n",
              "    </tr>\n",
              "    <tr>\n",
              "      <th>SW-CO</th>\n",
              "      <td>0.022917</td>\n",
              "      <td>0.023093</td>\n",
              "      <td>0.041288</td>\n",
              "      <td>-0.9822</td>\n",
              "      <td>0.024193</td>\n",
              "      <td>0.036600</td>\n",
              "      <td>-0.656212</td>\n",
              "      <td>16.787042</td>\n",
              "      <td>19.664820</td>\n",
              "    </tr>\n",
              "    <tr>\n",
              "      <th>SW-LM</th>\n",
              "      <td>-0.010227</td>\n",
              "      <td>0.043326</td>\n",
              "      <td>0.082460</td>\n",
              "      <td>-0.9799</td>\n",
              "      <td>0.011754</td>\n",
              "      <td>0.017782</td>\n",
              "      <td>-0.708590</td>\n",
              "      <td>16.777378</td>\n",
              "      <td>19.653500</td>\n",
              "    </tr>\n",
              "    <tr>\n",
              "      <th>CO-LM</th>\n",
              "      <td>-0.017444</td>\n",
              "      <td>0.038806</td>\n",
              "      <td>0.067341</td>\n",
              "      <td>0.8243</td>\n",
              "      <td>0.012458</td>\n",
              "      <td>0.018375</td>\n",
              "      <td>-0.475647</td>\n",
              "      <td>25.736755</td>\n",
              "      <td>30.212712</td>\n",
              "    </tr>\n",
              "    <tr>\n",
              "      <th>SW-CO-LM</th>\n",
              "      <td>0.004792</td>\n",
              "      <td>0.057733</td>\n",
              "      <td>0.094618</td>\n",
              "      <td>-0.9874</td>\n",
              "      <td>0.013617</td>\n",
              "      <td>0.020600</td>\n",
              "      <td>-0.713785</td>\n",
              "      <td>16.777447</td>\n",
              "      <td>19.653581</td>\n",
              "    </tr>\n",
              "  </tbody>\n",
              "</table>\n",
              "</div>"
            ],
            "text/plain": [
              "          Textblob  Textblob per line  ...  Watson per line  Watson nonzero\n",
              "Lyrics    0.010779           0.015184  ...        25.794275       30.953129\n",
              "SW        0.022917           0.023093  ...        16.786605       19.664308\n",
              "CO        0.010779           0.015184  ...        25.796120       30.955344\n",
              "LM       -0.017444           0.038806  ...        25.734910       30.210546\n",
              "SW-CO     0.022917           0.023093  ...        16.787042       19.664820\n",
              "SW-LM    -0.010227           0.043326  ...        16.777378       19.653500\n",
              "CO-LM    -0.017444           0.038806  ...        25.736755       30.212712\n",
              "SW-CO-LM  0.004792           0.057733  ...        16.777447       19.653581\n",
              "\n",
              "[8 rows x 9 columns]"
            ]
          },
          "metadata": {
            "tags": []
          },
          "execution_count": 70
        }
      ]
    },
    {
      "cell_type": "markdown",
      "metadata": {
        "id": "hbY8DnR_wPNQ",
        "colab_type": "text"
      },
      "source": [
        "Kinda done with this part. Looks okay for now. Now we got to see if we can get an mp3 version of the song and see if the song sounds sad or happy. "
      ]
    },
    {
      "cell_type": "code",
      "metadata": {
        "id": "35K6yMG7n8Qp",
        "colab_type": "code",
        "colab": {
          "base_uri": "https://localhost:8080/",
          "height": 34
        },
        "outputId": "ed5a69b3-3c98-4a2b-d2c4-e548d3ce8ebc"
      },
      "source": [
        "len(\"\")"
      ],
      "execution_count": null,
      "outputs": [
        {
          "output_type": "execute_result",
          "data": {
            "text/plain": [
              "0"
            ]
          },
          "metadata": {
            "tags": []
          },
          "execution_count": 61
        }
      ]
    }
  ]
}
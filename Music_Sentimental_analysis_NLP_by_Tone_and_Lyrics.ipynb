{
  "nbformat": 4,
  "nbformat_minor": 0,
  "metadata": {
    "colab": {
      "name": "Music Sentimental analysis NLP by Tone and Lyrics",
      "provenance": [],
      "collapsed_sections": [],
      "toc_visible": true,
      "authorship_tag": "ABX9TyPVKA+4InyhpinKPKwsvI7x",
      "include_colab_link": true
    },
    "kernelspec": {
      "name": "python3",
      "display_name": "Python 3"
    }
  },
  "cells": [
    {
      "cell_type": "markdown",
      "metadata": {
        "id": "view-in-github",
        "colab_type": "text"
      },
      "source": [
        "<a href=\"https://colab.research.google.com/github/Thayyebsalim/music_analyisis/blob/master/Music_Sentimental_analysis_NLP_by_Tone_and_Lyrics.ipynb\" target=\"_parent\"><img src=\"https://colab.research.google.com/assets/colab-badge.svg\" alt=\"Open In Colab\"/></a>"
      ]
    },
    {
      "cell_type": "markdown",
      "metadata": {
        "id": "AkAoDSqOzD2u",
        "colab_type": "text"
      },
      "source": [
        "# Intro\n",
        "\n",
        "The idea of this code is to find the mood of the song in any way possible helping us to segregate songs better.\n",
        "\n",
        "1.   First part is gonna be scraping the lyrics from any website or API \n",
        "2.   Finding the vibe of the song with sentimental analysis\n",
        "3.   Fetch and mp3 version and check the mood with transfer learning hopefully or something similar\n",
        "\n"
      ]
    },
    {
      "cell_type": "code",
      "metadata": {
        "id": "obWgGCfq6ALb",
        "colab_type": "code",
        "colab": {
          "base_uri": "https://localhost:8080/",
          "height": 1000
        },
        "outputId": "5f54b6c4-5694-4a92-c4a8-de693d8e9dcb"
      },
      "source": [
        "!apt-get update\n",
        "!apt install chromium-chromedriver\n",
        "!cp /usr/lib/chromium-browser/chromedriver /usr/bin\n",
        "!pip install selenium"
      ],
      "execution_count": 1,
      "outputs": [
        {
          "output_type": "stream",
          "text": [
            "\r0% [Working]\r            \rGet:1 https://cloud.r-project.org/bin/linux/ubuntu bionic-cran35/ InRelease [3,626 B]\n",
            "\r0% [Connecting to archive.ubuntu.com (91.189.88.152)] [Waiting for headers] [1 \r0% [Connecting to archive.ubuntu.com (91.189.88.152)] [Waiting for headers] [Wa\r                                                                               \rGet:2 http://security.ubuntu.com/ubuntu bionic-security InRelease [88.7 kB]\n",
            "\r0% [Connecting to archive.ubuntu.com (91.189.88.152)] [2 InRelease 11.3 kB/88.7\r0% [1 InRelease gpgv 3,626 B] [Connecting to archive.ubuntu.com (91.189.88.152)\r                                                                               \rIgn:3 https://developer.download.nvidia.com/compute/cuda/repos/ubuntu1804/x86_64  InRelease\n",
            "\r0% [1 InRelease gpgv 3,626 B] [Connecting to archive.ubuntu.com (91.189.88.152)\r                                                                               \rIgn:4 https://developer.download.nvidia.com/compute/machine-learning/repos/ubuntu1804/x86_64  InRelease\n",
            "\r0% [1 InRelease gpgv 3,626 B] [Waiting for headers] [2 InRelease 57.6 kB/88.7 k\r                                                                               \rHit:5 https://developer.download.nvidia.com/compute/cuda/repos/ubuntu1804/x86_64  Release\n",
            "\r0% [1 InRelease gpgv 3,626 B] [Waiting for headers] [2 InRelease 86.6 kB/88.7 k\r0% [1 InRelease gpgv 3,626 B] [Waiting for headers] [Waiting for headers] [Wait\r                                                                               \rHit:6 https://developer.download.nvidia.com/compute/machine-learning/repos/ubuntu1804/x86_64  Release\n",
            "\r                                                                               \r0% [1 InRelease gpgv 3,626 B] [Waiting for headers] [Waiting for headers]\r                                                                         \rHit:7 http://archive.ubuntu.com/ubuntu bionic InRelease\n",
            "Get:8 http://ppa.launchpad.net/graphics-drivers/ppa/ubuntu bionic InRelease [21.3 kB]\n",
            "Get:9 http://archive.ubuntu.com/ubuntu bionic-updates InRelease [88.7 kB]\n",
            "Get:10 https://cloud.r-project.org/bin/linux/ubuntu bionic-cran35/ Packages [95.3 kB]\n",
            "Get:11 http://ppa.launchpad.net/marutter/c2d4u3.5/ubuntu bionic InRelease [15.4 kB]\n",
            "Get:13 http://archive.ubuntu.com/ubuntu bionic-backports InRelease [74.6 kB]\n",
            "Get:14 http://security.ubuntu.com/ubuntu bionic-security/main amd64 Packages [1,044 kB]\n",
            "Get:15 http://security.ubuntu.com/ubuntu bionic-security/universe amd64 Packages [890 kB]\n",
            "Get:17 http://ppa.launchpad.net/graphics-drivers/ppa/ubuntu bionic/main amd64 Packages [43.5 kB]\n",
            "Get:18 http://archive.ubuntu.com/ubuntu bionic-updates/universe amd64 Packages [1,418 kB]\n",
            "Get:19 http://ppa.launchpad.net/marutter/c2d4u3.5/ubuntu bionic/main Sources [1,857 kB]\n",
            "Get:20 http://archive.ubuntu.com/ubuntu bionic-updates/main amd64 Packages [1,341 kB]\n",
            "Get:21 http://ppa.launchpad.net/marutter/c2d4u3.5/ubuntu bionic/main amd64 Packages [896 kB]\n",
            "Fetched 7,878 kB in 4s (2,017 kB/s)\n",
            "Reading package lists... Done\n",
            "Reading package lists... Done\n",
            "Building dependency tree       \n",
            "Reading state information... Done\n",
            "The following package was automatically installed and is no longer required:\n",
            "  libnvidia-common-440\n",
            "Use 'apt autoremove' to remove it.\n",
            "The following additional packages will be installed:\n",
            "  chromium-browser chromium-browser-l10n chromium-codecs-ffmpeg-extra\n",
            "Suggested packages:\n",
            "  webaccounts-chromium-extension unity-chromium-extension adobe-flashplugin\n",
            "The following NEW packages will be installed:\n",
            "  chromium-browser chromium-browser-l10n chromium-chromedriver\n",
            "  chromium-codecs-ffmpeg-extra\n",
            "0 upgraded, 4 newly installed, 0 to remove and 59 not upgraded.\n",
            "Need to get 76.2 MB of archives.\n",
            "After this operation, 255 MB of additional disk space will be used.\n",
            "Get:1 http://archive.ubuntu.com/ubuntu bionic-updates/universe amd64 chromium-codecs-ffmpeg-extra amd64 84.0.4147.105-0ubuntu0.18.04.1 [1,118 kB]\n",
            "Get:2 http://archive.ubuntu.com/ubuntu bionic-updates/universe amd64 chromium-browser amd64 84.0.4147.105-0ubuntu0.18.04.1 [67.4 MB]\n",
            "Get:3 http://archive.ubuntu.com/ubuntu bionic-updates/universe amd64 chromium-browser-l10n all 84.0.4147.105-0ubuntu0.18.04.1 [3,379 kB]\n",
            "Get:4 http://archive.ubuntu.com/ubuntu bionic-updates/universe amd64 chromium-chromedriver amd64 84.0.4147.105-0ubuntu0.18.04.1 [4,354 kB]\n",
            "Fetched 76.2 MB in 4s (21.7 MB/s)\n",
            "Selecting previously unselected package chromium-codecs-ffmpeg-extra.\n",
            "(Reading database ... 144556 files and directories currently installed.)\n",
            "Preparing to unpack .../chromium-codecs-ffmpeg-extra_84.0.4147.105-0ubuntu0.18.04.1_amd64.deb ...\n",
            "Unpacking chromium-codecs-ffmpeg-extra (84.0.4147.105-0ubuntu0.18.04.1) ...\n",
            "Selecting previously unselected package chromium-browser.\n",
            "Preparing to unpack .../chromium-browser_84.0.4147.105-0ubuntu0.18.04.1_amd64.deb ...\n",
            "Unpacking chromium-browser (84.0.4147.105-0ubuntu0.18.04.1) ...\n",
            "Selecting previously unselected package chromium-browser-l10n.\n",
            "Preparing to unpack .../chromium-browser-l10n_84.0.4147.105-0ubuntu0.18.04.1_all.deb ...\n",
            "Unpacking chromium-browser-l10n (84.0.4147.105-0ubuntu0.18.04.1) ...\n",
            "Selecting previously unselected package chromium-chromedriver.\n",
            "Preparing to unpack .../chromium-chromedriver_84.0.4147.105-0ubuntu0.18.04.1_amd64.deb ...\n",
            "Unpacking chromium-chromedriver (84.0.4147.105-0ubuntu0.18.04.1) ...\n",
            "Setting up chromium-codecs-ffmpeg-extra (84.0.4147.105-0ubuntu0.18.04.1) ...\n",
            "Setting up chromium-browser (84.0.4147.105-0ubuntu0.18.04.1) ...\n",
            "update-alternatives: using /usr/bin/chromium-browser to provide /usr/bin/x-www-browser (x-www-browser) in auto mode\n",
            "update-alternatives: using /usr/bin/chromium-browser to provide /usr/bin/gnome-www-browser (gnome-www-browser) in auto mode\n",
            "Setting up chromium-chromedriver (84.0.4147.105-0ubuntu0.18.04.1) ...\n",
            "Setting up chromium-browser-l10n (84.0.4147.105-0ubuntu0.18.04.1) ...\n",
            "Processing triggers for hicolor-icon-theme (0.17-2) ...\n",
            "Processing triggers for mime-support (3.60ubuntu1) ...\n",
            "Processing triggers for man-db (2.8.3-2ubuntu0.1) ...\n",
            "cp: '/usr/lib/chromium-browser/chromedriver' and '/usr/bin/chromedriver' are the same file\n",
            "Collecting selenium\n",
            "\u001b[?25l  Downloading https://files.pythonhosted.org/packages/80/d6/4294f0b4bce4de0abf13e17190289f9d0613b0a44e5dd6a7f5ca98459853/selenium-3.141.0-py2.py3-none-any.whl (904kB)\n",
            "\u001b[K     |████████████████████████████████| 911kB 3.5MB/s \n",
            "\u001b[?25hRequirement already satisfied: urllib3 in /usr/local/lib/python3.6/dist-packages (from selenium) (1.24.3)\n",
            "Installing collected packages: selenium\n",
            "Successfully installed selenium-3.141.0\n"
          ],
          "name": "stdout"
        }
      ]
    },
    {
      "cell_type": "code",
      "metadata": {
        "id": "4PBJk7r18r6s",
        "colab_type": "code",
        "colab": {
          "base_uri": "https://localhost:8080/",
          "height": 187
        },
        "outputId": "d8c90e1b-9da8-408e-8626-3edae07a5c23"
      },
      "source": [
        "from selenium import webdriver\n",
        "from selenium.webdriver.common.keys import Keys\n",
        "from selenium.webdriver.chrome.options import Options\n",
        "import re\n",
        "import time\n",
        "import string\n",
        "from textblob import TextBlob\n",
        "import nltk\n",
        "from nltk.corpus import stopwords\n",
        "from nltk.tokenize import word_tokenize\n",
        "from nltk.stem import WordNetLemmatizer\n",
        "nltk.download(\"vader_lexicon\")\n",
        "nltk.download(\"brown\")\n",
        "nltk.download('stopwords')\n",
        "nltk.download(\"wordnet\")\n",
        "nltk.download(\"punkt\")"
      ],
      "execution_count": 2,
      "outputs": [
        {
          "output_type": "stream",
          "text": [
            "[nltk_data] Downloading package vader_lexicon to /root/nltk_data...\n",
            "[nltk_data] Downloading package brown to /root/nltk_data...\n",
            "[nltk_data]   Unzipping corpora/brown.zip.\n",
            "[nltk_data] Downloading package stopwords to /root/nltk_data...\n",
            "[nltk_data]   Unzipping corpora/stopwords.zip.\n",
            "[nltk_data] Downloading package wordnet to /root/nltk_data...\n",
            "[nltk_data]   Unzipping corpora/wordnet.zip.\n",
            "[nltk_data] Downloading package punkt to /root/nltk_data...\n",
            "[nltk_data]   Unzipping tokenizers/punkt.zip.\n"
          ],
          "name": "stdout"
        },
        {
          "output_type": "execute_result",
          "data": {
            "text/plain": [
              "True"
            ]
          },
          "metadata": {
            "tags": []
          },
          "execution_count": 2
        }
      ]
    },
    {
      "cell_type": "markdown",
      "metadata": {
        "id": "yk92NQA_xnRY",
        "colab_type": "text"
      },
      "source": [
        "We need to scrape the song lyrics from websites or API to use here\n",
        "\n",
        "I am using selenium here and the speed is not the best at the moment so I might switch to scrapy or use an API"
      ]
    },
    {
      "cell_type": "code",
      "metadata": {
        "id": "XkOMR1z_4gAT",
        "colab_type": "code",
        "colab": {}
      },
      "source": [
        "chrome_options = Options()\n",
        "chrome_options.add_argument('--headless')\n",
        "chrome_options.add_argument('--no-sandbox')\n",
        "chrome_options.add_argument('--disable-dev-shm-usage')\n",
        "\n",
        "\n",
        "def get_track_link(track_name): # Gets track name from user and converts it so that we can use it in a link\n",
        "  #track_name = input(\"Enter a track name: \")\n",
        "  track_name_link = track_name.rstrip().replace(\" \",\"%20\").lower()\n",
        "  return track_name_link\n",
        "\n",
        "\n",
        "def scrape_tracklist(track_link): # Scrapes the page for list of tracks with similar names or such \n",
        "  driver = webdriver.Chrome(chrome_options=chrome_options)\n",
        "  driver.get(\"https://www.musixmatch.com/search/\" + track_link + \"/tracks\")\n",
        "  element = driver.find_element_by_class_name(\"box-content\")\n",
        "  link_list = [i.get_attribute('href') for i in element.find_elements_by_tag_name('a')]\n",
        "  driver.close()\n",
        "  lyric_links=[i for i in link_list if re.search(\"/lyrics/\",i)] #could do it in one line but for the sake of clarity, I'm gonna do two\n",
        "  lyric_links=[i for i in lyric_links if not re.search(\"/add\",i)]\n",
        "  return lyric_links\n",
        "\n",
        "\n",
        "def scrape_lyrics(lyric_links_list,choice): # Scrapes the lyrics element\n",
        "  driver = webdriver.Chrome(chrome_options=chrome_options)\n",
        "  driver.get(lyric_links_list[choice])\n",
        "  lyric_elem=driver.find_elements_by_class_name('mxm-lyrics__content')\n",
        "  lyric_elem= [i.find_element_by_tag_name('span') for i in lyric_elem] \n",
        "  lyric_elem= [i.get_attribute('innerHTML') for i in lyric_elem]\n",
        "  driver.close()\n",
        "  return lyric_elem\n",
        "\n",
        "\n",
        "def select_track(artist_track_list): # Lets the user select a track\n",
        "  sel=0\n",
        "  for track in artist_track_list:\n",
        "    print(f\"{track[0]+1} {track[1]} - {track[2]}\")\n",
        "  sel=int(input('Enter the number of your desired track: '))-1\n",
        "  return sel\n",
        "\n",
        "\n",
        "def get_lyric_element(track_link,choice=0): # Cleans up the lyric element and returns a cleaned list(array) with just lyrics inside\n",
        "  lyric_links_list = scrape_tracklist(track_link)\n",
        "  print(lyric_links_list)\n",
        "  artist_track_list = [[lyric_links_list.index(x), x.split(\"/\")[4],x.split('/')[5]] for x in lyric_links_list]\n",
        "  print(artist_track_list)\n",
        "  if len(artist_track_list) > 1 and choice != \"default\":\n",
        "    choice = select_track(artist_track_list)\n",
        "  elif len(artist_track_list) == 0 :\n",
        "    return \"Sorry! no such song\"\n",
        "  else:\n",
        "    choice=0\n",
        "  lyric_element = scrape_lyrics(lyric_links_list,choice)\n",
        "  return \" \".join(lyric_element)\n",
        "\n"
      ],
      "execution_count": 3,
      "outputs": []
    },
    {
      "cell_type": "code",
      "metadata": {
        "id": "o17rodiA74ZK",
        "colab_type": "code",
        "colab": {}
      },
      "source": [
        "track_name= \"grandson war\"\n",
        "track_link= get_track_link(track_name) #uncomment to activate function\n",
        "track_link"
      ],
      "execution_count": null,
      "outputs": []
    },
    {
      "cell_type": "code",
      "metadata": {
        "id": "KTVwTxTAUAET",
        "colab_type": "code",
        "colab": {
          "base_uri": "https://localhost:8080/",
          "height": 205
        },
        "outputId": "c3735155-f198-48d7-989a-73449fe7d432"
      },
      "source": [
        "lyric_element = get_lyric_element(track_link,\"default\")\n",
        "lyric_element"
      ],
      "execution_count": null,
      "outputs": [
        {
          "output_type": "stream",
          "text": [
            "/usr/local/lib/python3.6/dist-packages/ipykernel_launcher.py:14: DeprecationWarning: use options instead of chrome_options\n",
            "  \n"
          ],
          "name": "stderr"
        },
        {
          "output_type": "stream",
          "text": [
            "['https://www.musixmatch.com/lyrics/Grandson/War']\n",
            "[[0, 'Grandson', 'War']]\n"
          ],
          "name": "stdout"
        },
        {
          "output_type": "stream",
          "text": [
            "/usr/local/lib/python3.6/dist-packages/ipykernel_launcher.py:25: DeprecationWarning: use options instead of chrome_options\n"
          ],
          "name": "stderr"
        },
        {
          "output_type": "execute_result",
          "data": {
            "application/vnd.google.colaboratory.intrinsic+json": {
              "type": "string"
            },
            "text/plain": [
              "\"Until the philosophy, we chose one race superior\\nAnd another\\nInferior He's finally\\nAnd permanently\\nDiscredited and abandoned\\n\\nAnd it's war in the east\\nWar in the west\\nWar up north\\nWar down south\\n\\nAnd it's war in the east\\nWar in the west\\nWar up north\\nWar down south\\n\\nEverywhere is war\\nIt's a war\\nOh, everywhere is war\\nIt's a war\\n\\nAnd until there's no longer\\nFirst and second class citizens of any nation\\nIt's on\\nAnd until the color of a man's skin serves no more significance\\nThan the color of his eyes\\nWe say war\\n\\nAnd it's war in the east\\nWar in the west\\nWar up north\\nWar down south\\n\\nAnd it's war in the east\\nWar in the west\\nWar up north\\nWar down south\\nEverywhere is\\nOh, everywhere is war\\n\\nIt's a war\\nOh, everywhere is war\\nIt's a war\\nOh, everywhere is war\\n\\nLa, la, la, la, la, la, la\\nLa, la, la, la, la, la, la\\n(Everywhere is, everywhere is, everywhere is)\\n(Everywhere is, everywhere is, everywhere is)\\n\\nEverywhere is war\\nEverywhere is war\""
            ]
          },
          "metadata": {
            "tags": []
          },
          "execution_count": 5
        }
      ]
    },
    {
      "cell_type": "markdown",
      "metadata": {
        "id": "Az7OLBSnNByw",
        "colab_type": "text"
      },
      "source": [
        "The first part is done, web scraper should work fine. I did not implement error cases for now becuase I want to focus on the next two parts of the project\n"
      ]
    },
    {
      "cell_type": "code",
      "metadata": {
        "id": "TYQlJjY2Qg1v",
        "colab_type": "code",
        "colab": {}
      },
      "source": [
        "def filter_raw_lyrics(raw_lyr): #The scraped element has blanks and \\n's lets filter those \n",
        "  return [i for i in raw_lyr.split(\"\\n\") if i != '']\n",
        "\n",
        "#joiner\n",
        "def convert_arr_to_str(arr):\n",
        "  return \" \".join(arr)"
      ],
      "execution_count": 4,
      "outputs": []
    },
    {
      "cell_type": "code",
      "metadata": {
        "id": "LQue7oEkLt6c",
        "colab_type": "code",
        "colab": {
          "base_uri": "https://localhost:8080/",
          "height": 785
        },
        "outputId": "be81e6ce-30f7-47f4-d090-e2fe3ffe09b7"
      },
      "source": [
        "lyrics_as_array= filter_raw_lyrics(lyric_element)\n",
        "lyrics=convert_arr_to_str(lyrics_as_array) #returns a single string as lyrics\n",
        "lyrics,lyrics_as_array"
      ],
      "execution_count": null,
      "outputs": [
        {
          "output_type": "execute_result",
          "data": {
            "text/plain": [
              "(\"Until the philosophy, we chose one race superior And another Inferior He's finally And permanently Discredited and abandoned And it's war in the east War in the west War up north War down south And it's war in the east War in the west War up north War down south Everywhere is war It's a war Oh, everywhere is war It's a war And until there's no longer First and second class citizens of any nation It's on And until the color of a man's skin serves no more significance Than the color of his eyes We say war And it's war in the east War in the west War up north War down south And it's war in the east War in the west War up north War down south Everywhere is Oh, everywhere is war It's a war Oh, everywhere is war It's a war Oh, everywhere is war La, la, la, la, la, la, la La, la, la, la, la, la, la (Everywhere is, everywhere is, everywhere is) (Everywhere is, everywhere is, everywhere is) Everywhere is war Everywhere is war\",\n",
              " ['Until the philosophy, we chose one race superior',\n",
              "  'And another',\n",
              "  \"Inferior He's finally\",\n",
              "  'And permanently',\n",
              "  'Discredited and abandoned',\n",
              "  \"And it's war in the east\",\n",
              "  'War in the west',\n",
              "  'War up north',\n",
              "  'War down south',\n",
              "  \"And it's war in the east\",\n",
              "  'War in the west',\n",
              "  'War up north',\n",
              "  'War down south',\n",
              "  'Everywhere is war',\n",
              "  \"It's a war\",\n",
              "  'Oh, everywhere is war',\n",
              "  \"It's a war\",\n",
              "  \"And until there's no longer\",\n",
              "  'First and second class citizens of any nation',\n",
              "  \"It's on\",\n",
              "  \"And until the color of a man's skin serves no more significance\",\n",
              "  'Than the color of his eyes',\n",
              "  'We say war',\n",
              "  \"And it's war in the east\",\n",
              "  'War in the west',\n",
              "  'War up north',\n",
              "  'War down south',\n",
              "  \"And it's war in the east\",\n",
              "  'War in the west',\n",
              "  'War up north',\n",
              "  'War down south',\n",
              "  'Everywhere is',\n",
              "  'Oh, everywhere is war',\n",
              "  \"It's a war\",\n",
              "  'Oh, everywhere is war',\n",
              "  \"It's a war\",\n",
              "  'Oh, everywhere is war',\n",
              "  'La, la, la, la, la, la, la',\n",
              "  'La, la, la, la, la, la, la',\n",
              "  '(Everywhere is, everywhere is, everywhere is)',\n",
              "  '(Everywhere is, everywhere is, everywhere is)',\n",
              "  'Everywhere is war',\n",
              "  'Everywhere is war'])"
            ]
          },
          "metadata": {
            "tags": []
          },
          "execution_count": 7
        }
      ]
    },
    {
      "cell_type": "markdown",
      "metadata": {
        "id": "6VP9nsugYZIS",
        "colab_type": "text"
      },
      "source": [
        "Well lets have some fun with the lyrics"
      ]
    },
    {
      "cell_type": "code",
      "metadata": {
        "id": "WQ9YEM_1kDvf",
        "colab_type": "code",
        "colab": {}
      },
      "source": [
        "def swfilter(word): #function we use in filter()\n",
        "  return word not in stopwords.words()\n",
        "\n",
        "def remove_stopword(lyr_arr):\n",
        "  return [\" \".join(filter(swfilter,sentence.split())) for sentence in lyr_arr]"
      ],
      "execution_count": 5,
      "outputs": []
    },
    {
      "cell_type": "code",
      "metadata": {
        "id": "HRDkBDQ3M43H",
        "colab_type": "code",
        "colab": {}
      },
      "source": [
        "contractions = { \n",
        "\"ain't\": \"am not / are not / is not / has not / have not\",\n",
        "\"aren't\": \"are not / am not\",\n",
        "\"can't\": \"cannot\",\n",
        "\"can't've\": \"cannot have\",\n",
        "\"'cause\": \"because\",\n",
        "\"could've\": \"could have\",\n",
        "\"couldn't\": \"could not\",\n",
        "\"couldn't've\": \"could not have\",\n",
        "\"didn't\": \"did not\",\n",
        "\"doesn't\": \"does not\",\n",
        "\"don't\": \"do not\",\n",
        "\"hadn't\": \"had not\",\n",
        "\"hadn't've\": \"had not have\",\n",
        "\"hasn't\": \"has not\",\n",
        "\"haven't\": \"have not\",\n",
        "\"he'd\": \"he had / he would\",\n",
        "\"he'd've\": \"he would have\",\n",
        "\"he'll\": \"he shall / he will\",\n",
        "\"he'll've\": \"he shall have / he will have\",\n",
        "\"he's\": \"he has / he is\",\n",
        "\"how'd\": \"how did\",\n",
        "\"how'd'y\": \"how do you\",\n",
        "\"how'll\": \"how will\",\n",
        "\"how's\": \"how has / how is / how does\",\n",
        "\"I'd\": \"I had / I would\",\n",
        "\"I'd've\": \"I would have\",\n",
        "\"I'll\": \"I shall / I will\",\n",
        "\"I'll've\": \"I shall have / I will have\",\n",
        "\"I'm\": \"I am\",\n",
        "\"I've\": \"I have\",\n",
        "\"isn't\": \"is not\",\n",
        "\"it'd\": \"it had / it would\",\n",
        "\"it'd've\": \"it would have\",\n",
        "\"it'll\": \"it shall / it will\",\n",
        "\"it'll've\": \"it shall have / it will have\",\n",
        "\"it's\": \"it has / it is\",\n",
        "\"let's\": \"let us\",\n",
        "\"ma'am\": \"madam\",\n",
        "\"mayn't\": \"may not\",\n",
        "\"might've\": \"might have\",\n",
        "\"mightn't\": \"might not\",\n",
        "\"mightn't've\": \"might not have\",\n",
        "\"must've\": \"must have\",\n",
        "\"mustn't\": \"must not\",\n",
        "\"mustn't've\": \"must not have\",\n",
        "\"needn't\": \"need not\",\n",
        "\"needn't've\": \"need not have\",\n",
        "\"o'clock\": \"of the clock\",\n",
        "\"oughtn't\": \"ought not\",\n",
        "\"oughtn't've\": \"ought not have\",\n",
        "\"shan't\": \"shall not\",\n",
        "\"sha'n't\": \"shall not\",\n",
        "\"shan't've\": \"shall not have\",\n",
        "\"she'd\": \"she had / she would\",\n",
        "\"she'd've\": \"she would have\",\n",
        "\"she'll\": \"she shall / she will\",\n",
        "\"she'll've\": \"she shall have / she will have\",\n",
        "\"she's\": \"she has / she is\",\n",
        "\"should've\": \"should have\",\n",
        "\"shouldn't\": \"should not\",\n",
        "\"shouldn't've\": \"should not have\",\n",
        "\"so've\": \"so have\",\n",
        "\"so's\": \"so as / so is\",\n",
        "\"that'd\": \"that would / that had\",\n",
        "\"that'd've\": \"that would have\",\n",
        "\"that's\": \"that has / that is\",\n",
        "\"there'd\": \"there had / there would\",\n",
        "\"there'd've\": \"there would have\",\n",
        "\"there's\": \"there has / there is\",\n",
        "\"they'd\": \"they had / they would\",\n",
        "\"they'd've\": \"they would have\",\n",
        "\"they'll\": \"they shall / they will\",\n",
        "\"they'll've\": \"they shall have / they will have\",\n",
        "\"they're\": \"they are\",\n",
        "\"they've\": \"they have\",\n",
        "\"to've\": \"to have\",\n",
        "\"wasn't\": \"was not\",\n",
        "\"we'd\": \"we had / we would\",\n",
        "\"we'd've\": \"we would have\",\n",
        "\"we'll\": \"we will\",\n",
        "\"we'll've\": \"we will have\",\n",
        "\"we're\": \"we are\",\n",
        "\"we've\": \"we have\",\n",
        "\"weren't\": \"were not\",\n",
        "\"what'll\": \"what shall / what will\",\n",
        "\"what'll've\": \"what shall have / what will have\",\n",
        "\"what're\": \"what are\",\n",
        "\"what's\": \"what has / what is\",\n",
        "\"what've\": \"what have\",\n",
        "\"when's\": \"when has / when is\",\n",
        "\"when've\": \"when have\",\n",
        "\"where'd\": \"where did\",\n",
        "\"where's\": \"where has / where is\",\n",
        "\"where've\": \"where have\",\n",
        "\"who'll\": \"who shall / who will\",\n",
        "\"who'll've\": \"who shall have / who will have\",\n",
        "\"who's\": \"who has / who is\",\n",
        "\"who've\": \"who have\",\n",
        "\"why's\": \"why has / why is\",\n",
        "\"why've\": \"why have\",\n",
        "\"will've\": \"will have\",\n",
        "\"won't\": \"will not\",\n",
        "\"won't've\": \"will not have\",\n",
        "\"would've\": \"would have\",\n",
        "\"wouldn't\": \"would not\",\n",
        "\"wouldn't've\": \"would not have\",\n",
        "\"y'all\": \"you all\",\n",
        "\"y'all'd\": \"you all would\",\n",
        "\"y'all'd've\": \"you all would have\",\n",
        "\"y'all're\": \"you all are\",\n",
        "\"y'all've\": \"you all have\",\n",
        "\"you'd\": \"you had / you would\",\n",
        "\"you'd've\": \"you would have\",\n",
        "\"you'll\": \"you shall / you will\",\n",
        "\"you'll've\": \"you shall have / you will have\",\n",
        "\"you're\": \"you are\",\n",
        "\"you've\": \"you have\"\n",
        "}\n",
        "\n",
        "def map_contraction(word): #function we use in map()\n",
        "  word=word.lower()\n",
        "  if word in contractions:\n",
        "    return contractions[word]\n",
        "  else: \n",
        "    return word\n",
        "\n",
        "def remove_contraction(lyr_arr):\n",
        "  return [\" \".join(map(map_contraction, sentence.split())) for sentence in lyr_arr]"
      ],
      "execution_count": 6,
      "outputs": []
    },
    {
      "cell_type": "code",
      "metadata": {
        "id": "08m1khdPO7HI",
        "colab_type": "code",
        "colab": {}
      },
      "source": [
        "wordnet_lemmatizer = WordNetLemmatizer()\n",
        "\n",
        "def map_lemmatize(word):\n",
        "  return wordnet_lemmatizer.lemmatize(word, pos=\"v\")\n",
        "\n",
        "def lemmatize_words(lyr_arr):\n",
        "  return [\" \".join(map(map_lemmatize, sentence.split())) for sentence in lyr_arr]"
      ],
      "execution_count": 7,
      "outputs": []
    },
    {
      "cell_type": "code",
      "metadata": {
        "id": "FLhCSifKh7Du",
        "colab_type": "code",
        "colab": {
          "base_uri": "https://localhost:8080/",
          "height": 785
        },
        "outputId": "ec5d3679-cbe4-484f-e18a-830d015b9a7a"
      },
      "source": [
        "lyrics_as_array_without_sw = remove_stopword(lyrics_as_array)\n",
        "lyrics_without_sw = convert_arr_to_str(lyrics_as_array_without_sw)\n",
        "lyrics_as_array_without_sw,lyrics_without_sw"
      ],
      "execution_count": null,
      "outputs": [
        {
          "output_type": "execute_result",
          "data": {
            "text/plain": [
              "(['Until philosophy, chose race superior',\n",
              "  'And another',\n",
              "  \"Inferior He's finally\",\n",
              "  'And permanently',\n",
              "  'Discredited abandoned',\n",
              "  'And east',\n",
              "  'War west',\n",
              "  'War north',\n",
              "  'War south',\n",
              "  'And east',\n",
              "  'War west',\n",
              "  'War north',\n",
              "  'War south',\n",
              "  'Everywhere',\n",
              "  \"It's\",\n",
              "  'Oh, everywhere',\n",
              "  \"It's\",\n",
              "  \"And there's longer\",\n",
              "  'First second class citizens nation',\n",
              "  \"It's\",\n",
              "  \"And color man's skin serves significance\",\n",
              "  'Than color eyes',\n",
              "  'We say',\n",
              "  'And east',\n",
              "  'War west',\n",
              "  'War north',\n",
              "  'War south',\n",
              "  'And east',\n",
              "  'War west',\n",
              "  'War north',\n",
              "  'War south',\n",
              "  'Everywhere',\n",
              "  'Oh, everywhere',\n",
              "  \"It's\",\n",
              "  'Oh, everywhere',\n",
              "  \"It's\",\n",
              "  'Oh, everywhere',\n",
              "  'La, la, la, la, la, la,',\n",
              "  'La, la, la, la, la, la,',\n",
              "  '(Everywhere is, everywhere is, everywhere is)',\n",
              "  '(Everywhere is, everywhere is, everywhere is)',\n",
              "  'Everywhere',\n",
              "  'Everywhere'],\n",
              " \"Until philosophy, chose race superior And another Inferior He's finally And permanently Discredited abandoned And east War west War north War south And east War west War north War south Everywhere It's Oh, everywhere It's And there's longer First second class citizens nation It's And color man's skin serves significance Than color eyes We say And east War west War north War south And east War west War north War south Everywhere Oh, everywhere It's Oh, everywhere It's Oh, everywhere La, la, la, la, la, la, La, la, la, la, la, la, (Everywhere is, everywhere is, everywhere is) (Everywhere is, everywhere is, everywhere is) Everywhere Everywhere\")"
            ]
          },
          "metadata": {
            "tags": []
          },
          "execution_count": 12
        }
      ]
    },
    {
      "cell_type": "code",
      "metadata": {
        "id": "5seAWVkpLsIO",
        "colab_type": "code",
        "colab": {
          "base_uri": "https://localhost:8080/",
          "height": 785
        },
        "outputId": "28cfbc4d-57d2-4db4-eb0b-27ba0217e505"
      },
      "source": [
        "lyrics_as_array_without_contraction = remove_contraction(lyrics_as_array)\n",
        "lyrics_without_contraction = convert_arr_to_str(lyrics_as_array_without_contraction)\n",
        "lyrics_as_array_without_contraction,lyrics_without_contraction"
      ],
      "execution_count": null,
      "outputs": [
        {
          "output_type": "execute_result",
          "data": {
            "text/plain": [
              "(['until the philosophy, we chose one race superior',\n",
              "  'and another',\n",
              "  'inferior he has / he is finally',\n",
              "  'and permanently',\n",
              "  'discredited and abandoned',\n",
              "  'and it has / it is war in the east',\n",
              "  'war in the west',\n",
              "  'war up north',\n",
              "  'war down south',\n",
              "  'and it has / it is war in the east',\n",
              "  'war in the west',\n",
              "  'war up north',\n",
              "  'war down south',\n",
              "  'everywhere is war',\n",
              "  'it has / it is a war',\n",
              "  'oh, everywhere is war',\n",
              "  'it has / it is a war',\n",
              "  'and until there has / there is no longer',\n",
              "  'first and second class citizens of any nation',\n",
              "  'it has / it is on',\n",
              "  \"and until the color of a man's skin serves no more significance\",\n",
              "  'than the color of his eyes',\n",
              "  'we say war',\n",
              "  'and it has / it is war in the east',\n",
              "  'war in the west',\n",
              "  'war up north',\n",
              "  'war down south',\n",
              "  'and it has / it is war in the east',\n",
              "  'war in the west',\n",
              "  'war up north',\n",
              "  'war down south',\n",
              "  'everywhere is',\n",
              "  'oh, everywhere is war',\n",
              "  'it has / it is a war',\n",
              "  'oh, everywhere is war',\n",
              "  'it has / it is a war',\n",
              "  'oh, everywhere is war',\n",
              "  'la, la, la, la, la, la, la',\n",
              "  'la, la, la, la, la, la, la',\n",
              "  '(everywhere is, everywhere is, everywhere is)',\n",
              "  '(everywhere is, everywhere is, everywhere is)',\n",
              "  'everywhere is war',\n",
              "  'everywhere is war'],\n",
              " \"until the philosophy, we chose one race superior and another inferior he has / he is finally and permanently discredited and abandoned and it has / it is war in the east war in the west war up north war down south and it has / it is war in the east war in the west war up north war down south everywhere is war it has / it is a war oh, everywhere is war it has / it is a war and until there has / there is no longer first and second class citizens of any nation it has / it is on and until the color of a man's skin serves no more significance than the color of his eyes we say war and it has / it is war in the east war in the west war up north war down south and it has / it is war in the east war in the west war up north war down south everywhere is oh, everywhere is war it has / it is a war oh, everywhere is war it has / it is a war oh, everywhere is war la, la, la, la, la, la, la la, la, la, la, la, la, la (everywhere is, everywhere is, everywhere is) (everywhere is, everywhere is, everywhere is) everywhere is war everywhere is war\")"
            ]
          },
          "metadata": {
            "tags": []
          },
          "execution_count": 13
        }
      ]
    },
    {
      "cell_type": "code",
      "metadata": {
        "id": "jppaYBrLTYI5",
        "colab_type": "code",
        "colab": {
          "base_uri": "https://localhost:8080/",
          "height": 785
        },
        "outputId": "f011b749-7fec-46a2-bb1a-604b634e509f"
      },
      "source": [
        "lyrics_as_array_with_lemmatized_words=lemmatize_words(lyrics_as_array)\n",
        "lyrics_with_lemmatized_words=convert_arr_to_str(lyrics_as_array_with_lemmatized_words)\n",
        "lyrics_as_array_with_lemmatized_words,lyrics_with_lemmatized_words"
      ],
      "execution_count": null,
      "outputs": [
        {
          "output_type": "execute_result",
          "data": {
            "text/plain": [
              "(['Until the philosophy, we choose one race superior',\n",
              "  'And another',\n",
              "  \"Inferior He's finally\",\n",
              "  'And permanently',\n",
              "  'Discredited and abandon',\n",
              "  \"And it's war in the east\",\n",
              "  'War in the west',\n",
              "  'War up north',\n",
              "  'War down south',\n",
              "  \"And it's war in the east\",\n",
              "  'War in the west',\n",
              "  'War up north',\n",
              "  'War down south',\n",
              "  'Everywhere be war',\n",
              "  \"It's a war\",\n",
              "  'Oh, everywhere be war',\n",
              "  \"It's a war\",\n",
              "  \"And until there's no longer\",\n",
              "  'First and second class citizens of any nation',\n",
              "  \"It's on\",\n",
              "  \"And until the color of a man's skin serve no more significance\",\n",
              "  'Than the color of his eye',\n",
              "  'We say war',\n",
              "  \"And it's war in the east\",\n",
              "  'War in the west',\n",
              "  'War up north',\n",
              "  'War down south',\n",
              "  \"And it's war in the east\",\n",
              "  'War in the west',\n",
              "  'War up north',\n",
              "  'War down south',\n",
              "  'Everywhere be',\n",
              "  'Oh, everywhere be war',\n",
              "  \"It's a war\",\n",
              "  'Oh, everywhere be war',\n",
              "  \"It's a war\",\n",
              "  'Oh, everywhere be war',\n",
              "  'La, la, la, la, la, la, la',\n",
              "  'La, la, la, la, la, la, la',\n",
              "  '(Everywhere is, everywhere is, everywhere is)',\n",
              "  '(Everywhere is, everywhere is, everywhere is)',\n",
              "  'Everywhere be war',\n",
              "  'Everywhere be war'],\n",
              " \"Until the philosophy, we choose one race superior And another Inferior He's finally And permanently Discredited and abandon And it's war in the east War in the west War up north War down south And it's war in the east War in the west War up north War down south Everywhere be war It's a war Oh, everywhere be war It's a war And until there's no longer First and second class citizens of any nation It's on And until the color of a man's skin serve no more significance Than the color of his eye We say war And it's war in the east War in the west War up north War down south And it's war in the east War in the west War up north War down south Everywhere be Oh, everywhere be war It's a war Oh, everywhere be war It's a war Oh, everywhere be war La, la, la, la, la, la, la La, la, la, la, la, la, la (Everywhere is, everywhere is, everywhere is) (Everywhere is, everywhere is, everywhere is) Everywhere be war Everywhere be war\")"
            ]
          },
          "metadata": {
            "tags": []
          },
          "execution_count": 14
        }
      ]
    },
    {
      "cell_type": "code",
      "metadata": {
        "id": "Rlxpc9TSPeye",
        "colab_type": "code",
        "colab": {}
      },
      "source": [
        ""
      ],
      "execution_count": null,
      "outputs": []
    },
    {
      "cell_type": "markdown",
      "metadata": {
        "id": "LIKy4ZTeLtq0",
        "colab_type": "text"
      },
      "source": [
        "\n",
        "Next we have to tackle the sentimantal analysis part. We aim to try bag of words then use NLTK on every line might be slow but I like to give prominence to accuracy"
      ]
    },
    {
      "cell_type": "code",
      "metadata": {
        "id": "HNby6GGN_GmP",
        "colab_type": "code",
        "colab": {
          "base_uri": "https://localhost:8080/",
          "height": 71
        },
        "outputId": "c21938a1-51b9-4c92-c988-ead95d0216a6"
      },
      "source": [
        "from nltk.sentiment.vader import SentimentIntensityAnalyzer\n",
        "sia=SentimentIntensityAnalyzer()\n",
        "def get_vader_score(lyr):\n",
        "  # Polarity score returns dictionary\n",
        "  sentiment = sia.polarity_scores(lyr)\n",
        "  return sentiment['compound']\n",
        "  \"\"\"\n",
        "  print(ss)\n",
        "  print(ss['compound'])\n",
        "  ss.pop(\"compound\")\n",
        "  print(\"ss=\",ss)\n",
        "  x=sorted(ss.values(), reverse=True)[0]\n",
        "  for i in ss.keys():\n",
        "    if ss[i]==x:\n",
        "      if \"i\" == \"neg\":\n",
        "        ss[i]=-(ss[i])\n",
        "      print(ss[i])\n",
        "  \"\"\"  "
      ],
      "execution_count": 8,
      "outputs": [
        {
          "output_type": "stream",
          "text": [
            "/usr/local/lib/python3.6/dist-packages/nltk/twitter/__init__.py:20: UserWarning: The twython library has not been installed. Some functionality from the twitter package will not be available.\n",
            "  warnings.warn(\"The twython library has not been installed. \"\n"
          ],
          "name": "stderr"
        }
      ]
    },
    {
      "cell_type": "code",
      "metadata": {
        "id": "mEAOfMIdX-hW",
        "colab_type": "code",
        "colab": {
          "base_uri": "https://localhost:8080/",
          "height": 34
        },
        "outputId": "b1b42e38-17e5-47c5-cba7-24b0c8d110c1"
      },
      "source": [
        "get_vader_score(lyrics)"
      ],
      "execution_count": null,
      "outputs": [
        {
          "output_type": "execute_result",
          "data": {
            "text/plain": [
              "-0.999"
            ]
          },
          "metadata": {
            "tags": []
          },
          "execution_count": 16
        }
      ]
    },
    {
      "cell_type": "code",
      "metadata": {
        "id": "5BY40KnADOsg",
        "colab_type": "code",
        "colab": {}
      },
      "source": [
        "def get_textblob_score(lyr):\n",
        "  blob=TextBlob(lyr)\n",
        "  return blob.polarity"
      ],
      "execution_count": 9,
      "outputs": []
    },
    {
      "cell_type": "code",
      "metadata": {
        "id": "T_T8jiWFZF6I",
        "colab_type": "code",
        "colab": {
          "base_uri": "https://localhost:8080/",
          "height": 34
        },
        "outputId": "e91fa0bc-9ed2-4596-fefe-583ddf876d4a"
      },
      "source": [
        "get_textblob_score(lyrics)"
      ],
      "execution_count": null,
      "outputs": [
        {
          "output_type": "execute_result",
          "data": {
            "text/plain": [
              "0.008641975308641962"
            ]
          },
          "metadata": {
            "tags": []
          },
          "execution_count": 18
        }
      ]
    },
    {
      "cell_type": "code",
      "metadata": {
        "id": "kh64lMmK3T8T",
        "colab_type": "code",
        "colab": {
          "base_uri": "https://localhost:8080/",
          "height": 411
        },
        "outputId": "472b142c-3a8a-4837-f1e2-06919b4e66b1"
      },
      "source": [
        "!pip install watson_developer_cloud\n",
        "import sys\n",
        "from watson_developer_cloud import NaturalLanguageUnderstandingV1\n",
        "from watson_developer_cloud.natural_language_understanding_v1 import Features, EntitiesOptions, KeywordsOptions, SentimentOptions, CategoriesOptions\n",
        "natural_language_understanding = NaturalLanguageUnderstandingV1(                                         \n",
        "    version='2018-11-16',\n",
        "    iam_apikey=\"hzkkbjivKNHfoi3cFlMBOPG6-YHLc-7CAQKwXn8Rt7JT\", \n",
        "    url=\"https://api.eu-gb.natural-language-understanding.watson.cloud.ibm.com/instances/512aa79c-a8ba-43fa-b9d5-a4382099b06f\" # paste the url here\n",
        "    )\n",
        "def get_watson_score(input_text): \n",
        "  try:\n",
        "    response = natural_language_understanding.analyze (\n",
        "    text = input_text,\n",
        "    features = Features(sentiment=SentimentOptions())).get_result()\n",
        "    res = response.get('sentiment').get('document').get('score')\n",
        "    return res\n",
        "  except Exception:\n",
        "    exc_type, value, traceback = sys.exc_info()\n",
        "    print(\"error\",input_text,exc_type.__name__)\n",
        "    return 0"
      ],
      "execution_count": 10,
      "outputs": [
        {
          "output_type": "stream",
          "text": [
            "Collecting watson_developer_cloud\n",
            "\u001b[?25l  Downloading https://files.pythonhosted.org/packages/fc/a5/a89fc49bd82eb6ea569e45b43383c28cd51b5076f43010dcc3331c137ff5/watson-developer-cloud-2.10.1.tar.gz (248kB)\n",
            "\u001b[K     |████████████████████████████████| 256kB 3.2MB/s \n",
            "\u001b[?25hRequirement already satisfied: requests<3.0,>=2.0 in /usr/local/lib/python3.6/dist-packages (from watson_developer_cloud) (2.23.0)\n",
            "Requirement already satisfied: python_dateutil>=2.5.3 in /usr/local/lib/python3.6/dist-packages (from watson_developer_cloud) (2.8.1)\n",
            "Collecting websocket-client==0.48.0\n",
            "\u001b[?25l  Downloading https://files.pythonhosted.org/packages/8a/a1/72ef9aa26cfe1a75cee09fc1957e4723add9de098c15719416a1ee89386b/websocket_client-0.48.0-py2.py3-none-any.whl (198kB)\n",
            "\u001b[K     |████████████████████████████████| 204kB 10.5MB/s \n",
            "\u001b[?25hRequirement already satisfied: urllib3!=1.25.0,!=1.25.1,<1.26,>=1.21.1 in /usr/local/lib/python3.6/dist-packages (from requests<3.0,>=2.0->watson_developer_cloud) (1.24.3)\n",
            "Requirement already satisfied: chardet<4,>=3.0.2 in /usr/local/lib/python3.6/dist-packages (from requests<3.0,>=2.0->watson_developer_cloud) (3.0.4)\n",
            "Requirement already satisfied: idna<3,>=2.5 in /usr/local/lib/python3.6/dist-packages (from requests<3.0,>=2.0->watson_developer_cloud) (2.10)\n",
            "Requirement already satisfied: certifi>=2017.4.17 in /usr/local/lib/python3.6/dist-packages (from requests<3.0,>=2.0->watson_developer_cloud) (2020.6.20)\n",
            "Requirement already satisfied: six>=1.5 in /usr/local/lib/python3.6/dist-packages (from python_dateutil>=2.5.3->watson_developer_cloud) (1.15.0)\n",
            "Building wheels for collected packages: watson-developer-cloud\n",
            "  Building wheel for watson-developer-cloud (setup.py) ... \u001b[?25l\u001b[?25hdone\n",
            "  Created wheel for watson-developer-cloud: filename=watson_developer_cloud-2.10.1-cp36-none-any.whl size=252814 sha256=068c287337a9d5d8a495355fba8ebdaa3c9dfdde209ae380897ec1849afac3be\n",
            "  Stored in directory: /root/.cache/pip/wheels/ea/a7/19/fac0a408a586265eb374005308a7553d4494ab41b2fd88f5bc\n",
            "Successfully built watson-developer-cloud\n",
            "Installing collected packages: websocket-client, watson-developer-cloud\n",
            "Successfully installed watson-developer-cloud-2.10.1 websocket-client-0.48.0\n"
          ],
          "name": "stdout"
        },
        {
          "output_type": "stream",
          "text": [
            "/usr/local/lib/python3.6/dist-packages/ipykernel_launcher.py:8: DeprecationWarning: watson-developer-cloud moved to ibm-watson. To get updates, use the new package.\n",
            "  \n"
          ],
          "name": "stderr"
        }
      ]
    },
    {
      "cell_type": "code",
      "metadata": {
        "id": "h__hoNXV31WM",
        "colab_type": "code",
        "colab": {
          "base_uri": "https://localhost:8080/",
          "height": 34
        },
        "outputId": "5ed40d56-83c4-42cf-cd91-3ef4a8806dd8"
      },
      "source": [
        "get_watson_score(lyrics)"
      ],
      "execution_count": null,
      "outputs": [
        {
          "output_type": "execute_result",
          "data": {
            "text/plain": [
              "-0.777161"
            ]
          },
          "metadata": {
            "tags": []
          },
          "execution_count": 14
        }
      ]
    },
    {
      "cell_type": "code",
      "metadata": {
        "id": "-z8CTrySjEa1",
        "colab_type": "code",
        "colab": {}
      },
      "source": [
        "sentiment_score_fns=[get_textblob_score,get_vader_score]"
      ],
      "execution_count": null,
      "outputs": []
    },
    {
      "cell_type": "markdown",
      "metadata": {
        "id": "Td-oDHMLdq7V",
        "colab_type": "text"
      },
      "source": [
        ""
      ]
    },
    {
      "cell_type": "code",
      "metadata": {
        "id": "81XZnqaATb6C",
        "colab_type": "code",
        "colab": {}
      },
      "source": [
        "# Returns all transformed arrays and further maps the arrays \n",
        "\n",
        "def get_lyric_arrays(lyr_arr):\n",
        "  return [lyr_arr,\n",
        "          remove_stopword(lyr_arr),\n",
        "          remove_contraction(lyr_arr),\n",
        "          lemmatize_words(lyr_arr),\n",
        "          remove_contraction(remove_stopword(lyr_arr)),\n",
        "          lemmatize_words(remove_stopword(lyr_arr)),\n",
        "          remove_contraction(lemmatize_words(lyr_arr)),\n",
        "          lemmatize_words(remove_contraction(remove_stopword(lyr_arr)))]\n",
        "\n",
        "def get_lyrics(arr):\n",
        "  return list(map(convert_arr_to_str,arr))\n"
      ],
      "execution_count": 11,
      "outputs": []
    },
    {
      "cell_type": "code",
      "metadata": {
        "id": "9SZw2TvnX2tR",
        "colab_type": "code",
        "colab": {}
      },
      "source": [
        "\n",
        "list_of_converted_lyr_arr=get_lyric_arrays(lyrics_as_array) #returns a tuple with 3 items lyrics, lyrics without stop wordsm \n",
        "list_of_converted_lyr=get_lyrics(list_of_converted_lyr_arr)"
      ],
      "execution_count": null,
      "outputs": []
    },
    {
      "cell_type": "code",
      "metadata": {
        "id": "7bmTJuKa59-l",
        "colab_type": "code",
        "colab": {}
      },
      "source": [
        "import pandas as pd \n",
        "import numpy as np"
      ],
      "execution_count": 12,
      "outputs": []
    },
    {
      "cell_type": "code",
      "metadata": {
        "id": "8SqLjkTZxodg",
        "colab_type": "code",
        "colab": {
          "base_uri": "https://localhost:8080/",
          "height": 297
        },
        "outputId": "42874c1f-7f43-4cab-d416-2c46cca5b208"
      },
      "source": [
        "df=pd.DataFrame(index=[\"Lyrics\",\"SW\",\"CO\",\"LM\",\"SW-CO\",\"SW-LM\",\"CO-LM\",\"SW-CO-LM\"],columns=[\"Textblob\",\"Textblob per line\",\"Textblob nonzero\",\"Vader\",\"Vader per line\",\"Vader nonzero\",\"Watson\",\"Watson per line\",\"Watson nonzero\"])\n",
        "df"
      ],
      "execution_count": null,
      "outputs": [
        {
          "output_type": "execute_result",
          "data": {
            "text/html": [
              "<div>\n",
              "<style scoped>\n",
              "    .dataframe tbody tr th:only-of-type {\n",
              "        vertical-align: middle;\n",
              "    }\n",
              "\n",
              "    .dataframe tbody tr th {\n",
              "        vertical-align: top;\n",
              "    }\n",
              "\n",
              "    .dataframe thead th {\n",
              "        text-align: right;\n",
              "    }\n",
              "</style>\n",
              "<table border=\"1\" class=\"dataframe\">\n",
              "  <thead>\n",
              "    <tr style=\"text-align: right;\">\n",
              "      <th></th>\n",
              "      <th>Textblob</th>\n",
              "      <th>Textblob per line</th>\n",
              "      <th>Textblob nonzero</th>\n",
              "      <th>Vader</th>\n",
              "      <th>Vader per line</th>\n",
              "      <th>Vader nonzero</th>\n",
              "      <th>Watson</th>\n",
              "      <th>Watson per line</th>\n",
              "      <th>Watson nonzero</th>\n",
              "    </tr>\n",
              "  </thead>\n",
              "  <tbody>\n",
              "    <tr>\n",
              "      <th>Lyrics</th>\n",
              "      <td>NaN</td>\n",
              "      <td>NaN</td>\n",
              "      <td>NaN</td>\n",
              "      <td>NaN</td>\n",
              "      <td>NaN</td>\n",
              "      <td>NaN</td>\n",
              "      <td>NaN</td>\n",
              "      <td>NaN</td>\n",
              "      <td>NaN</td>\n",
              "    </tr>\n",
              "    <tr>\n",
              "      <th>SW</th>\n",
              "      <td>NaN</td>\n",
              "      <td>NaN</td>\n",
              "      <td>NaN</td>\n",
              "      <td>NaN</td>\n",
              "      <td>NaN</td>\n",
              "      <td>NaN</td>\n",
              "      <td>NaN</td>\n",
              "      <td>NaN</td>\n",
              "      <td>NaN</td>\n",
              "    </tr>\n",
              "    <tr>\n",
              "      <th>CO</th>\n",
              "      <td>NaN</td>\n",
              "      <td>NaN</td>\n",
              "      <td>NaN</td>\n",
              "      <td>NaN</td>\n",
              "      <td>NaN</td>\n",
              "      <td>NaN</td>\n",
              "      <td>NaN</td>\n",
              "      <td>NaN</td>\n",
              "      <td>NaN</td>\n",
              "    </tr>\n",
              "    <tr>\n",
              "      <th>LM</th>\n",
              "      <td>NaN</td>\n",
              "      <td>NaN</td>\n",
              "      <td>NaN</td>\n",
              "      <td>NaN</td>\n",
              "      <td>NaN</td>\n",
              "      <td>NaN</td>\n",
              "      <td>NaN</td>\n",
              "      <td>NaN</td>\n",
              "      <td>NaN</td>\n",
              "    </tr>\n",
              "    <tr>\n",
              "      <th>SW-CO</th>\n",
              "      <td>NaN</td>\n",
              "      <td>NaN</td>\n",
              "      <td>NaN</td>\n",
              "      <td>NaN</td>\n",
              "      <td>NaN</td>\n",
              "      <td>NaN</td>\n",
              "      <td>NaN</td>\n",
              "      <td>NaN</td>\n",
              "      <td>NaN</td>\n",
              "    </tr>\n",
              "    <tr>\n",
              "      <th>SW-LM</th>\n",
              "      <td>NaN</td>\n",
              "      <td>NaN</td>\n",
              "      <td>NaN</td>\n",
              "      <td>NaN</td>\n",
              "      <td>NaN</td>\n",
              "      <td>NaN</td>\n",
              "      <td>NaN</td>\n",
              "      <td>NaN</td>\n",
              "      <td>NaN</td>\n",
              "    </tr>\n",
              "    <tr>\n",
              "      <th>CO-LM</th>\n",
              "      <td>NaN</td>\n",
              "      <td>NaN</td>\n",
              "      <td>NaN</td>\n",
              "      <td>NaN</td>\n",
              "      <td>NaN</td>\n",
              "      <td>NaN</td>\n",
              "      <td>NaN</td>\n",
              "      <td>NaN</td>\n",
              "      <td>NaN</td>\n",
              "    </tr>\n",
              "    <tr>\n",
              "      <th>SW-CO-LM</th>\n",
              "      <td>NaN</td>\n",
              "      <td>NaN</td>\n",
              "      <td>NaN</td>\n",
              "      <td>NaN</td>\n",
              "      <td>NaN</td>\n",
              "      <td>NaN</td>\n",
              "      <td>NaN</td>\n",
              "      <td>NaN</td>\n",
              "      <td>NaN</td>\n",
              "    </tr>\n",
              "  </tbody>\n",
              "</table>\n",
              "</div>"
            ],
            "text/plain": [
              "         Textblob Textblob per line  ... Watson per line Watson nonzero\n",
              "Lyrics        NaN               NaN  ...             NaN            NaN\n",
              "SW            NaN               NaN  ...             NaN            NaN\n",
              "CO            NaN               NaN  ...             NaN            NaN\n",
              "LM            NaN               NaN  ...             NaN            NaN\n",
              "SW-CO         NaN               NaN  ...             NaN            NaN\n",
              "SW-LM         NaN               NaN  ...             NaN            NaN\n",
              "CO-LM         NaN               NaN  ...             NaN            NaN\n",
              "SW-CO-LM      NaN               NaN  ...             NaN            NaN\n",
              "\n",
              "[8 rows x 9 columns]"
            ]
          },
          "metadata": {
            "tags": []
          },
          "execution_count": 24
        }
      ]
    },
    {
      "cell_type": "code",
      "metadata": {
        "id": "zSoKrq-wd-QH",
        "colab_type": "code",
        "colab": {}
      },
      "source": [
        "df[\"Textblob\"]=list(map(get_textblob_score,list_of_converted_lyr))\n",
        "df[\"Vader\"]=list(map(get_vader_score,list_of_converted_lyr))\n",
        "df[\"Watson\"]=list(map(get_watson_score,list_of_converted_lyr))"
      ],
      "execution_count": null,
      "outputs": []
    },
    {
      "cell_type": "code",
      "metadata": {
        "id": "eJD4sY1ZhZ3E",
        "colab_type": "code",
        "colab": {}
      },
      "source": [
        "textblob_per_line=[]\n",
        "for trans in list_of_converted_lyr_arr:\n",
        "  textblob_per_line.append(list(map(get_textblob_score,trans)))\n",
        "\n",
        "df[\"Textblob per line\"]=list(map(np.mean,textblob_per_line))\n",
        "#textblob_per_line"
      ],
      "execution_count": null,
      "outputs": []
    },
    {
      "cell_type": "code",
      "metadata": {
        "id": "yI4US-9axekY",
        "colab_type": "code",
        "colab": {}
      },
      "source": [
        "vader_per_line=[]\n",
        "for trans in list_of_converted_lyr_arr:\n",
        "  vader_per_line.append(list(map(get_vader_score,trans)))\n",
        "\n",
        "df[\"Vader per line\"]=list(map(np.mean,vader_per_line))\n",
        "#vader_per_line"
      ],
      "execution_count": null,
      "outputs": []
    },
    {
      "cell_type": "code",
      "metadata": {
        "id": "FwwTAbZq5jkF",
        "colab_type": "code",
        "colab": {}
      },
      "source": [
        "def watson_min_words_arr(arr): #watson has minimum requirement to perform sentiment analysis\n",
        "  x=\"\" \n",
        "  watson_arr=[]\n",
        "  for line in arr:\n",
        "    if len(line.split())+len(x.split())<4:\n",
        "      x=x+line+\" \"\n",
        "      continue\n",
        "    if x!= \"\" : line=x+line\n",
        "    x=\"\"\n",
        "    watson_arr.append(line)\n",
        "  return watson_arr \n",
        "\n"
      ],
      "execution_count": 13,
      "outputs": []
    },
    {
      "cell_type": "code",
      "metadata": {
        "id": "jWzAOZFQUSj0",
        "colab_type": "code",
        "colab": {
          "base_uri": "https://localhost:8080/",
          "height": 1000
        },
        "outputId": "a03f593b-8633-48fc-e96c-290749c52846"
      },
      "source": [
        "converted_watson_arr=list(map(watson_min_words_arr,list_of_converted_lyr_arr))\n",
        "converted_watson_arr"
      ],
      "execution_count": null,
      "outputs": [
        {
          "output_type": "execute_result",
          "data": {
            "text/plain": [
              "[['Until the philosophy, we chose one race superior',\n",
              "  \"And another Inferior He's finally\",\n",
              "  'And permanently Discredited and abandoned',\n",
              "  \"And it's war in the east\",\n",
              "  'War in the west',\n",
              "  'War up north War down south',\n",
              "  \"And it's war in the east\",\n",
              "  'War in the west',\n",
              "  'War up north War down south',\n",
              "  \"Everywhere is war It's a war\",\n",
              "  'Oh, everywhere is war',\n",
              "  \"It's a war And until there's no longer\",\n",
              "  'First and second class citizens of any nation',\n",
              "  \"It's on And until the color of a man's skin serves no more significance\",\n",
              "  'Than the color of his eyes',\n",
              "  \"We say war And it's war in the east\",\n",
              "  'War in the west',\n",
              "  'War up north War down south',\n",
              "  \"And it's war in the east\",\n",
              "  'War in the west',\n",
              "  'War up north War down south',\n",
              "  'Everywhere is Oh, everywhere is war',\n",
              "  \"It's a war Oh, everywhere is war\",\n",
              "  \"It's a war Oh, everywhere is war\",\n",
              "  'La, la, la, la, la, la, la',\n",
              "  'La, la, la, la, la, la, la',\n",
              "  '(Everywhere is, everywhere is, everywhere is)',\n",
              "  '(Everywhere is, everywhere is, everywhere is)',\n",
              "  'Everywhere is war Everywhere is war'],\n",
              " ['Until philosophy, chose race superior',\n",
              "  \"And another Inferior He's finally\",\n",
              "  'And permanently Discredited abandoned',\n",
              "  'And east War west',\n",
              "  'War north War south',\n",
              "  'And east War west',\n",
              "  'War north War south',\n",
              "  \"Everywhere It's Oh, everywhere\",\n",
              "  \"It's And there's longer\",\n",
              "  'First second class citizens nation',\n",
              "  \"It's And color man's skin serves significance\",\n",
              "  'Than color eyes We say',\n",
              "  'And east War west',\n",
              "  'War north War south',\n",
              "  'And east War west',\n",
              "  'War north War south',\n",
              "  \"Everywhere Oh, everywhere It's\",\n",
              "  \"Oh, everywhere It's Oh, everywhere\",\n",
              "  'La, la, la, la, la, la,',\n",
              "  'La, la, la, la, la, la,',\n",
              "  '(Everywhere is, everywhere is, everywhere is)',\n",
              "  '(Everywhere is, everywhere is, everywhere is)'],\n",
              " ['until the philosophy, we chose one race superior',\n",
              "  'and another inferior he has / he is finally',\n",
              "  'and permanently discredited and abandoned',\n",
              "  'and it has / it is war in the east',\n",
              "  'war in the west',\n",
              "  'war up north war down south',\n",
              "  'and it has / it is war in the east',\n",
              "  'war in the west',\n",
              "  'war up north war down south',\n",
              "  'everywhere is war it has / it is a war',\n",
              "  'oh, everywhere is war',\n",
              "  'it has / it is a war',\n",
              "  'and until there has / there is no longer',\n",
              "  'first and second class citizens of any nation',\n",
              "  'it has / it is on',\n",
              "  \"and until the color of a man's skin serves no more significance\",\n",
              "  'than the color of his eyes',\n",
              "  'we say war and it has / it is war in the east',\n",
              "  'war in the west',\n",
              "  'war up north war down south',\n",
              "  'and it has / it is war in the east',\n",
              "  'war in the west',\n",
              "  'war up north war down south',\n",
              "  'everywhere is oh, everywhere is war',\n",
              "  'it has / it is a war',\n",
              "  'oh, everywhere is war',\n",
              "  'it has / it is a war',\n",
              "  'oh, everywhere is war',\n",
              "  'la, la, la, la, la, la, la',\n",
              "  'la, la, la, la, la, la, la',\n",
              "  '(everywhere is, everywhere is, everywhere is)',\n",
              "  '(everywhere is, everywhere is, everywhere is)',\n",
              "  'everywhere is war everywhere is war'],\n",
              " ['Until the philosophy, we choose one race superior',\n",
              "  \"And another Inferior He's finally\",\n",
              "  'And permanently Discredited and abandon',\n",
              "  \"And it's war in the east\",\n",
              "  'War in the west',\n",
              "  'War up north War down south',\n",
              "  \"And it's war in the east\",\n",
              "  'War in the west',\n",
              "  'War up north War down south',\n",
              "  \"Everywhere be war It's a war\",\n",
              "  'Oh, everywhere be war',\n",
              "  \"It's a war And until there's no longer\",\n",
              "  'First and second class citizens of any nation',\n",
              "  \"It's on And until the color of a man's skin serve no more significance\",\n",
              "  'Than the color of his eye',\n",
              "  \"We say war And it's war in the east\",\n",
              "  'War in the west',\n",
              "  'War up north War down south',\n",
              "  \"And it's war in the east\",\n",
              "  'War in the west',\n",
              "  'War up north War down south',\n",
              "  'Everywhere be Oh, everywhere be war',\n",
              "  \"It's a war Oh, everywhere be war\",\n",
              "  \"It's a war Oh, everywhere be war\",\n",
              "  'La, la, la, la, la, la, la',\n",
              "  'La, la, la, la, la, la, la',\n",
              "  '(Everywhere is, everywhere is, everywhere is)',\n",
              "  '(Everywhere is, everywhere is, everywhere is)',\n",
              "  'Everywhere be war Everywhere be war'],\n",
              " ['until philosophy, chose race superior',\n",
              "  'and another inferior he has / he is finally',\n",
              "  'and permanently discredited abandoned',\n",
              "  'and east war west',\n",
              "  'war north war south',\n",
              "  'and east war west',\n",
              "  'war north war south',\n",
              "  'everywhere it has / it is',\n",
              "  'oh, everywhere it has / it is',\n",
              "  'and there has / there is longer',\n",
              "  'first second class citizens nation',\n",
              "  'it has / it is',\n",
              "  \"and color man's skin serves significance\",\n",
              "  'than color eyes we say',\n",
              "  'and east war west',\n",
              "  'war north war south',\n",
              "  'and east war west',\n",
              "  'war north war south',\n",
              "  'everywhere oh, everywhere it has / it is',\n",
              "  'oh, everywhere it has / it is',\n",
              "  'oh, everywhere la, la, la, la, la, la,',\n",
              "  'la, la, la, la, la, la,',\n",
              "  '(everywhere is, everywhere is, everywhere is)',\n",
              "  '(everywhere is, everywhere is, everywhere is)'],\n",
              " ['Until philosophy, choose race superior',\n",
              "  \"And another Inferior He's finally\",\n",
              "  'And permanently Discredited abandon',\n",
              "  'And east War west',\n",
              "  'War north War south',\n",
              "  'And east War west',\n",
              "  'War north War south',\n",
              "  \"Everywhere It's Oh, everywhere\",\n",
              "  \"It's And there's longer\",\n",
              "  'First second class citizens nation',\n",
              "  \"It's And color man's skin serve significance\",\n",
              "  'Than color eye We say',\n",
              "  'And east War west',\n",
              "  'War north War south',\n",
              "  'And east War west',\n",
              "  'War north War south',\n",
              "  \"Everywhere Oh, everywhere It's\",\n",
              "  \"Oh, everywhere It's Oh, everywhere\",\n",
              "  'La, la, la, la, la, la,',\n",
              "  'La, la, la, la, la, la,',\n",
              "  '(Everywhere is, everywhere is, everywhere is)',\n",
              "  '(Everywhere is, everywhere is, everywhere is)'],\n",
              " ['until the philosophy, we choose one race superior',\n",
              "  'and another inferior he has / he is finally',\n",
              "  'and permanently discredited and abandon',\n",
              "  'and it has / it is war in the east',\n",
              "  'war in the west',\n",
              "  'war up north war down south',\n",
              "  'and it has / it is war in the east',\n",
              "  'war in the west',\n",
              "  'war up north war down south',\n",
              "  'everywhere be war it has / it is a war',\n",
              "  'oh, everywhere be war',\n",
              "  'it has / it is a war',\n",
              "  'and until there has / there is no longer',\n",
              "  'first and second class citizens of any nation',\n",
              "  'it has / it is on',\n",
              "  \"and until the color of a man's skin serve no more significance\",\n",
              "  'than the color of his eye',\n",
              "  'we say war and it has / it is war in the east',\n",
              "  'war in the west',\n",
              "  'war up north war down south',\n",
              "  'and it has / it is war in the east',\n",
              "  'war in the west',\n",
              "  'war up north war down south',\n",
              "  'everywhere be oh, everywhere be war',\n",
              "  'it has / it is a war',\n",
              "  'oh, everywhere be war',\n",
              "  'it has / it is a war',\n",
              "  'oh, everywhere be war',\n",
              "  'la, la, la, la, la, la, la',\n",
              "  'la, la, la, la, la, la, la',\n",
              "  '(everywhere is, everywhere is, everywhere is)',\n",
              "  '(everywhere is, everywhere is, everywhere is)',\n",
              "  'everywhere be war everywhere be war'],\n",
              " ['until philosophy, choose race superior',\n",
              "  'and another inferior he have / he be finally',\n",
              "  'and permanently discredit abandon',\n",
              "  'and east war west',\n",
              "  'war north war south',\n",
              "  'and east war west',\n",
              "  'war north war south',\n",
              "  'everywhere it have / it be',\n",
              "  'oh, everywhere it have / it be',\n",
              "  'and there have / there be longer',\n",
              "  'first second class citizens nation',\n",
              "  'it have / it be',\n",
              "  \"and color man's skin serve significance\",\n",
              "  'than color eye we say',\n",
              "  'and east war west',\n",
              "  'war north war south',\n",
              "  'and east war west',\n",
              "  'war north war south',\n",
              "  'everywhere oh, everywhere it have / it be',\n",
              "  'oh, everywhere it have / it be',\n",
              "  'oh, everywhere la, la, la, la, la, la,',\n",
              "  'la, la, la, la, la, la,',\n",
              "  '(everywhere is, everywhere is, everywhere is)',\n",
              "  '(everywhere is, everywhere is, everywhere is)']]"
            ]
          },
          "metadata": {
            "tags": []
          },
          "execution_count": 40
        }
      ]
    },
    {
      "cell_type": "code",
      "metadata": {
        "id": "pTMGa_AnBkH0",
        "colab_type": "code",
        "colab": {
          "base_uri": "https://localhost:8080/",
          "height": 255
        },
        "outputId": "2136dda9-5be1-469e-e3be-4e4cf0016d09"
      },
      "source": [
        "converted_watson_arr=list(map(watson_min_words_arr,list_of_converted_lyr_arr))\n",
        "\n",
        "watson_per_line=[]\n",
        "for trans in converted_watson_arr:\n",
        "  watson_per_line.append(list(map(get_watson_score,trans)))\n",
        "\n",
        "df[\"Watson per line\"]=list(map(np.mean,watson_per_line))\n",
        "#watson_per_line"
      ],
      "execution_count": null,
      "outputs": [
        {
          "output_type": "stream",
          "text": [
            "error La, la, la, la, la, la, la\n",
            "error La, la, la, la, la, la, la\n",
            "error La, la, la, la, la, la,\n",
            "error La, la, la, la, la, la,\n",
            "error la, la, la, la, la, la, la\n",
            "error la, la, la, la, la, la, la\n",
            "error La, la, la, la, la, la, la\n",
            "error La, la, la, la, la, la, la\n",
            "error la, la, la, la, la, la,\n",
            "error La, la, la, la, la, la,\n",
            "error La, la, la, la, la, la,\n",
            "error la, la, la, la, la, la, la\n",
            "error la, la, la, la, la, la, la\n",
            "error la, la, la, la, la, la,\n"
          ],
          "name": "stdout"
        }
      ]
    },
    {
      "cell_type": "code",
      "metadata": {
        "id": "mI9sgaJPYPfG",
        "colab_type": "code",
        "colab": {
          "base_uri": "https://localhost:8080/",
          "height": 170
        },
        "outputId": "332ba9b3-9005-42bd-a157-c3d95dd1cdd3"
      },
      "source": [
        "print(len(watson_per_line),len(converted_watson_arr))\n",
        "for i in range(8):\n",
        "  print(len(watson_per_line[i]),len(converted_watson_arr[i]))"
      ],
      "execution_count": null,
      "outputs": [
        {
          "output_type": "stream",
          "text": [
            "8 8\n",
            "29 29\n",
            "22 22\n",
            "33 33\n",
            "29 29\n",
            "24 24\n",
            "22 22\n",
            "33 33\n",
            "24 24\n"
          ],
          "name": "stdout"
        }
      ]
    },
    {
      "cell_type": "code",
      "metadata": {
        "id": "NtHUI5QFF-UP",
        "colab_type": "code",
        "colab": {}
      },
      "source": [
        "def mean_without_zero(arr):\n",
        "  arr = [x for x in arr if x != 0]\n",
        "  return np.mean(arr)"
      ],
      "execution_count": 14,
      "outputs": []
    },
    {
      "cell_type": "code",
      "metadata": {
        "id": "jJMJAh3uG7ld",
        "colab_type": "code",
        "colab": {}
      },
      "source": [
        "df[\"Textblob nonzero\"]=list(map(mean_without_zero,textblob_per_line))\n",
        "df[\"Vader nonzero\"]=list(map(mean_without_zero,vader_per_line))\n",
        "df[\"Watson nonzero\"]=list(map(mean_without_zero,watson_per_line))"
      ],
      "execution_count": null,
      "outputs": []
    },
    {
      "cell_type": "code",
      "metadata": {
        "id": "pcCDgO8Wt5sz",
        "colab_type": "code",
        "colab": {
          "base_uri": "https://localhost:8080/",
          "height": 297
        },
        "outputId": "0e19b99d-98fa-4434-d1aa-e4deeddf2ac8"
      },
      "source": [
        "df"
      ],
      "execution_count": null,
      "outputs": [
        {
          "output_type": "execute_result",
          "data": {
            "text/html": [
              "<div>\n",
              "<style scoped>\n",
              "    .dataframe tbody tr th:only-of-type {\n",
              "        vertical-align: middle;\n",
              "    }\n",
              "\n",
              "    .dataframe tbody tr th {\n",
              "        vertical-align: top;\n",
              "    }\n",
              "\n",
              "    .dataframe thead th {\n",
              "        text-align: right;\n",
              "    }\n",
              "</style>\n",
              "<table border=\"1\" class=\"dataframe\">\n",
              "  <thead>\n",
              "    <tr style=\"text-align: right;\">\n",
              "      <th></th>\n",
              "      <th>Textblob</th>\n",
              "      <th>Textblob per line</th>\n",
              "      <th>Textblob nonzero</th>\n",
              "      <th>Vader</th>\n",
              "      <th>Vader per line</th>\n",
              "      <th>Vader nonzero</th>\n",
              "      <th>Watson</th>\n",
              "      <th>Watson per line</th>\n",
              "      <th>Watson nonzero</th>\n",
              "    </tr>\n",
              "  </thead>\n",
              "  <tbody>\n",
              "    <tr>\n",
              "      <th>Lyrics</th>\n",
              "      <td>0.149415</td>\n",
              "      <td>0.046778</td>\n",
              "      <td>0.233889</td>\n",
              "      <td>0.9599</td>\n",
              "      <td>0.095550</td>\n",
              "      <td>0.281029</td>\n",
              "      <td>-0.778259</td>\n",
              "      <td>-0.118538</td>\n",
              "      <td>-0.269406</td>\n",
              "    </tr>\n",
              "    <tr>\n",
              "      <th>SW</th>\n",
              "      <td>0.196875</td>\n",
              "      <td>0.053000</td>\n",
              "      <td>0.331250</td>\n",
              "      <td>0.9894</td>\n",
              "      <td>0.100832</td>\n",
              "      <td>0.315100</td>\n",
              "      <td>-0.386954</td>\n",
              "      <td>-0.020349</td>\n",
              "      <td>-0.063953</td>\n",
              "    </tr>\n",
              "    <tr>\n",
              "      <th>CO</th>\n",
              "      <td>0.149415</td>\n",
              "      <td>0.046778</td>\n",
              "      <td>0.233889</td>\n",
              "      <td>0.9953</td>\n",
              "      <td>0.098372</td>\n",
              "      <td>0.289329</td>\n",
              "      <td>-0.773304</td>\n",
              "      <td>-0.111188</td>\n",
              "      <td>-0.252699</td>\n",
              "    </tr>\n",
              "    <tr>\n",
              "      <th>LM</th>\n",
              "      <td>0.147222</td>\n",
              "      <td>0.054778</td>\n",
              "      <td>0.248990</td>\n",
              "      <td>0.9659</td>\n",
              "      <td>0.099942</td>\n",
              "      <td>0.293947</td>\n",
              "      <td>-0.649890</td>\n",
              "      <td>-0.030253</td>\n",
              "      <td>-0.072030</td>\n",
              "    </tr>\n",
              "    <tr>\n",
              "      <th>SW-CO</th>\n",
              "      <td>0.196875</td>\n",
              "      <td>0.053000</td>\n",
              "      <td>0.331250</td>\n",
              "      <td>0.9953</td>\n",
              "      <td>0.103654</td>\n",
              "      <td>0.323919</td>\n",
              "      <td>-0.492278</td>\n",
              "      <td>-0.018453</td>\n",
              "      <td>-0.059314</td>\n",
              "    </tr>\n",
              "    <tr>\n",
              "      <th>SW-LM</th>\n",
              "      <td>0.186842</td>\n",
              "      <td>0.061000</td>\n",
              "      <td>0.338889</td>\n",
              "      <td>0.9905</td>\n",
              "      <td>0.107898</td>\n",
              "      <td>0.337181</td>\n",
              "      <td>-0.289106</td>\n",
              "      <td>0.010841</td>\n",
              "      <td>0.029814</td>\n",
              "    </tr>\n",
              "    <tr>\n",
              "      <th>CO-LM</th>\n",
              "      <td>0.147222</td>\n",
              "      <td>0.054778</td>\n",
              "      <td>0.248990</td>\n",
              "      <td>0.9960</td>\n",
              "      <td>0.102764</td>\n",
              "      <td>0.302247</td>\n",
              "      <td>-0.622290</td>\n",
              "      <td>-0.025782</td>\n",
              "      <td>-0.061385</td>\n",
              "    </tr>\n",
              "    <tr>\n",
              "      <th>SW-CO-LM</th>\n",
              "      <td>0.186842</td>\n",
              "      <td>0.061000</td>\n",
              "      <td>0.338889</td>\n",
              "      <td>0.9957</td>\n",
              "      <td>0.110720</td>\n",
              "      <td>0.346000</td>\n",
              "      <td>-0.356586</td>\n",
              "      <td>0.010238</td>\n",
              "      <td>0.028794</td>\n",
              "    </tr>\n",
              "  </tbody>\n",
              "</table>\n",
              "</div>"
            ],
            "text/plain": [
              "          Textblob  Textblob per line  ...  Watson per line  Watson nonzero\n",
              "Lyrics    0.149415           0.046778  ...        -0.118538       -0.269406\n",
              "SW        0.196875           0.053000  ...        -0.020349       -0.063953\n",
              "CO        0.149415           0.046778  ...        -0.111188       -0.252699\n",
              "LM        0.147222           0.054778  ...        -0.030253       -0.072030\n",
              "SW-CO     0.196875           0.053000  ...        -0.018453       -0.059314\n",
              "SW-LM     0.186842           0.061000  ...         0.010841        0.029814\n",
              "CO-LM     0.147222           0.054778  ...        -0.025782       -0.061385\n",
              "SW-CO-LM  0.186842           0.061000  ...         0.010238        0.028794\n",
              "\n",
              "[8 rows x 9 columns]"
            ]
          },
          "metadata": {
            "tags": []
          },
          "execution_count": 136
        }
      ]
    },
    {
      "cell_type": "code",
      "metadata": {
        "id": "eLWYDGDeDgF7",
        "colab_type": "code",
        "colab": {}
      },
      "source": [
        "def get_df(lyr_arr):\n",
        "  trans_lyr_arr=get_lyric_arrays(lyr_arr)\n",
        "  trans_lyr=get_lyrics(trans_lyr_arr)\n",
        "  df=pd.DataFrame(index=[\"Lyrics\",\"SW\",\"CO\",\"LM\",\"SW-CO\",\"SW-LM\",\"CO-LM\",\"SW-CO-LM\"],columns=[\"Textblob\",\"Textblob per line\",\"Textblob nonzero\",\"Vader\",\"Vader per line\",\"Vader nonzero\",\"Watson\",\"Watson per line\",\"Watson nonzero\"])\n",
        "  df[\"Textblob\"]=list(map(get_textblob_score,trans_lyr))\n",
        "  df[\"Vader\"]=list(map(get_vader_score,trans_lyr))\n",
        "  df[\"Watson\"]=list(map(get_watson_score,trans_lyr))\n",
        "\n",
        "  textblob_per_line=[]\n",
        "  for trans in trans_lyr_arr:\n",
        "    textblob_per_line.append(list(map(get_textblob_score,trans)))\n",
        "\n",
        "  df[\"Textblob per line\"]=list(map(np.mean,textblob_per_line))\n",
        "  #textblob_per_line\n",
        "\n",
        "  vader_per_line=[]\n",
        "  for trans in trans_lyr_arr:\n",
        "    vader_per_line.append(list(map(get_vader_score,trans)))\n",
        "\n",
        "  df[\"Vader per line\"]=list(map(np.mean,vader_per_line))\n",
        "  #vader_per_line\n",
        "\n",
        "  converted_watson_arr=list(map(watson_min_words_arr,trans_lyr_arr))\n",
        "\n",
        "  watson_per_line=[]\n",
        "  for trans in converted_watson_arr:\n",
        "    print(trans)\n",
        "    watson_per_line.append(list(map(get_watson_score,trans)))\n",
        "    \n",
        "  df[\"Watson per line\"]=list(map(np.mean,watson_per_line))\n",
        "  #watson_per_line\n",
        "\n",
        "  df[\"Textblob nonzero\"]=list(map(mean_without_zero,textblob_per_line))\n",
        "  df[\"Vader nonzero\"]=list(map(mean_without_zero,vader_per_line))\n",
        "  df[\"Watson nonzero\"]=list(map(mean_without_zero,watson_per_line))\n",
        "  return df\n",
        "\n"
      ],
      "execution_count": 15,
      "outputs": []
    },
    {
      "cell_type": "markdown",
      "metadata": {
        "id": "mAq3AyBzaJIC",
        "colab_type": "text"
      },
      "source": [
        ""
      ]
    },
    {
      "cell_type": "code",
      "metadata": {
        "id": "x4HI21LSR01U",
        "colab_type": "code",
        "colab": {
          "base_uri": "https://localhost:8080/",
          "height": 102
        },
        "outputId": "6554d8a1-f716-49eb-d0c0-0ea66d0ec374"
      },
      "source": [
        "songs=[\"jacob lee demons\",\"bruno mars grenade\",\"bruno mars just the way you are\",\"cant help falling in love with\",\"finding hope love\"]\n",
        "song_sentiment=[-1,-1,1,1,1,]\n",
        "song_arr=list(map(get_track_link,songs))\n",
        "song_arr"
      ],
      "execution_count": 16,
      "outputs": [
        {
          "output_type": "execute_result",
          "data": {
            "text/plain": [
              "['jacob%20lee%20demons',\n",
              " 'bruno%20mars%20grenade',\n",
              " 'bruno%20mars%20just%20the%20way%20you%20are',\n",
              " 'cant%20help%20falling%20in%20love%20with',\n",
              " 'finding%20hope%20love']"
            ]
          },
          "metadata": {
            "tags": []
          },
          "execution_count": 16
        }
      ]
    },
    {
      "cell_type": "code",
      "metadata": {
        "id": "zd5UGqSJTIho",
        "colab_type": "code",
        "colab": {
          "base_uri": "https://localhost:8080/",
          "height": 632
        },
        "outputId": "f9b090de-7283-4300-b847-896e3a602498"
      },
      "source": [
        "elt_arr=[]\n",
        "for i in song_arr:\n",
        "  print(i)\n",
        "  elt_arr.append(get_lyric_element(i,\"default\"))\n",
        "elt_arr"
      ],
      "execution_count": 17,
      "outputs": [
        {
          "output_type": "stream",
          "text": [
            "jacob%20lee%20demons\n"
          ],
          "name": "stdout"
        },
        {
          "output_type": "stream",
          "text": [
            "/usr/local/lib/python3.6/dist-packages/ipykernel_launcher.py:14: DeprecationWarning: use options instead of chrome_options\n",
            "  \n"
          ],
          "name": "stderr"
        },
        {
          "output_type": "stream",
          "text": [
            "['https://www.musixmatch.com/lyrics/Jacob-Lee/Demons']\n",
            "[[0, 'Jacob-Lee', 'Demons']]\n"
          ],
          "name": "stdout"
        },
        {
          "output_type": "stream",
          "text": [
            "/usr/local/lib/python3.6/dist-packages/ipykernel_launcher.py:25: DeprecationWarning: use options instead of chrome_options\n"
          ],
          "name": "stderr"
        },
        {
          "output_type": "stream",
          "text": [
            "bruno%20mars%20grenade\n"
          ],
          "name": "stdout"
        },
        {
          "output_type": "stream",
          "text": [
            "/usr/local/lib/python3.6/dist-packages/ipykernel_launcher.py:14: DeprecationWarning: use options instead of chrome_options\n",
            "  \n"
          ],
          "name": "stderr"
        },
        {
          "output_type": "stream",
          "text": [
            "['https://www.musixmatch.com/lyrics/Bruno-Mars/Grenade', 'https://www.musixmatch.com/lyrics/Rhythms-del-Mundo-feat-Bruno-Mars/Grenade', 'https://www.musixmatch.com/lyrics/Tyler-Ward/Grenade-ft-Julia-Sheer-Bruno-Mars-Acoustic-Cover', 'https://www.musixmatch.com/lyrics/We-Are-The-In-Crowd/Grenade-Bruno-Mars-Cover', 'https://www.musixmatch.com/lyrics/Matt-Beilis/Grenade-Bruno-Mars-Acoustic-Cover', 'https://www.musixmatch.com/lyrics/made-famous-by-Bruno-Mars/Grenade', 'https://www.musixmatch.com/lyrics/Ultimate-Piano-Players/Grenade-Bruno-Mars-Piano-Vocal-Mix', 'https://www.musixmatch.com/lyrics/Cover-Guru/Bruno-Mars-Grenade-Karoake', 'https://www.musixmatch.com/lyrics/Future-Pop-Idols/Grenade-Made-Famous-by-Bruno-Mars', 'https://www.musixmatch.com/lyrics/The-Smash-Hit-Band/Grenade-Bruno-Mars-Party-Jam-Mix', 'https://www.musixmatch.com/lyrics/Carmen-Reece/Grenade-Bruno-Mars-Cover', 'https://www.musixmatch.com/lyrics/Bruno-Mars-Rhythms-del-Mundo/Grenade', 'https://www.musixmatch.com/lyrics/Ringtone-Masters/Grenade-Made-Famous-by-Bruno-Mars', 'https://www.musixmatch.com/lyrics/Expat-Experience/Grenade-Bruno-Mars-Vietnamese-Club', 'https://www.musixmatch.com/lyrics/Audiogroove/Grenade-made-famous-by-Bruno-Mars', 'https://www.musixmatch.com/lyrics/Mars-and-Venus/Grenade-Bruno-Benassi-Tribal-Ibiza-Mix', 'https://www.musixmatch.com/lyrics/PeaceLoveFuzzy/Bruno-Mars-Grenade', 'https://www.musixmatch.com/lyrics/Alexis-Jordan/Grenade-ORIGINALLY-BY-BRUNO-MARS', 'https://www.musixmatch.com/lyrics/Karmin/Grenade-originally-by-Bruno-Mars', 'https://www.musixmatch.com/lyrics/Bruno-Mars/%E3%82%B0%E3%83%AC%E3%83%8D%E3%82%A4%E3%83%89-%E3%80%8E%E5%A4%96%E4%BA%8B%E8%AD%A6%E5%AF%9F-%E3%81%9D%E3%81%AE%E7%94%B7%E3%81%AB%E9%A8%99%E3%81%95%E3%82%8C%E3%82%8B%E3%81%AA%E3%80%8F%E3%82%88%E3%82%8A', 'https://www.musixmatch.com/lyrics/Greatest-artists-feat-Made-famous-by-Bruno-Mars/Grenade', 'https://www.musixmatch.com/lyrics/J-Hype/Britney-Spears-Hold-It-Against-Me-Bruno-Mars-Grenade-Katy-Perry-Firework-J-Hype-Everywhere', 'https://www.musixmatch.com/lyrics/Insane-Ian/Bob-Omb-Parody-of-Grenade-by-Bruno-Mars', 'https://www.musixmatch.com/lyrics/Club-Nights/Grenade-Made-Famous-By-Bruno-Mars', 'https://www.musixmatch.com/lyrics/UK-Workout-Crew/Grenade-Bruno-Mars-Workout-Mix-120-BPM', 'https://www.musixmatch.com/lyrics/The-Future-Hit-Makers/Grenade-Made-Famous-by-Bruno-Mars', 'https://www.musixmatch.com/lyrics/Cover-Crew/Grenade-Bruno-Mars-Downtempo-Mix', 'https://www.musixmatch.com/lyrics/DJ-Dizzy-feat-Marz-Project-Brody-Brown-Claude-Kelly-Philip-Martin-Lawrence-Ari-Levine-Bruno-Mars-Andrew-Wyatt/Grenade-Mobsters-Mix', 'https://www.musixmatch.com/lyrics/Leopard-Powered/Grenade-Originally-By-Bruno-Mars', 'https://www.musixmatch.com/lyrics/Re-Mix-Stems/Grenade-Bruno-Mars-Re-Mix-Stem-120-BPM']\n",
            "[[0, 'Bruno-Mars', 'Grenade'], [1, 'Rhythms-del-Mundo-feat-Bruno-Mars', 'Grenade'], [2, 'Tyler-Ward', 'Grenade-ft-Julia-Sheer-Bruno-Mars-Acoustic-Cover'], [3, 'We-Are-The-In-Crowd', 'Grenade-Bruno-Mars-Cover'], [4, 'Matt-Beilis', 'Grenade-Bruno-Mars-Acoustic-Cover'], [5, 'made-famous-by-Bruno-Mars', 'Grenade'], [6, 'Ultimate-Piano-Players', 'Grenade-Bruno-Mars-Piano-Vocal-Mix'], [7, 'Cover-Guru', 'Bruno-Mars-Grenade-Karoake'], [8, 'Future-Pop-Idols', 'Grenade-Made-Famous-by-Bruno-Mars'], [9, 'The-Smash-Hit-Band', 'Grenade-Bruno-Mars-Party-Jam-Mix'], [10, 'Carmen-Reece', 'Grenade-Bruno-Mars-Cover'], [11, 'Bruno-Mars-Rhythms-del-Mundo', 'Grenade'], [12, 'Ringtone-Masters', 'Grenade-Made-Famous-by-Bruno-Mars'], [13, 'Expat-Experience', 'Grenade-Bruno-Mars-Vietnamese-Club'], [14, 'Audiogroove', 'Grenade-made-famous-by-Bruno-Mars'], [15, 'Mars-and-Venus', 'Grenade-Bruno-Benassi-Tribal-Ibiza-Mix'], [16, 'PeaceLoveFuzzy', 'Bruno-Mars-Grenade'], [17, 'Alexis-Jordan', 'Grenade-ORIGINALLY-BY-BRUNO-MARS'], [18, 'Karmin', 'Grenade-originally-by-Bruno-Mars'], [19, 'Bruno-Mars', '%E3%82%B0%E3%83%AC%E3%83%8D%E3%82%A4%E3%83%89-%E3%80%8E%E5%A4%96%E4%BA%8B%E8%AD%A6%E5%AF%9F-%E3%81%9D%E3%81%AE%E7%94%B7%E3%81%AB%E9%A8%99%E3%81%95%E3%82%8C%E3%82%8B%E3%81%AA%E3%80%8F%E3%82%88%E3%82%8A'], [20, 'Greatest-artists-feat-Made-famous-by-Bruno-Mars', 'Grenade'], [21, 'J-Hype', 'Britney-Spears-Hold-It-Against-Me-Bruno-Mars-Grenade-Katy-Perry-Firework-J-Hype-Everywhere'], [22, 'Insane-Ian', 'Bob-Omb-Parody-of-Grenade-by-Bruno-Mars'], [23, 'Club-Nights', 'Grenade-Made-Famous-By-Bruno-Mars'], [24, 'UK-Workout-Crew', 'Grenade-Bruno-Mars-Workout-Mix-120-BPM'], [25, 'The-Future-Hit-Makers', 'Grenade-Made-Famous-by-Bruno-Mars'], [26, 'Cover-Crew', 'Grenade-Bruno-Mars-Downtempo-Mix'], [27, 'DJ-Dizzy-feat-Marz-Project-Brody-Brown-Claude-Kelly-Philip-Martin-Lawrence-Ari-Levine-Bruno-Mars-Andrew-Wyatt', 'Grenade-Mobsters-Mix'], [28, 'Leopard-Powered', 'Grenade-Originally-By-Bruno-Mars'], [29, 'Re-Mix-Stems', 'Grenade-Bruno-Mars-Re-Mix-Stem-120-BPM']]\n"
          ],
          "name": "stdout"
        },
        {
          "output_type": "stream",
          "text": [
            "/usr/local/lib/python3.6/dist-packages/ipykernel_launcher.py:25: DeprecationWarning: use options instead of chrome_options\n"
          ],
          "name": "stderr"
        },
        {
          "output_type": "stream",
          "text": [
            "bruno%20mars%20just%20the%20way%20you%20are\n"
          ],
          "name": "stdout"
        },
        {
          "output_type": "stream",
          "text": [
            "/usr/local/lib/python3.6/dist-packages/ipykernel_launcher.py:14: DeprecationWarning: use options instead of chrome_options\n",
            "  \n"
          ],
          "name": "stderr"
        },
        {
          "output_type": "stream",
          "text": [
            "['https://www.musixmatch.com/lyrics/Bruno-Mars/Just-the-Way-You-Are', 'https://www.musixmatch.com/lyrics/Philip-Lawrence-Bruno-Mars-Khari-Cain-Ari-Levine-Khalil-Walton-The-Piano-Guys/Just-the-Way-You-Are', 'https://www.musixmatch.com/lyrics/Bruno-Mars/Just-The-Way-You-Are-Amazing', 'https://www.musixmatch.com/lyrics/Bruno-Mars/Just-The-Way-You-Are-Rutger-van-Gelder-Bootleg', 'https://www.musixmatch.com/lyrics/Matt-Beilis/Just-The-Way-You-Are-Bruno-Mars-Acoustic-Cover', 'https://www.musixmatch.com/lyrics/Sax-Hit-Players/Just-The-Way-You-Are-Made-Famous-by-Bruno-Mars', 'https://www.musixmatch.com/lyrics/made-famous-by-Bruno-Mars/Just-The-Way-You-Are', 'https://www.musixmatch.com/lyrics/Amnesia-Beach/Just-the-Way-You-Are-Bruno-Mars-Cover', 'https://www.musixmatch.com/lyrics/Electronaut/Bruno-Mars-Just-The-Way-You-Are', 'https://www.musixmatch.com/lyrics/Future-Hitmakers/Just-The-Way-You-Are-Made-Famous-by-Bruno-Mars', 'https://www.musixmatch.com/lyrics/Cover-Band-feat-Made-famous-by-Bruno-Mars/Just-The-Way-You-Are', 'https://www.musixmatch.com/lyrics/The-Lullaby-Ensemble-2/Just-The-Way-You-Are-Made-Famous-By-Bruno-Mars', 'https://www.musixmatch.com/lyrics/Leslie-Caudillo-2/Just-the-Way-You-Are-Bruno-Mars', 'https://www.musixmatch.com/lyrics/Kimokawa/Just-The-Way-You-Are-Bruno-Mars', 'https://www.musixmatch.com/lyrics/J-Bigga/Just-the-Way-You-Are-A-Parody-of-Bruno-Mars', 'https://www.musixmatch.com/lyrics/Party-Band-feat-Made-famous-by-Bruno-Mars/Just-The-Way-You-Are', 'https://www.musixmatch.com/lyrics/B-the-Star/Just-the-Way-You-Are-Made-Famous-By-Bruno-Mars', 'https://www.musixmatch.com/lyrics/Smooth-Jazz-All-Stars/Just-The-Way-You-Are-Made-Famous-by-Bruno-Mars', 'https://www.musixmatch.com/lyrics/Ringtone-Masters/Just-The-Way-You-Are-Made-Famous-by-Bruno-Mars', 'https://www.musixmatch.com/lyrics/Leopard-Powered/Just-the-Way-You-Are-Originally-By-Bruno-Mars', 'https://www.musixmatch.com/lyrics/Orchestral-Academy-Of-Los-Angeles/Just-The-Way-You-Are-Made-Famous-By-Bruno-Mars', 'https://www.musixmatch.com/lyrics/Ultimate-Lullaby-Players/Just-The-Way-You-Are-Bruno-Mars-Lullaby-Mix', 'https://www.musixmatch.com/lyrics/Hollie-and-Laura/Just-The-Way-You-Are-Bruno-Mars-Cover', 'https://www.musixmatch.com/lyrics/%E3%82%AB%E3%83%A9%E3%82%AA%E3%82%B1%E3%81%86%E3%81%9F%E3%83%97%E3%83%AA%E3%83%B3%E3%82%B9/Just-The-Way-You-Are-%E3%82%AA%E3%83%AA%E3%82%B8%E3%83%8A%E3%83%AB%E3%82%A2%E3%83%BC%E3%83%86%E3%82%A3%E3%82%B9%E3%83%88-Bruno-Mars-%E3%82%AB%E3%83%A9%E3%82%AA%E3%82%B1', 'https://www.musixmatch.com/lyrics/J-Bigga/Just-the-Way-You-Are-Bruno-Mars-Parody', 'https://www.musixmatch.com/lyrics/St-Martin-s-Orchestral-Academy-Of-Los-Angeles/Just-The-Way-You-Are-Made-Famous-By-Bruno-Mars', 'https://www.musixmatch.com/lyrics/Ultimate-Pop-Chart-Hits/Just-The-Way-You-Are-Made-Famous-by-Bruno-Mars', 'https://www.musixmatch.com/lyrics/Off-the-Record-2/Just-The-Way-You-Are-made-famous-by-Bruno-Mars', 'https://www.musixmatch.com/lyrics/Cardio-Workout-Crew/Just-The-Way-You-Are-Made-Famous-by-Bruno-Mars', 'https://www.musixmatch.com/lyrics/J-Rice/Just-The-Way-You-Are-ft-Jason-Chen-Originally-by-Bruno-Mars']\n",
            "[[0, 'Bruno-Mars', 'Just-the-Way-You-Are'], [1, 'Philip-Lawrence-Bruno-Mars-Khari-Cain-Ari-Levine-Khalil-Walton-The-Piano-Guys', 'Just-the-Way-You-Are'], [2, 'Bruno-Mars', 'Just-The-Way-You-Are-Amazing'], [3, 'Bruno-Mars', 'Just-The-Way-You-Are-Rutger-van-Gelder-Bootleg'], [4, 'Matt-Beilis', 'Just-The-Way-You-Are-Bruno-Mars-Acoustic-Cover'], [5, 'Sax-Hit-Players', 'Just-The-Way-You-Are-Made-Famous-by-Bruno-Mars'], [6, 'made-famous-by-Bruno-Mars', 'Just-The-Way-You-Are'], [7, 'Amnesia-Beach', 'Just-the-Way-You-Are-Bruno-Mars-Cover'], [8, 'Electronaut', 'Bruno-Mars-Just-The-Way-You-Are'], [9, 'Future-Hitmakers', 'Just-The-Way-You-Are-Made-Famous-by-Bruno-Mars'], [10, 'Cover-Band-feat-Made-famous-by-Bruno-Mars', 'Just-The-Way-You-Are'], [11, 'The-Lullaby-Ensemble-2', 'Just-The-Way-You-Are-Made-Famous-By-Bruno-Mars'], [12, 'Leslie-Caudillo-2', 'Just-the-Way-You-Are-Bruno-Mars'], [13, 'Kimokawa', 'Just-The-Way-You-Are-Bruno-Mars'], [14, 'J-Bigga', 'Just-the-Way-You-Are-A-Parody-of-Bruno-Mars'], [15, 'Party-Band-feat-Made-famous-by-Bruno-Mars', 'Just-The-Way-You-Are'], [16, 'B-the-Star', 'Just-the-Way-You-Are-Made-Famous-By-Bruno-Mars'], [17, 'Smooth-Jazz-All-Stars', 'Just-The-Way-You-Are-Made-Famous-by-Bruno-Mars'], [18, 'Ringtone-Masters', 'Just-The-Way-You-Are-Made-Famous-by-Bruno-Mars'], [19, 'Leopard-Powered', 'Just-the-Way-You-Are-Originally-By-Bruno-Mars'], [20, 'Orchestral-Academy-Of-Los-Angeles', 'Just-The-Way-You-Are-Made-Famous-By-Bruno-Mars'], [21, 'Ultimate-Lullaby-Players', 'Just-The-Way-You-Are-Bruno-Mars-Lullaby-Mix'], [22, 'Hollie-and-Laura', 'Just-The-Way-You-Are-Bruno-Mars-Cover'], [23, '%E3%82%AB%E3%83%A9%E3%82%AA%E3%82%B1%E3%81%86%E3%81%9F%E3%83%97%E3%83%AA%E3%83%B3%E3%82%B9', 'Just-The-Way-You-Are-%E3%82%AA%E3%83%AA%E3%82%B8%E3%83%8A%E3%83%AB%E3%82%A2%E3%83%BC%E3%83%86%E3%82%A3%E3%82%B9%E3%83%88-Bruno-Mars-%E3%82%AB%E3%83%A9%E3%82%AA%E3%82%B1'], [24, 'J-Bigga', 'Just-the-Way-You-Are-Bruno-Mars-Parody'], [25, 'St-Martin-s-Orchestral-Academy-Of-Los-Angeles', 'Just-The-Way-You-Are-Made-Famous-By-Bruno-Mars'], [26, 'Ultimate-Pop-Chart-Hits', 'Just-The-Way-You-Are-Made-Famous-by-Bruno-Mars'], [27, 'Off-the-Record-2', 'Just-The-Way-You-Are-made-famous-by-Bruno-Mars'], [28, 'Cardio-Workout-Crew', 'Just-The-Way-You-Are-Made-Famous-by-Bruno-Mars'], [29, 'J-Rice', 'Just-The-Way-You-Are-ft-Jason-Chen-Originally-by-Bruno-Mars']]\n"
          ],
          "name": "stdout"
        },
        {
          "output_type": "stream",
          "text": [
            "/usr/local/lib/python3.6/dist-packages/ipykernel_launcher.py:25: DeprecationWarning: use options instead of chrome_options\n"
          ],
          "name": "stderr"
        },
        {
          "output_type": "stream",
          "text": [
            "cant%20help%20falling%20in%20love%20with\n"
          ],
          "name": "stdout"
        },
        {
          "output_type": "stream",
          "text": [
            "/usr/local/lib/python3.6/dist-packages/ipykernel_launcher.py:14: DeprecationWarning: use options instead of chrome_options\n",
            "  \n"
          ],
          "name": "stderr"
        },
        {
          "output_type": "stream",
          "text": [
            "['https://www.musixmatch.com/lyrics/UB40/I-Can%CA%BCt-Help-Falling-In-Love-With-You', 'https://www.musixmatch.com/lyrics/U2/Can-t-Help-Falling-in-Love-With-You', 'https://www.musixmatch.com/lyrics/Elvis-Presley/Can-t-Help-Falling-in-Love-With-You', 'https://www.musixmatch.com/lyrics/Elvis-Presley/I-Can-t-Help-Falling-in-Love-With-You', 'https://www.musixmatch.com/lyrics/U2/I-Can-t-Help-Falling-in-Love-With-You', 'https://www.musixmatch.com/lyrics/Rick-Astley/Can-t-Help-Falling-In-Love-With-You', 'https://www.musixmatch.com/lyrics/UB40-featuring-Ali-Astro-Mickey/I-Can-t-Help-Falling-in-Love-with-You-Unplugged', 'https://www.musixmatch.com/lyrics/Andrea-Bocelli-Katherine-Mc-Phee/Can-t-Help-Falling-In-Love-Duet-with-Katherine-Mc-Phee', 'https://www.musixmatch.com/lyrics/Andrea-Bocelli-feat-Katherine-Mc-Phee/Can-t-Help-Falling-In-Love-duet-with-Katherine-Mc-Phee', 'https://www.musixmatch.com/lyrics/UB-40/I-Can-t-Help-Falling-In-Love-With-You', 'https://www.musixmatch.com/lyrics/Rick-Astley/I-Can-t-Help-Falling-in-Love-With-You', 'https://www.musixmatch.com/lyrics/Various-Artists/Cant-Help-Falling-In-Love-With-You', 'https://www.musixmatch.com/lyrics/Kenny-Rogers/I-Can-t-Help-Falling-In-Love-With-You', 'https://www.musixmatch.com/lyrics/Ingrid-Michaelson/Can-t-Help-Falling-in-Love-With-You', 'https://www.musixmatch.com/lyrics/Barry-Manilow/Can-t-Help-Falling-in-Love-With-You', 'https://www.musixmatch.com/lyrics/Diego-Luna-Gustavo-Santaolalla/Can-t-Help-Falling-In-Love-with-You', 'https://www.musixmatch.com/lyrics/Bely-Basarte/I-Can-t-Help-Falling-In-Love-With-You-Can-t-Help-Falling-In-Love', 'https://www.musixmatch.com/lyrics/Jos%C3%A9-Feliciano/Can-t-Help-Falling-in-Love-with-You', 'https://www.musixmatch.com/lyrics/Anne-Murray/Can-t-Help-Falling-in-Love-With-You', 'https://www.musixmatch.com/lyrics/Bely-Basarte/I-Can-t-Help-Falling-in-Love-with-You', 'https://www.musixmatch.com/lyrics/Harry-Connick-Jr/Can-t-Help-Falling-In-Love-With-You', 'https://www.musixmatch.com/lyrics/The-O-Neill-Brothers-Group/I-Can-t-Help-Falling-in-Love-with-You', 'https://www.musixmatch.com/lyrics/The-Hit-Crew/I-Can-t-Help-Falling-In-Love-With-You', 'https://www.musixmatch.com/lyrics/Clementine-Duo/Can-t-Help-Falling-in-Love-With-You', 'https://www.musixmatch.com/lyrics/Travis-Atreo/Can-t-Help-Falling-in-Love-With-You', 'https://www.musixmatch.com/lyrics/Darren-Hayes/Can-t-Help-Falling-in-Love-With-You', 'https://www.musixmatch.com/lyrics/The-Love-Unlimited-Orchestra-2/I-Can-t-Help-Falling-in-Love-With-You', 'https://www.musixmatch.com/lyrics/Steve-Petrunak/I-Can-t-Help-Falling-in-Love-With-You', 'https://www.musixmatch.com/lyrics/Michael-Ball/I-Can-t-Help-Falling-In-Love-With-You', 'https://www.musixmatch.com/lyrics/Benny-Martin-3/Can-t-Help-Falling-in-Love-With-You']\n",
            "[[0, 'UB40', 'I-Can%CA%BCt-Help-Falling-In-Love-With-You'], [1, 'U2', 'Can-t-Help-Falling-in-Love-With-You'], [2, 'Elvis-Presley', 'Can-t-Help-Falling-in-Love-With-You'], [3, 'Elvis-Presley', 'I-Can-t-Help-Falling-in-Love-With-You'], [4, 'U2', 'I-Can-t-Help-Falling-in-Love-With-You'], [5, 'Rick-Astley', 'Can-t-Help-Falling-In-Love-With-You'], [6, 'UB40-featuring-Ali-Astro-Mickey', 'I-Can-t-Help-Falling-in-Love-with-You-Unplugged'], [7, 'Andrea-Bocelli-Katherine-Mc-Phee', 'Can-t-Help-Falling-In-Love-Duet-with-Katherine-Mc-Phee'], [8, 'Andrea-Bocelli-feat-Katherine-Mc-Phee', 'Can-t-Help-Falling-In-Love-duet-with-Katherine-Mc-Phee'], [9, 'UB-40', 'I-Can-t-Help-Falling-In-Love-With-You'], [10, 'Rick-Astley', 'I-Can-t-Help-Falling-in-Love-With-You'], [11, 'Various-Artists', 'Cant-Help-Falling-In-Love-With-You'], [12, 'Kenny-Rogers', 'I-Can-t-Help-Falling-In-Love-With-You'], [13, 'Ingrid-Michaelson', 'Can-t-Help-Falling-in-Love-With-You'], [14, 'Barry-Manilow', 'Can-t-Help-Falling-in-Love-With-You'], [15, 'Diego-Luna-Gustavo-Santaolalla', 'Can-t-Help-Falling-In-Love-with-You'], [16, 'Bely-Basarte', 'I-Can-t-Help-Falling-In-Love-With-You-Can-t-Help-Falling-In-Love'], [17, 'Jos%C3%A9-Feliciano', 'Can-t-Help-Falling-in-Love-with-You'], [18, 'Anne-Murray', 'Can-t-Help-Falling-in-Love-With-You'], [19, 'Bely-Basarte', 'I-Can-t-Help-Falling-in-Love-with-You'], [20, 'Harry-Connick-Jr', 'Can-t-Help-Falling-In-Love-With-You'], [21, 'The-O-Neill-Brothers-Group', 'I-Can-t-Help-Falling-in-Love-with-You'], [22, 'The-Hit-Crew', 'I-Can-t-Help-Falling-In-Love-With-You'], [23, 'Clementine-Duo', 'Can-t-Help-Falling-in-Love-With-You'], [24, 'Travis-Atreo', 'Can-t-Help-Falling-in-Love-With-You'], [25, 'Darren-Hayes', 'Can-t-Help-Falling-in-Love-With-You'], [26, 'The-Love-Unlimited-Orchestra-2', 'I-Can-t-Help-Falling-in-Love-With-You'], [27, 'Steve-Petrunak', 'I-Can-t-Help-Falling-in-Love-With-You'], [28, 'Michael-Ball', 'I-Can-t-Help-Falling-In-Love-With-You'], [29, 'Benny-Martin-3', 'Can-t-Help-Falling-in-Love-With-You']]\n"
          ],
          "name": "stdout"
        },
        {
          "output_type": "stream",
          "text": [
            "/usr/local/lib/python3.6/dist-packages/ipykernel_launcher.py:25: DeprecationWarning: use options instead of chrome_options\n"
          ],
          "name": "stderr"
        },
        {
          "output_type": "stream",
          "text": [
            "finding%20hope%20love\n"
          ],
          "name": "stdout"
        },
        {
          "output_type": "stream",
          "text": [
            "/usr/local/lib/python3.6/dist-packages/ipykernel_launcher.py:14: DeprecationWarning: use options instead of chrome_options\n",
            "  \n"
          ],
          "name": "stderr"
        },
        {
          "output_type": "stream",
          "text": [
            "['https://www.musixmatch.com/lyrics/Finding-Hope/Love', 'https://www.musixmatch.com/lyrics/The-Little-Wretches/The-Hope-of-Finding-Love-AKA-One-Chance']\n",
            "[[0, 'Finding-Hope', 'Love'], [1, 'The-Little-Wretches', 'The-Hope-of-Finding-Love-AKA-One-Chance']]\n"
          ],
          "name": "stdout"
        },
        {
          "output_type": "stream",
          "text": [
            "/usr/local/lib/python3.6/dist-packages/ipykernel_launcher.py:25: DeprecationWarning: use options instead of chrome_options\n"
          ],
          "name": "stderr"
        },
        {
          "output_type": "execute_result",
          "data": {
            "text/plain": [
              "[\"My heart is weak\\nTear it down piece by piece\\nLeave me to think Deep in my structure, I think I still love her\\nBut I need some sleep\\nYou've taken my breath away, now I want to breathe\\nCause I cannot see, what you can see, so easily\\n\\nI thought my demons, were almost defeated\\nBut you took their side, &amp; you pulled them to freedom\\nI kept your secrets &amp; I thought that you would do the same\\n\\nLeave me in peace\\nCaught in my memories, lost underneath\\nDeep in my structure, I feel a rupture, from where she should be\\nYou've taken my breath from me, now I want to breathe\\nCause I cannot see, what you can see, so easily\\n\\nI thought my demons, were almost defeated\\nBut you took their side, &amp; you pulled them to freedom\\nThey know my secrets &amp; won't let me go, won't let me go\\nI thought my demons, were almost defeated\\nBut you took their side, &amp; you pulled them to freedom\\nI kept your secrets &amp; I thought that you would do the same\\n\\nI thought my demons, were almost defeated\\nBut you took their side, &amp; you pulled them to freedom\\nThey know my secrets &amp; won't let me go, won't let me go\\nI thought my demons, were almost defeated\\nBut you took their side, &amp; you pulled them to freedom\\nI kept your secrets &amp; I thought that you would do the same\",\n",
              " \"Easy come, easy go, that's just how you live oh\\nTake, take, take it all, but you never give\\nShould have known you was trouble from the first kiss Had your eyes wide open,\\nWhy were they open?\\n\\nGave you all I had and you tossed it in the trash\\nYou tossed it in the trash, you did\\nTo give me all your love is all I ever asked 'cause\\nWhat you don't understand is I'd catch a grenade for ya (yeah, yeah)\\nThrow my head on a blade for ya (yeah, yeah)\\nI'd jump in front of a train for ya (yeah, yeah)\\nYou know I'd do anything for ya (yeah, yeah)\\n\\nOh oh, I would go through all this pain\\nTake a bullet straight through my brain\\nYes, I would die for ya baby\\nBut you won't do the same\\n\\nNo, no, no, no\\nBlack, black, black and blue,\\nBeat me 'til I'm numb,\\nTell the devil I said 'hey' when you get back to where you're from\\nMad woman, bad woman\\nThat's just what you are,\\nYeah you'll smile in my face then rip the brakes out my car\\n\\nGave you all I had and you tossed it in the trash\\nYou tossed it in the trash, yes you did\\nTo give me all your love is all I ever asked\\n'Cause what you don't understand is\\n\\nI'd catch a grenade for ya (yeah, yeah)\\nThrow my head on a blade for ya (yeah, yeah)\\nI'd jump in front of a train for ya (yeah, yeah)\\nYou know I'd do anything for ya (yeah, yeah)\\n\\nOh oh, I would go through all this pain,\\nTake a bullet straight through my brain,\\nYes, I would die for ya baby,\\nBut you won't do the same\\n\\nIf my body was on fire,\\nOh you'd watch me burn down in flames\\nYou said you loved me you're a liar 'cause you never,\\nEver, ever did baby\\n\\nBut darling I'll still catch a grenade for ya (yeah, yeah)\\nThrow my head on a blade for ya (yeah, yeah)\\nI'd jump in front of a train for ya (yeah, yeah)\\nYou know I'd do anything for ya (yeah, yeah)\\n\\nOh oh I would go through all this pain\\nTake a bullet straight through my brain\\nYes, I would die for ya baby\\nBut you won't do the same\\nNo, you won't do the same\\nYou wouldn't do the same\\nOh, you'll never do the same\\nNo, no, no, no\",\n",
              " 'Oh, her eyes, her eyes\\nMake the stars look like they\\'re not shinin\\'\\nHer hair, her hair Falls perfectly without her trying\\nShe\\'s so beautiful\\nAnd I tell her everyday\\n\\nYeah, I know, I know\\nWhen I compliment her she won\\'t believe me\\nAnd it\\'s so, it\\'s so\\nSad to think that she don\\'t see what I see\\nBut every time she asks me, \"Do I look okay?\"\\nI say\\n\\nWhen I see your face\\nThere\\'s not a thing that I would change\\n\\'Cause you\\'re amazing\\nJust the way you are\\n\\nAnd when you smile\\nThe whole world stops and stares for a while\\n\\'Cause, girl, you\\'re amazing\\nJust the way you are\\nYeah\\n\\nHer lips, her lips\\nI could kiss them all day if she\\'d let me\\nHer laugh, her laugh\\nShe hates, but I think it\\'s so sexy\\nShe\\'s so beautiful\\nAnd I tell her everyday\\n\\nOh, you know, you know, you know\\nI\\'d never ask you to change\\nIf perfect\\'s what you\\'re searching for\\nThen just stay the same\\nSo don\\'t even bother asking if you look okay\\nYou know, I\\'ll say\\n\\nWhen I see your face\\nThere\\'s not a thing that I would change\\n\\'Cause you\\'re amazing\\nJust the way you are\\n\\nAnd when you smile\\nThe whole world stops and stares for a while\\n\\'Cause, girl, you\\'re amazing\\nJust the way you are\\n\\nThe way you are\\nThe way you are\\nGirl, you\\'re amazing\\nJust the way you are\\n\\nWhen I see your face\\nThere\\'s not a thing that I would change\\n\\'Cause you\\'re amazing\\nJust the way you are\\n\\nAnd when you smile\\nThe whole world stops and stares for a while\\n\\'Cause, girl, you\\'re amazing\\nJust the way you are\\n\\nYeah',\n",
              " \"Wise men say\\nOnly fools rush in\\nBut I can't help Falling in love with you\\n\\nWise men say\\nOnly fools rush in\\nBut I can't help\\nFalling in love with you\\n\\nShall I stay?\\nWould it be a sin?\\nIf I can't help\\nFalling in love with you\\n\\nAs a river flows\\nGently to the sea\\nDarling, so it goes\\nSome things are meant to be\\n\\nTake my hand\\nTake my whole life too\\nFor I can't help\\nFalling in love with you\\n\\nAs a river flows\\nGently to the sea\\nDarling, so it goes\\nSome things are meant to be\\n\\nTake my hand\\nTake my whole life too\\nI can't help\\nFalling in love with you\\n\\nI can't help falling in love with you\\nI can't help falling in love with you\\nI can't help falling in love with you\",\n",
              " \"I've said it before, I'll say it again\\nI wish we were more than friends\\nYou know I love the way you dress, you know I love your style Every moment I'm with you, I can't help but smile\\nI've thought it before, I'll think it again\\nWhen will we stop playing pretend?\\nWishing you would just make up your mind\\nLet me love you and we'll be alright\\n\\nI know I can't keep chasing after you if you don't feel some way\\nOr feel the same about me\\nI know I can't keep chasing after you\\nAnd babe if that's the case, just know that\\n\\n(I love you, ooh)\\n(I love you, ooh)\\n(I love you, ooh)\\n(I love you, ooh)\\n\\nI've said it before, I'll say it again\\nI wish we were more than friends\\nYou know I love the way you dress, you know I love your style\\nEvery moment I'm with you, I can't help but smile\\nI've thought it before, I'll think it again\\nWhen will we stop playing pretend?\\nWishing you would just make up your mind\\nLet me love you and we'll be alright\\n\\nI know I can't keep chasing after you if you don't feel some way\\nOr feel the same about me\\nI know I can't keep chasing after you\\nAnd babe if that's the case, just know that\\n\\n(I love you, ooh)\\n(I love you, ooh)\\n(I love you)\"]"
            ]
          },
          "metadata": {
            "tags": []
          },
          "execution_count": 17
        }
      ]
    },
    {
      "cell_type": "code",
      "metadata": {
        "id": "q4DaE8Q5Vgb3",
        "colab_type": "code",
        "colab": {
          "base_uri": "https://localhost:8080/",
          "height": 1000
        },
        "outputId": "9a161c61-54de-4242-9645-1050a80780eb"
      },
      "source": [
        "getdffrom=list(map(filter_raw_lyrics,elt_arr))\n",
        "getdffrom"
      ],
      "execution_count": 18,
      "outputs": [
        {
          "output_type": "execute_result",
          "data": {
            "text/plain": [
              "[['My heart is weak',\n",
              "  'Tear it down piece by piece',\n",
              "  'Leave me to think Deep in my structure, I think I still love her',\n",
              "  'But I need some sleep',\n",
              "  \"You've taken my breath away, now I want to breathe\",\n",
              "  'Cause I cannot see, what you can see, so easily',\n",
              "  'I thought my demons, were almost defeated',\n",
              "  'But you took their side, &amp; you pulled them to freedom',\n",
              "  'I kept your secrets &amp; I thought that you would do the same',\n",
              "  'Leave me in peace',\n",
              "  'Caught in my memories, lost underneath',\n",
              "  'Deep in my structure, I feel a rupture, from where she should be',\n",
              "  \"You've taken my breath from me, now I want to breathe\",\n",
              "  'Cause I cannot see, what you can see, so easily',\n",
              "  'I thought my demons, were almost defeated',\n",
              "  'But you took their side, &amp; you pulled them to freedom',\n",
              "  \"They know my secrets &amp; won't let me go, won't let me go\",\n",
              "  'I thought my demons, were almost defeated',\n",
              "  'But you took their side, &amp; you pulled them to freedom',\n",
              "  'I kept your secrets &amp; I thought that you would do the same',\n",
              "  'I thought my demons, were almost defeated',\n",
              "  'But you took their side, &amp; you pulled them to freedom',\n",
              "  \"They know my secrets &amp; won't let me go, won't let me go\",\n",
              "  'I thought my demons, were almost defeated',\n",
              "  'But you took their side, &amp; you pulled them to freedom',\n",
              "  'I kept your secrets &amp; I thought that you would do the same'],\n",
              " [\"Easy come, easy go, that's just how you live oh\",\n",
              "  'Take, take, take it all, but you never give',\n",
              "  'Should have known you was trouble from the first kiss Had your eyes wide open,',\n",
              "  'Why were they open?',\n",
              "  'Gave you all I had and you tossed it in the trash',\n",
              "  'You tossed it in the trash, you did',\n",
              "  \"To give me all your love is all I ever asked 'cause\",\n",
              "  \"What you don't understand is I'd catch a grenade for ya (yeah, yeah)\",\n",
              "  'Throw my head on a blade for ya (yeah, yeah)',\n",
              "  \"I'd jump in front of a train for ya (yeah, yeah)\",\n",
              "  \"You know I'd do anything for ya (yeah, yeah)\",\n",
              "  'Oh oh, I would go through all this pain',\n",
              "  'Take a bullet straight through my brain',\n",
              "  'Yes, I would die for ya baby',\n",
              "  \"But you won't do the same\",\n",
              "  'No, no, no, no',\n",
              "  'Black, black, black and blue,',\n",
              "  \"Beat me 'til I'm numb,\",\n",
              "  \"Tell the devil I said 'hey' when you get back to where you're from\",\n",
              "  'Mad woman, bad woman',\n",
              "  \"That's just what you are,\",\n",
              "  \"Yeah you'll smile in my face then rip the brakes out my car\",\n",
              "  'Gave you all I had and you tossed it in the trash',\n",
              "  'You tossed it in the trash, yes you did',\n",
              "  'To give me all your love is all I ever asked',\n",
              "  \"'Cause what you don't understand is\",\n",
              "  \"I'd catch a grenade for ya (yeah, yeah)\",\n",
              "  'Throw my head on a blade for ya (yeah, yeah)',\n",
              "  \"I'd jump in front of a train for ya (yeah, yeah)\",\n",
              "  \"You know I'd do anything for ya (yeah, yeah)\",\n",
              "  'Oh oh, I would go through all this pain,',\n",
              "  'Take a bullet straight through my brain,',\n",
              "  'Yes, I would die for ya baby,',\n",
              "  \"But you won't do the same\",\n",
              "  'If my body was on fire,',\n",
              "  \"Oh you'd watch me burn down in flames\",\n",
              "  \"You said you loved me you're a liar 'cause you never,\",\n",
              "  'Ever, ever did baby',\n",
              "  \"But darling I'll still catch a grenade for ya (yeah, yeah)\",\n",
              "  'Throw my head on a blade for ya (yeah, yeah)',\n",
              "  \"I'd jump in front of a train for ya (yeah, yeah)\",\n",
              "  \"You know I'd do anything for ya (yeah, yeah)\",\n",
              "  'Oh oh I would go through all this pain',\n",
              "  'Take a bullet straight through my brain',\n",
              "  'Yes, I would die for ya baby',\n",
              "  \"But you won't do the same\",\n",
              "  \"No, you won't do the same\",\n",
              "  \"You wouldn't do the same\",\n",
              "  \"Oh, you'll never do the same\",\n",
              "  'No, no, no, no'],\n",
              " ['Oh, her eyes, her eyes',\n",
              "  \"Make the stars look like they're not shinin'\",\n",
              "  'Her hair, her hair Falls perfectly without her trying',\n",
              "  \"She's so beautiful\",\n",
              "  'And I tell her everyday',\n",
              "  'Yeah, I know, I know',\n",
              "  \"When I compliment her she won't believe me\",\n",
              "  \"And it's so, it's so\",\n",
              "  \"Sad to think that she don't see what I see\",\n",
              "  'But every time she asks me, \"Do I look okay?\"',\n",
              "  'I say',\n",
              "  'When I see your face',\n",
              "  \"There's not a thing that I would change\",\n",
              "  \"'Cause you're amazing\",\n",
              "  'Just the way you are',\n",
              "  'And when you smile',\n",
              "  'The whole world stops and stares for a while',\n",
              "  \"'Cause, girl, you're amazing\",\n",
              "  'Just the way you are',\n",
              "  'Yeah',\n",
              "  'Her lips, her lips',\n",
              "  \"I could kiss them all day if she'd let me\",\n",
              "  'Her laugh, her laugh',\n",
              "  \"She hates, but I think it's so sexy\",\n",
              "  \"She's so beautiful\",\n",
              "  'And I tell her everyday',\n",
              "  'Oh, you know, you know, you know',\n",
              "  \"I'd never ask you to change\",\n",
              "  \"If perfect's what you're searching for\",\n",
              "  'Then just stay the same',\n",
              "  \"So don't even bother asking if you look okay\",\n",
              "  \"You know, I'll say\",\n",
              "  'When I see your face',\n",
              "  \"There's not a thing that I would change\",\n",
              "  \"'Cause you're amazing\",\n",
              "  'Just the way you are',\n",
              "  'And when you smile',\n",
              "  'The whole world stops and stares for a while',\n",
              "  \"'Cause, girl, you're amazing\",\n",
              "  'Just the way you are',\n",
              "  'The way you are',\n",
              "  'The way you are',\n",
              "  \"Girl, you're amazing\",\n",
              "  'Just the way you are',\n",
              "  'When I see your face',\n",
              "  \"There's not a thing that I would change\",\n",
              "  \"'Cause you're amazing\",\n",
              "  'Just the way you are',\n",
              "  'And when you smile',\n",
              "  'The whole world stops and stares for a while',\n",
              "  \"'Cause, girl, you're amazing\",\n",
              "  'Just the way you are',\n",
              "  'Yeah'],\n",
              " ['Wise men say',\n",
              "  'Only fools rush in',\n",
              "  \"But I can't help Falling in love with you\",\n",
              "  'Wise men say',\n",
              "  'Only fools rush in',\n",
              "  \"But I can't help\",\n",
              "  'Falling in love with you',\n",
              "  'Shall I stay?',\n",
              "  'Would it be a sin?',\n",
              "  \"If I can't help\",\n",
              "  'Falling in love with you',\n",
              "  'As a river flows',\n",
              "  'Gently to the sea',\n",
              "  'Darling, so it goes',\n",
              "  'Some things are meant to be',\n",
              "  'Take my hand',\n",
              "  'Take my whole life too',\n",
              "  \"For I can't help\",\n",
              "  'Falling in love with you',\n",
              "  'As a river flows',\n",
              "  'Gently to the sea',\n",
              "  'Darling, so it goes',\n",
              "  'Some things are meant to be',\n",
              "  'Take my hand',\n",
              "  'Take my whole life too',\n",
              "  \"I can't help\",\n",
              "  'Falling in love with you',\n",
              "  \"I can't help falling in love with you\",\n",
              "  \"I can't help falling in love with you\",\n",
              "  \"I can't help falling in love with you\"],\n",
              " [\"I've said it before, I'll say it again\",\n",
              "  'I wish we were more than friends',\n",
              "  \"You know I love the way you dress, you know I love your style Every moment I'm with you, I can't help but smile\",\n",
              "  \"I've thought it before, I'll think it again\",\n",
              "  'When will we stop playing pretend?',\n",
              "  'Wishing you would just make up your mind',\n",
              "  \"Let me love you and we'll be alright\",\n",
              "  \"I know I can't keep chasing after you if you don't feel some way\",\n",
              "  'Or feel the same about me',\n",
              "  \"I know I can't keep chasing after you\",\n",
              "  \"And babe if that's the case, just know that\",\n",
              "  '(I love you, ooh)',\n",
              "  '(I love you, ooh)',\n",
              "  '(I love you, ooh)',\n",
              "  '(I love you, ooh)',\n",
              "  \"I've said it before, I'll say it again\",\n",
              "  'I wish we were more than friends',\n",
              "  'You know I love the way you dress, you know I love your style',\n",
              "  \"Every moment I'm with you, I can't help but smile\",\n",
              "  \"I've thought it before, I'll think it again\",\n",
              "  'When will we stop playing pretend?',\n",
              "  'Wishing you would just make up your mind',\n",
              "  \"Let me love you and we'll be alright\",\n",
              "  \"I know I can't keep chasing after you if you don't feel some way\",\n",
              "  'Or feel the same about me',\n",
              "  \"I know I can't keep chasing after you\",\n",
              "  \"And babe if that's the case, just know that\",\n",
              "  '(I love you, ooh)',\n",
              "  '(I love you, ooh)',\n",
              "  '(I love you)']]"
            ]
          },
          "metadata": {
            "tags": []
          },
          "execution_count": 18
        }
      ]
    },
    {
      "cell_type": "code",
      "metadata": {
        "id": "rvKF4t6cWJM4",
        "colab_type": "code",
        "colab": {
          "base_uri": "https://localhost:8080/",
          "height": 1000
        },
        "outputId": "67d9f5f9-df9b-49e0-de8f-3f627ca04009"
      },
      "source": [
        "accuracy=list(map(get_df,getdffrom))"
      ],
      "execution_count": 19,
      "outputs": [
        {
          "output_type": "stream",
          "text": [
            "['My heart is weak', 'Tear it down piece by piece', 'Leave me to think Deep in my structure, I think I still love her', 'But I need some sleep', \"You've taken my breath away, now I want to breathe\", 'Cause I cannot see, what you can see, so easily', 'I thought my demons, were almost defeated', 'But you took their side, &amp; you pulled them to freedom', 'I kept your secrets &amp; I thought that you would do the same', 'Leave me in peace', 'Caught in my memories, lost underneath', 'Deep in my structure, I feel a rupture, from where she should be', \"You've taken my breath from me, now I want to breathe\", 'Cause I cannot see, what you can see, so easily', 'I thought my demons, were almost defeated', 'But you took their side, &amp; you pulled them to freedom', \"They know my secrets &amp; won't let me go, won't let me go\", 'I thought my demons, were almost defeated', 'But you took their side, &amp; you pulled them to freedom', 'I kept your secrets &amp; I thought that you would do the same', 'I thought my demons, were almost defeated', 'But you took their side, &amp; you pulled them to freedom', \"They know my secrets &amp; won't let me go, won't let me go\", 'I thought my demons, were almost defeated', 'But you took their side, &amp; you pulled them to freedom', 'I kept your secrets &amp; I thought that you would do the same']\n",
            "['My heart weak Tear piece piece', 'Leave think Deep structure, I think I still love', 'But I need sleep', \"You've taken breath away, I breathe\", 'Cause I cannot see, see, easily', 'I thought demons, almost defeated', 'But took side, &amp; pulled freedom', 'I kept secrets &amp; I thought would', 'Leave peace Caught memories, lost underneath', 'Deep structure, I feel rupture,', \"You've taken breath me, I breathe\", 'Cause I cannot see, see, easily', 'I thought demons, almost defeated', 'But took side, &amp; pulled freedom', 'They know secrets &amp; let go, let go', 'I thought demons, almost defeated', 'But took side, &amp; pulled freedom', 'I kept secrets &amp; I thought would', 'I thought demons, almost defeated', 'But took side, &amp; pulled freedom', 'They know secrets &amp; let go, let go', 'I thought demons, almost defeated', 'But took side, &amp; pulled freedom', 'I kept secrets &amp; I thought would']\n",
            "['my heart is weak', 'tear it down piece by piece', 'leave me to think deep in my structure, i think i still love her', 'but i need some sleep', 'you have taken my breath away, now i want to breathe', 'cause i cannot see, what you can see, so easily', 'i thought my demons, were almost defeated', 'but you took their side, &amp; you pulled them to freedom', 'i kept your secrets &amp; i thought that you would do the same', 'leave me in peace', 'caught in my memories, lost underneath', 'deep in my structure, i feel a rupture, from where she should be', 'you have taken my breath from me, now i want to breathe', 'cause i cannot see, what you can see, so easily', 'i thought my demons, were almost defeated', 'but you took their side, &amp; you pulled them to freedom', 'they know my secrets &amp; will not let me go, will not let me go', 'i thought my demons, were almost defeated', 'but you took their side, &amp; you pulled them to freedom', 'i kept your secrets &amp; i thought that you would do the same', 'i thought my demons, were almost defeated', 'but you took their side, &amp; you pulled them to freedom', 'they know my secrets &amp; will not let me go, will not let me go', 'i thought my demons, were almost defeated', 'but you took their side, &amp; you pulled them to freedom', 'i kept your secrets &amp; i thought that you would do the same']\n",
            "['My heart be weak', 'Tear it down piece by piece', 'Leave me to think Deep in my structure, I think I still love her', 'But I need some sleep', \"You've take my breath away, now I want to breathe\", 'Cause I cannot see, what you can see, so easily', 'I think my demons, be almost defeat', 'But you take their side, &amp; you pull them to freedom', 'I keep your secrets &amp; I think that you would do the same', 'Leave me in peace', 'Caught in my memories, lose underneath', 'Deep in my structure, I feel a rupture, from where she should be', \"You've take my breath from me, now I want to breathe\", 'Cause I cannot see, what you can see, so easily', 'I think my demons, be almost defeat', 'But you take their side, &amp; you pull them to freedom', \"They know my secrets &amp; won't let me go, won't let me go\", 'I think my demons, be almost defeat', 'But you take their side, &amp; you pull them to freedom', 'I keep your secrets &amp; I think that you would do the same', 'I think my demons, be almost defeat', 'But you take their side, &amp; you pull them to freedom', \"They know my secrets &amp; won't let me go, won't let me go\", 'I think my demons, be almost defeat', 'But you take their side, &amp; you pull them to freedom', 'I keep your secrets &amp; I think that you would do the same']\n",
            "['my heart weak tear piece piece', 'leave think deep structure, i think i still love', 'but i need sleep', 'you have taken breath away, i breathe', 'cause i cannot see, see, easily', 'i thought demons, almost defeated', 'but took side, &amp; pulled freedom', 'i kept secrets &amp; i thought would', 'leave peace caught memories, lost underneath', 'deep structure, i feel rupture,', 'you have taken breath me, i breathe', 'cause i cannot see, see, easily', 'i thought demons, almost defeated', 'but took side, &amp; pulled freedom', 'they know secrets &amp; let go, let go', 'i thought demons, almost defeated', 'but took side, &amp; pulled freedom', 'i kept secrets &amp; i thought would', 'i thought demons, almost defeated', 'but took side, &amp; pulled freedom', 'they know secrets &amp; let go, let go', 'i thought demons, almost defeated', 'but took side, &amp; pulled freedom', 'i kept secrets &amp; i thought would']\n",
            "['My heart weak Tear piece piece', 'Leave think Deep structure, I think I still love', 'But I need sleep', \"You've take breath away, I breathe\", 'Cause I cannot see, see, easily', 'I think demons, almost defeat', 'But take side, &amp; pull freedom', 'I keep secrets &amp; I think would', 'Leave peace Caught memories, lose underneath', 'Deep structure, I feel rupture,', \"You've take breath me, I breathe\", 'Cause I cannot see, see, easily', 'I think demons, almost defeat', 'But take side, &amp; pull freedom', 'They know secrets &amp; let go, let go', 'I think demons, almost defeat', 'But take side, &amp; pull freedom', 'I keep secrets &amp; I think would', 'I think demons, almost defeat', 'But take side, &amp; pull freedom', 'They know secrets &amp; let go, let go', 'I think demons, almost defeat', 'But take side, &amp; pull freedom', 'I keep secrets &amp; I think would']\n",
            "['my heart be weak', 'tear it down piece by piece', 'leave me to think deep in my structure, i think i still love her', 'but i need some sleep', 'you have take my breath away, now i want to breathe', 'cause i cannot see, what you can see, so easily', 'i think my demons, be almost defeat', 'but you take their side, &amp; you pull them to freedom', 'i keep your secrets &amp; i think that you would do the same', 'leave me in peace', 'caught in my memories, lose underneath', 'deep in my structure, i feel a rupture, from where she should be', 'you have take my breath from me, now i want to breathe', 'cause i cannot see, what you can see, so easily', 'i think my demons, be almost defeat', 'but you take their side, &amp; you pull them to freedom', 'they know my secrets &amp; will not let me go, will not let me go', 'i think my demons, be almost defeat', 'but you take their side, &amp; you pull them to freedom', 'i keep your secrets &amp; i think that you would do the same', 'i think my demons, be almost defeat', 'but you take their side, &amp; you pull them to freedom', 'they know my secrets &amp; will not let me go, will not let me go', 'i think my demons, be almost defeat', 'but you take their side, &amp; you pull them to freedom', 'i keep your secrets &amp; i think that you would do the same']\n",
            "['my heart weak tear piece piece', 'leave think deep structure, i think i still love', 'but i need sleep', 'you have take breath away, i breathe', 'cause i cannot see, see, easily', 'i think demons, almost defeat', 'but take side, &amp; pull freedom', 'i keep secrets &amp; i think would', 'leave peace catch memories, lose underneath', 'deep structure, i feel rupture,', 'you have take breath me, i breathe', 'cause i cannot see, see, easily', 'i think demons, almost defeat', 'but take side, &amp; pull freedom', 'they know secrets &amp; let go, let go', 'i think demons, almost defeat', 'but take side, &amp; pull freedom', 'i keep secrets &amp; i think would', 'i think demons, almost defeat', 'but take side, &amp; pull freedom', 'they know secrets &amp; let go, let go', 'i think demons, almost defeat', 'but take side, &amp; pull freedom', 'i keep secrets &amp; i think would']\n",
            "[\"Easy come, easy go, that's just how you live oh\", 'Take, take, take it all, but you never give', 'Should have known you was trouble from the first kiss Had your eyes wide open,', 'Why were they open?', 'Gave you all I had and you tossed it in the trash', 'You tossed it in the trash, you did', \"To give me all your love is all I ever asked 'cause\", \"What you don't understand is I'd catch a grenade for ya (yeah, yeah)\", 'Throw my head on a blade for ya (yeah, yeah)', \"I'd jump in front of a train for ya (yeah, yeah)\", \"You know I'd do anything for ya (yeah, yeah)\", 'Oh oh, I would go through all this pain', 'Take a bullet straight through my brain', 'Yes, I would die for ya baby', \"But you won't do the same\", 'No, no, no, no', 'Black, black, black and blue,', \"Beat me 'til I'm numb,\", \"Tell the devil I said 'hey' when you get back to where you're from\", 'Mad woman, bad woman', \"That's just what you are,\", \"Yeah you'll smile in my face then rip the brakes out my car\", 'Gave you all I had and you tossed it in the trash', 'You tossed it in the trash, yes you did', 'To give me all your love is all I ever asked', \"'Cause what you don't understand is\", \"I'd catch a grenade for ya (yeah, yeah)\", 'Throw my head on a blade for ya (yeah, yeah)', \"I'd jump in front of a train for ya (yeah, yeah)\", \"You know I'd do anything for ya (yeah, yeah)\", 'Oh oh, I would go through all this pain,', 'Take a bullet straight through my brain,', 'Yes, I would die for ya baby,', \"But you won't do the same\", 'If my body was on fire,', \"Oh you'd watch me burn down in flames\", \"You said you loved me you're a liar 'cause you never,\", 'Ever, ever did baby', \"But darling I'll still catch a grenade for ya (yeah, yeah)\", 'Throw my head on a blade for ya (yeah, yeah)', \"I'd jump in front of a train for ya (yeah, yeah)\", \"You know I'd do anything for ya (yeah, yeah)\", 'Oh oh I would go through all this pain', 'Take a bullet straight through my brain', 'Yes, I would die for ya baby', \"But you won't do the same\", \"No, you won't do the same\", \"You wouldn't do the same\", \"Oh, you'll never do the same\", 'No, no, no, no']\n",
            "error No, no, no, no WatsonApiException\n",
            "error Beat me 'til I'm numb, WatsonApiException\n",
            "error No, no, no, no WatsonApiException\n",
            "[\"Easy come, easy go, that's live oh\", 'Take, take, all, never give', 'Should known trouble first kiss Had eyes wide open,', 'Why open? Gave I tossed trash', \"You tossed trash, To give love I ever asked 'cause\", \"What understand I'd catch grenade (yeah, yeah)\", 'Throw head blade (yeah, yeah)', \"I'd jump front train (yeah, yeah)\", \"You know I'd anything (yeah, yeah)\", 'Oh oh, I would go pain', 'Take bullet straight brain', 'Yes, I would baby', 'But No, no, no,', 'Black, black, black blue,', \"Beat 'til I'm numb,\", \"Tell devil I said 'hey' get back\", 'Mad woman, bad woman', \"That's are, Yeah smile rip brakes car\", 'Gave I tossed trash', 'You tossed trash, yes', 'To give love I ever asked', \"'Cause understand I'd catch grenade (yeah, yeah)\", 'Throw head blade (yeah, yeah)', \"I'd jump front train (yeah, yeah)\", \"You know I'd anything (yeah, yeah)\", 'Oh oh, I would go pain,', 'Take bullet straight brain,', 'Yes, I would baby,', 'But If body fire,', 'Oh watch burn flames', \"You said loved liar 'cause never,\", \"Ever, ever baby But darling I'll still catch grenade (yeah, yeah)\", 'Throw head blade (yeah, yeah)', \"I'd jump front train (yeah, yeah)\", \"You know I'd anything (yeah, yeah)\", 'Oh oh I would go pain', 'Take bullet straight brain', 'Yes, I would baby', 'But No, You Oh, never']\n",
            "error But No, no, no, WatsonApiException\n",
            "error Beat 'til I'm numb, WatsonApiException\n",
            "['easy come, easy go, that has / that is just how you live oh', 'take, take, take it all, but you never give', 'should have known you was trouble from the first kiss had your eyes wide open,', 'why were they open?', 'gave you all i had and you tossed it in the trash', 'you tossed it in the trash, you did', 'to give me all your love is all i ever asked because', \"what you do not understand is i'd catch a grenade for ya (yeah, yeah)\", 'throw my head on a blade for ya (yeah, yeah)', \"i'd jump in front of a train for ya (yeah, yeah)\", \"you know i'd do anything for ya (yeah, yeah)\", 'oh oh, i would go through all this pain', 'take a bullet straight through my brain', 'yes, i would die for ya baby', 'but you will not do the same', 'no, no, no, no', 'black, black, black and blue,', \"beat me 'til i'm numb,\", \"tell the devil i said 'hey' when you get back to where you are from\", 'mad woman, bad woman', 'that has / that is just what you are,', 'yeah you shall / you will smile in my face then rip the brakes out my car', 'gave you all i had and you tossed it in the trash', 'you tossed it in the trash, yes you did', 'to give me all your love is all i ever asked', 'because what you do not understand is', \"i'd catch a grenade for ya (yeah, yeah)\", 'throw my head on a blade for ya (yeah, yeah)', \"i'd jump in front of a train for ya (yeah, yeah)\", \"you know i'd do anything for ya (yeah, yeah)\", 'oh oh, i would go through all this pain,', 'take a bullet straight through my brain,', 'yes, i would die for ya baby,', 'but you will not do the same', 'if my body was on fire,', 'oh you had / you would watch me burn down in flames', 'you said you loved me you are a liar because you never,', 'ever, ever did baby', \"but darling i'll still catch a grenade for ya (yeah, yeah)\", 'throw my head on a blade for ya (yeah, yeah)', \"i'd jump in front of a train for ya (yeah, yeah)\", \"you know i'd do anything for ya (yeah, yeah)\", 'oh oh i would go through all this pain', 'take a bullet straight through my brain', 'yes, i would die for ya baby', 'but you will not do the same', 'no, you will not do the same', 'you would not do the same', 'oh, you shall / you will never do the same', 'no, no, no, no']\n",
            "error no, no, no, no WatsonApiException\n",
            "error beat me 'til i'm numb, WatsonApiException\n",
            "error no, no, no, no WatsonApiException\n",
            "[\"Easy come, easy go, that's just how you live oh\", 'Take, take, take it all, but you never give', 'Should have know you be trouble from the first kiss Had your eye wide open,', 'Why be they open?', 'Gave you all I have and you toss it in the trash', 'You toss it in the trash, you do', \"To give me all your love be all I ever ask 'cause\", \"What you don't understand be I'd catch a grenade for ya (yeah, yeah)\", 'Throw my head on a blade for ya (yeah, yeah)', \"I'd jump in front of a train for ya (yeah, yeah)\", \"You know I'd do anything for ya (yeah, yeah)\", 'Oh oh, I would go through all this pain', 'Take a bullet straight through my brain', 'Yes, I would die for ya baby', \"But you won't do the same\", 'No, no, no, no', 'Black, black, black and blue,', \"Beat me 'til I'm numb,\", \"Tell the devil I say 'hey' when you get back to where you're from\", 'Mad woman, bad woman', \"That's just what you are,\", \"Yeah you'll smile in my face then rip the brake out my car\", 'Gave you all I have and you toss it in the trash', 'You toss it in the trash, yes you do', 'To give me all your love be all I ever ask', \"'Cause what you don't understand be\", \"I'd catch a grenade for ya (yeah, yeah)\", 'Throw my head on a blade for ya (yeah, yeah)', \"I'd jump in front of a train for ya (yeah, yeah)\", \"You know I'd do anything for ya (yeah, yeah)\", 'Oh oh, I would go through all this pain,', 'Take a bullet straight through my brain,', 'Yes, I would die for ya baby,', \"But you won't do the same\", 'If my body be on fire,', \"Oh you'd watch me burn down in flame\", \"You say you love me you're a liar 'cause you never,\", 'Ever, ever do baby', \"But darling I'll still catch a grenade for ya (yeah, yeah)\", 'Throw my head on a blade for ya (yeah, yeah)', \"I'd jump in front of a train for ya (yeah, yeah)\", \"You know I'd do anything for ya (yeah, yeah)\", 'Oh oh I would go through all this pain', 'Take a bullet straight through my brain', 'Yes, I would die for ya baby', \"But you won't do the same\", \"No, you won't do the same\", \"You wouldn't do the same\", \"Oh, you'll never do the same\", 'No, no, no, no']\n",
            "error No, no, no, no WatsonApiException\n",
            "error Beat me 'til I'm numb, WatsonApiException\n",
            "error No, no, no, no WatsonApiException\n",
            "['easy come, easy go, that has / that is live oh', 'take, take, all, never give', 'should known trouble first kiss had eyes wide open,', 'why open? gave i tossed trash', 'you tossed trash, to give love i ever asked because', \"what understand i'd catch grenade (yeah, yeah)\", 'throw head blade (yeah, yeah)', \"i'd jump front train (yeah, yeah)\", \"you know i'd anything (yeah, yeah)\", 'oh oh, i would go pain', 'take bullet straight brain', 'yes, i would baby', 'but no, no, no,', 'black, black, black blue,', \"beat 'til i'm numb,\", \"tell devil i said 'hey' get back\", 'mad woman, bad woman', 'that has / that is are,', 'yeah smile rip brakes car', 'gave i tossed trash', 'you tossed trash, yes', 'to give love i ever asked', \"because understand i'd catch grenade (yeah, yeah)\", 'throw head blade (yeah, yeah)', \"i'd jump front train (yeah, yeah)\", \"you know i'd anything (yeah, yeah)\", 'oh oh, i would go pain,', 'take bullet straight brain,', 'yes, i would baby,', 'but if body fire,', 'oh watch burn flames', 'you said loved liar because never,', \"ever, ever baby but darling i'll still catch grenade (yeah, yeah)\", 'throw head blade (yeah, yeah)', \"i'd jump front train (yeah, yeah)\", \"you know i'd anything (yeah, yeah)\", 'oh oh i would go pain', 'take bullet straight brain', 'yes, i would baby', 'but no, you oh, never']\n",
            "error but no, no, no, WatsonApiException\n",
            "error beat 'til i'm numb, WatsonApiException\n",
            "[\"Easy come, easy go, that's live oh\", 'Take, take, all, never give', 'Should know trouble first kiss Had eye wide open,', 'Why open? Gave I toss trash', \"You toss trash, To give love I ever ask 'cause\", \"What understand I'd catch grenade (yeah, yeah)\", 'Throw head blade (yeah, yeah)', \"I'd jump front train (yeah, yeah)\", \"You know I'd anything (yeah, yeah)\", 'Oh oh, I would go pain', 'Take bullet straight brain', 'Yes, I would baby', 'But No, no, no,', 'Black, black, black blue,', \"Beat 'til I'm numb,\", \"Tell devil I say 'hey' get back\", 'Mad woman, bad woman', \"That's are, Yeah smile rip brake car\", 'Gave I toss trash', 'You toss trash, yes', 'To give love I ever ask', \"'Cause understand I'd catch grenade (yeah, yeah)\", 'Throw head blade (yeah, yeah)', \"I'd jump front train (yeah, yeah)\", \"You know I'd anything (yeah, yeah)\", 'Oh oh, I would go pain,', 'Take bullet straight brain,', 'Yes, I would baby,', 'But If body fire,', 'Oh watch burn flame', \"You say love liar 'cause never,\", \"Ever, ever baby But darling I'll still catch grenade (yeah, yeah)\", 'Throw head blade (yeah, yeah)', \"I'd jump front train (yeah, yeah)\", \"You know I'd anything (yeah, yeah)\", 'Oh oh I would go pain', 'Take bullet straight brain', 'Yes, I would baby', 'But No, You Oh, never']\n",
            "error But No, no, no, WatsonApiException\n",
            "error Beat 'til I'm numb, WatsonApiException\n",
            "['easy come, easy go, that has / that is just how you live oh', 'take, take, take it all, but you never give', 'should have know you be trouble from the first kiss had your eye wide open,', 'why be they open?', 'gave you all i have and you toss it in the trash', 'you toss it in the trash, you do', 'to give me all your love be all i ever ask because', \"what you do not understand be i'd catch a grenade for ya (yeah, yeah)\", 'throw my head on a blade for ya (yeah, yeah)', \"i'd jump in front of a train for ya (yeah, yeah)\", \"you know i'd do anything for ya (yeah, yeah)\", 'oh oh, i would go through all this pain', 'take a bullet straight through my brain', 'yes, i would die for ya baby', 'but you will not do the same', 'no, no, no, no', 'black, black, black and blue,', \"beat me 'til i'm numb,\", \"tell the devil i say 'hey' when you get back to where you are from\", 'mad woman, bad woman', 'that has / that is just what you are,', 'yeah you shall / you will smile in my face then rip the brake out my car', 'gave you all i have and you toss it in the trash', 'you toss it in the trash, yes you do', 'to give me all your love be all i ever ask', 'because what you do not understand be', \"i'd catch a grenade for ya (yeah, yeah)\", 'throw my head on a blade for ya (yeah, yeah)', \"i'd jump in front of a train for ya (yeah, yeah)\", \"you know i'd do anything for ya (yeah, yeah)\", 'oh oh, i would go through all this pain,', 'take a bullet straight through my brain,', 'yes, i would die for ya baby,', 'but you will not do the same', 'if my body be on fire,', 'oh you had / you would watch me burn down in flame', 'you say you love me you are a liar because you never,', 'ever, ever do baby', \"but darling i'll still catch a grenade for ya (yeah, yeah)\", 'throw my head on a blade for ya (yeah, yeah)', \"i'd jump in front of a train for ya (yeah, yeah)\", \"you know i'd do anything for ya (yeah, yeah)\", 'oh oh i would go through all this pain', 'take a bullet straight through my brain', 'yes, i would die for ya baby', 'but you will not do the same', 'no, you will not do the same', 'you would not do the same', 'oh, you shall / you will never do the same', 'no, no, no, no']\n",
            "error no, no, no, no WatsonApiException\n",
            "error beat me 'til i'm numb, WatsonApiException\n",
            "error no, no, no, no WatsonApiException\n",
            "['easy come, easy go, that have / that be live oh', 'take, take, all, never give', 'should know trouble first kiss have eye wide open,', 'why open? give i toss trash', 'you toss trash, to give love i ever ask because', \"what understand i'd catch grenade (yeah, yeah)\", 'throw head blade (yeah, yeah)', \"i'd jump front train (yeah, yeah)\", \"you know i'd anything (yeah, yeah)\", 'oh oh, i would go pain', 'take bullet straight brain', 'yes, i would baby', 'but no, no, no,', 'black, black, black blue,', \"beat 'til i'm numb,\", \"tell devil i say 'hey' get back\", 'mad woman, bad woman', 'that have / that be are,', 'yeah smile rip brake car', 'give i toss trash', 'you toss trash, yes', 'to give love i ever ask', \"because understand i'd catch grenade (yeah, yeah)\", 'throw head blade (yeah, yeah)', \"i'd jump front train (yeah, yeah)\", \"you know i'd anything (yeah, yeah)\", 'oh oh, i would go pain,', 'take bullet straight brain,', 'yes, i would baby,', 'but if body fire,', 'oh watch burn flame', 'you say love liar because never,', \"ever, ever baby but darling i'll still catch grenade (yeah, yeah)\", 'throw head blade (yeah, yeah)', \"i'd jump front train (yeah, yeah)\", \"you know i'd anything (yeah, yeah)\", 'oh oh i would go pain', 'take bullet straight brain', 'yes, i would baby', 'but no, you oh, never']\n",
            "error but no, no, no, WatsonApiException\n",
            "error beat 'til i'm numb, WatsonApiException\n",
            "['Oh, her eyes, her eyes', \"Make the stars look like they're not shinin'\", 'Her hair, her hair Falls perfectly without her trying', \"She's so beautiful And I tell her everyday\", 'Yeah, I know, I know', \"When I compliment her she won't believe me\", \"And it's so, it's so\", \"Sad to think that she don't see what I see\", 'But every time she asks me, \"Do I look okay?\"', 'I say When I see your face', \"There's not a thing that I would change\", \"'Cause you're amazing Just the way you are\", 'And when you smile', 'The whole world stops and stares for a while', \"'Cause, girl, you're amazing\", 'Just the way you are', 'Yeah Her lips, her lips', \"I could kiss them all day if she'd let me\", 'Her laugh, her laugh', \"She hates, but I think it's so sexy\", \"She's so beautiful And I tell her everyday\", 'Oh, you know, you know, you know', \"I'd never ask you to change\", \"If perfect's what you're searching for\", 'Then just stay the same', \"So don't even bother asking if you look okay\", \"You know, I'll say\", 'When I see your face', \"There's not a thing that I would change\", \"'Cause you're amazing Just the way you are\", 'And when you smile', 'The whole world stops and stares for a while', \"'Cause, girl, you're amazing\", 'Just the way you are', 'The way you are', 'The way you are', \"Girl, you're amazing Just the way you are\", 'When I see your face', \"There's not a thing that I would change\", \"'Cause you're amazing Just the way you are\", 'And when you smile', 'The whole world stops and stares for a while', \"'Cause, girl, you're amazing\", 'Just the way you are']\n",
            "[\"Oh, eyes, eyes Make stars look like they're shinin'\", 'Her hair, hair Falls perfectly without trying', \"She's beautiful And I tell everyday\", 'Yeah, I know, I know', 'When I compliment believe', 'And so, Sad think see I see', 'But every time asks me, \"Do I look okay?\"', 'I say When I see', \"There's thing I would change\", \"'Cause amazing Just way\", 'And smile The whole world stops stares', \"'Cause, girl, amazing Just way\", 'Yeah Her lips, lips', \"I could kiss day she'd let\", 'Her laugh, laugh She hates, I think sexy', \"She's beautiful And I tell everyday\", 'Oh, know, know, know', \"I'd never ask change\", \"If perfect's searching Then stay\", 'So even bother asking look okay', \"You know, I'll say\", \"When I see There's thing I would change\", \"'Cause amazing Just way\", 'And smile The whole world stops stares', \"'Cause, girl, amazing Just way\", 'The way The way', 'Girl, amazing Just way', \"When I see There's thing I would change\", \"'Cause amazing Just way\", 'And smile The whole world stops stares', \"'Cause, girl, amazing Just way\"]\n",
            "['oh, her eyes, her eyes', \"make the stars look like they are not shinin'\", 'her hair, her hair falls perfectly without her trying', 'she has / she is so beautiful', 'and i tell her everyday', 'yeah, i know, i know', 'when i compliment her she will not believe me', 'and it has / it is so, it has / it is so', 'sad to think that she do not see what i see', 'but every time she asks me, \"do i look okay?\"', 'i say when i see your face', 'there has / there is not a thing that i would change', 'because you are amazing', 'just the way you are', 'and when you smile', 'the whole world stops and stares for a while', \"'cause, girl, you are amazing\", 'just the way you are', 'yeah her lips, her lips', 'i could kiss them all day if she had / she would let me', 'her laugh, her laugh', 'she hates, but i think it has / it is so sexy', 'she has / she is so beautiful', 'and i tell her everyday', 'oh, you know, you know, you know', \"i'd never ask you to change\", \"if perfect's what you are searching for\", 'then just stay the same', 'so do not even bother asking if you look okay', \"you know, i'll say\", 'when i see your face', 'there has / there is not a thing that i would change', 'because you are amazing', 'just the way you are', 'and when you smile', 'the whole world stops and stares for a while', \"'cause, girl, you are amazing\", 'just the way you are', 'the way you are', 'the way you are', 'girl, you are amazing', 'just the way you are', 'when i see your face', 'there has / there is not a thing that i would change', 'because you are amazing', 'just the way you are', 'and when you smile', 'the whole world stops and stares for a while', \"'cause, girl, you are amazing\", 'just the way you are']\n",
            "['Oh, her eyes, her eye', \"Make the star look like they're not shinin'\", 'Her hair, her hair Falls perfectly without her try', \"She's so beautiful And I tell her everyday\", 'Yeah, I know, I know', \"When I compliment her she won't believe me\", \"And it's so, it's so\", \"Sad to think that she don't see what I see\", 'But every time she ask me, \"Do I look okay?\"', 'I say When I see your face', \"There's not a thing that I would change\", \"'Cause you're amaze Just the way you be\", 'And when you smile', 'The whole world stop and star for a while', \"'Cause, girl, you're amaze\", 'Just the way you be', 'Yeah Her lips, her lips', \"I could kiss them all day if she'd let me\", 'Her laugh, her laugh', \"She hates, but I think it's so sexy\", \"She's so beautiful And I tell her everyday\", 'Oh, you know, you know, you know', \"I'd never ask you to change\", \"If perfect's what you're search for\", 'Then just stay the same', \"So don't even bother ask if you look okay\", \"You know, I'll say\", 'When I see your face', \"There's not a thing that I would change\", \"'Cause you're amaze Just the way you be\", 'And when you smile', 'The whole world stop and star for a while', \"'Cause, girl, you're amaze\", 'Just the way you be', 'The way you be', 'The way you be', \"Girl, you're amaze Just the way you be\", 'When I see your face', \"There's not a thing that I would change\", \"'Cause you're amaze Just the way you be\", 'And when you smile', 'The whole world stop and star for a while', \"'Cause, girl, you're amaze\", 'Just the way you be']\n",
            "[\"oh, eyes, eyes make stars look like they are shinin'\", 'her hair, hair falls perfectly without trying', 'she has / she is beautiful', 'and i tell everyday', 'yeah, i know, i know', 'when i compliment believe', 'and so, sad think see i see', 'but every time asks me, \"do i look okay?\"', 'i say when i see', 'there has / there is thing i would change', 'because amazing just way', 'and smile the whole world stops stares', \"'cause, girl, amazing just way\", 'yeah her lips, lips', 'i could kiss day she had / she would let', 'her laugh, laugh she hates, i think sexy', 'she has / she is beautiful', 'and i tell everyday', 'oh, know, know, know', \"i'd never ask change\", \"if perfect's searching then stay\", 'so even bother asking look okay', \"you know, i'll say\", 'when i see there has / there is thing i would change', 'because amazing just way', 'and smile the whole world stops stares', \"'cause, girl, amazing just way\", 'the way the way', 'girl, amazing just way', 'when i see there has / there is thing i would change', 'because amazing just way', 'and smile the whole world stops stares', \"'cause, girl, amazing just way\"]\n",
            "[\"Oh, eyes, eye Make star look like they're shinin'\", 'Her hair, hair Falls perfectly without try', \"She's beautiful And I tell everyday\", 'Yeah, I know, I know', 'When I compliment believe', 'And so, Sad think see I see', 'But every time ask me, \"Do I look okay?\"', 'I say When I see', \"There's thing I would change\", \"'Cause amaze Just way\", 'And smile The whole world stop star', \"'Cause, girl, amaze Just way\", 'Yeah Her lips, lips', \"I could kiss day she'd let\", 'Her laugh, laugh She hates, I think sexy', \"She's beautiful And I tell everyday\", 'Oh, know, know, know', \"I'd never ask change\", \"If perfect's search Then stay\", 'So even bother ask look okay', \"You know, I'll say\", \"When I see There's thing I would change\", \"'Cause amaze Just way\", 'And smile The whole world stop star', \"'Cause, girl, amaze Just way\", 'The way The way', 'Girl, amaze Just way', \"When I see There's thing I would change\", \"'Cause amaze Just way\", 'And smile The whole world stop star', \"'Cause, girl, amaze Just way\"]\n",
            "['oh, her eyes, her eye', \"make the star look like they are not shinin'\", 'her hair, her hair falls perfectly without her try', 'she has / she is so beautiful', 'and i tell her everyday', 'yeah, i know, i know', 'when i compliment her she will not believe me', 'and it has / it is so, it has / it is so', 'sad to think that she do not see what i see', 'but every time she ask me, \"do i look okay?\"', 'i say when i see your face', 'there has / there is not a thing that i would change', 'because you are amaze', 'just the way you be', 'and when you smile', 'the whole world stop and star for a while', \"'cause, girl, you are amaze\", 'just the way you be', 'yeah her lips, her lips', 'i could kiss them all day if she had / she would let me', 'her laugh, her laugh', 'she hates, but i think it has / it is so sexy', 'she has / she is so beautiful', 'and i tell her everyday', 'oh, you know, you know, you know', \"i'd never ask you to change\", \"if perfect's what you are search for\", 'then just stay the same', 'so do not even bother ask if you look okay', \"you know, i'll say\", 'when i see your face', 'there has / there is not a thing that i would change', 'because you are amaze', 'just the way you be', 'and when you smile', 'the whole world stop and star for a while', \"'cause, girl, you are amaze\", 'just the way you be', 'the way you be', 'the way you be', 'girl, you are amaze', 'just the way you be', 'when i see your face', 'there has / there is not a thing that i would change', 'because you are amaze', 'just the way you be', 'and when you smile', 'the whole world stop and star for a while', \"'cause, girl, you are amaze\", 'just the way you be']\n",
            "[\"oh, eyes, eye make star look like they be shinin'\", 'her hair, hair fall perfectly without try', 'she have / she be beautiful', 'and i tell everyday', 'yeah, i know, i know', 'when i compliment believe', 'and so, sad think see i see', 'but every time ask me, \"do i look okay?\"', 'i say when i see', 'there have / there be thing i would change', 'because amaze just way', 'and smile the whole world stop star', \"'cause, girl, amaze just way\", 'yeah her lips, lips', 'i could kiss day she have / she would let', 'her laugh, laugh she hates, i think sexy', 'she have / she be beautiful', 'and i tell everyday', 'oh, know, know, know', \"i'd never ask change\", \"if perfect's search then stay\", 'so even bother ask look okay', \"you know, i'll say\", 'when i see there have / there be thing i would change', 'because amaze just way', 'and smile the whole world stop star', \"'cause, girl, amaze just way\", 'the way the way', 'girl, amaze just way', 'when i see there have / there be thing i would change', 'because amaze just way', 'and smile the whole world stop star', \"'cause, girl, amaze just way\"]\n",
            "['Wise men say Only fools rush in', \"But I can't help Falling in love with you\", 'Wise men say Only fools rush in', \"But I can't help\", 'Falling in love with you', 'Shall I stay? Would it be a sin?', \"If I can't help\", 'Falling in love with you', 'As a river flows', 'Gently to the sea', 'Darling, so it goes', 'Some things are meant to be', 'Take my hand Take my whole life too', \"For I can't help\", 'Falling in love with you', 'As a river flows', 'Gently to the sea', 'Darling, so it goes', 'Some things are meant to be', 'Take my hand Take my whole life too', \"I can't help Falling in love with you\", \"I can't help falling in love with you\", \"I can't help falling in love with you\", \"I can't help falling in love with you\"]\n",
            "['Wise say Only fools rush', \"But I can't help Falling love\", 'Wise say Only fools rush', \"But I can't help\", 'Falling love Shall I stay?', \"Would sin? If I can't help\", 'Falling love As river flows', 'Gently Darling, goes Some things meant', 'Take hand Take whole life', \"For I can't help\", 'Falling love As river flows', 'Gently Darling, goes Some things meant', 'Take hand Take whole life', \"I can't help Falling love\", \"I can't help falling love\", \"I can't help falling love\", \"I can't help falling love\"]\n",
            "['wise men say only fools rush in', 'but i cannot help falling in love with you', 'wise men say only fools rush in', 'but i cannot help', 'falling in love with you', 'shall i stay? would it be a sin?', 'if i cannot help', 'falling in love with you', 'as a river flows', 'gently to the sea', 'darling, so it goes', 'some things are meant to be', 'take my hand take my whole life too', 'for i cannot help', 'falling in love with you', 'as a river flows', 'gently to the sea', 'darling, so it goes', 'some things are meant to be', 'take my hand take my whole life too', 'i cannot help falling in love with you', 'i cannot help falling in love with you', 'i cannot help falling in love with you', 'i cannot help falling in love with you']\n",
            "['Wise men say Only fool rush in', \"But I can't help Falling in love with you\", 'Wise men say Only fool rush in', \"But I can't help\", 'Falling in love with you', 'Shall I stay? Would it be a sin?', \"If I can't help\", 'Falling in love with you', 'As a river flow', 'Gently to the sea', 'Darling, so it go', 'Some things be mean to be', 'Take my hand Take my whole life too', \"For I can't help\", 'Falling in love with you', 'As a river flow', 'Gently to the sea', 'Darling, so it go', 'Some things be mean to be', 'Take my hand Take my whole life too', \"I can't help Falling in love with you\", \"I can't help fall in love with you\", \"I can't help fall in love with you\", \"I can't help fall in love with you\"]\n",
            "['wise say only fools rush', 'but i cannot help falling love', 'wise say only fools rush', 'but i cannot help', 'falling love shall i stay?', 'would sin? if i cannot help', 'falling love as river flows', 'gently darling, goes some things meant', 'take hand take whole life', 'for i cannot help', 'falling love as river flows', 'gently darling, goes some things meant', 'take hand take whole life', 'i cannot help falling love', 'i cannot help falling love', 'i cannot help falling love', 'i cannot help falling love']\n",
            "['Wise say Only fool rush', \"But I can't help Falling love\", 'Wise say Only fool rush', \"But I can't help\", 'Falling love Shall I stay?', \"Would sin? If I can't help\", 'Falling love As river flow', 'Gently Darling, go Some things mean', 'Take hand Take whole life', \"For I can't help\", 'Falling love As river flow', 'Gently Darling, go Some things mean', 'Take hand Take whole life', \"I can't help Falling love\", \"I can't help fall love\", \"I can't help fall love\", \"I can't help fall love\"]\n",
            "['wise men say only fool rush in', 'but i cannot help falling in love with you', 'wise men say only fool rush in', 'but i cannot help', 'falling in love with you', 'shall i stay? would it be a sin?', 'if i cannot help', 'falling in love with you', 'as a river flow', 'gently to the sea', 'darling, so it go', 'some things be mean to be', 'take my hand take my whole life too', 'for i cannot help', 'falling in love with you', 'as a river flow', 'gently to the sea', 'darling, so it go', 'some things be mean to be', 'take my hand take my whole life too', 'i cannot help falling in love with you', 'i cannot help fall in love with you', 'i cannot help fall in love with you', 'i cannot help fall in love with you']\n",
            "['wise say only fool rush', 'but i cannot help fall love', 'wise say only fool rush', 'but i cannot help', 'fall love shall i stay?', 'would sin? if i cannot help', 'fall love as river flow', 'gently darling, go some things mean', 'take hand take whole life', 'for i cannot help', 'fall love as river flow', 'gently darling, go some things mean', 'take hand take whole life', 'i cannot help fall love', 'i cannot help fall love', 'i cannot help fall love', 'i cannot help fall love']\n",
            "[\"I've said it before, I'll say it again\", 'I wish we were more than friends', \"You know I love the way you dress, you know I love your style Every moment I'm with you, I can't help but smile\", \"I've thought it before, I'll think it again\", 'When will we stop playing pretend?', 'Wishing you would just make up your mind', \"Let me love you and we'll be alright\", \"I know I can't keep chasing after you if you don't feel some way\", 'Or feel the same about me', \"I know I can't keep chasing after you\", \"And babe if that's the case, just know that\", '(I love you, ooh)', '(I love you, ooh)', '(I love you, ooh)', '(I love you, ooh)', \"I've said it before, I'll say it again\", 'I wish we were more than friends', 'You know I love the way you dress, you know I love your style', \"Every moment I'm with you, I can't help but smile\", \"I've thought it before, I'll think it again\", 'When will we stop playing pretend?', 'Wishing you would just make up your mind', \"Let me love you and we'll be alright\", \"I know I can't keep chasing after you if you don't feel some way\", 'Or feel the same about me', \"I know I can't keep chasing after you\", \"And babe if that's the case, just know that\", '(I love you, ooh)', '(I love you, ooh)']\n",
            "[\"I've said before, I'll say\", \"I wish friends You know I love way dress, know I love style Every moment I'm you, I can't help smile\", \"I've thought before, I'll think\", 'When stop playing pretend?', 'Wishing would make mind', \"Let love we'll alright\", \"I know I can't keep chasing feel way\", \"Or feel I know I can't keep chasing\", \"And babe that's case, know\", '(I love you, ooh)', '(I love you, ooh)', '(I love you, ooh)', '(I love you, ooh)', \"I've said before, I'll say\", 'I wish friends You know I love way dress, know I love style', \"Every moment I'm you, I can't help smile\", \"I've thought before, I'll think\", 'When stop playing pretend?', 'Wishing would make mind', \"Let love we'll alright\", \"I know I can't keep chasing feel way\", \"Or feel I know I can't keep chasing\", \"And babe that's case, know\", '(I love you, ooh)', '(I love you, ooh)']\n",
            "[\"i've said it before, i'll say it again\", 'i wish we were more than friends', \"you know i love the way you dress, you know i love your style every moment i'm with you, i cannot help but smile\", \"i've thought it before, i'll think it again\", 'when will we stop playing pretend?', 'wishing you would just make up your mind', 'let me love you and we will be alright', 'i know i cannot keep chasing after you if you do not feel some way', 'or feel the same about me', 'i know i cannot keep chasing after you', 'and babe if that has / that is the case, just know that', '(i love you, ooh)', '(i love you, ooh)', '(i love you, ooh)', '(i love you, ooh)', \"i've said it before, i'll say it again\", 'i wish we were more than friends', 'you know i love the way you dress, you know i love your style', \"every moment i'm with you, i cannot help but smile\", \"i've thought it before, i'll think it again\", 'when will we stop playing pretend?', 'wishing you would just make up your mind', 'let me love you and we will be alright', 'i know i cannot keep chasing after you if you do not feel some way', 'or feel the same about me', 'i know i cannot keep chasing after you', 'and babe if that has / that is the case, just know that', '(i love you, ooh)', '(i love you, ooh)']\n",
            "[\"I've say it before, I'll say it again\", 'I wish we be more than friends', \"You know I love the way you dress, you know I love your style Every moment I'm with you, I can't help but smile\", \"I've think it before, I'll think it again\", 'When will we stop play pretend?', 'Wishing you would just make up your mind', \"Let me love you and we'll be alright\", \"I know I can't keep chase after you if you don't feel some way\", 'Or feel the same about me', \"I know I can't keep chase after you\", \"And babe if that's the case, just know that\", '(I love you, ooh)', '(I love you, ooh)', '(I love you, ooh)', '(I love you, ooh)', \"I've say it before, I'll say it again\", 'I wish we be more than friends', 'You know I love the way you dress, you know I love your style', \"Every moment I'm with you, I can't help but smile\", \"I've think it before, I'll think it again\", 'When will we stop play pretend?', 'Wishing you would just make up your mind', \"Let me love you and we'll be alright\", \"I know I can't keep chase after you if you don't feel some way\", 'Or feel the same about me', \"I know I can't keep chase after you\", \"And babe if that's the case, just know that\", '(I love you, ooh)', '(I love you, ooh)']\n",
            "[\"i've said before, i'll say\", \"i wish friends you know i love way dress, know i love style every moment i'm you, i cannot help smile\", \"i've thought before, i'll think\", 'when stop playing pretend?', 'wishing would make mind', 'let love we will alright', 'i know i cannot keep chasing feel way', 'or feel i know i cannot keep chasing', 'and babe that has / that is case, know', '(i love you, ooh)', '(i love you, ooh)', '(i love you, ooh)', '(i love you, ooh)', \"i've said before, i'll say\", 'i wish friends you know i love way dress, know i love style', \"every moment i'm you, i cannot help smile\", \"i've thought before, i'll think\", 'when stop playing pretend?', 'wishing would make mind', 'let love we will alright', 'i know i cannot keep chasing feel way', 'or feel i know i cannot keep chasing', 'and babe that has / that is case, know', '(i love you, ooh)', '(i love you, ooh)']\n",
            "[\"I've say before, I'll say\", \"I wish friends You know I love way dress, know I love style Every moment I'm you, I can't help smile\", \"I've think before, I'll think\", 'When stop play pretend?', 'Wishing would make mind', \"Let love we'll alright\", \"I know I can't keep chase feel way\", \"Or feel I know I can't keep chase\", \"And babe that's case, know\", '(I love you, ooh)', '(I love you, ooh)', '(I love you, ooh)', '(I love you, ooh)', \"I've say before, I'll say\", 'I wish friends You know I love way dress, know I love style', \"Every moment I'm you, I can't help smile\", \"I've think before, I'll think\", 'When stop play pretend?', 'Wishing would make mind', \"Let love we'll alright\", \"I know I can't keep chase feel way\", \"Or feel I know I can't keep chase\", \"And babe that's case, know\", '(I love you, ooh)', '(I love you, ooh)']\n",
            "[\"i've say it before, i'll say it again\", 'i wish we be more than friends', \"you know i love the way you dress, you know i love your style every moment i'm with you, i cannot help but smile\", \"i've think it before, i'll think it again\", 'when will we stop play pretend?', 'wishing you would just make up your mind', 'let me love you and we will be alright', 'i know i cannot keep chase after you if you do not feel some way', 'or feel the same about me', 'i know i cannot keep chase after you', 'and babe if that has / that is the case, just know that', '(i love you, ooh)', '(i love you, ooh)', '(i love you, ooh)', '(i love you, ooh)', \"i've say it before, i'll say it again\", 'i wish we be more than friends', 'you know i love the way you dress, you know i love your style', \"every moment i'm with you, i cannot help but smile\", \"i've think it before, i'll think it again\", 'when will we stop play pretend?', 'wishing you would just make up your mind', 'let me love you and we will be alright', 'i know i cannot keep chase after you if you do not feel some way', 'or feel the same about me', 'i know i cannot keep chase after you', 'and babe if that has / that is the case, just know that', '(i love you, ooh)', '(i love you, ooh)']\n",
            "[\"i've say before, i'll say\", \"i wish friends you know i love way dress, know i love style every moment i'm you, i cannot help smile\", \"i've think before, i'll think\", 'when stop play pretend?', 'wish would make mind', 'let love we will alright', 'i know i cannot keep chase feel way', 'or feel i know i cannot keep chase', 'and babe that have / that be case, know', '(i love you, ooh)', '(i love you, ooh)', '(i love you, ooh)', '(i love you, ooh)', \"i've say before, i'll say\", 'i wish friends you know i love way dress, know i love style', \"every moment i'm you, i cannot help smile\", \"i've think before, i'll think\", 'when stop play pretend?', 'wish would make mind', 'let love we will alright', 'i know i cannot keep chase feel way', 'or feel i know i cannot keep chase', 'and babe that have / that be case, know', '(i love you, ooh)', '(i love you, ooh)']\n"
          ],
          "name": "stdout"
        }
      ]
    },
    {
      "cell_type": "code",
      "metadata": {
        "id": "9a6Rw1fMrW3V",
        "colab_type": "code",
        "colab": {}
      },
      "source": [
        "for i in accuracy:\n",
        "  display(i)"
      ],
      "execution_count": null,
      "outputs": []
    },
    {
      "cell_type": "code",
      "metadata": {
        "id": "ZBgDqM5Ho5u2",
        "colab_type": "code",
        "colab": {}
      },
      "source": [
        "newset=[\"\",\"\",\"\",\"\",\"\"]\n",
        "for i in range(len(accuracy)):\n",
        "  if song_sentiment[i]==1:\n",
        "    newset[i]=(accuracy[i]+1)/2\n",
        "  else:\n",
        "    newset[i]=(accuracy[i]-1)/-2\n",
        "  newset[i]=round(newset[i]*100,1)"
      ],
      "execution_count": 58,
      "outputs": []
    },
    {
      "cell_type": "code",
      "metadata": {
        "id": "XoTFW5svyu9g",
        "colab_type": "code",
        "colab": {}
      },
      "source": [
        "for i in newset:\n",
        "  i[\"mean_row\"]=i.mean(axis=1)\n",
        "  i[\"max_row\"]=i.max(axis=1)"
      ],
      "execution_count": 60,
      "outputs": []
    },
    {
      "cell_type": "code",
      "metadata": {
        "id": "2KMxNcwD1VpK",
        "colab_type": "code",
        "colab": {
          "base_uri": "https://localhost:8080/",
          "height": 1000
        },
        "outputId": "5683b8a1-63db-464d-e038-499d7b05ea1a"
      },
      "source": [
        "for i in newset:\n",
        "  display(i)"
      ],
      "execution_count": 61,
      "outputs": [
        {
          "output_type": "display_data",
          "data": {
            "text/html": [
              "<div>\n",
              "<style scoped>\n",
              "    .dataframe tbody tr th:only-of-type {\n",
              "        vertical-align: middle;\n",
              "    }\n",
              "\n",
              "    .dataframe tbody tr th {\n",
              "        vertical-align: top;\n",
              "    }\n",
              "\n",
              "    .dataframe thead th {\n",
              "        text-align: right;\n",
              "    }\n",
              "</style>\n",
              "<table border=\"1\" class=\"dataframe\">\n",
              "  <thead>\n",
              "    <tr style=\"text-align: right;\">\n",
              "      <th></th>\n",
              "      <th>Textblob</th>\n",
              "      <th>Textblob per line</th>\n",
              "      <th>Textblob nonzero</th>\n",
              "      <th>Vader</th>\n",
              "      <th>Vader per line</th>\n",
              "      <th>Vader nonzero</th>\n",
              "      <th>Watson</th>\n",
              "      <th>Watson per line</th>\n",
              "      <th>Watson nonzero</th>\n",
              "      <th>mean_row</th>\n",
              "      <th>max_row</th>\n",
              "    </tr>\n",
              "  </thead>\n",
              "  <tbody>\n",
              "    <tr>\n",
              "      <th>Lyrics</th>\n",
              "      <td>45.8</td>\n",
              "      <td>48.9</td>\n",
              "      <td>44.1</td>\n",
              "      <td>1.8</td>\n",
              "      <td>45.1</td>\n",
              "      <td>42.9</td>\n",
              "      <td>68.6</td>\n",
              "      <td>55.4</td>\n",
              "      <td>55.4</td>\n",
              "      <td>45.333333</td>\n",
              "      <td>68.6</td>\n",
              "    </tr>\n",
              "    <tr>\n",
              "      <th>SW</th>\n",
              "      <td>41.7</td>\n",
              "      <td>48.6</td>\n",
              "      <td>40.7</td>\n",
              "      <td>6.3</td>\n",
              "      <td>48.2</td>\n",
              "      <td>47.1</td>\n",
              "      <td>66.8</td>\n",
              "      <td>58.7</td>\n",
              "      <td>62.3</td>\n",
              "      <td>46.711111</td>\n",
              "      <td>66.8</td>\n",
              "    </tr>\n",
              "    <tr>\n",
              "      <th>CO</th>\n",
              "      <td>45.8</td>\n",
              "      <td>48.9</td>\n",
              "      <td>44.1</td>\n",
              "      <td>0.9</td>\n",
              "      <td>43.7</td>\n",
              "      <td>41.0</td>\n",
              "      <td>71.8</td>\n",
              "      <td>55.5</td>\n",
              "      <td>55.5</td>\n",
              "      <td>45.244444</td>\n",
              "      <td>71.8</td>\n",
              "    </tr>\n",
              "    <tr>\n",
              "      <th>LM</th>\n",
              "      <td>45.8</td>\n",
              "      <td>48.9</td>\n",
              "      <td>44.1</td>\n",
              "      <td>1.8</td>\n",
              "      <td>45.1</td>\n",
              "      <td>42.9</td>\n",
              "      <td>33.1</td>\n",
              "      <td>54.4</td>\n",
              "      <td>54.4</td>\n",
              "      <td>41.166667</td>\n",
              "      <td>54.4</td>\n",
              "    </tr>\n",
              "    <tr>\n",
              "      <th>SW-CO</th>\n",
              "      <td>41.7</td>\n",
              "      <td>48.6</td>\n",
              "      <td>40.7</td>\n",
              "      <td>3.8</td>\n",
              "      <td>46.9</td>\n",
              "      <td>44.9</td>\n",
              "      <td>67.8</td>\n",
              "      <td>58.7</td>\n",
              "      <td>62.2</td>\n",
              "      <td>46.144444</td>\n",
              "      <td>67.8</td>\n",
              "    </tr>\n",
              "    <tr>\n",
              "      <th>SW-LM</th>\n",
              "      <td>41.7</td>\n",
              "      <td>48.6</td>\n",
              "      <td>40.7</td>\n",
              "      <td>6.1</td>\n",
              "      <td>48.2</td>\n",
              "      <td>47.1</td>\n",
              "      <td>33.2</td>\n",
              "      <td>57.8</td>\n",
              "      <td>61.0</td>\n",
              "      <td>42.711111</td>\n",
              "      <td>61.0</td>\n",
              "    </tr>\n",
              "    <tr>\n",
              "      <th>CO-LM</th>\n",
              "      <td>45.8</td>\n",
              "      <td>48.9</td>\n",
              "      <td>44.1</td>\n",
              "      <td>0.9</td>\n",
              "      <td>43.7</td>\n",
              "      <td>40.9</td>\n",
              "      <td>64.7</td>\n",
              "      <td>54.5</td>\n",
              "      <td>54.5</td>\n",
              "      <td>44.222222</td>\n",
              "      <td>64.7</td>\n",
              "    </tr>\n",
              "    <tr>\n",
              "      <th>SW-CO-LM</th>\n",
              "      <td>41.7</td>\n",
              "      <td>48.6</td>\n",
              "      <td>40.7</td>\n",
              "      <td>3.7</td>\n",
              "      <td>46.8</td>\n",
              "      <td>44.9</td>\n",
              "      <td>33.8</td>\n",
              "      <td>57.7</td>\n",
              "      <td>60.8</td>\n",
              "      <td>42.077778</td>\n",
              "      <td>60.8</td>\n",
              "    </tr>\n",
              "  </tbody>\n",
              "</table>\n",
              "</div>"
            ],
            "text/plain": [
              "          Textblob  Textblob per line  ...   mean_row  max_row\n",
              "Lyrics        45.8               48.9  ...  45.333333     68.6\n",
              "SW            41.7               48.6  ...  46.711111     66.8\n",
              "CO            45.8               48.9  ...  45.244444     71.8\n",
              "LM            45.8               48.9  ...  41.166667     54.4\n",
              "SW-CO         41.7               48.6  ...  46.144444     67.8\n",
              "SW-LM         41.7               48.6  ...  42.711111     61.0\n",
              "CO-LM         45.8               48.9  ...  44.222222     64.7\n",
              "SW-CO-LM      41.7               48.6  ...  42.077778     60.8\n",
              "\n",
              "[8 rows x 11 columns]"
            ]
          },
          "metadata": {
            "tags": []
          }
        },
        {
          "output_type": "display_data",
          "data": {
            "text/html": [
              "<div>\n",
              "<style scoped>\n",
              "    .dataframe tbody tr th:only-of-type {\n",
              "        vertical-align: middle;\n",
              "    }\n",
              "\n",
              "    .dataframe tbody tr th {\n",
              "        vertical-align: top;\n",
              "    }\n",
              "\n",
              "    .dataframe thead th {\n",
              "        text-align: right;\n",
              "    }\n",
              "</style>\n",
              "<table border=\"1\" class=\"dataframe\">\n",
              "  <thead>\n",
              "    <tr style=\"text-align: right;\">\n",
              "      <th></th>\n",
              "      <th>Textblob</th>\n",
              "      <th>Textblob per line</th>\n",
              "      <th>Textblob nonzero</th>\n",
              "      <th>Vader</th>\n",
              "      <th>Vader per line</th>\n",
              "      <th>Vader nonzero</th>\n",
              "      <th>Watson</th>\n",
              "      <th>Watson per line</th>\n",
              "      <th>Watson nonzero</th>\n",
              "      <th>mean_row</th>\n",
              "      <th>max_row</th>\n",
              "    </tr>\n",
              "  </thead>\n",
              "  <tbody>\n",
              "    <tr>\n",
              "      <th>Lyrics</th>\n",
              "      <td>48.0</td>\n",
              "      <td>48.6</td>\n",
              "      <td>44.7</td>\n",
              "      <td>99.3</td>\n",
              "      <td>52.2</td>\n",
              "      <td>54.7</td>\n",
              "      <td>74.9</td>\n",
              "      <td>55.0</td>\n",
              "      <td>56.5</td>\n",
              "      <td>59.322222</td>\n",
              "      <td>99.3</td>\n",
              "    </tr>\n",
              "    <tr>\n",
              "      <th>SW</th>\n",
              "      <td>47.0</td>\n",
              "      <td>48.5</td>\n",
              "      <td>43.6</td>\n",
              "      <td>53.9</td>\n",
              "      <td>49.7</td>\n",
              "      <td>49.4</td>\n",
              "      <td>82.0</td>\n",
              "      <td>49.0</td>\n",
              "      <td>48.7</td>\n",
              "      <td>52.422222</td>\n",
              "      <td>82.0</td>\n",
              "    </tr>\n",
              "    <tr>\n",
              "      <th>CO</th>\n",
              "      <td>48.0</td>\n",
              "      <td>48.6</td>\n",
              "      <td>44.7</td>\n",
              "      <td>99.3</td>\n",
              "      <td>52.1</td>\n",
              "      <td>54.4</td>\n",
              "      <td>79.2</td>\n",
              "      <td>54.4</td>\n",
              "      <td>55.7</td>\n",
              "      <td>59.600000</td>\n",
              "      <td>99.3</td>\n",
              "    </tr>\n",
              "    <tr>\n",
              "      <th>LM</th>\n",
              "      <td>48.3</td>\n",
              "      <td>48.8</td>\n",
              "      <td>45.5</td>\n",
              "      <td>99.3</td>\n",
              "      <td>52.2</td>\n",
              "      <td>54.5</td>\n",
              "      <td>73.4</td>\n",
              "      <td>53.4</td>\n",
              "      <td>54.5</td>\n",
              "      <td>58.877778</td>\n",
              "      <td>99.3</td>\n",
              "    </tr>\n",
              "    <tr>\n",
              "      <th>SW-CO</th>\n",
              "      <td>47.0</td>\n",
              "      <td>48.5</td>\n",
              "      <td>43.6</td>\n",
              "      <td>95.7</td>\n",
              "      <td>49.6</td>\n",
              "      <td>49.1</td>\n",
              "      <td>82.0</td>\n",
              "      <td>48.1</td>\n",
              "      <td>47.6</td>\n",
              "      <td>56.800000</td>\n",
              "      <td>95.7</td>\n",
              "    </tr>\n",
              "    <tr>\n",
              "      <th>SW-LM</th>\n",
              "      <td>47.4</td>\n",
              "      <td>48.7</td>\n",
              "      <td>44.4</td>\n",
              "      <td>50.0</td>\n",
              "      <td>49.6</td>\n",
              "      <td>49.2</td>\n",
              "      <td>79.7</td>\n",
              "      <td>46.7</td>\n",
              "      <td>45.8</td>\n",
              "      <td>51.277778</td>\n",
              "      <td>79.7</td>\n",
              "    </tr>\n",
              "    <tr>\n",
              "      <th>CO-LM</th>\n",
              "      <td>48.3</td>\n",
              "      <td>48.8</td>\n",
              "      <td>45.5</td>\n",
              "      <td>99.3</td>\n",
              "      <td>52.0</td>\n",
              "      <td>54.2</td>\n",
              "      <td>77.5</td>\n",
              "      <td>53.5</td>\n",
              "      <td>54.5</td>\n",
              "      <td>59.288889</td>\n",
              "      <td>99.3</td>\n",
              "    </tr>\n",
              "    <tr>\n",
              "      <th>SW-CO-LM</th>\n",
              "      <td>47.4</td>\n",
              "      <td>48.7</td>\n",
              "      <td>44.4</td>\n",
              "      <td>95.3</td>\n",
              "      <td>49.5</td>\n",
              "      <td>48.9</td>\n",
              "      <td>78.4</td>\n",
              "      <td>46.5</td>\n",
              "      <td>45.4</td>\n",
              "      <td>56.055556</td>\n",
              "      <td>95.3</td>\n",
              "    </tr>\n",
              "  </tbody>\n",
              "</table>\n",
              "</div>"
            ],
            "text/plain": [
              "          Textblob  Textblob per line  ...   mean_row  max_row\n",
              "Lyrics        48.0               48.6  ...  59.322222     99.3\n",
              "SW            47.0               48.5  ...  52.422222     82.0\n",
              "CO            48.0               48.6  ...  59.600000     99.3\n",
              "LM            48.3               48.8  ...  58.877778     99.3\n",
              "SW-CO         47.0               48.5  ...  56.800000     95.7\n",
              "SW-LM         47.4               48.7  ...  51.277778     79.7\n",
              "CO-LM         48.3               48.8  ...  59.288889     99.3\n",
              "SW-CO-LM      47.4               48.7  ...  56.055556     95.3\n",
              "\n",
              "[8 rows x 11 columns]"
            ]
          },
          "metadata": {
            "tags": []
          }
        },
        {
          "output_type": "display_data",
          "data": {
            "text/html": [
              "<div>\n",
              "<style scoped>\n",
              "    .dataframe tbody tr th:only-of-type {\n",
              "        vertical-align: middle;\n",
              "    }\n",
              "\n",
              "    .dataframe tbody tr th {\n",
              "        vertical-align: top;\n",
              "    }\n",
              "\n",
              "    .dataframe thead th {\n",
              "        text-align: right;\n",
              "    }\n",
              "</style>\n",
              "<table border=\"1\" class=\"dataframe\">\n",
              "  <thead>\n",
              "    <tr style=\"text-align: right;\">\n",
              "      <th></th>\n",
              "      <th>Textblob</th>\n",
              "      <th>Textblob per line</th>\n",
              "      <th>Textblob nonzero</th>\n",
              "      <th>Vader</th>\n",
              "      <th>Vader per line</th>\n",
              "      <th>Vader nonzero</th>\n",
              "      <th>Watson</th>\n",
              "      <th>Watson per line</th>\n",
              "      <th>Watson nonzero</th>\n",
              "      <th>mean_row</th>\n",
              "      <th>max_row</th>\n",
              "    </tr>\n",
              "  </thead>\n",
              "  <tbody>\n",
              "    <tr>\n",
              "      <th>Lyrics</th>\n",
              "      <td>70.4</td>\n",
              "      <td>59.7</td>\n",
              "      <td>71.5</td>\n",
              "      <td>99.8</td>\n",
              "      <td>59.7</td>\n",
              "      <td>69.9</td>\n",
              "      <td>83.2</td>\n",
              "      <td>65.7</td>\n",
              "      <td>80.0</td>\n",
              "      <td>73.322222</td>\n",
              "      <td>99.8</td>\n",
              "    </tr>\n",
              "    <tr>\n",
              "      <th>SW</th>\n",
              "      <td>71.2</td>\n",
              "      <td>59.7</td>\n",
              "      <td>71.5</td>\n",
              "      <td>99.6</td>\n",
              "      <td>58.5</td>\n",
              "      <td>67.2</td>\n",
              "      <td>93.5</td>\n",
              "      <td>73.9</td>\n",
              "      <td>88.9</td>\n",
              "      <td>76.000000</td>\n",
              "      <td>99.6</td>\n",
              "    </tr>\n",
              "    <tr>\n",
              "      <th>CO</th>\n",
              "      <td>70.4</td>\n",
              "      <td>59.7</td>\n",
              "      <td>71.5</td>\n",
              "      <td>99.9</td>\n",
              "      <td>59.9</td>\n",
              "      <td>70.1</td>\n",
              "      <td>93.5</td>\n",
              "      <td>64.0</td>\n",
              "      <td>80.3</td>\n",
              "      <td>74.366667</td>\n",
              "      <td>99.9</td>\n",
              "    </tr>\n",
              "    <tr>\n",
              "      <th>LM</th>\n",
              "      <td>66.8</td>\n",
              "      <td>55.8</td>\n",
              "      <td>67.9</td>\n",
              "      <td>99.8</td>\n",
              "      <td>59.1</td>\n",
              "      <td>68.5</td>\n",
              "      <td>81.5</td>\n",
              "      <td>66.5</td>\n",
              "      <td>80.3</td>\n",
              "      <td>71.800000</td>\n",
              "      <td>99.8</td>\n",
              "    </tr>\n",
              "    <tr>\n",
              "      <th>SW-CO</th>\n",
              "      <td>71.2</td>\n",
              "      <td>59.7</td>\n",
              "      <td>71.5</td>\n",
              "      <td>99.9</td>\n",
              "      <td>58.5</td>\n",
              "      <td>67.2</td>\n",
              "      <td>93.2</td>\n",
              "      <td>71.2</td>\n",
              "      <td>86.8</td>\n",
              "      <td>75.466667</td>\n",
              "      <td>99.9</td>\n",
              "    </tr>\n",
              "    <tr>\n",
              "      <th>SW-LM</th>\n",
              "      <td>67.8</td>\n",
              "      <td>55.8</td>\n",
              "      <td>67.9</td>\n",
              "      <td>99.5</td>\n",
              "      <td>57.8</td>\n",
              "      <td>65.8</td>\n",
              "      <td>94.1</td>\n",
              "      <td>72.8</td>\n",
              "      <td>87.2</td>\n",
              "      <td>74.300000</td>\n",
              "      <td>99.5</td>\n",
              "    </tr>\n",
              "    <tr>\n",
              "      <th>CO-LM</th>\n",
              "      <td>66.8</td>\n",
              "      <td>55.8</td>\n",
              "      <td>67.9</td>\n",
              "      <td>99.9</td>\n",
              "      <td>59.2</td>\n",
              "      <td>68.7</td>\n",
              "      <td>93.1</td>\n",
              "      <td>64.0</td>\n",
              "      <td>79.2</td>\n",
              "      <td>72.733333</td>\n",
              "      <td>99.9</td>\n",
              "    </tr>\n",
              "    <tr>\n",
              "      <th>SW-CO-LM</th>\n",
              "      <td>67.8</td>\n",
              "      <td>55.8</td>\n",
              "      <td>67.9</td>\n",
              "      <td>99.8</td>\n",
              "      <td>57.8</td>\n",
              "      <td>65.8</td>\n",
              "      <td>90.2</td>\n",
              "      <td>71.9</td>\n",
              "      <td>88.0</td>\n",
              "      <td>73.888889</td>\n",
              "      <td>99.8</td>\n",
              "    </tr>\n",
              "  </tbody>\n",
              "</table>\n",
              "</div>"
            ],
            "text/plain": [
              "          Textblob  Textblob per line  ...   mean_row  max_row\n",
              "Lyrics        70.4               59.7  ...  73.322222     99.8\n",
              "SW            71.2               59.7  ...  76.000000     99.6\n",
              "CO            70.4               59.7  ...  74.366667     99.9\n",
              "LM            66.8               55.8  ...  71.800000     99.8\n",
              "SW-CO         71.2               59.7  ...  75.466667     99.9\n",
              "SW-LM         67.8               55.8  ...  74.300000     99.5\n",
              "CO-LM         66.8               55.8  ...  72.733333     99.9\n",
              "SW-CO-LM      67.8               55.8  ...  73.888889     99.8\n",
              "\n",
              "[8 rows x 11 columns]"
            ]
          },
          "metadata": {
            "tags": []
          }
        },
        {
          "output_type": "display_data",
          "data": {
            "text/html": [
              "<div>\n",
              "<style scoped>\n",
              "    .dataframe tbody tr th:only-of-type {\n",
              "        vertical-align: middle;\n",
              "    }\n",
              "\n",
              "    .dataframe tbody tr th {\n",
              "        vertical-align: top;\n",
              "    }\n",
              "\n",
              "    .dataframe thead th {\n",
              "        text-align: right;\n",
              "    }\n",
              "</style>\n",
              "<table border=\"1\" class=\"dataframe\">\n",
              "  <thead>\n",
              "    <tr style=\"text-align: right;\">\n",
              "      <th></th>\n",
              "      <th>Textblob</th>\n",
              "      <th>Textblob per line</th>\n",
              "      <th>Textblob nonzero</th>\n",
              "      <th>Vader</th>\n",
              "      <th>Vader per line</th>\n",
              "      <th>Vader nonzero</th>\n",
              "      <th>Watson</th>\n",
              "      <th>Watson per line</th>\n",
              "      <th>Watson nonzero</th>\n",
              "      <th>mean_row</th>\n",
              "      <th>max_row</th>\n",
              "    </tr>\n",
              "  </thead>\n",
              "  <tbody>\n",
              "    <tr>\n",
              "      <th>Lyrics</th>\n",
              "      <td>69.4</td>\n",
              "      <td>60.3</td>\n",
              "      <td>72.1</td>\n",
              "      <td>99.6</td>\n",
              "      <td>59.3</td>\n",
              "      <td>62.1</td>\n",
              "      <td>28.8</td>\n",
              "      <td>47.1</td>\n",
              "      <td>46.6</td>\n",
              "      <td>60.588889</td>\n",
              "      <td>99.6</td>\n",
              "    </tr>\n",
              "    <tr>\n",
              "      <th>SW</th>\n",
              "      <td>69.4</td>\n",
              "      <td>60.3</td>\n",
              "      <td>72.1</td>\n",
              "      <td>1.7</td>\n",
              "      <td>51.6</td>\n",
              "      <td>52.0</td>\n",
              "      <td>13.7</td>\n",
              "      <td>38.4</td>\n",
              "      <td>36.9</td>\n",
              "      <td>44.011111</td>\n",
              "      <td>72.1</td>\n",
              "    </tr>\n",
              "    <tr>\n",
              "      <th>CO</th>\n",
              "      <td>69.4</td>\n",
              "      <td>60.3</td>\n",
              "      <td>72.1</td>\n",
              "      <td>99.8</td>\n",
              "      <td>59.3</td>\n",
              "      <td>62.2</td>\n",
              "      <td>65.8</td>\n",
              "      <td>48.1</td>\n",
              "      <td>47.7</td>\n",
              "      <td>64.966667</td>\n",
              "      <td>99.8</td>\n",
              "    </tr>\n",
              "    <tr>\n",
              "      <th>LM</th>\n",
              "      <td>65.5</td>\n",
              "      <td>59.3</td>\n",
              "      <td>67.4</td>\n",
              "      <td>99.6</td>\n",
              "      <td>59.1</td>\n",
              "      <td>61.9</td>\n",
              "      <td>28.2</td>\n",
              "      <td>49.8</td>\n",
              "      <td>49.7</td>\n",
              "      <td>60.055556</td>\n",
              "      <td>99.6</td>\n",
              "    </tr>\n",
              "    <tr>\n",
              "      <th>SW-CO</th>\n",
              "      <td>69.4</td>\n",
              "      <td>60.3</td>\n",
              "      <td>72.1</td>\n",
              "      <td>0.8</td>\n",
              "      <td>51.1</td>\n",
              "      <td>51.5</td>\n",
              "      <td>15.0</td>\n",
              "      <td>38.9</td>\n",
              "      <td>37.4</td>\n",
              "      <td>44.055556</td>\n",
              "      <td>72.1</td>\n",
              "    </tr>\n",
              "    <tr>\n",
              "      <th>SW-LM</th>\n",
              "      <td>65.5</td>\n",
              "      <td>59.3</td>\n",
              "      <td>67.4</td>\n",
              "      <td>1.5</td>\n",
              "      <td>51.5</td>\n",
              "      <td>52.0</td>\n",
              "      <td>14.0</td>\n",
              "      <td>35.2</td>\n",
              "      <td>33.2</td>\n",
              "      <td>42.177778</td>\n",
              "      <td>67.4</td>\n",
              "    </tr>\n",
              "    <tr>\n",
              "      <th>CO-LM</th>\n",
              "      <td>65.5</td>\n",
              "      <td>59.3</td>\n",
              "      <td>67.4</td>\n",
              "      <td>99.8</td>\n",
              "      <td>59.1</td>\n",
              "      <td>61.9</td>\n",
              "      <td>65.7</td>\n",
              "      <td>50.0</td>\n",
              "      <td>50.0</td>\n",
              "      <td>64.300000</td>\n",
              "      <td>99.8</td>\n",
              "    </tr>\n",
              "    <tr>\n",
              "      <th>SW-CO-LM</th>\n",
              "      <td>65.5</td>\n",
              "      <td>59.3</td>\n",
              "      <td>67.4</td>\n",
              "      <td>0.5</td>\n",
              "      <td>51.5</td>\n",
              "      <td>52.0</td>\n",
              "      <td>19.0</td>\n",
              "      <td>40.2</td>\n",
              "      <td>38.9</td>\n",
              "      <td>43.811111</td>\n",
              "      <td>67.4</td>\n",
              "    </tr>\n",
              "  </tbody>\n",
              "</table>\n",
              "</div>"
            ],
            "text/plain": [
              "          Textblob  Textblob per line  ...   mean_row  max_row\n",
              "Lyrics        69.4               60.3  ...  60.588889     99.6\n",
              "SW            69.4               60.3  ...  44.011111     72.1\n",
              "CO            69.4               60.3  ...  64.966667     99.8\n",
              "LM            65.5               59.3  ...  60.055556     99.6\n",
              "SW-CO         69.4               60.3  ...  44.055556     72.1\n",
              "SW-LM         65.5               59.3  ...  42.177778     67.4\n",
              "CO-LM         65.5               59.3  ...  64.300000     99.8\n",
              "SW-CO-LM      65.5               59.3  ...  43.811111     67.4\n",
              "\n",
              "[8 rows x 11 columns]"
            ]
          },
          "metadata": {
            "tags": []
          }
        },
        {
          "output_type": "display_data",
          "data": {
            "text/html": [
              "<div>\n",
              "<style scoped>\n",
              "    .dataframe tbody tr th:only-of-type {\n",
              "        vertical-align: middle;\n",
              "    }\n",
              "\n",
              "    .dataframe tbody tr th {\n",
              "        vertical-align: top;\n",
              "    }\n",
              "\n",
              "    .dataframe thead th {\n",
              "        text-align: right;\n",
              "    }\n",
              "</style>\n",
              "<table border=\"1\" class=\"dataframe\">\n",
              "  <thead>\n",
              "    <tr style=\"text-align: right;\">\n",
              "      <th></th>\n",
              "      <th>Textblob</th>\n",
              "      <th>Textblob per line</th>\n",
              "      <th>Textblob nonzero</th>\n",
              "      <th>Vader</th>\n",
              "      <th>Vader per line</th>\n",
              "      <th>Vader nonzero</th>\n",
              "      <th>Watson</th>\n",
              "      <th>Watson per line</th>\n",
              "      <th>Watson nonzero</th>\n",
              "      <th>mean_row</th>\n",
              "      <th>max_row</th>\n",
              "    </tr>\n",
              "  </thead>\n",
              "  <tbody>\n",
              "    <tr>\n",
              "      <th>Lyrics</th>\n",
              "      <td>71.3</td>\n",
              "      <td>61.2</td>\n",
              "      <td>74.0</td>\n",
              "      <td>99.9</td>\n",
              "      <td>63.3</td>\n",
              "      <td>72.2</td>\n",
              "      <td>83.7</td>\n",
              "      <td>63.1</td>\n",
              "      <td>72.3</td>\n",
              "      <td>73.444444</td>\n",
              "      <td>99.9</td>\n",
              "    </tr>\n",
              "    <tr>\n",
              "      <th>SW</th>\n",
              "      <td>73.7</td>\n",
              "      <td>59.6</td>\n",
              "      <td>73.9</td>\n",
              "      <td>99.8</td>\n",
              "      <td>64.1</td>\n",
              "      <td>73.4</td>\n",
              "      <td>97.3</td>\n",
              "      <td>60.4</td>\n",
              "      <td>65.3</td>\n",
              "      <td>74.166667</td>\n",
              "      <td>99.8</td>\n",
              "    </tr>\n",
              "    <tr>\n",
              "      <th>CO</th>\n",
              "      <td>71.3</td>\n",
              "      <td>61.2</td>\n",
              "      <td>74.0</td>\n",
              "      <td>99.9</td>\n",
              "      <td>63.3</td>\n",
              "      <td>72.2</td>\n",
              "      <td>74.6</td>\n",
              "      <td>63.2</td>\n",
              "      <td>70.2</td>\n",
              "      <td>72.211111</td>\n",
              "      <td>99.9</td>\n",
              "    </tr>\n",
              "    <tr>\n",
              "      <th>LM</th>\n",
              "      <td>71.3</td>\n",
              "      <td>61.2</td>\n",
              "      <td>74.0</td>\n",
              "      <td>99.9</td>\n",
              "      <td>63.8</td>\n",
              "      <td>73.1</td>\n",
              "      <td>84.5</td>\n",
              "      <td>63.8</td>\n",
              "      <td>69.0</td>\n",
              "      <td>73.400000</td>\n",
              "      <td>99.9</td>\n",
              "    </tr>\n",
              "    <tr>\n",
              "      <th>SW-CO</th>\n",
              "      <td>73.7</td>\n",
              "      <td>59.6</td>\n",
              "      <td>73.9</td>\n",
              "      <td>99.8</td>\n",
              "      <td>64.1</td>\n",
              "      <td>73.4</td>\n",
              "      <td>96.6</td>\n",
              "      <td>57.9</td>\n",
              "      <td>61.6</td>\n",
              "      <td>73.400000</td>\n",
              "      <td>99.8</td>\n",
              "    </tr>\n",
              "    <tr>\n",
              "      <th>SW-LM</th>\n",
              "      <td>73.7</td>\n",
              "      <td>59.6</td>\n",
              "      <td>73.9</td>\n",
              "      <td>99.8</td>\n",
              "      <td>64.6</td>\n",
              "      <td>74.3</td>\n",
              "      <td>97.1</td>\n",
              "      <td>60.4</td>\n",
              "      <td>65.3</td>\n",
              "      <td>74.300000</td>\n",
              "      <td>99.8</td>\n",
              "    </tr>\n",
              "    <tr>\n",
              "      <th>CO-LM</th>\n",
              "      <td>71.3</td>\n",
              "      <td>61.2</td>\n",
              "      <td>74.0</td>\n",
              "      <td>99.9</td>\n",
              "      <td>63.8</td>\n",
              "      <td>73.1</td>\n",
              "      <td>74.0</td>\n",
              "      <td>63.9</td>\n",
              "      <td>67.5</td>\n",
              "      <td>72.077778</td>\n",
              "      <td>99.9</td>\n",
              "    </tr>\n",
              "    <tr>\n",
              "      <th>SW-CO-LM</th>\n",
              "      <td>73.7</td>\n",
              "      <td>59.6</td>\n",
              "      <td>73.9</td>\n",
              "      <td>99.8</td>\n",
              "      <td>65.1</td>\n",
              "      <td>75.2</td>\n",
              "      <td>96.6</td>\n",
              "      <td>58.3</td>\n",
              "      <td>62.2</td>\n",
              "      <td>73.822222</td>\n",
              "      <td>99.8</td>\n",
              "    </tr>\n",
              "  </tbody>\n",
              "</table>\n",
              "</div>"
            ],
            "text/plain": [
              "          Textblob  Textblob per line  ...   mean_row  max_row\n",
              "Lyrics        71.3               61.2  ...  73.444444     99.9\n",
              "SW            73.7               59.6  ...  74.166667     99.8\n",
              "CO            71.3               61.2  ...  72.211111     99.9\n",
              "LM            71.3               61.2  ...  73.400000     99.9\n",
              "SW-CO         73.7               59.6  ...  73.400000     99.8\n",
              "SW-LM         73.7               59.6  ...  74.300000     99.8\n",
              "CO-LM         71.3               61.2  ...  72.077778     99.9\n",
              "SW-CO-LM      73.7               59.6  ...  73.822222     99.8\n",
              "\n",
              "[8 rows x 11 columns]"
            ]
          },
          "metadata": {
            "tags": []
          }
        }
      ]
    },
    {
      "cell_type": "markdown",
      "metadata": {
        "id": "hbY8DnR_wPNQ",
        "colab_type": "text"
      },
      "source": [
        "Kinda done with this part. Looks okay for now. Now we got to see if we can get an mp3 version of the song and see if the song sounds sad or happy. "
      ]
    }
  ]
}
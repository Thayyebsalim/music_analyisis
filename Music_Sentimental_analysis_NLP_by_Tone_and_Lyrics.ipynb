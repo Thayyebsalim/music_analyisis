{
  "nbformat": 4,
  "nbformat_minor": 0,
  "metadata": {
    "colab": {
      "name": "Music Sentimental analysis NLP by Tone and Lyrics",
      "provenance": [],
      "collapsed_sections": [],
      "toc_visible": true,
      "authorship_tag": "ABX9TyPpljeDgz35lufzAtsbIcSl",
      "include_colab_link": true
    },
    "kernelspec": {
      "name": "python3",
      "display_name": "Python 3"
    }
  },
  "cells": [
    {
      "cell_type": "markdown",
      "metadata": {
        "id": "view-in-github",
        "colab_type": "text"
      },
      "source": [
        "<a href=\"https://colab.research.google.com/github/Thayyebsalim/music_analyisis/blob/master/Music_Sentimental_analysis_NLP_by_Tone_and_Lyrics.ipynb\" target=\"_parent\"><img src=\"https://colab.research.google.com/assets/colab-badge.svg\" alt=\"Open In Colab\"/></a>"
      ]
    },
    {
      "cell_type": "markdown",
      "metadata": {
        "id": "AkAoDSqOzD2u",
        "colab_type": "text"
      },
      "source": [
        "# Intro\n",
        "\n",
        "The idea of this code is to find the mood of the song in any way possible helping us to segregate songs better.\n",
        "\n",
        "1.   First part is gonna be scraping the lyrics from any website or API \n",
        "2.   Finding the vibe of the song with sentimental analysis\n",
        "3.   Fetch and mp3 version and check the mood with transfer learning hopefully or something similar\n",
        "\n"
      ]
    },
    {
      "cell_type": "code",
      "metadata": {
        "id": "obWgGCfq6ALb",
        "colab_type": "code",
        "colab": {
          "base_uri": "https://localhost:8080/",
          "height": 1000
        },
        "outputId": "74e588ec-20b9-4932-e46e-845e3d4ddbbc"
      },
      "source": [
        "!apt-get update\n",
        "!apt install chromium-chromedriver\n",
        "!cp /usr/lib/chromium-browser/chromedriver /usr/bin\n",
        "!pip install selenium"
      ],
      "execution_count": null,
      "outputs": [
        {
          "output_type": "stream",
          "text": [
            "\r0% [Working]\r            \rGet:1 https://cloud.r-project.org/bin/linux/ubuntu bionic-cran35/ InRelease [3,626 B]\n",
            "\r0% [Connecting to archive.ubuntu.com] [Connecting to security.ubuntu.com (91.18\r0% [Connecting to archive.ubuntu.com] [Connecting to security.ubuntu.com (91.18\r0% [1 InRelease gpgv 3,626 B] [Connecting to archive.ubuntu.com] [Connecting to\r                                                                               \rIgn:2 https://developer.download.nvidia.com/compute/cuda/repos/ubuntu1804/x86_64  InRelease\n",
            "\r0% [1 InRelease gpgv 3,626 B] [Connecting to archive.ubuntu.com] [Waiting for h\r0% [Connecting to archive.ubuntu.com (91.189.88.152)] [Waiting for headers] [Wa\r                                                                               \rGet:3 http://security.ubuntu.com/ubuntu bionic-security InRelease [88.7 kB]\n",
            "\r0% [Connecting to archive.ubuntu.com (91.189.88.152)] [3 InRelease 5,482 B/88.7\r                                                                               \rIgn:4 https://developer.download.nvidia.com/compute/machine-learning/repos/ubuntu1804/x86_64  InRelease\n",
            "\r0% [Connecting to archive.ubuntu.com (91.189.88.152)] [3 InRelease 14.2 kB/88.7\r                                                                               \rGet:5 https://developer.download.nvidia.com/compute/cuda/repos/ubuntu1804/x86_64  Release [697 B]\n",
            "\r0% [Connecting to archive.ubuntu.com (91.189.88.152)] [3 InRelease 14.2 kB/88.7\r0% [Connecting to archive.ubuntu.com (91.189.88.152)] [3 InRelease 14.2 kB/88.7\r                                                                               \rHit:6 https://developer.download.nvidia.com/compute/machine-learning/repos/ubuntu1804/x86_64  Release\n",
            "\r0% [Connecting to archive.ubuntu.com (91.189.88.152)] [3 InRelease 14.2 kB/88.7\r0% [Release.gpg gpgv 564 B] [Connecting to archive.ubuntu.com (91.189.88.152)] \r                                                                               \rHit:7 http://ppa.launchpad.net/graphics-drivers/ppa/ubuntu bionic InRelease\n",
            "Get:8 https://developer.download.nvidia.com/compute/cuda/repos/ubuntu1804/x86_64  Release.gpg [836 B]\n",
            "Hit:10 http://archive.ubuntu.com/ubuntu bionic InRelease\n",
            "Get:11 http://ppa.launchpad.net/marutter/c2d4u3.5/ubuntu bionic InRelease [15.4 kB]\n",
            "Get:12 http://archive.ubuntu.com/ubuntu bionic-updates InRelease [88.7 kB]\n",
            "Ign:13 https://developer.download.nvidia.com/compute/cuda/repos/ubuntu1804/x86_64  Packages\n",
            "Get:13 https://developer.download.nvidia.com/compute/cuda/repos/ubuntu1804/x86_64  Packages [255 kB]\n",
            "Get:14 http://security.ubuntu.com/ubuntu bionic-security/restricted amd64 Packages [101 kB]\n",
            "Get:15 http://archive.ubuntu.com/ubuntu bionic-backports InRelease [74.6 kB]\n",
            "Get:16 http://security.ubuntu.com/ubuntu bionic-security/universe amd64 Packages [890 kB]\n",
            "Get:17 http://ppa.launchpad.net/marutter/c2d4u3.5/ubuntu bionic/main Sources [1,857 kB]\n",
            "Get:18 http://archive.ubuntu.com/ubuntu bionic-updates/multiverse amd64 Packages [27.4 kB]\n",
            "Get:19 http://archive.ubuntu.com/ubuntu bionic-updates/universe amd64 Packages [1,417 kB]\n",
            "Get:20 http://security.ubuntu.com/ubuntu bionic-security/main amd64 Packages [1,043 kB]\n",
            "Get:21 http://security.ubuntu.com/ubuntu bionic-security/multiverse amd64 Packages [9,834 B]\n",
            "Get:22 http://archive.ubuntu.com/ubuntu bionic-updates/restricted amd64 Packages [117 kB]\n",
            "Get:23 http://archive.ubuntu.com/ubuntu bionic-updates/main amd64 Packages [1,341 kB]\n",
            "Get:24 http://ppa.launchpad.net/marutter/c2d4u3.5/ubuntu bionic/main amd64 Packages [896 kB]\n",
            "Fetched 8,227 kB in 6s (1,414 kB/s)\n",
            "Reading package lists... Done\n",
            "Reading package lists... Done\n",
            "Building dependency tree       \n",
            "Reading state information... Done\n",
            "The following package was automatically installed and is no longer required:\n",
            "  libnvidia-common-440\n",
            "Use 'apt autoremove' to remove it.\n",
            "The following additional packages will be installed:\n",
            "  chromium-browser chromium-browser-l10n chromium-codecs-ffmpeg-extra\n",
            "Suggested packages:\n",
            "  webaccounts-chromium-extension unity-chromium-extension adobe-flashplugin\n",
            "The following NEW packages will be installed:\n",
            "  chromium-browser chromium-browser-l10n chromium-chromedriver\n",
            "  chromium-codecs-ffmpeg-extra\n",
            "0 upgraded, 4 newly installed, 0 to remove and 60 not upgraded.\n",
            "Need to get 76.2 MB of archives.\n",
            "After this operation, 255 MB of additional disk space will be used.\n",
            "Get:1 http://archive.ubuntu.com/ubuntu bionic-updates/universe amd64 chromium-codecs-ffmpeg-extra amd64 84.0.4147.105-0ubuntu0.18.04.1 [1,118 kB]\n",
            "Get:2 http://archive.ubuntu.com/ubuntu bionic-updates/universe amd64 chromium-browser amd64 84.0.4147.105-0ubuntu0.18.04.1 [67.4 MB]\n",
            "Get:3 http://archive.ubuntu.com/ubuntu bionic-updates/universe amd64 chromium-browser-l10n all 84.0.4147.105-0ubuntu0.18.04.1 [3,379 kB]\n",
            "Get:4 http://archive.ubuntu.com/ubuntu bionic-updates/universe amd64 chromium-chromedriver amd64 84.0.4147.105-0ubuntu0.18.04.1 [4,354 kB]\n",
            "Fetched 76.2 MB in 9s (8,873 kB/s)\n",
            "Selecting previously unselected package chromium-codecs-ffmpeg-extra.\n",
            "(Reading database ... 144487 files and directories currently installed.)\n",
            "Preparing to unpack .../chromium-codecs-ffmpeg-extra_84.0.4147.105-0ubuntu0.18.04.1_amd64.deb ...\n",
            "Unpacking chromium-codecs-ffmpeg-extra (84.0.4147.105-0ubuntu0.18.04.1) ...\n",
            "Selecting previously unselected package chromium-browser.\n",
            "Preparing to unpack .../chromium-browser_84.0.4147.105-0ubuntu0.18.04.1_amd64.deb ...\n",
            "Unpacking chromium-browser (84.0.4147.105-0ubuntu0.18.04.1) ...\n",
            "Selecting previously unselected package chromium-browser-l10n.\n",
            "Preparing to unpack .../chromium-browser-l10n_84.0.4147.105-0ubuntu0.18.04.1_all.deb ...\n",
            "Unpacking chromium-browser-l10n (84.0.4147.105-0ubuntu0.18.04.1) ...\n",
            "Selecting previously unselected package chromium-chromedriver.\n",
            "Preparing to unpack .../chromium-chromedriver_84.0.4147.105-0ubuntu0.18.04.1_amd64.deb ...\n",
            "Unpacking chromium-chromedriver (84.0.4147.105-0ubuntu0.18.04.1) ...\n",
            "Setting up chromium-codecs-ffmpeg-extra (84.0.4147.105-0ubuntu0.18.04.1) ...\n",
            "Setting up chromium-browser (84.0.4147.105-0ubuntu0.18.04.1) ...\n",
            "update-alternatives: using /usr/bin/chromium-browser to provide /usr/bin/x-www-browser (x-www-browser) in auto mode\n",
            "update-alternatives: using /usr/bin/chromium-browser to provide /usr/bin/gnome-www-browser (gnome-www-browser) in auto mode\n",
            "Setting up chromium-chromedriver (84.0.4147.105-0ubuntu0.18.04.1) ...\n",
            "Setting up chromium-browser-l10n (84.0.4147.105-0ubuntu0.18.04.1) ...\n",
            "Processing triggers for hicolor-icon-theme (0.17-2) ...\n",
            "Processing triggers for mime-support (3.60ubuntu1) ...\n",
            "Processing triggers for man-db (2.8.3-2ubuntu0.1) ...\n",
            "cp: '/usr/lib/chromium-browser/chromedriver' and '/usr/bin/chromedriver' are the same file\n",
            "Collecting selenium\n",
            "\u001b[?25l  Downloading https://files.pythonhosted.org/packages/80/d6/4294f0b4bce4de0abf13e17190289f9d0613b0a44e5dd6a7f5ca98459853/selenium-3.141.0-py2.py3-none-any.whl (904kB)\n",
            "\u001b[K     |████████████████████████████████| 911kB 2.7MB/s \n",
            "\u001b[?25hRequirement already satisfied: urllib3 in /usr/local/lib/python3.6/dist-packages (from selenium) (1.24.3)\n",
            "Installing collected packages: selenium\n",
            "Successfully installed selenium-3.141.0\n"
          ],
          "name": "stdout"
        }
      ]
    },
    {
      "cell_type": "code",
      "metadata": {
        "id": "4PBJk7r18r6s",
        "colab_type": "code",
        "colab": {
          "base_uri": "https://localhost:8080/",
          "height": 170
        },
        "outputId": "b6460ae8-b9f4-4d21-93f1-5077af876f37"
      },
      "source": [
        "from selenium import webdriver\n",
        "from selenium.webdriver.common.keys import Keys\n",
        "from selenium.webdriver.chrome.options import Options\n",
        "import re\n",
        "import time\n",
        "import string\n",
        "from textblob import TextBlob\n",
        "import nltk\n",
        "from nltk.corpus import stopwords\n",
        "from nltk.tokenize import word_tokenize\n",
        "from nltk.stem import WordNetLemmatizer\n",
        "nltk.download(\"brown\")\n",
        "nltk.download('stopwords')\n",
        "nltk.download(\"wordnet\")\n",
        "nltk.download(\"punkt\")"
      ],
      "execution_count": null,
      "outputs": [
        {
          "output_type": "stream",
          "text": [
            "[nltk_data] Downloading package brown to /root/nltk_data...\n",
            "[nltk_data]   Unzipping corpora/brown.zip.\n",
            "[nltk_data] Downloading package stopwords to /root/nltk_data...\n",
            "[nltk_data]   Unzipping corpora/stopwords.zip.\n",
            "[nltk_data] Downloading package wordnet to /root/nltk_data...\n",
            "[nltk_data]   Unzipping corpora/wordnet.zip.\n",
            "[nltk_data] Downloading package punkt to /root/nltk_data...\n",
            "[nltk_data]   Unzipping tokenizers/punkt.zip.\n"
          ],
          "name": "stdout"
        },
        {
          "output_type": "execute_result",
          "data": {
            "text/plain": [
              "True"
            ]
          },
          "metadata": {
            "tags": []
          },
          "execution_count": 2
        }
      ]
    },
    {
      "cell_type": "markdown",
      "metadata": {
        "id": "yk92NQA_xnRY",
        "colab_type": "text"
      },
      "source": [
        "We need to scrape the song lyrics from websites or API to use here\n",
        "\n",
        "I am using selenium here and the speed is not the best at the moment so I might switch to scrapy or use an API"
      ]
    },
    {
      "cell_type": "code",
      "metadata": {
        "id": "XkOMR1z_4gAT",
        "colab_type": "code",
        "colab": {}
      },
      "source": [
        "chrome_options = Options()\n",
        "chrome_options.add_argument('--headless')\n",
        "chrome_options.add_argument('--no-sandbox')\n",
        "chrome_options.add_argument('--disable-dev-shm-usage')\n",
        "\n",
        "\n",
        "def get_track(): # Gets track name from user and converts it so that we can use it in a link\n",
        "  track_name = input(\"Enter a track name: \")\n",
        "  track_name_link = track_name.rstrip().replace(\" \",\"%20\").lower()\n",
        "  return track_name_link\n",
        "\n",
        "\n",
        "def scrape_tracklist(track_link): # Scrapes the page for list of tracks with similar names or such \n",
        "  driver = webdriver.Chrome(chrome_options=chrome_options)\n",
        "  driver.get(\"https://www.musixmatch.com/search/\" + track_link + \"/tracks\")\n",
        "  element = driver.find_element_by_class_name(\"box-content\")\n",
        "  link_list = [i.get_attribute('href') for i in element.find_elements_by_tag_name('a')]\n",
        "  driver.close()\n",
        "  lyric_links=[i for i in link_list if re.search(\"/lyrics/\",i)] #could do it in one line but for the sake of clarity, I'm gonna do two\n",
        "  lyric_links=[i for i in lyric_links if not re.search(\"/add\",i)]\n",
        "  return lyric_links\n",
        "\n",
        "\n",
        "def scrape_lyrics(lyric_links_list,choice): # Scrapes the lyrics element\n",
        "  driver = webdriver.Chrome(chrome_options=chrome_options)\n",
        "  driver.get(lyric_links_list[choice])\n",
        "  lyric_elem=driver.find_elements_by_class_name('mxm-lyrics__content')\n",
        "  lyric_elem= [i.find_element_by_tag_name('span') for i in lyric_elem] \n",
        "  lyric_elem= [i.get_attribute('innerHTML') for i in lyric_elem]\n",
        "  driver.close()\n",
        "  return lyric_elem\n",
        "\n",
        "\n",
        "def select_track(artist_track_list): # Lets the user select a track\n",
        "  sel=0\n",
        "  for track in artist_track_list:\n",
        "    print(f\"{track[0]+1} {track[1]} - {track[2]}\")\n",
        "  sel=int(input('Enter the number of your desired track: '))-1\n",
        "  return sel\n",
        "\n",
        "\n",
        "def get_lyric_element(tracklist,choice=0): # Cleans up the lyric element and returns a cleaned list(array) with just lyrics inside\n",
        "  lyric_links_list = scrape_tracklist(track_link)\n",
        "  artist_track_list = [[lyric_links_list.index(x), x.split(\"/\")[4],x.split('/')[5]] for x in lyric_links_list]\n",
        "  print(artist_track_list)\n",
        "  if len(artist_track_list) > 1 and choice != \"default\":\n",
        "    choice = select_track(artist_track_list)\n",
        "  elif len(artist_track_list) == 0 :\n",
        "    return \"Sorry! no such song\"\n",
        "  else:\n",
        "    choice=0\n",
        "  lyric_element = scrape_lyrics(lyric_links_list,choice)\n",
        "  return \" \".join(lyric_element)\n",
        "\n"
      ],
      "execution_count": null,
      "outputs": []
    },
    {
      "cell_type": "code",
      "metadata": {
        "id": "o17rodiA74ZK",
        "colab_type": "code",
        "colab": {}
      },
      "source": [
        "track_name= \"when i was your man\"\n",
        "track_link=track_name.rstrip().replace(\" \",\"%20\").lower()\n",
        "#track_link=get_track() #uncomment to activate function"
      ],
      "execution_count": null,
      "outputs": []
    },
    {
      "cell_type": "code",
      "metadata": {
        "id": "KTVwTxTAUAET",
        "colab_type": "code",
        "colab": {
          "base_uri": "https://localhost:8080/",
          "height": 208
        },
        "outputId": "67c3df3b-4ece-4136-964f-fdbf4f84fbe1"
      },
      "source": [
        "lyric_element = get_lyric_element(track_link,\"default\")\n",
        "lyric_element"
      ],
      "execution_count": null,
      "outputs": [
        {
          "output_type": "stream",
          "text": [
            "/usr/local/lib/python3.6/dist-packages/ipykernel_launcher.py:14: DeprecationWarning: use options instead of chrome_options\n",
            "  \n"
          ],
          "name": "stderr"
        },
        {
          "output_type": "stream",
          "text": [
            "[[0, 'Bruno-Mars', 'When-I-Was-Your-Man'], [1, 'Andrew-Wyatt-Philip-Lawrence-Bruno-Mars-Ari-Levine-Martin-Ermen', 'When-I-Was-Your-Man'], [2, 'Bruno-Mars-feat-Daniel-Philo', 'When-I-Was-Your-Man-Acoustic-Cover'], [3, 'Boyce-Avenue-feat-Fifth-Harmony', 'When-I-Was-Your-Man'], [4, 'Rod-Stewart', 'When-I-Was-Your-Man'], [5, 'The-Temptations', 'When-I-Was-Your-Man'], [6, 'Jasmine-Thompson', 'When-I-Was-Your-Man'], [7, 'Thomas-Rhett', 'When-I-Was-Your-Man'], [8, 'PelleK', 'When-I-Was-Your-Man'], [9, 'BTOB', '%EB%82%B4%EA%B0%80-%EB%8B%88-%EB%82%A8%EC%9E%90%EC%98%80%EC%9D%84-%EB%95%8C'], [10, 'MAX-36', 'When-I-Was-Your-Man-Acoustic'], [11, 'Anthem-Lights', 'Treasure-When-I-Was-Your-Man'], [12, 'BTOB', 'When-I-Was-Your-Man'], [13, 'Lu-Robertinho', 'When-I-Was-Your-Man-Quando-Amanhecer'], [14, 'Fer-Palacio', 'When-I-Was-Your-Man'], [15, 'Rockabye-Baby', 'When-I-Was-Your-Man'], [16, 'Tyler-Ward', 'When-I-Was-Your-Man-acoustic'], [17, 'Various-Artists', 'When-I-Was-Your-Man'], [18, 'Twinkle-Twinkle-Little-Rock-Star', 'When-I-Was-Your-Man'], [19, 'Piano-Dreamers', 'When-I-Was-Your-Man'], [20, 'Davina-Michelle', 'When-I-Was-Your-Man'], [21, 'Sam-Tsui', 'When-I-Was-Your-Man'], [22, 'Alexander-Stewart', 'When-I-Was-Your-Man'], [23, 'Jason-Chen', 'When-I-Was-Your-Man'], [24, 'Noah-Guthrie', 'When-I-Was-Your-Man'], [25, 'Daniel-Chia', 'When-I-Was-Your-Man'], [26, 'OMJamie', 'When-I-Was-Your-Man-Violin-Cover'], [27, 'J-Rice', 'When-I-Was-Your-Man'], [28, 'Midnite-String-Quartet', 'When-I-Was-Your-Man'], [29, 'Chiara-Grispo', 'When-I-Was-Your-Man']]\n"
          ],
          "name": "stdout"
        },
        {
          "output_type": "stream",
          "text": [
            "/usr/local/lib/python3.6/dist-packages/ipykernel_launcher.py:25: DeprecationWarning: use options instead of chrome_options\n"
          ],
          "name": "stderr"
        },
        {
          "output_type": "execute_result",
          "data": {
            "application/vnd.google.colaboratory.intrinsic+json": {
              "type": "string"
            },
            "text/plain": [
              "\"Same bed but it feels just a little bit bigger now\\nOur song on the radio but it don't sound the same\\nWhen our friends talk about you All it does is just tear me down\\n'Cause my heart breaks a little\\nWhen I hear your name\\n\\nIt all just sounds like ooh-ooh, ooh-ooh\\nMmm, too young, too dumb to realize\\n\\nThat I should've bought you flowers\\nAnd held your hand\\nShould've gave you all my hours\\nWhen I had the chance\\nTake you to every party\\n'Cause all you wanted to do was dance\\nNow my baby's dancing\\nBut she's dancing with another man\\n\\nMy pride, my ego, my needs, and my selfish ways\\nCaused a good strong woman like you\\nTo walk out my life\\nNow I never, never get to clean up the mess I made\\nAnd it haunts me every time I close my eyes\\n\\nIt all just sounds like ooh-ooh, ooh-ooh\\nMmm, too young, too dumb to realize\\n\\nThat I should've bought you flowers\\nAnd held your hand\\nShould've gave you all my hours\\nWhen I had the chance\\nTake you to every party\\n'Cause all you wanted to do was dance\\nNow my baby's dancing\\nBut she's dancing with another man\\n\\nAlthough it hurts\\nI'll be the first to say that I was wrong\\nOh, I know I'm probably much too late\\nTo try and apologize for my mistakes\\nBut I just want you to know\\n\\nI hope he buys you flowers\\nI hope he holds your hand\\nGive you all his hours\\nWhen he has the chance\\nTake to every party\\n'Cause I remember how much you loved to dance\\nDo all the things I should have done\\nWhen I was your man\\n\\nDo all the things I should have done\\nWhen I was your man\""
            ]
          },
          "metadata": {
            "tags": []
          },
          "execution_count": 12
        }
      ]
    },
    {
      "cell_type": "code",
      "metadata": {
        "id": "HtaPpv-5FT3q",
        "colab_type": "code",
        "colab": {
          "base_uri": "https://localhost:8080/",
          "height": 35
        },
        "outputId": "cff97a72-6b16-4581-dfaf-042ff7323fa0"
      },
      "source": [
        "\"\"\"\n",
        "tracks_queue=[]\n",
        "for track in tracks_queue:\n",
        "  \n",
        "\"\"\""
      ],
      "execution_count": null,
      "outputs": [
        {
          "output_type": "execute_result",
          "data": {
            "application/vnd.google.colaboratory.intrinsic+json": {
              "type": "string"
            },
            "text/plain": [
              "'\\ntracks_queue=[]\\nfor track in tracks_queue:\\n  \\n'"
            ]
          },
          "metadata": {
            "tags": []
          },
          "execution_count": 6
        }
      ]
    },
    {
      "cell_type": "markdown",
      "metadata": {
        "id": "Az7OLBSnNByw",
        "colab_type": "text"
      },
      "source": [
        "The first part is done, web scraper should work fine. I did not implement error cases for now becuase I want to focus on the next two parts of the project\n"
      ]
    },
    {
      "cell_type": "code",
      "metadata": {
        "id": "GELVKlJmQhXm",
        "colab_type": "code",
        "colab": {}
      },
      "source": [
        "#joiner\n",
        "def convert_arr_to_str(arr):\n",
        "  return \" \".join(arr)"
      ],
      "execution_count": null,
      "outputs": []
    },
    {
      "cell_type": "code",
      "metadata": {
        "id": "LQue7oEkLt6c",
        "colab_type": "code",
        "colab": {
          "base_uri": "https://localhost:8080/",
          "height": 198
        },
        "outputId": "f4ad2a25-d155-4189-b11e-f9f67c67084a"
      },
      "source": [
        "lyrics_as_array= filter_raw_lyrics(lyric_element)\n",
        "lyrics=convert_arr_to_str(lyrics_as_array) #returns a single string as lyrics\n",
        "lyrics,lyrics_as_array"
      ],
      "execution_count": 8,
      "outputs": [
        {
          "output_type": "error",
          "ename": "NameError",
          "evalue": "ignored",
          "traceback": [
            "\u001b[0;31m---------------------------------------------------------------------------\u001b[0m",
            "\u001b[0;31mNameError\u001b[0m                                 Traceback (most recent call last)",
            "\u001b[0;32m<ipython-input-8-6190fe2a38a5>\u001b[0m in \u001b[0;36m<module>\u001b[0;34m()\u001b[0m\n\u001b[0;32m----> 1\u001b[0;31m \u001b[0mlyrics_as_array\u001b[0m\u001b[0;34m=\u001b[0m \u001b[0mfilter_raw_lyrics\u001b[0m\u001b[0;34m(\u001b[0m\u001b[0mlyric_element\u001b[0m\u001b[0;34m)\u001b[0m\u001b[0;34m\u001b[0m\u001b[0;34m\u001b[0m\u001b[0m\n\u001b[0m\u001b[1;32m      2\u001b[0m \u001b[0mlyrics\u001b[0m\u001b[0;34m=\u001b[0m\u001b[0mconvert_arr_to_str\u001b[0m\u001b[0;34m(\u001b[0m\u001b[0mlyrics_as_array\u001b[0m\u001b[0;34m)\u001b[0m \u001b[0;31m#returns a single string as lyrics\u001b[0m\u001b[0;34m\u001b[0m\u001b[0;34m\u001b[0m\u001b[0m\n\u001b[1;32m      3\u001b[0m \u001b[0mlyrics\u001b[0m\u001b[0;34m,\u001b[0m\u001b[0mlyrics_as_array\u001b[0m\u001b[0;34m\u001b[0m\u001b[0;34m\u001b[0m\u001b[0m\n",
            "\u001b[0;31mNameError\u001b[0m: name 'filter_raw_lyrics' is not defined"
          ]
        }
      ]
    },
    {
      "cell_type": "code",
      "metadata": {
        "id": "IxXXnyRFQ7xs",
        "colab_type": "code",
        "colab": {}
      },
      "source": [
        ""
      ],
      "execution_count": null,
      "outputs": []
    },
    {
      "cell_type": "code",
      "metadata": {
        "id": "TYQlJjY2Qg1v",
        "colab_type": "code",
        "colab": {}
      },
      "source": [
        "def filter_raw_lyrics(raw_lyr): #The scraped element has blanks and \\n's lets filter those \n",
        "  return [i for i in raw_lyr.split(\"\\n\") if i != '']"
      ],
      "execution_count": null,
      "outputs": []
    },
    {
      "cell_type": "code",
      "metadata": {
        "id": "WQ9YEM_1kDvf",
        "colab_type": "code",
        "colab": {}
      },
      "source": [
        "def swfilter(word): #function we use in filter()\n",
        "  return word not in stopwords.words()\n",
        "\n",
        "def remove_stopword(lyr_arr):\n",
        "  return [\" \".join(filter(swfilter,sentence.split())) for sentence in lyrics_as_array]"
      ],
      "execution_count": null,
      "outputs": []
    },
    {
      "cell_type": "code",
      "metadata": {
        "id": "HRDkBDQ3M43H",
        "colab_type": "code",
        "colab": {}
      },
      "source": [
        "contractions = { \n",
        "\"ain't\": \"am not / are not / is not / has not / have not\",\n",
        "\"aren't\": \"are not / am not\",\n",
        "\"can't\": \"cannot\",\n",
        "\"can't've\": \"cannot have\",\n",
        "\"'cause\": \"because\",\n",
        "\"could've\": \"could have\",\n",
        "\"couldn't\": \"could not\",\n",
        "\"couldn't've\": \"could not have\",\n",
        "\"didn't\": \"did not\",\n",
        "\"doesn't\": \"does not\",\n",
        "\"don't\": \"do not\",\n",
        "\"hadn't\": \"had not\",\n",
        "\"hadn't've\": \"had not have\",\n",
        "\"hasn't\": \"has not\",\n",
        "\"haven't\": \"have not\",\n",
        "\"he'd\": \"he had / he would\",\n",
        "\"he'd've\": \"he would have\",\n",
        "\"he'll\": \"he shall / he will\",\n",
        "\"he'll've\": \"he shall have / he will have\",\n",
        "\"he's\": \"he has / he is\",\n",
        "\"how'd\": \"how did\",\n",
        "\"how'd'y\": \"how do you\",\n",
        "\"how'll\": \"how will\",\n",
        "\"how's\": \"how has / how is / how does\",\n",
        "\"I'd\": \"I had / I would\",\n",
        "\"I'd've\": \"I would have\",\n",
        "\"I'll\": \"I shall / I will\",\n",
        "\"I'll've\": \"I shall have / I will have\",\n",
        "\"I'm\": \"I am\",\n",
        "\"I've\": \"I have\",\n",
        "\"isn't\": \"is not\",\n",
        "\"it'd\": \"it had / it would\",\n",
        "\"it'd've\": \"it would have\",\n",
        "\"it'll\": \"it shall / it will\",\n",
        "\"it'll've\": \"it shall have / it will have\",\n",
        "\"it's\": \"it has / it is\",\n",
        "\"let's\": \"let us\",\n",
        "\"ma'am\": \"madam\",\n",
        "\"mayn't\": \"may not\",\n",
        "\"might've\": \"might have\",\n",
        "\"mightn't\": \"might not\",\n",
        "\"mightn't've\": \"might not have\",\n",
        "\"must've\": \"must have\",\n",
        "\"mustn't\": \"must not\",\n",
        "\"mustn't've\": \"must not have\",\n",
        "\"needn't\": \"need not\",\n",
        "\"needn't've\": \"need not have\",\n",
        "\"o'clock\": \"of the clock\",\n",
        "\"oughtn't\": \"ought not\",\n",
        "\"oughtn't've\": \"ought not have\",\n",
        "\"shan't\": \"shall not\",\n",
        "\"sha'n't\": \"shall not\",\n",
        "\"shan't've\": \"shall not have\",\n",
        "\"she'd\": \"she had / she would\",\n",
        "\"she'd've\": \"she would have\",\n",
        "\"she'll\": \"she shall / she will\",\n",
        "\"she'll've\": \"she shall have / she will have\",\n",
        "\"she's\": \"she has / she is\",\n",
        "\"should've\": \"should have\",\n",
        "\"shouldn't\": \"should not\",\n",
        "\"shouldn't've\": \"should not have\",\n",
        "\"so've\": \"so have\",\n",
        "\"so's\": \"so as / so is\",\n",
        "\"that'd\": \"that would / that had\",\n",
        "\"that'd've\": \"that would have\",\n",
        "\"that's\": \"that has / that is\",\n",
        "\"there'd\": \"there had / there would\",\n",
        "\"there'd've\": \"there would have\",\n",
        "\"there's\": \"there has / there is\",\n",
        "\"they'd\": \"they had / they would\",\n",
        "\"they'd've\": \"they would have\",\n",
        "\"they'll\": \"they shall / they will\",\n",
        "\"they'll've\": \"they shall have / they will have\",\n",
        "\"they're\": \"they are\",\n",
        "\"they've\": \"they have\",\n",
        "\"to've\": \"to have\",\n",
        "\"wasn't\": \"was not\",\n",
        "\"we'd\": \"we had / we would\",\n",
        "\"we'd've\": \"we would have\",\n",
        "\"we'll\": \"we will\",\n",
        "\"we'll've\": \"we will have\",\n",
        "\"we're\": \"we are\",\n",
        "\"we've\": \"we have\",\n",
        "\"weren't\": \"were not\",\n",
        "\"what'll\": \"what shall / what will\",\n",
        "\"what'll've\": \"what shall have / what will have\",\n",
        "\"what're\": \"what are\",\n",
        "\"what's\": \"what has / what is\",\n",
        "\"what've\": \"what have\",\n",
        "\"when's\": \"when has / when is\",\n",
        "\"when've\": \"when have\",\n",
        "\"where'd\": \"where did\",\n",
        "\"where's\": \"where has / where is\",\n",
        "\"where've\": \"where have\",\n",
        "\"who'll\": \"who shall / who will\",\n",
        "\"who'll've\": \"who shall have / who will have\",\n",
        "\"who's\": \"who has / who is\",\n",
        "\"who've\": \"who have\",\n",
        "\"why's\": \"why has / why is\",\n",
        "\"why've\": \"why have\",\n",
        "\"will've\": \"will have\",\n",
        "\"won't\": \"will not\",\n",
        "\"won't've\": \"will not have\",\n",
        "\"would've\": \"would have\",\n",
        "\"wouldn't\": \"would not\",\n",
        "\"wouldn't've\": \"would not have\",\n",
        "\"y'all\": \"you all\",\n",
        "\"y'all'd\": \"you all would\",\n",
        "\"y'all'd've\": \"you all would have\",\n",
        "\"y'all're\": \"you all are\",\n",
        "\"y'all've\": \"you all have\",\n",
        "\"you'd\": \"you had / you would\",\n",
        "\"you'd've\": \"you would have\",\n",
        "\"you'll\": \"you shall / you will\",\n",
        "\"you'll've\": \"you shall have / you will have\",\n",
        "\"you're\": \"you are\",\n",
        "\"you've\": \"you have\"\n",
        "}\n",
        "\n",
        "def contraction(word): #function we use in map()\n",
        "  word=word.lower()\n",
        "  if word in contractions:\n",
        "    return contractions[word]\n",
        "  else: \n",
        "    return word\n",
        "\n",
        "def remove_contraction(lyr_arr):\n",
        "  return [\" \".join(map(contraction, sentence.split())) for sentence in lyr_arr]"
      ],
      "execution_count": null,
      "outputs": []
    },
    {
      "cell_type": "code",
      "metadata": {
        "id": "jppaYBrLTYI5",
        "colab_type": "code",
        "colab": {}
      },
      "source": [
        ""
      ],
      "execution_count": null,
      "outputs": []
    },
    {
      "cell_type": "code",
      "metadata": {
        "id": "81XZnqaATb6C",
        "colab_type": "code",
        "colab": {}
      },
      "source": [
        "#\n",
        "# Returns all transformed arrays and further maps the arrays \n",
        "\n",
        "def get_lyric_arrays(lyr_elt):\n",
        "  lyr_arr=filter_raw_lyrics(lyr_elt)\n",
        "  return [lyr_arr,remove_stopword(lyr_arr),remove_contraction(lyr_arr)]\n",
        "\n",
        "def get_lyrics(arr):\n",
        "  return list(map(convert_arr_to_str,arr))\n",
        "\n",
        "get_lyric_arrays(lyric_element) #returns a tuple with 3 items lyrics, lyrics without stop wordsm \n",
        "v=get_lyrics(get_lyric_arrays(lyric_element))\n",
        "v\n",
        "#\"\"\""
      ],
      "execution_count": null,
      "outputs": []
    },
    {
      "cell_type": "code",
      "metadata": {
        "id": "FLhCSifKh7Du",
        "colab_type": "code",
        "colab": {}
      },
      "source": [
        "lyrics_as_array_without_sw = remove_stopword(lyrics_as_array)\n",
        "lyrics_without_sw = convert_arr_to_str(lyrics_as_array_without_sw)\n",
        "lyrics_as_array_without_sw,lyrics_without_sw"
      ],
      "execution_count": null,
      "outputs": []
    },
    {
      "cell_type": "code",
      "metadata": {
        "id": "5seAWVkpLsIO",
        "colab_type": "code",
        "colab": {}
      },
      "source": [
        "lyrics_as_array_without_contraction = remove_contraction(lyrics_as_array)\n",
        "lyrics_without_contraction = convert_arr_to_str(lyrics_as_array_without_contraction)\n",
        "lyrics_as_array_without_contraction,lyrics_without_contraction"
      ],
      "execution_count": null,
      "outputs": []
    },
    {
      "cell_type": "code",
      "metadata": {
        "id": "08m1khdPO7HI",
        "colab_type": "code",
        "colab": {}
      },
      "source": [
        "wordnet_lemmatizer = WordNetLemmatizer()\n",
        "\n",
        "def map_lemmatize(word):\n",
        "  return wordnet_lemmatizer.lemmatize(word, pos=\"v\")\n",
        "\n",
        "x=\" \".join(map(map_lemmatize,lyrics.split()))\n",
        "x"
      ],
      "execution_count": null,
      "outputs": []
    },
    {
      "cell_type": "code",
      "metadata": {
        "id": "anVc9rkLdC3K",
        "colab_type": "code",
        "colab": {}
      },
      "source": [
        "for i in v:\n",
        "  print(Sentiment_score(i))\n",
        "print(Sentiment_score(x))"
      ],
      "execution_count": null,
      "outputs": []
    },
    {
      "cell_type": "markdown",
      "metadata": {
        "id": "LIKy4ZTeLtq0",
        "colab_type": "text"
      },
      "source": [
        "\n",
        "Next we have to tackle the sentimantal analysis part. We aim to try bag of words then use NLTK on every line might be slow but I like to give prominence to accuracy"
      ]
    },
    {
      "cell_type": "code",
      "metadata": {
        "id": "5BY40KnADOsg",
        "colab_type": "code",
        "colab": {}
      },
      "source": [
        "lyric_tokens = word_tokenize(lyrics)\n",
        "blob= TextBlob(lyrics_without_sw)\n",
        "print ((blob.polarity*100))\n",
        "blob"
      ],
      "execution_count": null,
      "outputs": []
    },
    {
      "cell_type": "code",
      "metadata": {
        "id": "6FoBADOLZsDR",
        "colab_type": "code",
        "colab": {}
      },
      "source": [
        "listofpol=[]\n",
        "sumofpol=0\n",
        "for i in lyr:\n",
        "  blobs=TextBlob(i)\n",
        "  pol=blobs.polarity\n",
        "  listofpol.append(pol)\n",
        "  sumofpol=sumofpol+pol\n",
        "  print(f'{i} - {pol}')\n",
        "print (\"Average:\",(sumofpol)*100/len(lyr),\"%\")"
      ],
      "execution_count": null,
      "outputs": []
    },
    {
      "cell_type": "code",
      "metadata": {
        "id": "VqTmFJU_vgab",
        "colab_type": "code",
        "colab": {}
      },
      "source": [
        "sum([i for i in listofpol if i!=0])/len([i for i in listofpol if i!=0])\n"
      ],
      "execution_count": null,
      "outputs": []
    },
    {
      "cell_type": "code",
      "metadata": {
        "id": "Ch0owR7Dc5ad",
        "colab_type": "code",
        "colab": {}
      },
      "source": [
        "mn=[\"i am bad\",\"i am not bad\",\"i am good\",\"i am not good\"]\n",
        "for i in lyr:\n",
        "  print(TextBlob(i).polarity)\n",
        "  print(TextBlob(i).ngrams(2))\n",
        "\n"
      ],
      "execution_count": null,
      "outputs": []
    },
    {
      "cell_type": "code",
      "metadata": {
        "id": "0c-HQC8swMcA",
        "colab_type": "code",
        "colab": {}
      },
      "source": [
        "w=\"\"\n",
        "f=TextBlob(lyr[5]).ngrams(2)\n",
        "for word in f:\n",
        "  t=\" \".join(word)\n",
        "  w+=\" \"+t\n"
      ],
      "execution_count": null,
      "outputs": []
    },
    {
      "cell_type": "code",
      "metadata": {
        "id": "aWHwNXpu91NG",
        "colab_type": "code",
        "colab": {}
      },
      "source": [
        "TextBlob(lyr[5]).polarity,TextBlob(w).polarity"
      ],
      "execution_count": null,
      "outputs": []
    },
    {
      "cell_type": "markdown",
      "metadata": {
        "id": "hbY8DnR_wPNQ",
        "colab_type": "text"
      },
      "source": [
        "Kinda done with this part. Looks okay for now. Now we got to see if we can get an mp3 version of the song and see if the song sounds sad or happy. "
      ]
    },
    {
      "cell_type": "code",
      "metadata": {
        "id": "RG-EoGZ03HyO",
        "colab_type": "code",
        "colab": {}
      },
      "source": [
        "!pip install watson_developer_cloud"
      ],
      "execution_count": null,
      "outputs": []
    },
    {
      "cell_type": "code",
      "metadata": {
        "id": "kh64lMmK3T8T",
        "colab_type": "code",
        "colab": {}
      },
      "source": [
        "from watson_developer_cloud import NaturalLanguageUnderstandingV1\n",
        "from watson_developer_cloud.natural_language_understanding_v1 import Features, EntitiesOptions, KeywordsOptions, SentimentOptions, CategoriesOptions\n",
        "natural_language_understanding = NaturalLanguageUnderstandingV1(                                         \n",
        "    version='2018-11-16',\n",
        "    iam_apikey=\"hzkkbjivKNHfoi3cFlMBOPG6-YHLc-7CAQKwXn8Rt7JT\", # Use your API key here\n",
        "    url=\"https://api.eu-gb.natural-language-understanding.watson.cloud.ibm.com/instances/512aa79c-a8ba-43fa-b9d5-a4382099b06f\" # paste the url here\n",
        "    )\n",
        "def Sentiment_score(input_text): \n",
        "    # Input text can be sentence, paragraph or document\n",
        "    response = natural_language_understanding.analyze (\n",
        "    text = input_text,\n",
        "    features = Features(sentiment=SentimentOptions())).get_result()\n",
        "    # From the response extract score which is between -1 to 1\n",
        "    res = response.get('sentiment').get('document').get('score')\n",
        "    return res"
      ],
      "execution_count": null,
      "outputs": []
    },
    {
      "cell_type": "code",
      "metadata": {
        "id": "h__hoNXV31WM",
        "colab_type": "code",
        "colab": {}
      },
      "source": [
        "(Sentiment_score(lyrics))*100"
      ],
      "execution_count": null,
      "outputs": []
    },
    {
      "cell_type": "code",
      "metadata": {
        "id": "EZgccIaPKv2v",
        "colab_type": "code",
        "colab": {}
      },
      "source": [
        ""
      ],
      "execution_count": null,
      "outputs": []
    },
    {
      "cell_type": "code",
      "metadata": {
        "id": "QkSvf7tsSs-D",
        "colab_type": "code",
        "colab": {}
      },
      "source": [
        "lyrics"
      ],
      "execution_count": null,
      "outputs": []
    },
    {
      "cell_type": "code",
      "metadata": {
        "id": "3-HhlD-1eQAs",
        "colab_type": "code",
        "colab": {}
      },
      "source": [
        ""
      ],
      "execution_count": null,
      "outputs": []
    },
    {
      "cell_type": "code",
      "metadata": {
        "id": "KNm6mGCmV7zz",
        "colab_type": "code",
        "colab": {}
      },
      "source": [
        ""
      ],
      "execution_count": null,
      "outputs": []
    },
    {
      "cell_type": "code",
      "metadata": {
        "id": "tiXQhI_skva8",
        "colab_type": "code",
        "colab": {}
      },
      "source": [
        "lyric_tokens_without_sw == lyrics_without_sw"
      ],
      "execution_count": null,
      "outputs": []
    },
    {
      "cell_type": "code",
      "metadata": {
        "id": "LziJiX25lHCu",
        "colab_type": "code",
        "colab": {}
      },
      "source": [
        "print(lyrics_without_sw)"
      ],
      "execution_count": null,
      "outputs": []
    },
    {
      "cell_type": "code",
      "metadata": {
        "id": "FB0Qr6eElM-G",
        "colab_type": "code",
        "colab": {}
      },
      "source": [
        "print(lyric_tokens_without_sw)"
      ],
      "execution_count": null,
      "outputs": []
    },
    {
      "cell_type": "code",
      "metadata": {
        "id": "BNG89xoTlYU4",
        "colab_type": "code",
        "colab": {}
      },
      "source": [
        ""
      ],
      "execution_count": null,
      "outputs": []
    },
    {
      "cell_type": "code",
      "metadata": {
        "id": "hd5ltbwcpXfw",
        "colab_type": "code",
        "colab": {}
      },
      "source": [
        ""
      ],
      "execution_count": null,
      "outputs": []
    },
    {
      "cell_type": "code",
      "metadata": {
        "id": "Hd1gUy0dpXR9",
        "colab_type": "code",
        "colab": {}
      },
      "source": [
        ""
      ],
      "execution_count": null,
      "outputs": []
    },
    {
      "cell_type": "code",
      "metadata": {
        "id": "9OsgBcDIpdyN",
        "colab_type": "code",
        "colab": {}
      },
      "source": [
        "if \"you're\" in contractions"
      ],
      "execution_count": null,
      "outputs": []
    },
    {
      "cell_type": "code",
      "metadata": {
        "id": "yeQDlKcPpiDZ",
        "colab_type": "code",
        "colab": {}
      },
      "source": [
        ""
      ],
      "execution_count": null,
      "outputs": []
    },
    {
      "cell_type": "code",
      "metadata": {
        "id": "K5rkfQBpqFd2",
        "colab_type": "code",
        "colab": {}
      },
      "source": [
        "contractions[\"he's\"]"
      ],
      "execution_count": null,
      "outputs": []
    },
    {
      "cell_type": "code",
      "metadata": {
        "id": "UcRwopn6rII7",
        "colab_type": "code",
        "colab": {}
      },
      "source": [
        "\"he's\" in contractions"
      ],
      "execution_count": null,
      "outputs": []
    },
    {
      "cell_type": "code",
      "metadata": {
        "id": "xQAQPaBBrQfp",
        "colab_type": "code",
        "colab": {}
      },
      "source": [
        "\" \".join(filter(swfilter,lyrics.split())) == \" \".join(lyrics_as_array_without_sw)"
      ],
      "execution_count": null,
      "outputs": []
    },
    {
      "cell_type": "code",
      "metadata": {
        "id": "jHvp8TtlIWLi",
        "colab_type": "code",
        "colab": {}
      },
      "source": [
        ""
      ],
      "execution_count": null,
      "outputs": []
    }
  ]
}